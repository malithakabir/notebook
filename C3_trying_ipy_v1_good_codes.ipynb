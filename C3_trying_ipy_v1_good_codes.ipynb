{
 "cells": [
  {
   "cell_type": "code",
   "execution_count": 1,
   "metadata": {
    "collapsed": true,
    "deletable": true,
    "editable": true
   },
   "outputs": [],
   "source": [
    "import os\n",
    "import py3Dmol\n",
    "from rdkit import Chem\n",
    "from rdkit.Chem import AllChem\n",
    "from ipywidgets import interact, interactive, fixed"
   ]
  },
  {
   "cell_type": "code",
   "execution_count": 2,
   "metadata": {
    "collapsed": false,
    "deletable": true,
    "editable": true
   },
   "outputs": [],
   "source": [
    "#os.listdir(os.getcwd())"
   ]
  },
  {
   "cell_type": "markdown",
   "metadata": {
    "deletable": true,
    "editable": true
   },
   "source": [
    "# Rendering Style"
   ]
  },
  {
   "cell_type": "code",
   "execution_count": 3,
   "metadata": {
    "collapsed": true,
    "deletable": true,
    "editable": true
   },
   "outputs": [],
   "source": [
    "molSize_3d = (400, 400)\n",
    "drawing_type_3d = 'stick' # default drawing type for 3d structures\n",
    "bgcolor_3d = '0xeeeeee'"
   ]
  },
  {
   "cell_type": "markdown",
   "metadata": {
    "deletable": true,
    "editable": true
   },
   "source": [
    "# Conf create"
   ]
  },
  {
   "cell_type": "code",
   "execution_count": 4,
   "metadata": {
    "collapsed": false,
    "deletable": true,
    "editable": true
   },
   "outputs": [],
   "source": [
    "m = Chem.MolFromSmiles(r'COc1ccc2[nH]c([S@@+]([O-])Cc3ncc(C)c(OC)c3C)nc2c1') # esomeprazole\n",
    "m = Chem.AddHs(m)\n",
    "AllChem.EmbedMultipleConfs(m,numConfs=10)\n",
    "# align to one of the ring systems:\n",
    "AllChem.AlignMolConformers(m,m.GetSubstructMatch(Chem.MolFromSmarts('c1[nH]c2ccccc2n1')))\n"
   ]
  },
  {
   "cell_type": "markdown",
   "metadata": {
    "deletable": true,
    "editable": true
   },
   "source": [
    "# The following codes are from https://github.com/rdkit/rdkit/blob/master/rdkit/Chem/Draw/IPythonConsole.py#L66"
   ]
  },
  {
   "cell_type": "code",
   "execution_count": 5,
   "metadata": {
    "collapsed": false,
    "deletable": true,
    "editable": true
   },
   "outputs": [],
   "source": [
    "def addMolToView(mol,view,confId=None,drawAs=None):\n",
    "  if mol.GetNumAtoms()>=999 or drawAs == 'cartoon':\n",
    "    # py3DMol is happier with TER and MASTER records present\n",
    "    pdb = Chem.MolToPDBBlock(mol,flavor=0x20|0x10)\n",
    "    view.addModel(pdb,'pdb')\n",
    "  else:\n",
    "    # py3Dmol does not currently support v3k mol files, so\n",
    "    # we can only provide those with \"smaller\" molecules\n",
    "    mb = Chem.MolToMolBlock(mol,confId=confId)\n",
    "    view.addModel(mb,'sdf')\n",
    "  if drawAs is None:\n",
    "    drawAs = drawing_type_3d\n",
    "  view.setStyle({drawAs:{}})\n",
    "\n",
    "\n",
    "def drawMol3D(m,view=None,confId=None,drawAs=None,bgColor=None,size=None):\n",
    "  if bgColor is None:\n",
    "    bgColor = bgcolor_3d\n",
    "  if size is None:\n",
    "    size=molSize_3d\n",
    "  if view is None:\n",
    "    view = py3Dmol.view(width=size[0],height=size[1])\n",
    "  view.removeAllModels()\n",
    "  try:\n",
    "    iter(m)\n",
    "  except TypeError:\n",
    "    addMolToView(m,view,confId,drawAs)\n",
    "    # The else chunk is not requred for the following example---malitha\n",
    "  else:\n",
    "    ms = m\n",
    "    for m in ms:\n",
    "      addMolToView(m,view,confId,drawAs)\n",
    "  \n",
    "  view.setBackgroundColor(bgColor)\n",
    "  view.zoomTo()\n",
    "  return view.show()\n"
   ]
  },
  {
   "cell_type": "markdown",
   "metadata": {
    "deletable": true,
    "editable": true
   },
   "source": [
    "# Draw conf number 1 ......working fine"
   ]
  },
  {
   "cell_type": "code",
   "execution_count": 6,
   "metadata": {
    "collapsed": false,
    "deletable": true,
    "editable": true
   },
   "outputs": [
    {
     "data": {
      "text/html": [
       "<div id=\"3dmolviewer_149446248178\"  style=\"position: relative; width: 400px; height: 400px\">\n",
       "<script>\n",
       "if(typeof $3Dmolpromise === 'undefined') $3Dmolpromise = $.when($.getScript('https://3dmol.csb.pitt.edu/build/3Dmol.js'))\n",
       "var viewer_149446248178 = null;\n",
       "$3Dmolpromise.done(function() {\n",
       "viewer_149446248178 = $3Dmol.createViewer($(\"#3dmolviewer_149446248178\"),{backgroundColor:\"white\"});\n",
       "\tviewer_149446248178.removeAllModels();\n",
       "\tviewer_149446248178.addModel(\"\\n     RDKit          3D\\n\\n 43 45  0  0  0  0  0  0  0  0999 V2000\\n    6.9120    0.7055   -1.8006 C   0  0  0  0  0  0  0  0  0  0  0  0\\n    6.7947   -0.4182   -0.9398 O   0  0  0  0  0  0  0  0  0  0  0  0\\n    5.6902   -0.4586   -0.1121 C   0  0  0  0  0  0  0  0  0  0  0  0\\n    5.8539   -0.3667    1.2605 C   0  0  0  0  0  0  0  0  0  0  0  0\\n    4.8119   -0.8338    2.0414 C   0  0  0  0  0  0  0  0  0  0  0  0\\n    3.5073   -0.9170    1.5688 C   0  0  0  0  0  0  0  0  0  0  0  0\\n    2.3081   -0.7351    2.1748 N   0  0  0  0  0  0  0  0  0  0  0  0\\n    1.4069   -0.2376    1.3346 C   0  0  0  0  0  0  0  0  0  0  0  0\\n    0.0026    0.7960    1.6538 S   0  0  0  0  0  0  0  0  0  0  0  0\\n    0.0895    1.1109    3.3278 O   0  0  0  0  0  0  0  0  0  0  0  0\\n   -1.3937   -0.3391    1.5528 C   0  0  0  0  0  0  0  0  0  0  0  0\\n   -2.0154   -0.2876    0.1969 C   0  0  0  0  0  0  0  0  0  0  0  0\\n   -2.3409   -1.4581   -0.4046 N   0  0  0  0  0  0  0  0  0  0  0  0\\n   -3.4556   -1.5830   -1.1652 C   0  0  0  0  0  0  0  0  0  0  0  0\\n   -4.2088   -0.4777   -1.5383 C   0  0  0  0  0  0  0  0  0  0  0  0\\n   -5.1704   -0.5622   -2.6807 C   0  0  0  0  0  0  0  0  0  0  0  0\\n   -3.8255    0.7613   -1.0401 C   0  0  0  0  0  0  0  0  0  0  0  0\\n   -4.8255    1.7391   -1.0282 O   0  0  0  0  0  0  0  0  0  0  0  0\\n   -5.7838    1.6711    0.0232 C   0  0  0  0  0  0  0  0  0  0  0  0\\n   -2.8457    0.7984   -0.0546 C   0  0  0  0  0  0  0  0  0  0  0  0\\n   -2.2767    2.1335    0.2508 C   0  0  0  0  0  0  0  0  0  0  0  0\\n    1.9940   -0.2550    0.1170 N   0  0  0  0  0  0  0  0  0  0  0  0\\n    3.3010   -0.5875    0.2375 C   0  0  0  0  0  0  0  0  0  0  0  0\\n    4.3948   -0.4823   -0.6127 C   0  0  0  0  0  0  0  0  0  0  0  0\\n    6.0056    1.3358   -1.8066 H   0  0  0  0  0  0  0  0  0  0  0  0\\n    7.7772    1.3312   -1.4836 H   0  0  0  0  0  0  0  0  0  0  0  0\\n    7.0747    0.2984   -2.8276 H   0  0  0  0  0  0  0  0  0  0  0  0\\n    6.6899    0.2020    1.6677 H   0  0  0  0  0  0  0  0  0  0  0  0\\n    4.9844   -0.7846    3.1182 H   0  0  0  0  0  0  0  0  0  0  0  0\\n    2.1052   -0.8669    3.2003 H   0  0  0  0  0  0  0  0  0  0  0  0\\n   -2.1738   -0.0615    2.3068 H   0  0  0  0  0  0  0  0  0  0  0  0\\n   -1.0916   -1.3683    1.8060 H   0  0  0  0  0  0  0  0  0  0  0  0\\n   -3.7481   -2.5563   -1.5546 H   0  0  0  0  0  0  0  0  0  0  0  0\\n   -6.1117   -1.0614   -2.4001 H   0  0  0  0  0  0  0  0  0  0  0  0\\n   -5.3868    0.4758   -3.0351 H   0  0  0  0  0  0  0  0  0  0  0  0\\n   -4.7235   -1.1013   -3.5529 H   0  0  0  0  0  0  0  0  0  0  0  0\\n   -6.8194    1.7680   -0.3390 H   0  0  0  0  0  0  0  0  0  0  0  0\\n   -5.6065    2.4440    0.7964 H   0  0  0  0  0  0  0  0  0  0  0  0\\n   -5.7320    0.6853    0.5510 H   0  0  0  0  0  0  0  0  0  0  0  0\\n   -1.2937    2.2026   -0.2806 H   0  0  0  0  0  0  0  0  0  0  0  0\\n   -2.2039    2.3469    1.3262 H   0  0  0  0  0  0  0  0  0  0  0  0\\n   -2.8870    2.9655   -0.1842 H   0  0  0  0  0  0  0  0  0  0  0  0\\n    4.2158   -0.5299   -1.6712 H   0  0  0  0  0  0  0  0  0  0  0  0\\n  1  2  1  0\\n  2  3  1  0\\n  3  4  2  0\\n  4  5  1  0\\n  5  6  2  0\\n  6  7  1  0\\n  7  8  1  0\\n  9  8  1  6\\n  9 10  1  0\\n  9 11  1  0\\n 11 12  1  0\\n 12 13  2  0\\n 13 14  1  0\\n 14 15  2  0\\n 15 16  1  0\\n 15 17  1  0\\n 17 18  1  0\\n 18 19  1  0\\n 17 20  2  0\\n 20 21  1  0\\n  8 22  2  0\\n 22 23  1  0\\n 23 24  2  0\\n 24  3  1  0\\n 23  6  1  0\\n 20 12  1  0\\n  1 25  1  0\\n  1 26  1  0\\n  1 27  1  0\\n  4 28  1  0\\n  5 29  1  0\\n  7 30  1  0\\n 11 31  1  0\\n 11 32  1  0\\n 14 33  1  0\\n 16 34  1  0\\n 16 35  1  0\\n 16 36  1  0\\n 19 37  1  0\\n 19 38  1  0\\n 19 39  1  0\\n 21 40  1  0\\n 21 41  1  0\\n 21 42  1  0\\n 24 43  1  0\\nM  CHG  2   9   1  10  -1\\nM  END\\n\",\"sdf\");\n",
       "\tviewer_149446248178.setStyle({\"stick\": {}});\n",
       "\tviewer_149446248178.setBackgroundColor(\"0xeeeeee\");\n",
       "\tviewer_149446248178.zoomTo();\n",
       "viewer_149446248178.render();\n",
       "});\n",
       "</script>"
      ],
      "text/plain": [
       "<IPython.core.display.HTML object>"
      ]
     },
     "execution_count": 6,
     "metadata": {},
     "output_type": "execute_result"
    }
   ],
   "source": [
    "drawMol3D(m,view=None,confId=-1,drawAs=None,bgColor=None,size=None)"
   ]
  },
  {
   "cell_type": "markdown",
   "metadata": {
    "deletable": true,
    "editable": true
   },
   "source": [
    "# Add Scrolling"
   ]
  },
  {
   "cell_type": "code",
   "execution_count": 7,
   "metadata": {
    "collapsed": false,
    "deletable": true,
    "editable": true
   },
   "outputs": [],
   "source": [
    "def addMolToViewForScrolling(mol,view,confId,drawAs):\n",
    "    \n",
    "  view.removeAllModels()\n",
    "  \n",
    "  if mol.GetNumAtoms()>=999 or drawAs == 'cartoon':\n",
    "    # py3DMol is happier with TER and MASTER records present\n",
    "    pdb = Chem.MolToPDBBlock(mol,flavor=0x20|0x10)\n",
    "    view.addModel(pdb,'pdb')\n",
    "  else:\n",
    "    # py3Dmol does not currently support v3k mol files, so\n",
    "    # we can only provide those with \"smaller\" molecules\n",
    "    mb = Chem.MolToMolBlock(mol,confId=confId)\n",
    "    view.addModel(mb,'sdf')\n",
    "   \n",
    "  view.setStyle({drawAs:{}})\n",
    "  view.zoomTo()\n",
    "  return view.show()\n",
    "\n",
    "\n",
    "\n",
    "def browseMolConformers(m,view=None,confId=None,drawAs=None,bgColor=None,size=None):\n",
    "  \n",
    "  if drawAs is None:\n",
    "    drawAs = drawing_type_3d\n",
    "  \n",
    "  if size is None:\n",
    "    size=molSize_3d\n",
    "  \n",
    "  if view is None:\n",
    "    view = py3Dmol.view(width=size[0],height=size[1])\n",
    "  \n",
    "  if bgColor is None:\n",
    "    bgColor = bgcolor_3d\n",
    "  \n",
    "  \n",
    "  view.setBackgroundColor(bgColor)\n",
    "  \n",
    "  res=interact(addMolToViewForScrolling, mol=fixed(m),view=fixed(view),confId=confId,drawAs=drawAs);\n",
    "  \n",
    "  return res\n",
    "\n",
    "#(0,m.GetNumConformers()-1)\n",
    "\n"
   ]
  },
  {
   "cell_type": "code",
   "execution_count": 8,
   "metadata": {
    "collapsed": false,
    "deletable": true,
    "editable": true
   },
   "outputs": [
    {
     "data": {
      "application/vnd.jupyter.widget-view+json": {
       "model_id": "c02912aaef2b4508b0b447155628b5bf"
      }
     },
     "metadata": {},
     "output_type": "display_data"
    },
    {
     "data": {
      "text/plain": [
       "<function __main__.addMolToViewForScrolling>"
      ]
     },
     "execution_count": 8,
     "metadata": {},
     "output_type": "execute_result"
    }
   ],
   "source": [
    "browseMolConformers(m,view=None,confId=(0,m.GetNumConformers()-1),drawAs=None,bgColor=None,size=None)"
   ]
  },
  {
   "cell_type": "code",
   "execution_count": 9,
   "metadata": {
    "collapsed": false,
    "deletable": true,
    "editable": true
   },
   "outputs": [
    {
     "data": {
      "application/vnd.jupyter.widget-view+json": {
       "model_id": "5434cc546ae94d738c499f42e011e70e"
      }
     },
     "metadata": {},
     "output_type": "display_data"
    },
    {
     "data": {
      "text/plain": [
       "<function __main__.addMolToViewForScrolling>"
      ]
     },
     "execution_count": 9,
     "metadata": {},
     "output_type": "execute_result"
    }
   ],
   "source": [
    "browseMolConformers(m,view=None,confId=(0,m.GetNumConformers()-1),drawAs=\"sphere\",bgColor=None,size=None)"
   ]
  },
  {
   "cell_type": "code",
   "execution_count": null,
   "metadata": {
    "collapsed": true,
    "deletable": true,
    "editable": true
   },
   "outputs": [],
   "source": []
  }
 ],
 "metadata": {
  "kernelspec": {
   "display_name": "Python 2",
   "language": "python",
   "name": "python2"
  },
  "language_info": {
   "codemirror_mode": {
    "name": "ipython",
    "version": 2
   },
   "file_extension": ".py",
   "mimetype": "text/x-python",
   "name": "python",
   "nbconvert_exporter": "python",
   "pygments_lexer": "ipython2",
   "version": "2.7.12"
  }
 },
 "nbformat": 4,
 "nbformat_minor": 2
}
