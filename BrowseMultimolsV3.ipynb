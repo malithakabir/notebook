{
 "cells": [
  {
   "cell_type": "markdown",
   "metadata": {
    "deletable": true,
    "editable": true
   },
   "source": [
    "###### Title: Browse multiple molecules\n",
    "# Description: browsing multiple molecules, each of which has multiple conformations\n",
    "Derived from Gerg's code by Malitha \n",
    "(Updated: 17th June 2017)"
   ]
  },
  {
   "cell_type": "code",
   "execution_count": 2,
   "metadata": {
    "collapsed": true,
    "deletable": true,
    "editable": true
   },
   "outputs": [],
   "source": [
    "import os\n",
    "import py3Dmol\n",
    "from rdkit import Chem\n",
    "from rdkit.Chem import AllChem\n",
    "from ipywidgets import interact, interactive, fixed\n",
    "import ipywidgets as widgets\n",
    "from IPython.display import display\n",
    "from time import time"
   ]
  },
  {
   "cell_type": "markdown",
   "metadata": {
    "deletable": true,
    "editable": true
   },
   "source": [
    "# Definition: Default Rendering Style"
   ]
  },
  {
   "cell_type": "code",
   "execution_count": 3,
   "metadata": {
    "collapsed": true,
    "deletable": true,
    "editable": true
   },
   "outputs": [],
   "source": [
    "global myGlobalStyle\n",
    "molSize_3d = (400, 400)\n",
    "myGlobalStyle = 'stick' # default drawing type for 3d structures # line cross stick cartoon sphere\n",
    "bgcolor_3d = '0xeeeeee'\n",
    "\n",
    " "
   ]
  },
  {
   "cell_type": "markdown",
   "metadata": {
    "deletable": true,
    "editable": true
   },
   "source": [
    "# Generate Conformers"
   ]
  },
  {
   "cell_type": "code",
   "execution_count": 4,
   "metadata": {
    "collapsed": false,
    "deletable": true,
    "editable": true
   },
   "outputs": [],
   "source": [
    "data = [('m1','COc1ccc2[nH]c([S@@+]([O-])Cc3ncc(C)c(OC)c3C)nc2c1'),\n",
    "       ('m2','COc1ccc2[nH]c([S@+]([O-])Cc3ncc(C)c(OC)c3C)nc2c1'),\n",
    "       ('m3','COc1ccc2[nH]c([S+]([O-])Cc3ncc(C)c(OC)c3C)nc2c1'),\n",
    "       ('m4','CCOc1ccc2[nH]c([S@@+]([O-])Cc3ncc(C)c(OCCC)c3C)nc2c1')]\n",
    "ms = [(x,Chem.AddHs(Chem.MolFromSmiles(y))) for x,y in data]\n",
    "params = AllChem.ETKDG()\n",
    "params.numThreads=3\n",
    "for nm,m in ms:\n",
    "    AllChem.EmbedMultipleConfs(m,numConfs=10,params=params)\n",
    "    # align to one of the ring systems:\n",
    "    AllChem.AlignMolConformers(m,m.GetSubstructMatch(Chem.MolFromSmarts('c1[nH]c2ccccc2n1')))\n"
   ]
  },
  {
   "cell_type": "markdown",
   "metadata": {
    "deletable": true,
    "editable": true
   },
   "source": [
    "# Required functions for scrolling capability"
   ]
  },
  {
   "cell_type": "code",
   "execution_count": 5,
   "metadata": {
    "collapsed": false,
    "deletable": true,
    "editable": true
   },
   "outputs": [],
   "source": [
    "\n",
    "def startViewer(size=None,bgcolor=None):\n",
    "    if size is None:\n",
    "        size=molSize_3d\n",
    "    if bgcolor is None:\n",
    "        bgcolor=bgcolor_3d\n",
    "    view = py3Dmol.view(width=size[0],height=size[1])\n",
    "    view.setBackgroundColor(bgcolor)\n",
    "    return view\n",
    "\n",
    "\n",
    "def addMolToViewForScrolling(nm,mols,view,confId,useDrawAs,drawAs):\n",
    "    \n",
    "    mol = mols[nm]\n",
    "    \n",
    "    view.removeAllModels()\n",
    "    view.removeAllSurfaces()\n",
    "    \n",
    "    if mol.GetNumAtoms()>=999 or drawAs == 'cartoon':\n",
    "        # py3DMol is happier with TER and MASTER records present\n",
    "        pdb = Chem.MolToPDBBlock(mol,flavor=0x20|0x10)\n",
    "        view.addModel(pdb,'pdb')\n",
    "    else:\n",
    "        # py3Dmol does not currently support v3k mol files, so\n",
    "        # we can only provide those with \"smaller\" molecules\n",
    "        mb = Chem.MolToMolBlock(mol,confId=confId)\n",
    "        view.addModel(mb,'sdf')\n",
    "        \n",
    "        \n",
    "    global myGlobalStyle    \n",
    "    if useDrawAs is False:\n",
    "        #use from globalStyle\n",
    "        view.setStyle({},{myGlobalStyle:{}})\n",
    "    else:\n",
    "        #update global style and use that\n",
    "        myGlobalStyle = drawAs\n",
    "        view.setStyle({},{myGlobalStyle:{}})\n",
    "    \n",
    "    # This is exception for surface\n",
    "    if drawAs is 'surface':\n",
    "        view.addSurface({}, '$3Dmol.SurfaceType.VDW');\n",
    "        \n",
    "    if drawAs is 'ballstick':\n",
    "        view.setStyle({},{'stick':{'radius':'0.3'},'sphere':{'radius':'0.5'}});\n",
    "    \n",
    "    #print(drawAs)\n",
    "    # zoomTo does not work well for surface\n",
    "    view.zoomTo()\n",
    "    return view.update()\n",
    "\n",
    "\n",
    "def browseMolConformers(ms,view, confId=None, useDrawAs=False, drawAs=None):\n",
    "    \n",
    "    drawing_type_3d=['line', 'cross', 'stick', 'cartoon', 'sphere', 'surface', 'ballstick']\n",
    "    \n",
    "    global myGlobalStyle\n",
    "    \n",
    "    if useDrawAs is False:\n",
    "        # Then go with default settings\n",
    "        drawAs = myGlobalStyle\n",
    "        style_use_logical = widgets.Dropdown(options=[False, True],value=False)\n",
    "        \n",
    "        # To do: showing massage is argument mismatched\n",
    "        # Something like the following\n",
    "        #if drawAs is not None:\n",
    "            #print('drawAs set to stick as you choose useDrawAs=False')\n",
    "            \n",
    "        \n",
    "    else:\n",
    "        style_use_logical = widgets.Dropdown(options=[False, True],value=True)\n",
    "        # Use user supplied drawAS\n",
    "        if drawAs is None:\n",
    "            # User forgot to provide drawAs argument\n",
    "            drawAs = myGlobalStyle\n",
    "        else:\n",
    "            # User supplied drawAs argument while useDrawAs is True\n",
    "            myGlobalStyle = drawAs\n",
    "        \n",
    "    \n",
    "    # This is wdget for model style\n",
    "    style_widget = widgets.Dropdown(options=drawing_type_3d,value=drawAs)\n",
    "    \n",
    "    moldict = dict(ms)\n",
    "    \n",
    "    result=interact(addMolToViewForScrolling, \n",
    "                    nm=list(moldict.keys()), \n",
    "                    mols=fixed(moldict),\n",
    "                    view=fixed(view),\n",
    "                    confId=confId, \n",
    "                    useDrawAs=style_use_logical,\n",
    "                    drawAs=style_widget);\n",
    "    return result\n",
    "\n"
   ]
  },
  {
   "cell_type": "markdown",
   "metadata": {
    "deletable": true,
    "editable": true
   },
   "source": [
    "# Browse mols and confs"
   ]
  },
  {
   "cell_type": "code",
   "execution_count": 6,
   "metadata": {
    "collapsed": false,
    "deletable": true,
    "editable": true,
    "scrolled": false
   },
   "outputs": [
    {
     "data": {
      "text/html": [
       "<div id=\"3dmolviewer_149769671309\"  style=\"position: relative; width: 400px; height: 400px\">\n",
       "<script>\n",
       "if(typeof $3Dmolpromise === 'undefined') $3Dmolpromise = $.when($.getScript('https://3dmol.csb.pitt.edu/build/3Dmol.js'))\n",
       "var viewer_149769671309 = null;\n",
       "$3Dmolpromise.done(function() {\n",
       "viewer_149769671309 = $3Dmol.createViewer($(\"#3dmolviewer_149769671309\"),{backgroundColor:\"white\"});\n",
       "\tviewer_149769671309.setBackgroundColor(\"black\");\n",
       "viewer_149769671309.render();\n",
       "});\n",
       "</script>"
      ],
      "text/plain": [
       "<IPython.core.display.HTML object>"
      ]
     },
     "execution_count": 6,
     "metadata": {},
     "output_type": "execute_result"
    }
   ],
   "source": [
    "view=startViewer(bgcolor='black')\n",
    "view.show()"
   ]
  },
  {
   "cell_type": "code",
   "execution_count": 9,
   "metadata": {
    "collapsed": false,
    "deletable": true,
    "editable": true
   },
   "outputs": [
    {
     "data": {
      "application/vnd.jupyter.widget-view+json": {
       "model_id": "f2de1871de5547dc833a2cc508f8e317"
      }
     },
     "metadata": {},
     "output_type": "display_data"
    },
    {
     "data": {
      "text/plain": [
       "<function __main__.addMolToViewForScrolling>"
      ]
     },
     "execution_count": 9,
     "metadata": {},
     "output_type": "execute_result"
    }
   ],
   "source": [
    "browseMolConformers(ms,view,confId=(0,m.GetNumConformers()-1),useDrawAs=True,drawAs='line')"
   ]
  },
  {
   "cell_type": "code",
   "execution_count": null,
   "metadata": {
    "collapsed": false,
    "deletable": true,
    "editable": true
   },
   "outputs": [],
   "source": []
  },
  {
   "cell_type": "code",
   "execution_count": null,
   "metadata": {
    "collapsed": false,
    "deletable": true,
    "editable": true
   },
   "outputs": [],
   "source": []
  },
  {
   "cell_type": "code",
   "execution_count": null,
   "metadata": {
    "collapsed": false,
    "deletable": true,
    "editable": true
   },
   "outputs": [],
   "source": []
  },
  {
   "cell_type": "code",
   "execution_count": null,
   "metadata": {
    "collapsed": false,
    "deletable": true,
    "editable": true
   },
   "outputs": [],
   "source": []
  },
  {
   "cell_type": "code",
   "execution_count": null,
   "metadata": {
    "collapsed": false,
    "deletable": true,
    "editable": true
   },
   "outputs": [],
   "source": []
  }
 ],
 "metadata": {
  "anaconda-cloud": {},
  "kernelspec": {
   "display_name": "Python [default]",
   "language": "python",
   "name": "python2"
  },
  "language_info": {
   "codemirror_mode": {
    "name": "ipython",
    "version": 2
   },
   "file_extension": ".py",
   "mimetype": "text/x-python",
   "name": "python",
   "nbconvert_exporter": "python",
   "pygments_lexer": "ipython2",
   "version": "2.7.12"
  },
  "widgets": {
   "state": {
    "078ce732c3554d31975366608a9862df": {
     "views": []
    },
    "0a5a69884ce44ebda6217e2fe52dd320": {
     "views": []
    },
    "2473149207dd4e8cb5f3d4af90d3bcff": {
     "views": []
    },
    "2e6bb19541ba42e2acf70fa88f5bcc30": {
     "views": []
    },
    "2e9549107f9940d5924acbaa7cbfcfff": {
     "views": []
    },
    "2f33831fb37547929d9d087062bb1e61": {
     "views": []
    },
    "6c777760bb544d1db61c88520caaae16": {
     "views": []
    },
    "75ef980e6e024d27b41335791139ba72": {
     "views": []
    },
    "7926f9a93b544d1085957e5823a70ce6": {
     "views": []
    },
    "8ae1124bf462488eb1b920f52d1c01d1": {
     "views": []
    },
    "97cd4fa8b8034ad7a1c03cbc4a7930f4": {
     "views": []
    },
    "98cd1f06b03b4275a90d78203efef10a": {
     "views": []
    },
    "c0923d6b81384563affcf633713a4bbc": {
     "views": []
    },
    "c92796c92757444a827727fe4bc03615": {
     "views": []
    },
    "d5d861175e0f430bbeb1cf83ca16f2e4": {
     "views": [
      {
       "cell_index": 9
      }
     ]
    },
    "d8220d7b2187404887a600dc540ca40f": {
     "views": []
    }
   },
   "version": "1.1.2"
  }
 },
 "nbformat": 4,
 "nbformat_minor": 2
}
