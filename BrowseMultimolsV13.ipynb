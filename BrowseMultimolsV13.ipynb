{
 "cells": [
  {
   "cell_type": "code",
   "execution_count": 1,
   "metadata": {
    "collapsed": true
   },
   "outputs": [],
   "source": [
    "import IPythonConsoleIntegration7 as ipy"
   ]
  },
  {
   "cell_type": "code",
   "execution_count": 2,
   "metadata": {
    "collapsed": true
   },
   "outputs": [],
   "source": [
    "import py3Dmol\n",
    "from rdkit import Chem\n",
    "from rdkit.Chem import AllChem\n",
    "from rdkit.Chem import Descriptors\n",
    "import ipywidgets as widgets\n",
    "from IPython.display import display\n",
    "from ipywidgets import Layout, Button, Box, HBox, VBox\n",
    "import time\n",
    "from six.moves import urllib"
   ]
  },
  {
   "cell_type": "code",
   "execution_count": 3,
   "metadata": {
    "collapsed": true
   },
   "outputs": [],
   "source": [
    "# Codes from Greg Landrum\n",
    "# obj ms will have no pre calculated propery\n",
    "data = [('m1','COc1ccc2[nH]c([S@@+]([O-])Cc3ncc(C)c(OC)c3C)nc2c1'),\n",
    "       ('m2','COc1ccc2[nH]c([S@+]([O-])Cc3ncc(C)c(OC)c3C)nc2c1'),\n",
    "       ('m3','COc1ccc2[nH]c([S+]([O-])Cc3ncc(C)c(OC)c3C)nc2c1'),\n",
    "       ('m4','CCOc1ccc2[nH]c([S@@+]([O-])Cc3ncc(C)c(OCCC)c3C)nc2c1')]\n",
    "ms = [(x,Chem.AddHs(Chem.MolFromSmiles(y))) for x,y in data]\n",
    "params = AllChem.ETKDG()\n",
    "params.numThreads=3\n",
    "for nm,m in ms:\n",
    "    AllChem.EmbedMultipleConfs(m,numConfs=10,params=params)\n",
    "    # align to one of the ring systems:\n",
    "    AllChem.AlignMolConformers(m,m.GetSubstructMatch(Chem.MolFromSmarts('c1[nH]c2ccccc2n1')))"
   ]
  },
  {
   "cell_type": "code",
   "execution_count": 4,
   "metadata": {
    "collapsed": true
   },
   "outputs": [],
   "source": [
    "# Codes from Paolo Tosco (Slightly modified version)\n",
    "# obj ms2 will have some pre calculated properties\n",
    "url = 'https://github.com/rdkit/rdkit/raw/master/Docs/Book/data/cdk2.sdf'\n",
    "response = urllib.request.urlopen(url)\n",
    "data = response.read()\n",
    "suppl = Chem.SDMolSupplier()\n",
    "suppl.SetData(data)\n",
    "ms2=[mol for mol in suppl]\n",
    "params = AllChem.ETKDG()\n",
    "params.numThreads=3\n",
    "for m in ms2:\n",
    "    AllChem.EmbedMultipleConfs(m,numConfs=10,params=params)"
   ]
  },
  {
   "cell_type": "code",
   "execution_count": 5,
   "metadata": {},
   "outputs": [
    {
     "data": {
      "application/vnd.jupyter.widget-view+json": {
       "model_id": "278ff901e6724bca8bdb09a28d8e9005"
      }
     },
     "metadata": {},
     "output_type": "display_data"
    },
    {
     "data": {
      "text/html": [
       "<div id=\"3dmolviewer_149991555412\"  style=\"position: relative; width: 435px; height: 430px\">\n",
       "<script>\n",
       "if(typeof $3Dmolpromise === 'undefined') $3Dmolpromise = $.when($.getScript('https://3dmol.csb.pitt.edu/build/3Dmol.js'))\n",
       "var viewer_149991555412 = null;\n",
       "$3Dmolpromise.done(function() {\n",
       "viewer_149991555412 = $3Dmol.createViewer($(\"#3dmolviewer_149991555412\"),{backgroundColor:\"white\"});\n",
       "\tviewer_149991555412.setBackgroundColor(\"0x000000\");\n",
       "\tviewer_149991555412.zoomTo();\n",
       "viewer_149991555412.render();\n",
       "});\n",
       "</script><script>$(\"#149991555377\").append($(\"#3dmolviewer_149991555412\")); </script>"
      ],
      "text/plain": [
       "<IPython.core.display.HTML object>"
      ]
     },
     "metadata": {},
     "output_type": "display_data"
    },
    {
     "data": {
      "text/html": [
       "<script>\n",
       "            $3Dmolpromise.done(function() { //wrap in promise for non-interactive functionality\n",
       "                \tviewer_149991555412.removeAllModels();\n",
       "\tviewer_149991555412.removeAllSurfaces();\n",
       "\tviewer_149991555412.removeAllLabels();\n",
       "\tviewer_149991555412.addModel(\"ZINC04617745\\n     RDKit          3D\\n\\n 28 31  0  0  1  0  0  0  0  0999 V2000\\n    5.6621   -1.9711    0.2324 C   0  0  0  0  0  0  0  0  0  0  0  0\\n    3.9980   -1.5805   -1.4129 C   0  0  0  0  0  0  0  0  0  0  0  0\\n    2.6982   -0.6996   -1.6887 C   0  0  0  0  0  0  0  0  0  0  0  0\\n    2.3147   -0.2089   -0.2941 C   0  0  0  0  0  0  0  0  0  0  0  0\\n    2.0303   -1.5011    0.5198 C   0  0  0  0  0  0  0  0  0  0  0  0\\n    3.4272   -2.1395    0.8100 C   0  0  0  0  0  0  0  0  0  0  0  0\\n    1.5524   -2.3944   -0.5641 O   0  0  0  0  0  0  0  0  0  0  0  0\\n    1.5147    0.9144   -0.0631 C   0  0  0  0  0  0  0  0  0  0  0  0\\n    2.2893    2.1052    0.1740 C   0  0  0  0  0  0  0  0  0  0  0  0\\n    1.6914    3.2884    0.4909 C   0  0  0  0  0  0  0  0  0  0  0  0\\n    0.3297    3.3836    0.5993 C   0  0  0  0  0  0  0  0  0  0  0  0\\n   -0.4288    2.2551    0.3800 C   0  0  0  0  0  0  0  0  0  0  0  0\\n    0.1588    1.0243    0.0511 C   0  0  0  0  0  0  0  0  0  0  0  0\\n   -0.6526   -0.0350   -0.1319 O   0  0  0  0  0  0  0  0  0  0  0  0\\n   -1.9298   -0.0126   -0.0308 C   0  0  0  0  0  0  0  0  0  0  0  0\\n   -2.5299    1.2508    0.2942 C   0  0  0  0  0  0  0  0  0  0  0  0\\n   -1.7987    2.3675    0.4983 C   0  0  0  0  0  0  0  0  0  0  0  0\\n   -2.3104    3.4915    0.7832 O   0  0  0  0  0  0  0  0  0  0  0  0\\n   -2.9254   -1.0609   -0.1677 C   0  0  0  0  0  0  0  0  0  0  0  0\\n   -4.2325   -0.6841   -0.5933 C   0  0  0  0  0  0  0  0  0  0  0  0\\n   -5.2859   -1.5074   -0.6689 C   0  0  0  0  0  0  0  0  0  0  0  0\\n   -5.1588   -2.8296   -0.3249 C   0  0  0  0  0  0  0  0  0  0  0  0\\n   -3.9293   -3.2417    0.0901 C   0  0  0  0  0  0  0  0  0  0  0  0\\n   -2.8252   -2.3758    0.1714 C   0  0  0  0  0  0  0  0  0  0  0  0\\n   -1.4010   -3.0750    0.8158 Cl  0  0  0  0  0  0  0  0  0  0  0  0\\n   -0.3075    4.5778    0.9240 O   0  0  0  0  0  0  0  0  0  0  0  0\\n    3.6594    2.0406    0.0789 O   0  0  0  0  0  0  0  0  0  0  0  0\\n    4.3898   -1.3821    0.0033 N   0  0  0  0  0  0  0  0  0  0  0  0\\n  1 28  1  0\\n  2  3  1  0\\n  2 28  1  0\\n  3  4  1  0\\n  4  5  1  0\\n  4  8  1  0\\n  5  6  1  0\\n  5  7  1  0\\n  6 28  1  0\\n  8 13  1  0\\n  8  9  2  0\\n  9 10  1  0\\n  9 27  1  0\\n 10 11  2  0\\n 11 12  1  0\\n 11 26  1  0\\n 12 17  1  0\\n 12 13  2  0\\n 13 14  1  0\\n 14 15  1  0\\n 15 16  2  0\\n 15 19  1  0\\n 16 17  1  0\\n 17 18  2  0\\n 19 24  1  0\\n 19 20  2  0\\n 20 21  1  0\\n 21 22  2  0\\n 22 23  1  0\\n 23 24  2  0\\n 24 25  1  0\\nM  CHG  1  28   1\\nM  END\\n\",\"sdf\");\n",
       "\tviewer_149991555412.setStyle({},{\"stick\": {\"colorscheme\": \"default\"}});\n",
       "\tviewer_149991555412.setBackgroundColor(\"0x000000\");\n",
       "\n",
       "                viewer_149991555412.render();\n",
       "            });\n",
       "            </script>"
      ],
      "text/plain": [
       "<IPython.core.display.HTML object>"
      ]
     },
     "metadata": {},
     "output_type": "display_data"
    },
    {
     "data": {
      "text/html": [
       "<script>\n",
       "            $3Dmolpromise.done(function() { //wrap in promise for non-interactive functionality\n",
       "                \tviewer_149991555412.removeAllModels();\n",
       "\tviewer_149991555412.removeAllSurfaces();\n",
       "\tviewer_149991555412.removeAllLabels();\n",
       "\tviewer_149991555412.addModel(\"ZINC04617745\\n     RDKit          3D\\n\\n 28 31  0  0  1  0  0  0  0  0999 V2000\\n    5.6621   -1.9711    0.2324 C   0  0  0  0  0  0  0  0  0  0  0  0\\n    3.9980   -1.5805   -1.4129 C   0  0  0  0  0  0  0  0  0  0  0  0\\n    2.6982   -0.6996   -1.6887 C   0  0  0  0  0  0  0  0  0  0  0  0\\n    2.3147   -0.2089   -0.2941 C   0  0  0  0  0  0  0  0  0  0  0  0\\n    2.0303   -1.5011    0.5198 C   0  0  0  0  0  0  0  0  0  0  0  0\\n    3.4272   -2.1395    0.8100 C   0  0  0  0  0  0  0  0  0  0  0  0\\n    1.5524   -2.3944   -0.5641 O   0  0  0  0  0  0  0  0  0  0  0  0\\n    1.5147    0.9144   -0.0631 C   0  0  0  0  0  0  0  0  0  0  0  0\\n    2.2893    2.1052    0.1740 C   0  0  0  0  0  0  0  0  0  0  0  0\\n    1.6914    3.2884    0.4909 C   0  0  0  0  0  0  0  0  0  0  0  0\\n    0.3297    3.3836    0.5993 C   0  0  0  0  0  0  0  0  0  0  0  0\\n   -0.4288    2.2551    0.3800 C   0  0  0  0  0  0  0  0  0  0  0  0\\n    0.1588    1.0243    0.0511 C   0  0  0  0  0  0  0  0  0  0  0  0\\n   -0.6526   -0.0350   -0.1319 O   0  0  0  0  0  0  0  0  0  0  0  0\\n   -1.9298   -0.0126   -0.0308 C   0  0  0  0  0  0  0  0  0  0  0  0\\n   -2.5299    1.2508    0.2942 C   0  0  0  0  0  0  0  0  0  0  0  0\\n   -1.7987    2.3675    0.4983 C   0  0  0  0  0  0  0  0  0  0  0  0\\n   -2.3104    3.4915    0.7832 O   0  0  0  0  0  0  0  0  0  0  0  0\\n   -2.9254   -1.0609   -0.1677 C   0  0  0  0  0  0  0  0  0  0  0  0\\n   -4.2325   -0.6841   -0.5933 C   0  0  0  0  0  0  0  0  0  0  0  0\\n   -5.2859   -1.5074   -0.6689 C   0  0  0  0  0  0  0  0  0  0  0  0\\n   -5.1588   -2.8296   -0.3249 C   0  0  0  0  0  0  0  0  0  0  0  0\\n   -3.9293   -3.2417    0.0901 C   0  0  0  0  0  0  0  0  0  0  0  0\\n   -2.8252   -2.3758    0.1714 C   0  0  0  0  0  0  0  0  0  0  0  0\\n   -1.4010   -3.0750    0.8158 Cl  0  0  0  0  0  0  0  0  0  0  0  0\\n   -0.3075    4.5778    0.9240 O   0  0  0  0  0  0  0  0  0  0  0  0\\n    3.6594    2.0406    0.0789 O   0  0  0  0  0  0  0  0  0  0  0  0\\n    4.3898   -1.3821    0.0033 N   0  0  0  0  0  0  0  0  0  0  0  0\\n  1 28  1  0\\n  2  3  1  0\\n  2 28  1  0\\n  3  4  1  0\\n  4  5  1  0\\n  4  8  1  0\\n  5  6  1  0\\n  5  7  1  0\\n  6 28  1  0\\n  8 13  1  0\\n  8  9  2  0\\n  9 10  1  0\\n  9 27  1  0\\n 10 11  2  0\\n 11 12  1  0\\n 11 26  1  0\\n 12 17  1  0\\n 12 13  2  0\\n 13 14  1  0\\n 14 15  1  0\\n 15 16  2  0\\n 15 19  1  0\\n 16 17  1  0\\n 17 18  2  0\\n 19 24  1  0\\n 19 20  2  0\\n 20 21  1  0\\n 21 22  2  0\\n 22 23  1  0\\n 23 24  2  0\\n 24 25  1  0\\nM  CHG  1  28   1\\nM  END\\n\",\"sdf\");\n",
       "\tviewer_149991555412.setStyle({},{\"stick\": {\"colorscheme\": \"default\"}});\n",
       "\tviewer_149991555412.setBackgroundColor(\"0x000000\");\n",
       "\n",
       "                viewer_149991555412.render();\n",
       "            });\n",
       "            </script>"
      ],
      "text/plain": [
       "<IPython.core.display.HTML object>"
      ]
     },
     "metadata": {},
     "output_type": "display_data"
    }
   ],
   "source": [
    "ipy.browseMolConformers2(ms2,confId=(0, 9))"
   ]
  },
  {
   "cell_type": "code",
   "execution_count": 6,
   "metadata": {},
   "outputs": [
    {
     "data": {
      "application/vnd.jupyter.widget-view+json": {
       "model_id": "5bde455267d846e7b074a02b42d8ef8b"
      }
     },
     "metadata": {},
     "output_type": "display_data"
    },
    {
     "data": {
      "text/html": [
       "<div id=\"3dmolviewer_149991555739\"  style=\"position: relative; width: 435px; height: 430px\">\n",
       "<script>\n",
       "if(typeof $3Dmolpromise === 'undefined') $3Dmolpromise = $.when($.getScript('https://3dmol.csb.pitt.edu/build/3Dmol.js'))\n",
       "var viewer_149991555739 = null;\n",
       "$3Dmolpromise.done(function() {\n",
       "viewer_149991555739 = $3Dmol.createViewer($(\"#3dmolviewer_149991555739\"),{backgroundColor:\"white\"});\n",
       "\tviewer_149991555739.setBackgroundColor(\"0x000000\");\n",
       "\tviewer_149991555739.zoomTo();\n",
       "viewer_149991555739.render();\n",
       "});\n",
       "</script><script>$(\"#149991555705\").append($(\"#3dmolviewer_149991555739\")); </script>"
      ],
      "text/plain": [
       "<IPython.core.display.HTML object>"
      ]
     },
     "metadata": {},
     "output_type": "display_data"
    },
    {
     "data": {
      "text/html": [
       "<script>\n",
       "            $3Dmolpromise.done(function() { //wrap in promise for non-interactive functionality\n",
       "                \tviewer_149991555739.removeAllModels();\n",
       "\tviewer_149991555739.removeAllSurfaces();\n",
       "\tviewer_149991555739.removeAllLabels();\n",
       "\tviewer_149991555739.addModel(\"\\n     RDKit          3D\\n\\n 52 54  0  0  0  0  0  0  0  0999 V2000\\n    6.9516    2.4512    0.3951 C   0  0  0  0  0  0  0  0  0  0  0  0\\n    7.6468    1.4866    1.3139 C   0  0  0  0  0  0  0  0  0  0  0  0\\n    7.6688    0.2046    0.7419 O   0  0  0  0  0  0  0  0  0  0  0  0\\n    6.5739   -0.5467    0.4101 C   0  0  0  0  0  0  0  0  0  0  0  0\\n    6.8244   -1.7984   -0.1580 C   0  0  0  0  0  0  0  0  0  0  0  0\\n    5.7969   -2.6214   -0.5219 C   0  0  0  0  0  0  0  0  0  0  0  0\\n    4.4841   -2.2411   -0.3394 C   0  0  0  0  0  0  0  0  0  0  0  0\\n    3.3044   -2.8351   -0.5986 N   0  0  0  0  0  0  0  0  0  0  0  0\\n    2.3210   -1.9762   -0.2022 C   0  0  0  0  0  0  0  0  0  0  0  0\\n    0.5931   -2.2882   -0.3273 S   0  0  0  0  0  0  0  0  0  0  0  0\\n    0.2095   -3.0198    1.1526 O   0  0  0  0  0  0  0  0  0  0  0  0\\n   -0.2083   -0.6934   -0.2590 C   0  0  0  0  0  0  0  0  0  0  0  0\\n   -1.6878   -0.8407   -0.3574 C   0  0  0  0  0  0  0  0  0  0  0  0\\n   -2.1804   -2.0864   -0.4771 N   0  0  0  0  0  0  0  0  0  0  0  0\\n   -3.5002   -2.3636   -0.5755 C   0  0  0  0  0  0  0  0  0  0  0  0\\n   -4.3771   -1.2775   -0.5486 C   0  0  0  0  0  0  0  0  0  0  0  0\\n   -5.8259   -1.4673   -0.6483 C   0  0  0  0  0  0  0  0  0  0  0  0\\n   -3.8768   -0.0016   -0.4262 C   0  0  0  0  0  0  0  0  0  0  0  0\\n   -4.7645    1.0561   -0.4020 O   0  0  0  0  0  0  0  0  0  0  0  0\\n   -5.2563    1.4627    0.8611 C   0  0  0  0  0  0  0  0  0  0  0  0\\n   -6.2150    2.6245    0.7507 C   0  0  0  0  0  0  0  0  0  0  0  0\\n   -7.3757    2.1902   -0.1100 C   0  0  0  0  0  0  0  0  0  0  0  0\\n   -2.5339    0.2311   -0.3297 C   0  0  0  0  0  0  0  0  0  0  0  0\\n   -1.9826    1.5832   -0.1988 C   0  0  0  0  0  0  0  0  0  0  0  0\\n    2.8967   -0.8852    0.2868 N   0  0  0  0  0  0  0  0  0  0  0  0\\n    4.2367   -1.0120    0.2186 C   0  0  0  0  0  0  0  0  0  0  0  0\\n    5.2718   -0.1582    0.5966 C   0  0  0  0  0  0  0  0  0  0  0  0\\n    6.1992    3.0084    0.9435 H   0  0  0  0  0  0  0  0  0  0  0  0\\n    7.7152    3.1593   -0.0021 H   0  0  0  0  0  0  0  0  0  0  0  0\\n    6.5226    1.9417   -0.4934 H   0  0  0  0  0  0  0  0  0  0  0  0\\n    7.1093    1.4624    2.2985 H   0  0  0  0  0  0  0  0  0  0  0  0\\n    8.6794    1.8333    1.5378 H   0  0  0  0  0  0  0  0  0  0  0  0\\n    7.8518   -2.1376   -0.3197 H   0  0  0  0  0  0  0  0  0  0  0  0\\n    5.9564   -3.6093   -0.9701 H   0  0  0  0  0  0  0  0  0  0  0  0\\n    3.1492   -3.7856   -1.0273 H   0  0  0  0  0  0  0  0  0  0  0  0\\n    0.0125   -0.1482    0.6563 H   0  0  0  0  0  0  0  0  0  0  0  0\\n    0.1193   -0.1338   -1.1553 H   0  0  0  0  0  0  0  0  0  0  0  0\\n   -3.8892   -3.3677   -0.6715 H   0  0  0  0  0  0  0  0  0  0  0  0\\n   -6.0459   -2.3746   -1.2839 H   0  0  0  0  0  0  0  0  0  0  0  0\\n   -6.2254   -1.7323    0.3669 H   0  0  0  0  0  0  0  0  0  0  0  0\\n   -6.3706   -0.6325   -1.0826 H   0  0  0  0  0  0  0  0  0  0  0  0\\n   -5.8456    0.6134    1.3004 H   0  0  0  0  0  0  0  0  0  0  0  0\\n   -4.4354    1.6586    1.5837 H   0  0  0  0  0  0  0  0  0  0  0  0\\n   -6.5566    2.8817    1.7578 H   0  0  0  0  0  0  0  0  0  0  0  0\\n   -5.7099    3.5200    0.3224 H   0  0  0  0  0  0  0  0  0  0  0  0\\n   -7.7816    1.2516    0.3379 H   0  0  0  0  0  0  0  0  0  0  0  0\\n   -8.1548    2.9702   -0.2117 H   0  0  0  0  0  0  0  0  0  0  0  0\\n   -6.9513    1.8840   -1.1021 H   0  0  0  0  0  0  0  0  0  0  0  0\\n   -2.7430    2.3768   -0.2318 H   0  0  0  0  0  0  0  0  0  0  0  0\\n   -1.3411    1.6381    0.7102 H   0  0  0  0  0  0  0  0  0  0  0  0\\n   -1.2826    1.7623   -1.0578 H   0  0  0  0  0  0  0  0  0  0  0  0\\n    5.0228    0.7825    1.0292 H   0  0  0  0  0  0  0  0  0  0  0  0\\n  1  2  1  0\\n  2  3  1  0\\n  3  4  1  0\\n  4  5  2  0\\n  5  6  1  0\\n  6  7  2  0\\n  7  8  1  0\\n  8  9  1  0\\n  9 10  1  0\\n 10 11  1  1\\n 10 12  1  0\\n 12 13  1  0\\n 13 14  2  0\\n 14 15  1  0\\n 15 16  2  0\\n 16 17  1  0\\n 16 18  1  0\\n 18 19  1  0\\n 19 20  1  0\\n 20 21  1  0\\n 21 22  1  0\\n 18 23  2  0\\n 23 24  1  0\\n  9 25  2  0\\n 25 26  1  0\\n 26 27  2  0\\n 27  4  1  0\\n 26  7  1  0\\n 23 13  1  0\\n  1 28  1  0\\n  1 29  1  0\\n  1 30  1  0\\n  2 31  1  0\\n  2 32  1  0\\n  5 33  1  0\\n  6 34  1  0\\n  8 35  1  0\\n 12 36  1  0\\n 12 37  1  0\\n 15 38  1  0\\n 17 39  1  0\\n 17 40  1  0\\n 17 41  1  0\\n 20 42  1  0\\n 20 43  1  0\\n 21 44  1  0\\n 21 45  1  0\\n 22 46  1  0\\n 22 47  1  0\\n 22 48  1  0\\n 24 49  1  0\\n 24 50  1  0\\n 24 51  1  0\\n 27 52  1  0\\nM  CHG  2  10   1  11  -1\\nM  END\\n\",\"sdf\");\n",
       "\tviewer_149991555739.setStyle({},{\"stick\": {\"colorscheme\": \"default\"}});\n",
       "\tviewer_149991555739.setBackgroundColor(\"0x000000\");\n",
       "\n",
       "                viewer_149991555739.render();\n",
       "            });\n",
       "            </script>"
      ],
      "text/plain": [
       "<IPython.core.display.HTML object>"
      ]
     },
     "metadata": {},
     "output_type": "display_data"
    }
   ],
   "source": [
    "ipy.browseMolConformers2(ms,confId=(0, 9))"
   ]
  },
  {
   "cell_type": "code",
   "execution_count": null,
   "metadata": {
    "collapsed": true
   },
   "outputs": [],
   "source": []
  }
 ],
 "metadata": {
  "kernelspec": {
   "display_name": "Python 2",
   "language": "python",
   "name": "python2"
  },
  "language_info": {
   "codemirror_mode": {
    "name": "ipython",
    "version": 2
   },
   "file_extension": ".py",
   "mimetype": "text/x-python",
   "name": "python",
   "nbconvert_exporter": "python",
   "pygments_lexer": "ipython2",
   "version": "2.7.13"
  }
 },
 "nbformat": 4,
 "nbformat_minor": 2
}
