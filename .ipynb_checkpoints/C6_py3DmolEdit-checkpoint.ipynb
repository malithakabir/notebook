{
 "cells": [
  {
   "cell_type": "markdown",
   "metadata": {
    "deletable": true,
    "editable": true
   },
   "source": [
    "# Original"
   ]
  },
  {
   "cell_type": "code",
   "execution_count": 4,
   "metadata": {
    "collapsed": false,
    "deletable": true,
    "editable": true
   },
   "outputs": [],
   "source": [
    "import IPython.display\n",
    "import time, json\n",
    "\n",
    "#surface type constants\n",
    "VDW =1\n",
    "MS=2\n",
    "SAS=3\n",
    "SES=4\n",
    "\n",
    "class view(object):\n",
    "    '''A class for constructing embedded 3Dmol.js views in ipython notebooks.\n",
    "       The results are completely static which means there is no need for there\n",
    "       to be an active kernel but also that there is no communication between\n",
    "       the javascript viewer and ipython.\n",
    "       \n",
    "       The API for the created object is exactly that for $3Dmol.GLViewer, with\n",
    "       the exception that the functions all return None.\n",
    "       http://3dmol.csb.pitt.edu/doc/$3Dmol.GLViewer.html\n",
    "    '''\n",
    "    def __init__(self,width=640,height=480,query='',options=dict(),js='https://3dmol.csb.pitt.edu/build/3Dmol.js'):\n",
    "        '''Create a 3Dmol.js view.\n",
    "            width -- width in pixels of container\n",
    "            height -- height in pixels of container\n",
    "            query -- optional argument to provide to $3Dmol.download\n",
    "            options -- optional options to provide to $3Dmol.download\n",
    "            js -- url for 3Dmol.js'''\n",
    "        divid = \"3dmolviewer_UNIQUEID\" \n",
    "        self.uniqueid = None\n",
    "        self.startjs = '<div id=\"%s\"  style=\"position: relative; width: %dpx; height: %dpx\">\\n' % (divid,width,height)\n",
    "        self.startjs += '<script>\\n'\n",
    "        self.endjs = '</script>'\n",
    "        \n",
    "        self.updatejs = '' # code added since last show\n",
    "        #load 3dmol, but only once\n",
    "        self.startjs += \"if(typeof $3Dmolpromise === 'undefined') $3Dmolpromise = $.when($.getScript('%s'))\\n\" % js\n",
    "        self.startjs += \"var viewer_UNIQUEID = null;\\n\";\n",
    "        self.startjs += \"$3Dmolpromise.done(function() {\\n\";\n",
    "        self.endjs = \"});\\n\" + self.endjs\n",
    "\n",
    "        self.startjs += 'viewer_UNIQUEID = $3Dmol.createViewer($(\"#%s\"),{backgroundColor:\"white\"});\\n' % divid\n",
    "        if query:\n",
    "            self.startjs += '$3Dmol.download(\"%s\", viewer_UNIQUEID, %s, function() {\\n' % (query,json.dumps(options))\n",
    "            self.endjs = \"})\\n\" + self.endjs        \n",
    "        self.endjs = \"viewer_UNIQUEID.render();\\n\" + self.endjs;\n",
    "        \n",
    "    def _repr_html_(self):\n",
    "        self.uniqueid = str(time.time()).replace('.','')\n",
    "        self.updatejs = ''\n",
    "        html = (self.startjs+self.endjs).replace('UNIQUEID',self.uniqueid)\n",
    "        return html\n",
    "    \n",
    "    def show(self):\n",
    "        '''Instantiate a new viewer window. Calling this will orphan any previously instantiated viewer windows.'''\n",
    "        self.updatejs = ''\n",
    "        return IPython.display.HTML(self._repr_html_())\n",
    "        \n",
    "    def insert(self, containerid):\n",
    "        '''Instead of inserting into notebook here, insert html\n",
    "        into existing container'''\n",
    "        html = self._repr_html_()\n",
    "        html += '''<script>$(\"#%s\").append($(\"#3dmolviewer_%s\")); </script>'''%(containerid,self.uniqueid)\n",
    "        \n",
    "        #print('insert :' + html)\n",
    "        \n",
    "        return IPython.display.HTML(html)\n",
    "    \n",
    "    def update(self):\n",
    "        '''Apply commands to existing viewer (must be instantiated).'''\n",
    "        if self.uniqueid == None:\n",
    "            raise AssertionError('Must instantiate viewer before generating image.')\n",
    "        script = '''<script>\n",
    "            $3Dmolpromise.done(function() { //wrap in promise for non-interactive functionality\n",
    "                %s\n",
    "                viewer_%s.render();\n",
    "            });\n",
    "            </script>''' % (self.updatejs.replace('UNIQUEID',self.uniqueid),self.uniqueid)\n",
    "        self.updatejs = ''\n",
    "        return IPython.display.HTML(script)\n",
    "\n",
    "    \n",
    "    def __getattr__(self,name):\n",
    "        '''auto-instantiate javascript calls based on whatever the user provided'''\n",
    "        if name.startswith('_'): #object to ipython canary functions\n",
    "            raise AttributeError(\"%r object has no attribute %r\" %\n",
    "                         (self.__class__, attr))\n",
    "        def makejs(*args):            \n",
    "            cmd = '\\tviewer_UNIQUEID.%s(' % name;\n",
    "            for arg in args:\n",
    "                print('argument: '+ json.dumps(arg))\n",
    "                cmd += '%s,' % json.dumps(arg)\n",
    "            cmd = cmd.rstrip(',')\n",
    "            cmd += ');\\n';\n",
    "            self.startjs += cmd\n",
    "            self.updatejs += cmd\n",
    "            return self\n",
    "        \n",
    "        return makejs\n"
   ]
  },
  {
   "cell_type": "markdown",
   "metadata": {
    "deletable": true,
    "editable": true
   },
   "source": [
    "# Edited"
   ]
  },
  {
   "cell_type": "code",
   "execution_count": 13,
   "metadata": {
    "collapsed": true,
    "deletable": true,
    "editable": true
   },
   "outputs": [],
   "source": [
    "import IPython.display\n",
    "import time, json\n",
    "\n",
    "#surface type constants\n",
    "VDW =1\n",
    "MS=2\n",
    "SAS=3\n",
    "SES=4\n",
    "\n",
    "class view(object):\n",
    "    '''A class for constructing embedded 3Dmol.js views in ipython notebooks.\n",
    "       The results are completely static which means there is no need for there\n",
    "       to be an active kernel but also that there is no communication between\n",
    "       the javascript viewer and ipython.\n",
    "       \n",
    "       The API for the created object is exactly that for $3Dmol.GLViewer, with\n",
    "       the exception that the functions all return None.\n",
    "       http://3dmol.csb.pitt.edu/doc/$3Dmol.GLViewer.html\n",
    "    '''\n",
    "    def __init__(self,width=640,height=480,query='',options=dict(),js='https://3dmol.csb.pitt.edu/build/3Dmol.js'):\n",
    "        '''Create a 3Dmol.js view.\n",
    "            width -- width in pixels of container\n",
    "            height -- height in pixels of container\n",
    "            query -- optional argument to provide to $3Dmol.download\n",
    "            options -- optional options to provide to $3Dmol.download\n",
    "            js -- url for 3Dmol.js'''\n",
    "        divid = \"3dmolviewer_UNIQUEID\" \n",
    "        #self.uniqueid = None\n",
    "        self.uniqueid = str(time.time()).replace('.','')\n",
    "        self.startjs = '<div id=\"%s\"  style=\"position: relative; width: %dpx; height: %dpx\">\\n' % (divid,width,height)\n",
    "        self.startjs += '<script>\\n'\n",
    "        self.endjs = '</script>'\n",
    "        \n",
    "        self.updatejs = '' # code added since last show\n",
    "        #load 3dmol, but only once\n",
    "        self.startjs += \"if(typeof $3Dmolpromise === 'undefined') $3Dmolpromise = $.when($.getScript('%s'))\\n\" % js\n",
    "        self.startjs += \"var viewer_UNIQUEID = null;\\n\";\n",
    "        self.startjs += \"$3Dmolpromise.done(function() {\\n\";\n",
    "        self.endjs = \"});\\n\" + self.endjs\n",
    "\n",
    "        self.startjs += 'viewer_UNIQUEID = $3Dmol.createViewer($(\"#%s\"),{backgroundColor:\"white\"});\\n' % divid\n",
    "        if query:\n",
    "            self.startjs += '$3Dmol.download(\"%s\", viewer_UNIQUEID, %s, function() {\\n' % (query,json.dumps(options))\n",
    "            self.endjs = \"})\\n\" + self.endjs        \n",
    "        self.endjs = \"viewer_UNIQUEID.render();\\n\" + self.endjs;\n",
    "        \n",
    "    def _repr_html_(self):\n",
    "        #self.uniqueid = str(time.time()).replace('.','')\n",
    "        self.updatejs = ''\n",
    "        html = (self.startjs+self.endjs).replace('UNIQUEID',self.uniqueid)\n",
    "        return html\n",
    "    \n",
    "    def show(self):\n",
    "        '''Instantiate a new viewer window. Calling this will orphan any previously instantiated viewer windows.'''\n",
    "        self.updatejs = ''\n",
    "        print(\"div id: \"+ self._repr_html_())\n",
    "        return IPython.display.HTML(self._repr_html_())\n",
    "    \n",
    "    def insert(self, containerid):\n",
    "        '''Instead of inserting into notebook here, insert html\n",
    "        into existing container'''\n",
    "        html = self._repr_html_()\n",
    "        html += '''<script>$(\"#%s\").append($(\"#3dmolviewer_%s\")); </script>'''%(containerid,self.uniqueid)\n",
    "        \n",
    "        print('insert :' + html)\n",
    "        \n",
    "        return IPython.display.HTML(html)\n",
    "    \n",
    "    def __getattr__(self,name):\n",
    "        #print(name.startswith('_'))\n",
    "        '''auto-instantiate javascript calls based on whatever the user provided'''\n",
    "        if name.startswith('_'): #object to ipython canary functions\n",
    "            raise AttributeError(\"%r object has no attribute %r\" % (self.__class__, attr))\n",
    "         \n",
    "        print(\"Calling __getattr__: \"+name)\n",
    "        \n",
    "        def makejs(*args):\n",
    "            cmd = '\\tviewer_UNIQUEID.%s(' % name;\n",
    "            \n",
    "            #print(\"Calling inside makejs cmd: \"+cmd)\n",
    "            \n",
    "            for arg in args:\n",
    "                cmd += '%s,' % json.dumps(arg)\n",
    "                #print(\"Calling inside makejs cmd arg: \"+ json.dumps(arg))\n",
    "                \n",
    "            #print(\"Calling inside makejs cmd final p1: \"+ cmd)\n",
    "            cmd = cmd.rstrip(',')\n",
    "            #print(\"Calling inside makejs cmd final p2: \"+ cmd)\n",
    "            cmd += ');\\n';\n",
    "            #print(\"Calling inside makejs cmd final p3: \"+ cmd)\n",
    "            \n",
    "            self.startjs += cmd\n",
    "            self.updatejs += cmd\n",
    "            return self\n",
    "        \n",
    "        #print(\"Calling startjs: \"+ self.startjs)\n",
    "        #print(\"Calling updatejs: \"+ self.updatejs)\n",
    "        return makejs\n",
    "        "
   ]
  },
  {
   "cell_type": "code",
   "execution_count": 5,
   "metadata": {
    "collapsed": false,
    "deletable": true,
    "editable": true
   },
   "outputs": [
    {
     "name": "stdout",
     "output_type": "stream",
     "text": [
      "argument: {}\n",
      "argument: {\"cartoon\": {\"color\": \"spectrum\"}}\n"
     ]
    },
    {
     "data": {
      "text/html": [
       "<div id=\"3dmolviewer_149566638757\"  style=\"position: relative; width: 640px; height: 480px\">\n",
       "<script>\n",
       "if(typeof $3Dmolpromise === 'undefined') $3Dmolpromise = $.when($.getScript('https://3dmol.csb.pitt.edu/build/3Dmol.js'))\n",
       "var viewer_149566638757 = null;\n",
       "$3Dmolpromise.done(function() {\n",
       "viewer_149566638757 = $3Dmol.createViewer($(\"#3dmolviewer_149566638757\"),{backgroundColor:\"white\"});\n",
       "$3Dmol.download(\"pdb:1ycr\", viewer_149566638757, {}, function() {\n",
       "\tviewer_149566638757.setStyle({},{\"cartoon\": {\"color\": \"spectrum\"}});\n",
       "viewer_149566638757.render();\n",
       "})\n",
       "});\n",
       "</script>"
      ],
      "text/plain": [
       "<IPython.core.display.HTML object>"
      ]
     },
     "execution_count": 5,
     "metadata": {},
     "output_type": "execute_result"
    }
   ],
   "source": [
    "p = view(query='pdb:1ycr')\n",
    "p.setStyle({}, {'cartoon':{'color':\"spectrum\"}});\n",
    "p.show()"
   ]
  },
  {
   "cell_type": "code",
   "execution_count": 15,
   "metadata": {
    "collapsed": false,
    "deletable": true,
    "editable": true
   },
   "outputs": [
    {
     "data": {
      "text/plain": [
       "'149514875865'"
      ]
     },
     "execution_count": 15,
     "metadata": {},
     "output_type": "execute_result"
    }
   ],
   "source": [
    "p.uniqueid"
   ]
  },
  {
   "cell_type": "code",
   "execution_count": 16,
   "metadata": {
    "collapsed": false,
    "deletable": true,
    "editable": true
   },
   "outputs": [
    {
     "name": "stdout",
     "output_type": "stream",
     "text": [
      "Calling __getattr__: setStyle\n",
      "div id: <div id=\"3dmolviewer_149514876694\"  style=\"position: relative; width: 640px; height: 480px\">\n",
      "<script>\n",
      "if(typeof $3Dmolpromise === 'undefined') $3Dmolpromise = $.when($.getScript('https://3dmol.csb.pitt.edu/build/3Dmol.js'))\n",
      "var viewer_149514876694 = null;\n",
      "$3Dmolpromise.done(function() {\n",
      "viewer_149514876694 = $3Dmol.createViewer($(\"#3dmolviewer_149514876694\"),{backgroundColor:\"white\"});\n",
      "$3Dmol.download(\"pdb:4i22\", viewer_149514876694, {}, function() {\n",
      "\tviewer_149514876694.setStyle({},{\"cartoon\": {\"color\": \"spectrum\"}});\n",
      "viewer_149514876694.render();\n",
      "})\n",
      "});\n",
      "</script>\n"
     ]
    },
    {
     "data": {
      "text/html": [
       "<div id=\"3dmolviewer_149514876694\"  style=\"position: relative; width: 640px; height: 480px\">\n",
       "<script>\n",
       "if(typeof $3Dmolpromise === 'undefined') $3Dmolpromise = $.when($.getScript('https://3dmol.csb.pitt.edu/build/3Dmol.js'))\n",
       "var viewer_149514876694 = null;\n",
       "$3Dmolpromise.done(function() {\n",
       "viewer_149514876694 = $3Dmol.createViewer($(\"#3dmolviewer_149514876694\"),{backgroundColor:\"white\"});\n",
       "$3Dmol.download(\"pdb:4i22\", viewer_149514876694, {}, function() {\n",
       "\tviewer_149514876694.setStyle({},{\"cartoon\": {\"color\": \"spectrum\"}});\n",
       "viewer_149514876694.render();\n",
       "})\n",
       "});\n",
       "</script>"
      ],
      "text/plain": [
       "<IPython.core.display.HTML object>"
      ]
     },
     "execution_count": 16,
     "metadata": {},
     "output_type": "execute_result"
    }
   ],
   "source": [
    "p1 = view(query='pdb:4i22')\n",
    "p1.setStyle({}, {'cartoon':{'color':\"spectrum\"}});\n",
    "p1.show()"
   ]
  },
  {
   "cell_type": "code",
   "execution_count": 17,
   "metadata": {
    "collapsed": false,
    "deletable": true,
    "editable": true
   },
   "outputs": [
    {
     "data": {
      "text/plain": [
       "'149514876694'"
      ]
     },
     "execution_count": 17,
     "metadata": {},
     "output_type": "execute_result"
    }
   ],
   "source": [
    "p1.uniqueid"
   ]
  },
  {
   "cell_type": "code",
   "execution_count": 18,
   "metadata": {
    "collapsed": false,
    "deletable": true,
    "editable": true,
    "scrolled": true
   },
   "outputs": [
    {
     "name": "stdout",
     "output_type": "stream",
     "text": [
      "insert :<div id=\"3dmolviewer_149514875865\"  style=\"position: relative; width: 640px; height: 480px\">\n",
      "<script>\n",
      "if(typeof $3Dmolpromise === 'undefined') $3Dmolpromise = $.when($.getScript('https://3dmol.csb.pitt.edu/build/3Dmol.js'))\n",
      "var viewer_149514875865 = null;\n",
      "$3Dmolpromise.done(function() {\n",
      "viewer_149514875865 = $3Dmol.createViewer($(\"#3dmolviewer_149514875865\"),{backgroundColor:\"white\"});\n",
      "$3Dmol.download(\"pdb:1ycr\", viewer_149514875865, {}, function() {\n",
      "\tviewer_149514875865.setStyle({},{\"cartoon\": {\"color\": \"spectrum\"}});\n",
      "viewer_149514875865.render();\n",
      "})\n",
      "});\n",
      "</script><script>$(\"#3dmolviewer_14951481236\").append($(\"#3dmolviewer_149514875865\")); </script>\n"
     ]
    },
    {
     "data": {
      "text/html": [
       "<div id=\"3dmolviewer_149514875865\"  style=\"position: relative; width: 640px; height: 480px\">\n",
       "<script>\n",
       "if(typeof $3Dmolpromise === 'undefined') $3Dmolpromise = $.when($.getScript('https://3dmol.csb.pitt.edu/build/3Dmol.js'))\n",
       "var viewer_149514875865 = null;\n",
       "$3Dmolpromise.done(function() {\n",
       "viewer_149514875865 = $3Dmol.createViewer($(\"#3dmolviewer_149514875865\"),{backgroundColor:\"white\"});\n",
       "$3Dmol.download(\"pdb:1ycr\", viewer_149514875865, {}, function() {\n",
       "\tviewer_149514875865.setStyle({},{\"cartoon\": {\"color\": \"spectrum\"}});\n",
       "viewer_149514875865.render();\n",
       "})\n",
       "});\n",
       "</script><script>$(\"#3dmolviewer_14951481236\").append($(\"#3dmolviewer_149514875865\")); </script>"
      ],
      "text/plain": [
       "<IPython.core.display.HTML object>"
      ]
     },
     "execution_count": 18,
     "metadata": {},
     "output_type": "execute_result"
    }
   ],
   "source": [
    "p.insert('3dmolviewer_14951481236')"
   ]
  },
  {
   "cell_type": "code",
   "execution_count": 19,
   "metadata": {
    "collapsed": false,
    "deletable": true,
    "editable": true
   },
   "outputs": [
    {
     "name": "stdout",
     "output_type": "stream",
     "text": [
      "div id: <div id=\"3dmolviewer_149514875865\"  style=\"position: relative; width: 640px; height: 480px\">\n",
      "<script>\n",
      "if(typeof $3Dmolpromise === 'undefined') $3Dmolpromise = $.when($.getScript('https://3dmol.csb.pitt.edu/build/3Dmol.js'))\n",
      "var viewer_149514875865 = null;\n",
      "$3Dmolpromise.done(function() {\n",
      "viewer_149514875865 = $3Dmol.createViewer($(\"#3dmolviewer_149514875865\"),{backgroundColor:\"white\"});\n",
      "$3Dmol.download(\"pdb:1ycr\", viewer_149514875865, {}, function() {\n",
      "\tviewer_149514875865.setStyle({},{\"cartoon\": {\"color\": \"spectrum\"}});\n",
      "viewer_149514875865.render();\n",
      "})\n",
      "});\n",
      "</script>\n"
     ]
    },
    {
     "data": {
      "text/html": [
       "<div id=\"3dmolviewer_149514875865\"  style=\"position: relative; width: 640px; height: 480px\">\n",
       "<script>\n",
       "if(typeof $3Dmolpromise === 'undefined') $3Dmolpromise = $.when($.getScript('https://3dmol.csb.pitt.edu/build/3Dmol.js'))\n",
       "var viewer_149514875865 = null;\n",
       "$3Dmolpromise.done(function() {\n",
       "viewer_149514875865 = $3Dmol.createViewer($(\"#3dmolviewer_149514875865\"),{backgroundColor:\"white\"});\n",
       "$3Dmol.download(\"pdb:1ycr\", viewer_149514875865, {}, function() {\n",
       "\tviewer_149514875865.setStyle({},{\"cartoon\": {\"color\": \"spectrum\"}});\n",
       "viewer_149514875865.render();\n",
       "})\n",
       "});\n",
       "</script>"
      ],
      "text/plain": [
       "<IPython.core.display.HTML object>"
      ]
     },
     "execution_count": 19,
     "metadata": {},
     "output_type": "execute_result"
    }
   ],
   "source": [
    "p.show()"
   ]
  },
  {
   "cell_type": "code",
   "execution_count": 20,
   "metadata": {
    "collapsed": false,
    "deletable": true,
    "editable": true
   },
   "outputs": [
    {
     "name": "stdout",
     "output_type": "stream",
     "text": [
      "Calling __getattr__: setStyle\n"
     ]
    }
   ],
   "source": [
    "p.setStyle({}, {'cartoon':{'color':\"spectrum\"}});\n",
    "#p.setStyle({'cartoon': {'color':'spectrum'}})\n",
    "#p.show()"
   ]
  },
  {
   "cell_type": "code",
   "execution_count": 19,
   "metadata": {
    "collapsed": false,
    "deletable": true,
    "editable": true
   },
   "outputs": [],
   "source": [
    "width=640\n",
    "height=480\n",
    "query='pdb:1ycr'\n",
    "options=dict()\n",
    "js='https://3dmol.csb.pitt.edu/build/3Dmol.js'\n",
    "divid = \"3dmolviewer_UNIQUEID\" \n",
    "uniqueid = None\n",
    "startjs = '<div id=\"%s\"  style=\"position: relative; width: %dpx; height: %dpx\">\\n' % (divid,width,height)\n",
    "startjs += '<script>\\n'\n",
    "endjs = '</script>'\n",
    "        \n",
    "updatejs = '' # code added since last show\n",
    "#load 3dmol, but only once\n",
    "startjs += \"if(typeof $3Dmolpromise === 'undefined') $3Dmolpromise = $.when($.getScript('%s'))\\n\" % js\n",
    "startjs += \"var viewer_UNIQUEID = null;\\n\";\n",
    "startjs += \"$3Dmolpromise.done(function() {\\n\";\n",
    "endjs = \"});\\n\" + endjs\n",
    "\n",
    "startjs += 'viewer_UNIQUEID = $3Dmol.createViewer($(\"#%s\"),{backgroundColor:\"white\"});\\n' % divid\n",
    "#if query:\n",
    "#    startjs += '$3Dmol.download(\"%s\", viewer_UNIQUEID, %s, function() {\\n' % (query,json.dumps(options))\n",
    "#    endjs = \"})\\n\" + self.endjs\n",
    "#    endjs = \"viewer_UNIQUEID.render();\\n\" + self.endjs;\n",
    "        "
   ]
  },
  {
   "cell_type": "code",
   "execution_count": 20,
   "metadata": {
    "collapsed": false,
    "deletable": true,
    "editable": true
   },
   "outputs": [
    {
     "data": {
      "text/plain": [
       "'<div id=\"3dmolviewer_UNIQUEID\"  style=\"position: relative; width: 640px; height: 480px\">\\n<script>\\nif(typeof $3Dmolpromise === \\'undefined\\') $3Dmolpromise = $.when($.getScript(\\'https://3dmol.csb.pitt.edu/build/3Dmol.js\\'))\\nvar viewer_UNIQUEID = null;\\n$3Dmolpromise.done(function() {\\nviewer_UNIQUEID = $3Dmol.createViewer($(\"#3dmolviewer_UNIQUEID\"),{backgroundColor:\"white\"});\\n'"
      ]
     },
     "execution_count": 20,
     "metadata": {},
     "output_type": "execute_result"
    }
   ],
   "source": [
    "startjs"
   ]
  },
  {
   "cell_type": "code",
   "execution_count": 21,
   "metadata": {
    "collapsed": false,
    "deletable": true,
    "editable": true
   },
   "outputs": [
    {
     "data": {
      "text/plain": [
       "'});\\n</script>'"
      ]
     },
     "execution_count": 21,
     "metadata": {},
     "output_type": "execute_result"
    }
   ],
   "source": [
    "endjs"
   ]
  },
  {
   "cell_type": "code",
   "execution_count": 22,
   "metadata": {
    "collapsed": false,
    "deletable": true,
    "editable": true
   },
   "outputs": [
    {
     "data": {
      "text/plain": [
       "'<div id=\"3dmolviewer_149488218222\"  style=\"position: relative; width: 640px; height: 480px\">\\n<script>\\nif(typeof $3Dmolpromise === \\'undefined\\') $3Dmolpromise = $.when($.getScript(\\'https://3dmol.csb.pitt.edu/build/3Dmol.js\\'))\\nvar viewer_149488218222 = null;\\n$3Dmolpromise.done(function() {\\nviewer_149488218222 = $3Dmol.createViewer($(\"#3dmolviewer_149488218222\"),{backgroundColor:\"white\"});\\n});\\n</script>'"
      ]
     },
     "execution_count": 22,
     "metadata": {},
     "output_type": "execute_result"
    }
   ],
   "source": [
    "uniqueid = str(time.time()).replace('.','')\n",
    "updatejs = ''\n",
    "html = (startjs+endjs).replace('UNIQUEID',uniqueid)\n",
    "html\n",
    "    "
   ]
  },
  {
   "cell_type": "code",
   "execution_count": 14,
   "metadata": {
    "collapsed": false,
    "deletable": true,
    "editable": true
   },
   "outputs": [
    {
     "data": {
      "text/plain": [
       "'1494880005.42'"
      ]
     },
     "execution_count": 14,
     "metadata": {},
     "output_type": "execute_result"
    }
   ],
   "source": [
    "str(time.time())"
   ]
  },
  {
   "cell_type": "code",
   "execution_count": 17,
   "metadata": {
    "collapsed": false,
    "deletable": true,
    "editable": true
   },
   "outputs": [
    {
     "data": {
      "text/plain": [
       "'<div id=\"3dmolviewer_149487989741\"  style=\"position: relative; width: 640px; height: 480px\">\\n<script>\\nif(typeof $3Dmolpromise === \\'undefined\\') $3Dmolpromise = $.when($.getScript(\\'https://3dmol.csb.pitt.edu/build/3Dmol.js\\'))\\nvar viewer_149487989741 = null;\\n$3Dmolpromise.done(function() {\\nviewer_149487989741 = $3Dmol.createViewer($(\"#3dmolviewer_149487989741\"),{backgroundColor:\"white\"});\\n});\\n</script><script>$(\"#1\").append($(\"#3dmolviewer_149487989741\")); </script>'"
      ]
     },
     "execution_count": 17,
     "metadata": {},
     "output_type": "execute_result"
    }
   ],
   "source": [
    "'''Instead of inserting into notebook here, insert html into existing container'''\n",
    "containerid=1\n",
    "html += '''<script>$(\"#%s\").append($(\"#3dmolviewer_%s\")); </script>'''%(containerid,uniqueid)\n",
    "html"
   ]
  },
  {
   "cell_type": "code",
   "execution_count": 18,
   "metadata": {
    "collapsed": false,
    "deletable": true,
    "editable": true
   },
   "outputs": [
    {
     "data": {
      "text/plain": [
       "'<script>\\n            $3Dmolpromise.done(function() { //wrap in promise for non-interactive functionality\\n                \\n                viewer_149487989741.render();\\n            });\\n            </script>'"
      ]
     },
     "execution_count": 18,
     "metadata": {},
     "output_type": "execute_result"
    }
   ],
   "source": [
    "'''Apply commands to existing viewer (must be instantiated).'''\n",
    "script = '''<script>\n",
    "            $3Dmolpromise.done(function() { //wrap in promise for non-interactive functionality\n",
    "                %s\n",
    "                viewer_%s.render();\n",
    "            });\n",
    "            </script>''' % (updatejs.replace('UNIQUEID',uniqueid),uniqueid)\n",
    "updatejs = ''\n",
    "script\n"
   ]
  },
  {
   "cell_type": "code",
   "execution_count": null,
   "metadata": {
    "collapsed": true,
    "deletable": true,
    "editable": true
   },
   "outputs": [],
   "source": [
    "def __getattr__(self,name):\n",
    "        '''auto-instantiate javascript calls based on whatever the user provided'''\n",
    "        if name.startswith('_'): #object to ipython canary functions\n",
    "            raise AttributeError(\"%r object has no attribute %r\" %\n",
    "                         (self.__class__, attr))\n",
    "        def makejs(*args):            \n",
    "            cmd = '\\tviewer_UNIQUEID.%s(' % name;\n",
    "            for arg in args:\n",
    "                cmd += '%s,' % json.dumps(arg)\n",
    "            cmd = cmd.rstrip(',')\n",
    "            cmd += ');\\n';\n",
    "            self.startjs += cmd\n",
    "            self.updatejs += cmd\n",
    "            return self\n",
    "            \n",
    "        return makejs\n"
   ]
  }
 ],
 "metadata": {
  "kernelspec": {
   "display_name": "Python 2",
   "language": "python",
   "name": "python2"
  },
  "language_info": {
   "codemirror_mode": {
    "name": "ipython",
    "version": 2
   },
   "file_extension": ".py",
   "mimetype": "text/x-python",
   "name": "python",
   "nbconvert_exporter": "python",
   "pygments_lexer": "ipython2",
   "version": "2.7.12"
  }
 },
 "nbformat": 4,
 "nbformat_minor": 2
}
