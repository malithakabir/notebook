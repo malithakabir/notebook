{
 "cells": [
  {
   "cell_type": "markdown",
   "metadata": {
    "deletable": true,
    "editable": true
   },
   "source": [
    "Opinion from Malitha regarding molecule editing: This notebook is actually hints on \"We may not need to change any codes from py3Dmol\".  <br>\n",
    "Reasons:<br>\n",
    "1) Putting viewer inside a pre defined container is possible through insert function (existing) <br>\n",
    "2) Updating visualization state is possible through update function (existing) <br>\n",
    "Problems:<br>\n",
    "1) During molecule editing, genetating a whole molecule is complicated. For example, we may need to add a Hydroxyl group in ligand. Open babel got a module named \"build\" that might come to use here which is able to create bond between two molecules and translate geometry of the 2nd molecule to make the resultant molecule looks realistic. \n"
   ]
  },
  {
   "cell_type": "code",
   "execution_count": 1,
   "metadata": {
    "collapsed": true,
    "deletable": true,
    "editable": true
   },
   "outputs": [],
   "source": [
    "import os\n",
    "import py3Dmol\n",
    "from rdkit import Chem\n",
    "from rdkit.Chem import AllChem\n",
    "from ipywidgets import interact, interactive, fixed\n",
    "import IPython.display\n",
    "import time, json\n",
    "from rdkit.Chem import rdmolfiles"
   ]
  },
  {
   "cell_type": "code",
   "execution_count": 2,
   "metadata": {
    "collapsed": true,
    "deletable": true,
    "editable": true
   },
   "outputs": [],
   "source": [
    "m = Chem.MolFromSmiles(r'COc1ccc2[nH]c([S@@+]([O-])Cc3ncc(C)c(OC)c3C)nc2c1') # esomeprazole\n",
    "m = Chem.AddHs(m)\n",
    "AllChem.EmbedMultipleConfs(m,numConfs=10)\n",
    "# align to one of the ring systems:\n",
    "AllChem.AlignMolConformers(m,m.GetSubstructMatch(Chem.MolFromSmarts('c1[nH]c2ccccc2n1')))\n"
   ]
  },
  {
   "cell_type": "code",
   "execution_count": 3,
   "metadata": {
    "collapsed": false,
    "deletable": true,
    "editable": true
   },
   "outputs": [],
   "source": [
    "mol=rdmolfiles.MolFromPDBFile('4i22_ligand.pdb')\n",
    "#Chem.MolToMolBlock(mol,confId=0)"
   ]
  },
  {
   "cell_type": "code",
   "execution_count": 4,
   "metadata": {
    "collapsed": false,
    "deletable": true,
    "editable": true
   },
   "outputs": [],
   "source": [
    "#mb = Chem.MolToMolBlock(m,confId=0)\n",
    "#mb=rdmolfiles.MolFromPDBFile('4i22_ligand.pdb')\n",
    "#print(mb)\n",
    "#m.GetNumConformers()"
   ]
  },
  {
   "cell_type": "code",
   "execution_count": null,
   "metadata": {
    "collapsed": false,
    "deletable": true,
    "editable": true
   },
   "outputs": [],
   "source": []
  },
  {
   "cell_type": "code",
   "execution_count": null,
   "metadata": {
    "collapsed": false,
    "deletable": true,
    "editable": true
   },
   "outputs": [],
   "source": []
  },
  {
   "cell_type": "code",
   "execution_count": 4,
   "metadata": {
    "collapsed": false,
    "deletable": true,
    "editable": true
   },
   "outputs": [
    {
     "data": {
      "text/html": [
       "<div id=\"fixed_container\"  style=\"position: relative; width: 320px; height: 260px\">\n"
      ],
      "text/plain": [
       "<IPython.core.display.HTML object>"
      ]
     },
     "execution_count": 4,
     "metadata": {},
     "output_type": "execute_result"
    }
   ],
   "source": [
    "divid = \"fixed_container\"\n",
    "width=320\n",
    "height=260\n",
    "startjs = '<div id=\"%s\"  style=\"position: relative; width: %dpx; height: %dpx\">\\n' % (divid,width,height)\n",
    "IPython.display.HTML(startjs)\n",
    "\n",
    "\n"
   ]
  },
  {
   "cell_type": "code",
   "execution_count": 5,
   "metadata": {
    "collapsed": false,
    "deletable": true,
    "editable": true
   },
   "outputs": [],
   "source": [
    "\n",
    "view = py3Dmol.view(width=320,height=260)\n"
   ]
  },
  {
   "cell_type": "code",
   "execution_count": 6,
   "metadata": {
    "collapsed": false,
    "deletable": true,
    "editable": true
   },
   "outputs": [
    {
     "data": {
      "text/html": [
       "<div id=\"3dmolviewer_149644310407\"  style=\"position: relative; width: 320px; height: 260px\">\n",
       "<script>\n",
       "if(typeof $3Dmolpromise === 'undefined') $3Dmolpromise = $.when($.getScript('https://3dmol.csb.pitt.edu/build/3Dmol.js'))\n",
       "var viewer_149644310407 = null;\n",
       "$3Dmolpromise.done(function() {\n",
       "viewer_149644310407 = $3Dmol.createViewer($(\"#3dmolviewer_149644310407\"),{backgroundColor:\"white\"});\n",
       "\tviewer_149644310407.addModel(\"\\n     RDKit          3D\\n\\n 31 34  0  0  0  0  0  0  0  0999 V2000\\n   14.9140  -20.5570    9.2090 C   0  0  0  0  0  0  0  0  0  0  0  0\\n   15.6980  -21.8390    9.5040 C   0  0  0  0  0  0  0  0  0  0  0  0\\n   17.0040  -21.5310   10.0240 O   0  0  0  0  0  0  0  0  0  0  0  0\\n   16.9590  -20.7910   11.2550 C   0  0  0  0  0  0  0  0  0  0  0  0\\n   16.2600  -19.4500   11.0360 C   0  0  0  0  0  0  0  0  0  0  0  0\\n   14.8640  -19.7180   10.4890 N   0  0  0  0  0  0  0  0  0  0  0  0\\n   14.0840  -18.4530   10.2470 C   0  0  0  0  0  0  0  0  0  0  0  0\\n   12.8560  -18.5790   11.1200 C   0  0  0  0  0  0  0  0  0  0  0  0\\n   11.8800  -17.4270   11.0590 C   0  0  0  0  0  0  0  0  0  0  0  0\\n   11.2960  -17.3300    9.7500 O   0  0  0  0  0  0  0  0  0  0  0  0\\n   10.3290  -16.3490    9.5610 C   0  0  0  0  0  0  0  0  0  0  0  0\\n    9.7500  -16.2600    8.2480 C   0  0  0  0  0  0  0  0  0  0  0  0\\n    8.7370  -15.2780    7.9990 C   0  0  0  0  0  0  0  0  0  0  0  0\\n   10.2370  -17.1660    7.3220 O   0  0  0  0  0  0  0  0  0  0  0  0\\n    9.7210  -17.1700    5.9910 C   0  0  0  0  0  0  0  0  0  0  0  0\\n    9.8780  -15.4610   10.5740 C   0  0  0  0  0  0  0  0  0  0  0  0\\n    8.8720  -14.4940   10.3180 C   0  0  0  0  0  0  0  0  0  0  0  0\\n    8.2930  -14.4030    9.0020 C   0  0  0  0  0  0  0  0  0  0  0  0\\n    7.3290  -13.5060    8.6960 N   0  0  0  0  0  0  0  0  0  0  0  0\\n    6.9220  -12.6860    9.6830 C   0  0  0  0  0  0  0  0  0  0  0  0\\n    7.3860  -12.6750   10.9510 N   0  0  0  0  0  0  0  0  0  0  0  0\\n    8.3690  -13.5820   11.2800 C   0  0  0  0  0  0  0  0  0  0  0  0\\n    8.8790  -13.6020   12.6130 N   0  0  0  0  0  0  0  0  0  0  0  0\\n    8.1970  -13.1210   13.7500 C   0  0  0  0  0  0  0  0  0  0  0  0\\n    6.7720  -13.2550   13.8770 C   0  0  0  0  0  0  0  0  0  0  0  0\\n    6.0990  -12.7630   15.0080 C   0  0  0  0  0  0  0  0  0  0  0  0\\n    4.3950  -12.9460   15.0980 Cl  0  0  0  0  0  0  0  0  0  0  0  0\\n    6.8350  -12.1280   16.0380 C   0  0  0  0  0  0  0  0  0  0  0  0\\n    6.2170  -11.6510   17.1200 F   0  0  0  0  0  0  0  0  0  0  0  0\\n    8.2420  -11.9850   15.9410 C   0  0  0  0  0  0  0  0  0  0  0  0\\n    8.9210  -12.4810   14.7970 C   0  0  0  0  0  0  0  0  0  0  0  0\\n 20 19  1  0\\n 20 21  1  0\\n 18 13  1  0\\n 18 17  1  0\\n 18 19  1  0\\n 17 16  1  0\\n 17 22  1  0\\n 22 21  1  0\\n 22 23  1  0\\n 15 14  1  0\\n 30 28  1  0\\n 30 31  1  0\\n 31 24  1  0\\n 25 24  1  0\\n 25 26  1  0\\n 13 12  1  0\\n 16 11  1  0\\n  8  7  1  0\\n  8  9  1  0\\n  9 10  1  0\\n  2  1  1  0\\n  2  3  1  0\\n  4  3  1  0\\n  4  5  1  0\\n  7  6  1  0\\n  1  6  1  0\\n  5  6  1  0\\n 28 26  1  0\\n 28 29  1  0\\n 26 27  1  0\\n 24 23  1  0\\n 12 11  1  0\\n 12 14  1  0\\n 11 10  1  0\\nM  END\\n\",\"sdf\");\n",
       "\tviewer_149644310407.setStyle({\"stick\": {}});\n",
       "\tviewer_149644310407.zoomTo();\n",
       "viewer_149644310407.render();\n",
       "});\n",
       "</script><script>$(\"#fixed_container\").append($(\"#3dmolviewer_149644310407\")); </script>"
      ],
      "text/plain": [
       "<IPython.core.display.HTML object>"
      ]
     },
     "execution_count": 6,
     "metadata": {},
     "output_type": "execute_result"
    }
   ],
   "source": [
    "mb=Chem.MolToMolBlock(mol,confId=0)\n",
    "view.addModel(mb,'sdf')\n",
    "view.setStyle({'stick':{}})\n",
    "view.zoomTo()\n",
    "view.insert('fixed_container')"
   ]
  },
  {
   "cell_type": "code",
   "execution_count": 7,
   "metadata": {
    "collapsed": false,
    "deletable": true,
    "editable": true
   },
   "outputs": [
    {
     "data": {
      "text/html": [
       "<script>\n",
       "            $3Dmolpromise.done(function() { //wrap in promise for non-interactive functionality\n",
       "                \tviewer_149644310407.addModel(\"\\n     RDKit          3D\\n\\n 43 45  0  0  0  0  0  0  0  0999 V2000\\n    6.9120    0.7055   -1.8006 C   0  0  0  0  0  0  0  0  0  0  0  0\\n    6.7947   -0.4182   -0.9398 O   0  0  0  0  0  0  0  0  0  0  0  0\\n    5.6902   -0.4586   -0.1121 C   0  0  0  0  0  0  0  0  0  0  0  0\\n    5.8539   -0.3667    1.2605 C   0  0  0  0  0  0  0  0  0  0  0  0\\n    4.8119   -0.8338    2.0414 C   0  0  0  0  0  0  0  0  0  0  0  0\\n    3.5073   -0.9170    1.5688 C   0  0  0  0  0  0  0  0  0  0  0  0\\n    2.3081   -0.7351    2.1748 N   0  0  0  0  0  0  0  0  0  0  0  0\\n    1.4069   -0.2376    1.3346 C   0  0  0  0  0  0  0  0  0  0  0  0\\n    0.0026    0.7960    1.6538 S   0  0  0  0  0  0  0  0  0  0  0  0\\n    0.0895    1.1109    3.3278 O   0  0  0  0  0  0  0  0  0  0  0  0\\n   -1.3937   -0.3391    1.5528 C   0  0  0  0  0  0  0  0  0  0  0  0\\n   -2.0154   -0.2876    0.1969 C   0  0  0  0  0  0  0  0  0  0  0  0\\n   -2.3409   -1.4581   -0.4046 N   0  0  0  0  0  0  0  0  0  0  0  0\\n   -3.4556   -1.5830   -1.1652 C   0  0  0  0  0  0  0  0  0  0  0  0\\n   -4.2088   -0.4777   -1.5383 C   0  0  0  0  0  0  0  0  0  0  0  0\\n   -5.1704   -0.5622   -2.6807 C   0  0  0  0  0  0  0  0  0  0  0  0\\n   -3.8255    0.7613   -1.0401 C   0  0  0  0  0  0  0  0  0  0  0  0\\n   -4.8255    1.7391   -1.0282 O   0  0  0  0  0  0  0  0  0  0  0  0\\n   -5.7838    1.6711    0.0232 C   0  0  0  0  0  0  0  0  0  0  0  0\\n   -2.8457    0.7984   -0.0546 C   0  0  0  0  0  0  0  0  0  0  0  0\\n   -2.2767    2.1335    0.2508 C   0  0  0  0  0  0  0  0  0  0  0  0\\n    1.9940   -0.2550    0.1170 N   0  0  0  0  0  0  0  0  0  0  0  0\\n    3.3010   -0.5875    0.2375 C   0  0  0  0  0  0  0  0  0  0  0  0\\n    4.3948   -0.4823   -0.6127 C   0  0  0  0  0  0  0  0  0  0  0  0\\n    6.0056    1.3358   -1.8066 H   0  0  0  0  0  0  0  0  0  0  0  0\\n    7.7772    1.3312   -1.4836 H   0  0  0  0  0  0  0  0  0  0  0  0\\n    7.0747    0.2984   -2.8276 H   0  0  0  0  0  0  0  0  0  0  0  0\\n    6.6899    0.2020    1.6677 H   0  0  0  0  0  0  0  0  0  0  0  0\\n    4.9844   -0.7846    3.1182 H   0  0  0  0  0  0  0  0  0  0  0  0\\n    2.1052   -0.8669    3.2003 H   0  0  0  0  0  0  0  0  0  0  0  0\\n   -2.1738   -0.0615    2.3068 H   0  0  0  0  0  0  0  0  0  0  0  0\\n   -1.0916   -1.3683    1.8060 H   0  0  0  0  0  0  0  0  0  0  0  0\\n   -3.7481   -2.5563   -1.5546 H   0  0  0  0  0  0  0  0  0  0  0  0\\n   -6.1117   -1.0614   -2.4001 H   0  0  0  0  0  0  0  0  0  0  0  0\\n   -5.3868    0.4758   -3.0351 H   0  0  0  0  0  0  0  0  0  0  0  0\\n   -4.7235   -1.1013   -3.5529 H   0  0  0  0  0  0  0  0  0  0  0  0\\n   -6.8194    1.7680   -0.3390 H   0  0  0  0  0  0  0  0  0  0  0  0\\n   -5.6065    2.4440    0.7964 H   0  0  0  0  0  0  0  0  0  0  0  0\\n   -5.7320    0.6853    0.5510 H   0  0  0  0  0  0  0  0  0  0  0  0\\n   -1.2937    2.2026   -0.2806 H   0  0  0  0  0  0  0  0  0  0  0  0\\n   -2.2039    2.3469    1.3262 H   0  0  0  0  0  0  0  0  0  0  0  0\\n   -2.8870    2.9655   -0.1842 H   0  0  0  0  0  0  0  0  0  0  0  0\\n    4.2158   -0.5299   -1.6712 H   0  0  0  0  0  0  0  0  0  0  0  0\\n  1  2  1  0\\n  2  3  1  0\\n  3  4  2  0\\n  4  5  1  0\\n  5  6  2  0\\n  6  7  1  0\\n  7  8  1  0\\n  9  8  1  6\\n  9 10  1  0\\n  9 11  1  0\\n 11 12  1  0\\n 12 13  2  0\\n 13 14  1  0\\n 14 15  2  0\\n 15 16  1  0\\n 15 17  1  0\\n 17 18  1  0\\n 18 19  1  0\\n 17 20  2  0\\n 20 21  1  0\\n  8 22  2  0\\n 22 23  1  0\\n 23 24  2  0\\n 24  3  1  0\\n 23  6  1  0\\n 20 12  1  0\\n  1 25  1  0\\n  1 26  1  0\\n  1 27  1  0\\n  4 28  1  0\\n  5 29  1  0\\n  7 30  1  0\\n 11 31  1  0\\n 11 32  1  0\\n 14 33  1  0\\n 16 34  1  0\\n 16 35  1  0\\n 16 36  1  0\\n 19 37  1  0\\n 19 38  1  0\\n 19 39  1  0\\n 21 40  1  0\\n 21 41  1  0\\n 21 42  1  0\\n 24 43  1  0\\nM  CHG  2   9   1  10  -1\\nM  END\\n\",\"sdf\");\n",
       "\tviewer_149644310407.setStyle({\"stick\": {}});\n",
       "\tviewer_149644310407.zoomTo();\n",
       "\n",
       "                viewer_149644310407.render();\n",
       "            });\n",
       "            </script>"
      ],
      "text/plain": [
       "<IPython.core.display.HTML object>"
      ]
     },
     "execution_count": 7,
     "metadata": {},
     "output_type": "execute_result"
    }
   ],
   "source": [
    "mb = Chem.MolToMolBlock(m,confId=0)\n",
    "view.addModel(mb,'sdf')\n",
    "view.setStyle({'stick':{}})\n",
    "view.zoomTo()\n",
    "view.update()"
   ]
  },
  {
   "cell_type": "code",
   "execution_count": 8,
   "metadata": {
    "collapsed": false,
    "deletable": true,
    "editable": true
   },
   "outputs": [
    {
     "data": {
      "text/html": [
       "<script>\n",
       "            $3Dmolpromise.done(function() { //wrap in promise for non-interactive functionality\n",
       "                \tviewer_149644310407.setBackgroundColor(\"0xeeeeee\");\n",
       "\n",
       "                viewer_149644310407.render();\n",
       "            });\n",
       "            </script>"
      ],
      "text/plain": [
       "<IPython.core.display.HTML object>"
      ]
     },
     "execution_count": 8,
     "metadata": {},
     "output_type": "execute_result"
    }
   ],
   "source": [
    "view.setBackgroundColor('0xeeeeee')\n",
    "view.update()"
   ]
  },
  {
   "cell_type": "code",
   "execution_count": 9,
   "metadata": {
    "collapsed": false,
    "deletable": true,
    "editable": true
   },
   "outputs": [],
   "source": [
    "#view.show()"
   ]
  },
  {
   "cell_type": "code",
   "execution_count": 10,
   "metadata": {
    "collapsed": false,
    "deletable": true,
    "editable": true
   },
   "outputs": [],
   "source": [
    "#drawMol3D(m,view=None,confId=-1,drawAs=None,bgColor=None,size=None)"
   ]
  },
  {
   "cell_type": "code",
   "execution_count": 11,
   "metadata": {
    "collapsed": true,
    "deletable": true,
    "editable": true
   },
   "outputs": [],
   "source": [
    "protein = open('4i22_protein.pdb','r').read()\n",
    "ligand = open('4i22_ligand.pdb','r').read()"
   ]
  },
  {
   "cell_type": "code",
   "execution_count": 12,
   "metadata": {
    "collapsed": false,
    "deletable": true,
    "editable": true
   },
   "outputs": [],
   "source": [
    "#The following approach fails to create individual representation of different model\n",
    "#p = view()\n",
    "#p.addModel(protein,'pdb')\n",
    "#p.setStyle({}, {'cartoon':{'color':\"spectrum\"}});\n",
    "#p.addModel(ligand,'pdb')\n",
    "#p.setStyle({'stick':{}})\n",
    "#p.show()"
   ]
  },
  {
   "cell_type": "code",
   "execution_count": null,
   "metadata": {
    "collapsed": false,
    "deletable": true,
    "editable": true
   },
   "outputs": [],
   "source": []
  },
  {
   "cell_type": "code",
   "execution_count": null,
   "metadata": {
    "collapsed": false,
    "deletable": true,
    "editable": true
   },
   "outputs": [],
   "source": []
  },
  {
   "cell_type": "code",
   "execution_count": null,
   "metadata": {
    "collapsed": false,
    "deletable": true,
    "editable": true
   },
   "outputs": [],
   "source": []
  },
  {
   "cell_type": "code",
   "execution_count": null,
   "metadata": {
    "collapsed": true,
    "deletable": true,
    "editable": true
   },
   "outputs": [],
   "source": []
  }
 ],
 "metadata": {
  "kernelspec": {
   "display_name": "Python 2",
   "language": "python",
   "name": "python2"
  },
  "language_info": {
   "codemirror_mode": {
    "name": "ipython",
    "version": 2
   },
   "file_extension": ".py",
   "mimetype": "text/x-python",
   "name": "python",
   "nbconvert_exporter": "python",
   "pygments_lexer": "ipython2",
   "version": "2.7.12"
  }
 },
 "nbformat": 4,
 "nbformat_minor": 2
}
