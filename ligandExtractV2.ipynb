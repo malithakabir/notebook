{
 "cells": [
  {
   "cell_type": "markdown",
   "metadata": {},
   "source": [
    "## Protocol: Ligand Extraction from PDB using RDKit\n",
    "#### To Do: Need to recover ligand geometry <br> Developed by Malitha Humayun Kabir as a part of GSoC 2017 under mentoring of Paul Czodrowski and Greg Landrum <br> Date: 6th July 2017"
   ]
  },
  {
   "cell_type": "code",
   "execution_count": 1,
   "metadata": {
    "collapsed": true
   },
   "outputs": [],
   "source": [
    "from rdkit import Chem\n",
    "from rdkit.Chem import AllChem\n",
    "import py3Dmol"
   ]
  },
  {
   "cell_type": "markdown",
   "metadata": {},
   "source": [
    "## Reading PDB file from local directory"
   ]
  },
  {
   "cell_type": "code",
   "execution_count": 2,
   "metadata": {},
   "outputs": [
    {
     "data": {
      "text/plain": [
       "False"
      ]
     },
     "execution_count": 2,
     "metadata": {},
     "output_type": "execute_result"
    }
   ],
   "source": [
    "pdb = Chem.MolFromPDBFile('1K74.pdb')\n",
    "pdb is None"
   ]
  },
  {
   "cell_type": "code",
   "execution_count": 3,
   "metadata": {},
   "outputs": [
    {
     "name": "stdout",
     "output_type": "stream",
     "text": [
      "parent obj atoms: 4405\n"
     ]
    }
   ],
   "source": [
    "print 'parent obj atoms: ' + str(globals()['pdb'].GetNumAtoms())"
   ]
  },
  {
   "cell_type": "markdown",
   "metadata": {
    "collapsed": true
   },
   "source": [
    "## Get atom details"
   ]
  },
  {
   "cell_type": "code",
   "execution_count": 4,
   "metadata": {
    "collapsed": true
   },
   "outputs": [],
   "source": [
    "def makeDictOfAtomDetails(id_list, atom):\n",
    "    \n",
    "    if id_list.has_key('AtomIdx') is False:\n",
    "        id_list['AtomIdx']=[atom.GetIdx()]\n",
    "    else:\n",
    "        id_list['AtomIdx'].append(atom.GetIdx())\n",
    "    \n",
    "    if id_list.has_key('AtomSerialNumber') is False:\n",
    "        id_list['AtomSerialNumber']=[atom.GetPDBResidueInfo().GetSerialNumber()]\n",
    "    else:\n",
    "        id_list['AtomSerialNumber'].append(atom.GetPDBResidueInfo().GetSerialNumber())\n",
    "    \n",
    "    if id_list.has_key('ResidueName') is False:\n",
    "        id_list['ResidueName']=[atom.GetPDBResidueInfo().GetResidueName()]\n",
    "    else:\n",
    "        id_list['ResidueName'].append(atom.GetPDBResidueInfo().GetResidueName())\n",
    "    \n",
    "    if id_list.has_key('ResidueNumber') is False:\n",
    "        id_list['ResidueNumber']=[atom.GetPDBResidueInfo().GetResidueNumber()]\n",
    "    else:\n",
    "        id_list['ResidueNumber'].append(atom.GetPDBResidueInfo().GetResidueNumber())\n",
    "    \n",
    "    if id_list.has_key('Symbol') is False:\n",
    "        id_list['Symbol']=[atom.GetSymbol()]\n",
    "    else:\n",
    "        id_list['Symbol'].append(atom.GetSymbol())\n",
    "        \n",
    "    return id_list\n",
    "\n",
    "def GetAtomDetailsByResidue(Mol, \n",
    "                            ResidueName = None, \n",
    "                            ResidueNumber = None,\n",
    "                            AtomSerialNumber = None\n",
    "                           ):\n",
    "    \n",
    "    var_list=[ResidueName, ResidueNumber,AtomSerialNumber]\n",
    "    if any([item is not None for item in var_list]):\n",
    "        var_list_status=[item is not None for item in var_list].count(True)\n",
    "    else:\n",
    "        var_list_status=0\n",
    "    \n",
    "    if var_list_status != 1:\n",
    "        return 'please provide either ResidueName or ResidueNumber  or a list of AtomSerialNumber'\n",
    "    \n",
    "    id_list=dict()\n",
    "    \n",
    "    for Idx in range(Mol.GetNumAtoms()-1):\n",
    "        atom=Mol.GetAtomWithIdx(Idx)\n",
    "        # If ResidueName matches with user supplied ResidueName\n",
    "        if ResidueName is not None:\n",
    "            if atom.GetPDBResidueInfo().GetResidueName() == ResidueName:\n",
    "                id_list=makeDictOfAtomDetails(id_list,atom)\n",
    "        if ResidueNumber is not None:\n",
    "            if atom.GetPDBResidueInfo().GetResidueNumber() == ResidueNumber:\n",
    "                id_list=makeDictOfAtomDetails(id_list,atom)\n",
    "        if AtomSerialNumber is not None:\n",
    "            if atom.GetPDBResidueInfo().GetSerialNumber() in AtomSerialNumber:\n",
    "                id_list=makeDictOfAtomDetails(id_list,atom)\n",
    "                \n",
    "    return id_list"
   ]
  },
  {
   "cell_type": "markdown",
   "metadata": {},
   "source": [
    "## Checking Script"
   ]
  },
  {
   "cell_type": "code",
   "execution_count": 5,
   "metadata": {},
   "outputs": [
    {
     "name": "stdout",
     "output_type": "stream",
     "text": [
      "please provide either ResidueName or ResidueNumber  or a list of AtomSerialNumber\n",
      "please provide either ResidueName or ResidueNumber  or a list of AtomSerialNumber\n",
      "please provide either ResidueName or ResidueNumber  or a list of AtomSerialNumber\n",
      "{'AtomSerialNumber': [4142, 4143, 4144, 4145], 'ResidueName': ['9CR', '9CR', '9CR', '9CR'], 'Symbol': ['C', 'C', 'C', 'C'], 'AtomIdx': [4137, 4138, 4139, 4140], 'ResidueNumber': [463, 463, 463, 463]}\n"
     ]
    }
   ],
   "source": [
    "print GetAtomDetailsByResidue(pdb)\n",
    "print GetAtomDetailsByResidue(pdb, ResidueName='9CR', ResidueNumber=463)\n",
    "print GetAtomDetailsByResidue(pdb, ResidueName='9CR', ResidueNumber=463, AtomSerialNumber=[4142, 4143, 4144, 4145])\n",
    "print GetAtomDetailsByResidue(pdb, AtomSerialNumber=[4142, 4143, 4144, 4145])"
   ]
  },
  {
   "cell_type": "markdown",
   "metadata": {},
   "source": [
    "## Getting Idx by residue name .... getting id by residue number is also possible!"
   ]
  },
  {
   "cell_type": "code",
   "execution_count": 6,
   "metadata": {},
   "outputs": [
    {
     "name": "stdout",
     "output_type": "stream",
     "text": [
      "AtomSerialNumber\n",
      "[4142, 4143, 4144, 4145, 4146, 4147, 4148, 4149, 4150, 4151, 4152, 4153, 4154, 4155, 4156, 4157, 4158, 4159, 4160, 4161, 4162, 4163]\n",
      "ResidueName\n",
      "['9CR', '9CR', '9CR', '9CR', '9CR', '9CR', '9CR', '9CR', '9CR', '9CR', '9CR', '9CR', '9CR', '9CR', '9CR', '9CR', '9CR', '9CR', '9CR', '9CR', '9CR', '9CR']\n",
      "Symbol\n",
      "['C', 'C', 'C', 'C', 'C', 'C', 'C', 'C', 'C', 'C', 'C', 'C', 'C', 'C', 'C', 'C', 'C', 'C', 'C', 'C', 'O', 'O']\n",
      "AtomIdx\n",
      "[4137, 4138, 4139, 4140, 4141, 4142, 4143, 4144, 4145, 4146, 4147, 4148, 4149, 4150, 4151, 4152, 4153, 4154, 4155, 4156, 4157, 4158]\n",
      "ResidueNumber\n",
      "[463, 463, 463, 463, 463, 463, 463, 463, 463, 463, 463, 463, 463, 463, 463, 463, 463, 463, 463, 463, 463, 463]\n"
     ]
    }
   ],
   "source": [
    "id_list=GetAtomDetailsByResidue(pdb, ResidueName='9CR')\n",
    "for i in id_list.keys():\n",
    "    print i\n",
    "    print id_list[i]"
   ]
  },
  {
   "cell_type": "markdown",
   "metadata": {},
   "source": [
    "## This is very very suspicious! It needs appropriate attention!"
   ]
  },
  {
   "cell_type": "code",
   "execution_count": 7,
   "metadata": {},
   "outputs": [
    {
     "name": "stdout",
     "output_type": "stream",
     "text": [
      "AtomSerialNumber\n",
      "[3793, 3794, 3795, 3796, 3797, 3798, 3799, 3800, 4142, 4143, 4144, 4145, 4146, 4147, 4148, 4149, 4150, 4151, 4152, 4153, 4154, 4155, 4156, 4157, 4158, 4159, 4160, 4161, 4162, 4163]\n",
      "ResidueName\n",
      "['MET', 'MET', 'MET', 'MET', 'MET', 'MET', 'MET', 'MET', '9CR', '9CR', '9CR', '9CR', '9CR', '9CR', '9CR', '9CR', '9CR', '9CR', '9CR', '9CR', '9CR', '9CR', '9CR', '9CR', '9CR', '9CR', '9CR', '9CR', '9CR', '9CR']\n",
      "Symbol\n",
      "['N', 'C', 'C', 'O', 'C', 'C', 'S', 'C', 'C', 'C', 'C', 'C', 'C', 'C', 'C', 'C', 'C', 'C', 'C', 'C', 'C', 'C', 'C', 'C', 'C', 'C', 'C', 'C', 'O', 'O']\n",
      "AtomIdx\n",
      "[3791, 3792, 3793, 3794, 3795, 3796, 3797, 3798, 4137, 4138, 4139, 4140, 4141, 4142, 4143, 4144, 4145, 4146, 4147, 4148, 4149, 4150, 4151, 4152, 4153, 4154, 4155, 4156, 4157, 4158]\n",
      "ResidueNumber\n",
      "[463, 463, 463, 463, 463, 463, 463, 463, 463, 463, 463, 463, 463, 463, 463, 463, 463, 463, 463, 463, 463, 463, 463, 463, 463, 463, 463, 463, 463, 463]\n"
     ]
    }
   ],
   "source": [
    "id_list=GetAtomDetailsByResidue(pdb, ResidueNumber=463)\n",
    "for i in id_list.keys():\n",
    "    print i\n",
    "    print id_list[i]"
   ]
  },
  {
   "cell_type": "markdown",
   "metadata": {
    "collapsed": true
   },
   "source": [
    "## Required functions to create new molecule from Mol object and Idx"
   ]
  },
  {
   "cell_type": "code",
   "execution_count": 8,
   "metadata": {
    "collapsed": true
   },
   "outputs": [],
   "source": [
    "\n",
    "def createBondTreeIncludingAtomObj(Mol, atomIdx_local_2):\n",
    "    \n",
    "    i = None;\n",
    "    atomWithNeighborsFull = list()\n",
    "    \n",
    "    for i in range(len(atomIdx_local_2)):\n",
    "        \n",
    "        neigbors=list()\n",
    "        bondType=list()\n",
    "        neighborsUpdated=list()\n",
    "        bondTypeUpdated=list()\n",
    "        atomWithNeighborsSingle = list()\n",
    "        \n",
    "        atomIdx_selected=atomIdx_local_2[i]\n",
    "        \n",
    "        # Getting atom\n",
    "        atom=Mol.GetAtomWithIdx(atomIdx_selected)\n",
    "        \n",
    "        #print 'Selected atom for tree : ' + atom.GetSymbol() \\\n",
    "        #+ ' here atom idx = ' + str(atomIdx_selected)\n",
    "        # Getting bonds\n",
    "        bonds=atom.GetBonds()\n",
    "        # Making list of bonds\n",
    "        for j in range(bonds.__len__()):\n",
    "            \n",
    "            BeginAtomIdx=bonds.__getitem__(j).GetBeginAtomIdx()\n",
    "            EndAtomIdx=bonds.__getitem__(j).GetEndAtomIdx()\n",
    "            bondTypeAssg=bonds.__getitem__(j).GetBondType()\n",
    "            \n",
    "            if BeginAtomIdx != atomIdx_selected:\n",
    "                neigbors.append(BeginAtomIdx)\n",
    "                bondType.append(bondTypeAssg)\n",
    "            if EndAtomIdx != atomIdx_selected:\n",
    "                neigbors.append(EndAtomIdx)\n",
    "                bondType.append(bondTypeAssg)\n",
    "        # here we do NOT include any neighbor if that neighbor is not in user supplied idx\n",
    "        # Effective for amino acid residue\n",
    "        # For small molecule, it works fine\n",
    "        # Not sure about ions\n",
    "        for k in range(len(neigbors)):\n",
    "            if neigbors[k] in atomIdx_local_2:\n",
    "                neighborsUpdated.append(neigbors[k])\n",
    "                bondTypeUpdated.append(bondType[k])\n",
    "        # Adding Idx\n",
    "        atomWithNeighborsSingle.append(atomIdx_selected)\n",
    "        # Adding neighbors\n",
    "        atomWithNeighborsSingle.append(neighborsUpdated)\n",
    "        # Adding atoms\n",
    "        atomWithNeighborsSingle.append(atom)\n",
    "        # Adding bondType\n",
    "        atomWithNeighborsSingle.append(bondTypeUpdated)\n",
    "        \n",
    "        atomWithNeighborsFull.append(atomWithNeighborsSingle)\n",
    "    return atomWithNeighborsFull\n",
    "\n",
    "\n",
    "def updateBTreeWithNewIdx(btree):\n",
    "    idxDict=dict()\n",
    "    i = None;\n",
    "    for i in range(len(btree)):\n",
    "        idxDict.update({btree[i][0] : i})\n",
    "        \n",
    "    i = None;\n",
    "    for i in btree:\n",
    "        i[0]=idxDict[i[0]]\n",
    "        for j in range(len(i[1])):\n",
    "            i[1][j]=idxDict[i[1][j]]\n",
    "            \n",
    "    return btree\n",
    "\n",
    "def createBondDetails(btreeClone):\n",
    "    i = None;\n",
    "    j = None;\n",
    "    bondDetails=list()\n",
    "    for i in range(len(btreeClone)):\n",
    "        stAtm=btreeClone[i][0]\n",
    "        endAtmList=btreeClone[i][1]\n",
    "        bondList=btreeClone[i][3]\n",
    "        for j in range(len(endAtmList)):\n",
    "            # the end atom idx must be higer than starting atom since this bond input already done!\n",
    "            if endAtmList[j]>stAtm:\n",
    "                bondDetails.append([stAtm,endAtmList[j], bondList[j]])\n",
    "    return bondDetails\n",
    "\n",
    "def createMoleculeFromIdx(pdb, atomIdx):\n",
    "    \n",
    "    # Create new molecule fragment\n",
    "    btree=createBondTreeIncludingAtomObj(pdb, atomIdx_local_2=atomIdx)\n",
    "    btreeClone=updateBTreeWithNewIdx(btree)\n",
    "    \n",
    "    atomList=[x[2] for x in btreeClone]\n",
    "    bondDetails=createBondDetails(btreeClone)\n",
    "    \n",
    "    frag=Chem.RWMol()\n",
    "    atom = None;\n",
    "    for atom in atomList:\n",
    "        #print 'adding atom: '+atom.GetSymbol()\n",
    "        frag.AddAtom(atom)\n",
    "    \n",
    "    i = None;\n",
    "    for i in bondDetails:\n",
    "        frag.AddBond(beginAtomIdx=i[0],endAtomIdx=i[1])\n",
    "    \n",
    "    mol=Chem.Mol(frag)\n",
    "    for bIdx in range(mol.GetNumBonds()):\n",
    "        b=mol.GetBondWithIdx(bIdx)\n",
    "        b.SetBondType(bondDetails[bIdx][2])\n",
    "        \n",
    "    AllChem.EmbedMolecule(mol,AllChem.ETKDG())\n",
    "    \n",
    "    return mol"
   ]
  },
  {
   "cell_type": "markdown",
   "metadata": {},
   "source": [
    "## Required functions to delete atoms from Mol object"
   ]
  },
  {
   "cell_type": "code",
   "execution_count": 9,
   "metadata": {
    "collapsed": true
   },
   "outputs": [],
   "source": [
    "def deleteAtomsFromMolecule(Mol, atomIdx):\n",
    "    Mol_2=Chem.RWMol(Mol)\n",
    "    EditMol = True;\n",
    "    i = 0\n",
    "    while (EditMol == True):\n",
    "        if i > len(atomIdx)-1:\n",
    "            EditMol = False;\n",
    "        else:\n",
    "            if i==0:\n",
    "                atomIdxSelected=atomIdx[i]\n",
    "            else:\n",
    "                atomIdxSelected=atomIdx[i]-1\n",
    "                \n",
    "            Mol_2.RemoveAtom(atomIdxSelected)\n",
    "            i = i + 1\n",
    "            #print 'parent obj atoms: ' + str(globals()['pdb'].GetNumAtoms())\n",
    "            \n",
    "    return Mol_2.GetMol()\n",
    "    "
   ]
  },
  {
   "cell_type": "markdown",
   "metadata": {},
   "source": [
    "## Required functions to extract molecule from Mol object (PDB)"
   ]
  },
  {
   "cell_type": "code",
   "execution_count": 10,
   "metadata": {
    "collapsed": true
   },
   "outputs": [],
   "source": [
    "def ExtractMoleculeFragment(Mol, atomIdx):\n",
    "    \n",
    "    # Remove atoms from supplied molecule expectedly protein\n",
    "    EditedMol = deleteAtomsFromMolecule(Mol, atomIdx=atomIdx)\n",
    "    \n",
    "    # Create molecule from supplied Idx expectedly ligand\n",
    "    NewMol=createMoleculeFromIdx(Mol, atomIdx=atomIdx)\n",
    "    \n",
    "    return {'SuppliedMol':Mol, 'EditedMol':EditedMol, 'NewMol':NewMol}"
   ]
  },
  {
   "cell_type": "markdown",
   "metadata": {},
   "source": [
    "## Here we start ligand extration system"
   ]
  },
  {
   "cell_type": "code",
   "execution_count": 11,
   "metadata": {},
   "outputs": [
    {
     "name": "stdout",
     "output_type": "stream",
     "text": [
      "[4137, 4138, 4139, 4140, 4141, 4142, 4143, 4144, 4145, 4146, 4147, 4148, 4149, 4150, 4151, 4152, 4153, 4154, 4155, 4156, 4157, 4158]\n"
     ]
    }
   ],
   "source": [
    "id_list=GetAtomDetailsByResidue(pdb, ResidueName='9CR')\n",
    "id_list_2=id_list['AtomIdx']\n",
    "print id_list_2"
   ]
  },
  {
   "cell_type": "code",
   "execution_count": 12,
   "metadata": {},
   "outputs": [
    {
     "data": {
      "text/plain": [
       "{'EditedMol': <rdkit.Chem.rdchem.Mol at 0x7fd33017fd00>,\n",
       " 'NewMol': <rdkit.Chem.rdchem.Mol at 0x7fd330140db8>,\n",
       " 'SuppliedMol': <rdkit.Chem.rdchem.Mol at 0x7fd33017f6e0>}"
      ]
     },
     "execution_count": 12,
     "metadata": {},
     "output_type": "execute_result"
    }
   ],
   "source": [
    "frag=ExtractMoleculeFragment(pdb, id_list_2)\n",
    "frag"
   ]
  },
  {
   "cell_type": "markdown",
   "metadata": {},
   "source": [
    "## Checking atom numbers"
   ]
  },
  {
   "cell_type": "code",
   "execution_count": 13,
   "metadata": {},
   "outputs": [
    {
     "name": "stdout",
     "output_type": "stream",
     "text": [
      "user supplied mol: 4405\n",
      "mol after atoms removed: 4383\n",
      "newly created mol: 22\n"
     ]
    }
   ],
   "source": [
    "print 'user supplied mol: ' + str(frag['SuppliedMol'].GetNumAtoms())\n",
    "print 'mol after atoms removed: ' + str(frag['EditedMol'].GetNumAtoms())\n",
    "print 'newly created mol: ' + str(frag['NewMol'].GetNumAtoms())"
   ]
  },
  {
   "cell_type": "code",
   "execution_count": 14,
   "metadata": {
    "collapsed": true
   },
   "outputs": [],
   "source": [
    "#p=py3Dmol.view()\n",
    "#p.setBackgroundColor('black')\n",
    "#p.show()"
   ]
  },
  {
   "cell_type": "code",
   "execution_count": 15,
   "metadata": {
    "collapsed": true
   },
   "outputs": [],
   "source": [
    "#p.addModel(Chem.MolToMolBlock()"
   ]
  },
  {
   "cell_type": "code",
   "execution_count": null,
   "metadata": {
    "collapsed": true
   },
   "outputs": [],
   "source": []
  }
 ],
 "metadata": {
  "kernelspec": {
   "display_name": "Python 2",
   "language": "python",
   "name": "python2"
  },
  "language_info": {
   "codemirror_mode": {
    "name": "ipython",
    "version": 2
   },
   "file_extension": ".py",
   "mimetype": "text/x-python",
   "name": "python",
   "nbconvert_exporter": "python",
   "pygments_lexer": "ipython2",
   "version": "2.7.13"
  }
 },
 "nbformat": 4,
 "nbformat_minor": 2
}
