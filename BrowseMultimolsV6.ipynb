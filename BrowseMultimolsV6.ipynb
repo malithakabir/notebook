{
 "cells": [
  {
   "cell_type": "markdown",
   "metadata": {},
   "source": [
    "# Conformer Browsing Widget\n",
    "# This will NOT work for multiple browseMolConformers()\n",
    "# In a single Notebook widget rendered by most recent browseMolConformers() function will work...The previous one will NOT work.\n",
    "## Derived from Gerg's code by Malitha\n",
    "### Date: 29th June 2017"
   ]
  },
  {
   "cell_type": "code",
   "execution_count": 1,
   "metadata": {
    "collapsed": true
   },
   "outputs": [],
   "source": [
    "import py3Dmol\n",
    "from rdkit import Chem\n",
    "from rdkit.Chem import AllChem\n",
    "from rdkit.Chem import Descriptors\n",
    "from ipywidgets import interact, interactive, fixed\n",
    "import ipywidgets as widgets"
   ]
  },
  {
   "cell_type": "code",
   "execution_count": 2,
   "metadata": {
    "collapsed": true
   },
   "outputs": [],
   "source": [
    "\n",
    "molSize_3d = (400, 400)\n",
    "bgcolor_3d = '0xeeeeee'\n",
    "\n",
    " "
   ]
  },
  {
   "cell_type": "code",
   "execution_count": 3,
   "metadata": {
    "collapsed": true
   },
   "outputs": [],
   "source": [
    "# obj ms will have no pre calculated propery\n",
    "data = [('m1','COc1ccc2[nH]c([S@@+]([O-])Cc3ncc(C)c(OC)c3C)nc2c1'),\n",
    "       ('m2','COc1ccc2[nH]c([S@+]([O-])Cc3ncc(C)c(OC)c3C)nc2c1'),\n",
    "       ('m3','COc1ccc2[nH]c([S+]([O-])Cc3ncc(C)c(OC)c3C)nc2c1'),\n",
    "       ('m4','CCOc1ccc2[nH]c([S@@+]([O-])Cc3ncc(C)c(OCCC)c3C)nc2c1')]\n",
    "ms = [(x,Chem.AddHs(Chem.MolFromSmiles(y))) for x,y in data]\n",
    "params = AllChem.ETKDG()\n",
    "params.numThreads=3\n",
    "for nm,m in ms:\n",
    "    AllChem.EmbedMultipleConfs(m,numConfs=10,params=params)\n",
    "    # align to one of the ring systems:\n",
    "    AllChem.AlignMolConformers(m,m.GetSubstructMatch(Chem.MolFromSmarts('c1[nH]c2ccccc2n1')))\n"
   ]
  },
  {
   "cell_type": "code",
   "execution_count": null,
   "metadata": {
    "collapsed": true
   },
   "outputs": [],
   "source": []
  },
  {
   "cell_type": "code",
   "execution_count": 4,
   "metadata": {
    "collapsed": true
   },
   "outputs": [],
   "source": [
    "# obj ms2 will have some pre calculated properties\n",
    "from rdkit import Chem\n",
    "from rdkit.Chem import AllChem\n",
    "from six.moves import urllib\n",
    "url = 'https://github.com/rdkit/rdkit/raw/master/Docs/Book/data/cdk2.sdf'\n",
    "response = urllib.request.urlopen(url)\n",
    "data = response.read()\n",
    "suppl = Chem.SDMolSupplier()\n",
    "suppl.SetData(data)\n",
    "ms2=[mol for mol in suppl]\n",
    "params = AllChem.ETKDG()\n",
    "params.numThreads=3\n",
    "for m in ms2:\n",
    "    AllChem.EmbedMultipleConfs(m,numConfs=10,params=params)"
   ]
  },
  {
   "cell_type": "code",
   "execution_count": 5,
   "metadata": {
    "collapsed": true
   },
   "outputs": [],
   "source": [
    "\n",
    "def startViewer(size=None,bgcolor=None):\n",
    "    if size is None:\n",
    "        size=molSize_3d\n",
    "    if bgcolor is None:\n",
    "        bgcolor=bgcolor_3d\n",
    "    view = py3Dmol.view(width=size[0],height=size[1])\n",
    "    view.setBackgroundColor(bgcolor)\n",
    "    return view\n",
    "\n",
    "\n",
    "def processSuppliedMolFor3DViewer(ms):\n",
    "    \n",
    "    try:\n",
    "        # list of tuple (name + mol obj) # dict key possible\n",
    "        # ms = [('m1', <rdkit.Chem.rdchem.Mol at 0x7246d88>),\n",
    "        # ('m2', <rdkit.Chem.rdchem.Mol at 0x7246ea0>),\n",
    "        # ('m3', <rdkit.Chem.rdchem.Mol at 0x7246ed8>),\n",
    "        # ('m4', <rdkit.Chem.rdchem.Mol at 0x7246f10>)]\n",
    "        moldict = dict(ms)\n",
    "        \n",
    "    except TypeError:\n",
    "        \n",
    "        if type(ms) is tuple:\n",
    "            # Not list single tuple (name + mol obj) # dict key possible\n",
    "            # ms = ('m1', <rdkit.Chem.rdchem.Mol at 0x7246d88>)\n",
    "            moldict=list()\n",
    "            moldict.append(ms)\n",
    "            moldict = dict(moldict)\n",
    "        elif hasattr(ms, '__iter__') is False:\n",
    "            # rdkit.Chem.rdchem.Mol\n",
    "            # Not list... mol obj only ... no name... no dict key possible from such list...\n",
    "            # So, generate dict key\n",
    "            # ms = <rdkit.Chem.rdchem.Mol object at 0x07246D88>\n",
    "            moldict=list()\n",
    "            moldict.append(('m0', ms))\n",
    "            moldict = dict(moldict)\n",
    "        elif type(ms) is list:\n",
    "            # list of mol obj only ... no name... no dict key possible from such list...\n",
    "            # So, generate dict key\n",
    "            # ms = [<rdkit.Chem.rdchem.Mol at 0x7246d88>,\n",
    "            # <rdkit.Chem.rdchem.Mol at 0x7246ea0>,\n",
    "            # <rdkit.Chem.rdchem.Mol at 0x7246ed8>,\n",
    "            # <rdkit.Chem.rdchem.Mol at 0x7246f10>]\n",
    "            ms_name=['m'+str(x) for x in range(len(ms))]\n",
    "            ms2=[(ms_name[i],ms[i]) for i in range(len(ms))]\n",
    "            moldict = dict(ms2)\n",
    "    return moldict\n",
    "    \n",
    "def addMolToViewForScrolling(# fixed objects\n",
    "                             molecule_obj_list, \n",
    "                             view,\n",
    "                             # property viewer\n",
    "                             property_view_existing,\n",
    "                             property_view_rdkit_offered,\n",
    "                             # molecule and conformer selector\n",
    "                             molecule_select,\n",
    "                             confId,\n",
    "                             # value from property select dropdown\n",
    "                             existing_descriptors,\n",
    "                             rdkit_offered_descriptors,\n",
    "                             # 3DMol.js viewer related stuffs Dropdowm\n",
    "                             useDrawAs,\n",
    "                             drawAs,\n",
    "                             molColorScheme,\n",
    "                             # value from labeling checkbox True/False\n",
    "                             showConfLabel,\n",
    "                             showAtomLabel\n",
    "                            ):\n",
    "    \n",
    "    #\n",
    "    # Two widgets got NO effect those are just to view \n",
    "    # property_view_existing, property_view_rdkit_offered\n",
    "    # \n",
    "    # existing_descriptors is for getting the selected value from dropdown\n",
    "    # existing_descriptors_dropdown is handled as global object\n",
    "    # \n",
    "    \n",
    "    \n",
    "    #### Molecule and conformer selection chunk\n",
    "    \n",
    "    # Get mol from supplied list object\n",
    "    mol = molecule_obj_list[molecule_select]\n",
    "    # For conformers\n",
    "    conf_selected=mol.GetConformer(confId)\n",
    "    xyz=conf_selected.GetPositions()\n",
    "    # For owning Mol\n",
    "    OwningMol=conf_selected.GetOwningMol()\n",
    "    \n",
    "    \n",
    "    #### Descriptor handling chunkGetting descriptors\n",
    "    \n",
    "    # Get available properties and update dropdown widget \n",
    "    available_properties=list(OwningMol.GetPropNames())\n",
    "    \n",
    "    if len(available_properties)>0:\n",
    "        # update dropdown with existing properties\n",
    "        global existing_descriptors_dropdown\n",
    "        existing_descriptors_dropdown.options=available_properties\n",
    "\n",
    "        # Get selected property name and associated value\n",
    "        des_name_existing=existing_descriptors_dropdown.value\n",
    "        des_val_existing=OwningMol.GetProp(des_name_existing)\n",
    "\n",
    "        # Update viewer for existing descriptor with selected property name and value\n",
    "        global existing_descriptors_viewer\n",
    "        existing_descriptors_viewer.value='Existing descriptor: ' + \\\n",
    "                                            des_name_existing + \\\n",
    "                                            ': ' + \\\n",
    "                                            str(des_val_existing)\n",
    "    \n",
    "    #\n",
    "    #\n",
    "    # Update viewer for rdkit offered descriptor with selected property name and value\n",
    "    # This is real time calculation\n",
    "    #\n",
    "    # Descriptor calculation schema eval(\"Descriptors.TPSA(OwningMol)\")\n",
    "    # In above line descriptor_list is TPSA\n",
    "    #\n",
    "    des_cmd=\"Descriptors.\"+rdkit_offered_descriptors+\"(OwningMol)\"\n",
    "    global rdkit_offered_descriptors_viewer\n",
    "    rdkit_offered_descriptors_viewer.value='RDKit offered descriptor: ' + \\\n",
    "                                            rdkit_offered_descriptors+\\\n",
    "                                            ': '+\\\n",
    "                                            str(eval(des_cmd))\n",
    "    \n",
    "    \n",
    "    ##### 3Dmol.js viewer realated stuffs below\n",
    "    \n",
    "    #\n",
    "    # Clearing previous 3Dmol objects withoiut resetting view\n",
    "    #\n",
    "    view.removeAllModels()\n",
    "    view.removeAllSurfaces()\n",
    "    view.removeAllLabels()\n",
    "    \n",
    "    #\n",
    "    #### Adding model to viewer\n",
    "    #\n",
    "    if mol.GetNumAtoms()>=999 or drawAs == 'cartoon':\n",
    "        # py3DMol is happier with TER and MASTER records present\n",
    "        pdb = Chem.MolToPDBBlock(mol,flavor=0x20|0x10)\n",
    "        view.addModel(pdb,'pdb')\n",
    "    else:\n",
    "        # py3Dmol does not currently support v3k mol files, so\n",
    "        # we can only provide those with \"smaller\" molecules\n",
    "        mb = Chem.MolToMolBlock(mol,confId=confId)\n",
    "        view.addModel(mb,'sdf')\n",
    "        \n",
    "    #\n",
    "    #### Making decision about model rendering style and color\n",
    "    #\n",
    "    global myGlobalStyle \n",
    "    \n",
    "    if useDrawAs is False:\n",
    "        #use from globalStyle\n",
    "        view.setStyle({},{myGlobalStyle:{'colorscheme': molColorScheme}})\n",
    "    else:\n",
    "        #update global style and use that\n",
    "        myGlobalStyle = drawAs\n",
    "        view.setStyle({},{myGlobalStyle:{'colorscheme': molColorScheme}})\n",
    "    \n",
    "    #\n",
    "    # This is exception for surface\n",
    "    #\n",
    "    if drawAs is 'surface':\n",
    "        view.addSurface({}, '$3Dmol.SurfaceType.VDW');\n",
    "        \n",
    "    if drawAs is 'ballstick':\n",
    "        view.setStyle({},{'stick':{'radius':'0.2','colorscheme': molColorScheme},\n",
    "                          'sphere':{'radius':'0.4', 'colorscheme': molColorScheme}}\n",
    "                     );\n",
    "    \n",
    "    #\n",
    "    # Labeling conformer\n",
    "    #\n",
    "    if showConfLabel is True:\n",
    "        label=molecule_select+':'+str(confId)\n",
    "        view.addLabel(label, {'backgroundColor':'gray', 'fontColor':'white',\n",
    "                              'showBackground':'true', 'alignment':'bottomCenter'})\n",
    "    \n",
    "    #\n",
    "    # Labeling atom\n",
    "    #\n",
    "    if showAtomLabel is True:\n",
    "        \n",
    "        label_create=[OwningMol.GetAtomWithIdx(i).GetSymbol()+\n",
    "                      str(OwningMol.GetAtomWithIdx(i).GetIdx()+1) \n",
    "                      for i in range(conf_selected.GetNumAtoms())\n",
    "                     ]\n",
    "        \n",
    "        i = None\n",
    "        for i in range(conf_selected.GetNumAtoms()):\n",
    "            view.addLabel(label_create[i], {'inFront' : 'false', \n",
    "                                            'fontSize' : '12',\n",
    "                                            'fontColor':'gray',\n",
    "                                            'showBackground':'false',\n",
    "                                            'position' : {'x' : xyz[i][0],\n",
    "                                                          'y' : xyz[i][1],\n",
    "                                                          'z' : xyz[i][2]\n",
    "                                                       }\n",
    "                                           })\n",
    "    \n",
    "    #print(drawAs)\n",
    "    # zoomTo does not work well for surface and label... so, zoomTo should not be default settings\n",
    "    #view.zoomTo()\n",
    "    return view.update()\n",
    "\n",
    "\n",
    "def browseMolConformers(mol_obj_list,\n",
    "                        view, \n",
    "                        confId=None, \n",
    "                        useDrawAs=False, \n",
    "                        drawAs=None):\n",
    "    \n",
    "    \n",
    "    # Listing all widgets for tracking purpose\n",
    "    # \n",
    "    # molecule_list_dropdown\n",
    "    # confId_dropdown\n",
    "    # \n",
    "    # existing_descriptors_viewer\n",
    "    # existing_descriptors_dropdown\n",
    "    # rdkit_offered_descriptors_viewer\n",
    "    # rdkit_offered_descriptors_dropdown\n",
    "    # \n",
    "    # useDrawAs_dropdown\n",
    "    # drawAs_dropdown\n",
    "    # molColorScheme_dropdown\n",
    "    # \n",
    "    # confLabelCheckBok\n",
    "    # atomLabelCheckBox\n",
    "    # \n",
    "    \n",
    "    \n",
    "    # processing supplied object that contains molecules\n",
    "    moldict = processSuppliedMolFor3DViewer(mol_obj_list)\n",
    "    \n",
    "    # Creating molecule listing widget # default value molecule id = 0 or m0\n",
    "    molecule_list=list(moldict.keys())\n",
    "    molecule_list_dropdown = widgets.Dropdown(options=molecule_list,value=molecule_list[0])\n",
    "    \n",
    "    # Creating conformer listing widget # default value confId=0\n",
    "    confId_slider = widgets.IntSlider(min=0,max=9,step=1,value=0)\n",
    "    #IntSlider(min=-10,max=30,step=1,value=10)\n",
    "    \n",
    "    \n",
    "    #### A set of widgets for descriptor handling\n",
    "    \n",
    "    global existing_descriptors_viewer\n",
    "    existing_descriptors_viewer=widgets.HTML(value=\"Trying to get existing property\", disabled=False)\n",
    "    #display(existing_descriptors_viewer)\n",
    "    \n",
    "    global existing_descriptors_dropdown\n",
    "    existing_descriptors_dropdown=widgets.Dropdown(options=['please select'],value='please select')\n",
    "    \n",
    "    global rdkit_offered_descriptors_viewer\n",
    "    rdkit_offered_descriptors_viewer=widgets.HTML(value=\"Trying to get rdkit offered property\", disabled=False)\n",
    "    #display(rdkit_offered_descriptors_viewer)\n",
    "    \n",
    "    \n",
    "    \n",
    "    descriptors_rdkit=['MolLogP', 'MolMR', 'MolWt', 'ExactMolWt', 'HeavyAtomCount', \n",
    "                       'HeavyAtomMolWt', 'NHOHCount', 'NOCount', 'NumHAcceptors', \n",
    "                       'NumHDonors', 'NumHeteroatoms', 'NumRotatableBonds', 'NumValenceElectrons']\n",
    "    rdkit_offered_descriptors_dropdown = widgets.Dropdown(options=descriptors_rdkit,value='MolLogP')\n",
    "    \n",
    "    \n",
    "    \n",
    "    # default myGlobalStyle = 'stick'\n",
    "    global myGlobalStyle\n",
    "    myGlobalStyle = 'stick' # default drawing type for 3d structures # line cross stick cartoon sphere\n",
    "    if useDrawAs is False:\n",
    "        # Then go with default settings\n",
    "        drawAs = myGlobalStyle\n",
    "        useDrawAs_dropdown = widgets.Dropdown(options=[False, True],value=False)\n",
    "        \n",
    "    else:\n",
    "        useDrawAs_dropdown = widgets.Dropdown(options=[False, True],value=True)\n",
    "        # Use user supplied drawAS\n",
    "        if drawAs is None:\n",
    "            # User forgot to provide drawAs argument\n",
    "            drawAs = myGlobalStyle\n",
    "        else:\n",
    "            # User supplied drawAs argument while useDrawAs is True\n",
    "            myGlobalStyle = drawAs\n",
    "        \n",
    "    \n",
    "    all_drawing_types_3d=['line', 'cross', 'stick', 'cartoon', 'sphere', 'surface', 'ballstick']\n",
    "    # This is widget for model style\n",
    "    drawAs_dropdown = widgets.Dropdown(options=all_drawing_types_3d,value=drawAs)\n",
    "    \n",
    "    \n",
    "    all_color_scheme_3d=['default', 'greenCarbon', 'cyanCarbon', 'magentaCarbon', \n",
    "                     'yellowCarbon', 'whiteCarbon', 'orangeCarbon', 'purpleCarbon', \n",
    "                     'blueCarbon', 'ssPyMOL', 'ssJmol', 'Jmol', 'amino', \n",
    "                     'shapely', 'nucleic', 'chain', 'chainHetatm', 'prop']\n",
    "    \n",
    "    # This is widget for model style\n",
    "    \n",
    "    molColorScheme_dropdown = widgets.Dropdown(options=all_color_scheme_3d,value='default')\n",
    "    \n",
    "    \n",
    "    \n",
    "    # This is widget for conformer label\n",
    "    \n",
    "    confLabelCheckBok = widgets.Checkbox(description='confLabelCheckBok', value=False)\n",
    "    \n",
    "    # This is widget for atom label of each conformers\n",
    "    \n",
    "    atomLabelCheckBox = widgets.Checkbox(description='atomLabelCheckBox', value=False)\n",
    "    \n",
    "    \n",
    "    # Now start interacting\n",
    "    result=interact(addMolToViewForScrolling,\n",
    "                    \n",
    "                    ####\n",
    "                    molecule_obj_list=fixed(moldict),\n",
    "                    view=fixed(view),\n",
    "                    ####\n",
    "                    \n",
    "                    property_view_existing=existing_descriptors_viewer,\n",
    "                    property_view_rdkit_offered=rdkit_offered_descriptors_viewer,\n",
    "                    \n",
    "                    molecule_select=molecule_list_dropdown,\n",
    "                    confId=confId_slider,\n",
    "                    \n",
    "                    existing_descriptors=existing_descriptors_dropdown,\n",
    "                    rdkit_offered_descriptors=rdkit_offered_descriptors_dropdown,\n",
    "                    \n",
    "                    useDrawAs=useDrawAs_dropdown,\n",
    "                    drawAs=drawAs_dropdown,\n",
    "                    molColorScheme=molColorScheme_dropdown,\n",
    "                    \n",
    "                    showConfLabel=confLabelCheckBok,\n",
    "                    showAtomLabel=atomLabelCheckBox\n",
    "                    ####\n",
    "                   );\n",
    "    return result\n",
    "\n"
   ]
  },
  {
   "cell_type": "markdown",
   "metadata": {},
   "source": [
    "# For RDKit Mol object with NO existing properties"
   ]
  },
  {
   "cell_type": "code",
   "execution_count": 6,
   "metadata": {},
   "outputs": [
    {
     "data": {
      "text/html": [
       "<div id=\"3dmolviewer_149867873106\"  style=\"position: relative; width: 400px; height: 400px\">\n",
       "<script>\n",
       "if(typeof $3Dmolpromise === 'undefined') $3Dmolpromise = $.when($.getScript('https://3dmol.csb.pitt.edu/build/3Dmol.js'))\n",
       "var viewer_149867873106 = null;\n",
       "$3Dmolpromise.done(function() {\n",
       "viewer_149867873106 = $3Dmol.createViewer($(\"#3dmolviewer_149867873106\"),{backgroundColor:\"white\"});\n",
       "\tviewer_149867873106.setBackgroundColor(\"black\");\n",
       "viewer_149867873106.render();\n",
       "});\n",
       "</script>"
      ],
      "text/plain": [
       "<IPython.core.display.HTML object>"
      ]
     },
     "execution_count": 6,
     "metadata": {},
     "output_type": "execute_result"
    }
   ],
   "source": [
    "view=startViewer(bgcolor='black')\n",
    "view.show()"
   ]
  },
  {
   "cell_type": "code",
   "execution_count": 7,
   "metadata": {},
   "outputs": [
    {
     "data": {
      "text/html": [
       "<script>\n",
       "            $3Dmolpromise.done(function() { //wrap in promise for non-interactive functionality\n",
       "                \tviewer_149867873106.removeAllModels();\n",
       "\tviewer_149867873106.removeAllSurfaces();\n",
       "\tviewer_149867873106.removeAllLabels();\n",
       "\tviewer_149867873106.addModel(\"\\n     RDKit          3D\\n\\n 52 54  0  0  0  0  0  0  0  0999 V2000\\n   -8.5625    2.6961   -0.3537 C   0  0  0  0  0  0  0  0  0  0  0  0\\n   -7.3147    1.8643   -0.2162 C   0  0  0  0  0  0  0  0  0  0  0  0\\n   -7.6308    0.5684    0.3151 O   0  0  0  0  0  0  0  0  0  0  0  0\\n   -6.5647   -0.3111    0.4957 C   0  0  0  0  0  0  0  0  0  0  0  0\\n   -6.7697   -1.5792    1.0008 C   0  0  0  0  0  0  0  0  0  0  0  0\\n   -5.7249   -2.4661    1.1872 C   0  0  0  0  0  0  0  0  0  0  0  0\\n   -4.4287   -2.1149    0.8731 C   0  0  0  0  0  0  0  0  0  0  0  0\\n   -3.2437   -2.7189    0.9334 N   0  0  0  0  0  0  0  0  0  0  0  0\\n   -2.2771   -1.8811    0.4829 C   0  0  0  0  0  0  0  0  0  0  0  0\\n   -0.5671   -2.3305    0.4112 S   0  0  0  0  0  0  0  0  0  0  0  0\\n   -0.3911   -3.0178   -1.1543 O   0  0  0  0  0  0  0  0  0  0  0  0\\n    0.3058   -0.7690    0.3134 C   0  0  0  0  0  0  0  0  0  0  0  0\\n    1.7677   -1.0267    0.2479 C   0  0  0  0  0  0  0  0  0  0  0  0\\n    2.2049   -2.2786    0.2693 N   0  0  0  0  0  0  0  0  0  0  0  0\\n    3.5099   -2.6209    0.2151 C   0  0  0  0  0  0  0  0  0  0  0  0\\n    4.4542   -1.6188    0.1323 C   0  0  0  0  0  0  0  0  0  0  0  0\\n    5.9100   -1.9267    0.0690 C   0  0  0  0  0  0  0  0  0  0  0  0\\n    4.0158   -0.2925    0.1084 C   0  0  0  0  0  0  0  0  0  0  0  0\\n    4.9921    0.6919    0.0246 O   0  0  0  0  0  0  0  0  0  0  0  0\\n    5.3920    1.1144   -1.2589 C   0  0  0  0  0  0  0  0  0  0  0  0\\n    6.4490    2.1780   -1.1401 C   0  0  0  0  0  0  0  0  0  0  0  0\\n    7.6291    1.6147   -0.4078 C   0  0  0  0  0  0  0  0  0  0  0  0\\n    2.6738    0.0042    0.1661 C   0  0  0  0  0  0  0  0  0  0  0  0\\n    2.2557    1.4246    0.1377 C   0  0  0  0  0  0  0  0  0  0  0  0\\n   -2.8771   -0.7575    0.1451 N   0  0  0  0  0  0  0  0  0  0  0  0\\n   -4.2115   -0.8500    0.3675 C   0  0  0  0  0  0  0  0  0  0  0  0\\n   -5.2596    0.0300    0.1842 C   0  0  0  0  0  0  0  0  0  0  0  0\\n   -8.4262    3.6504    0.1801 H   0  0  0  0  0  0  0  0  0  0  0  0\\n   -8.6585    2.9654   -1.4360 H   0  0  0  0  0  0  0  0  0  0  0  0\\n   -9.4684    2.1525   -0.0138 H   0  0  0  0  0  0  0  0  0  0  0  0\\n   -6.7703    1.7618   -1.1827 H   0  0  0  0  0  0  0  0  0  0  0  0\\n   -6.6197    2.3880    0.4688 H   0  0  0  0  0  0  0  0  0  0  0  0\\n   -7.8021   -1.8533    1.2488 H   0  0  0  0  0  0  0  0  0  0  0  0\\n   -5.9448   -3.4631    1.5926 H   0  0  0  0  0  0  0  0  0  0  0  0\\n   -3.0999   -3.6831    1.2754 H   0  0  0  0  0  0  0  0  0  0  0  0\\n   -0.0490   -0.1552   -0.5340 H   0  0  0  0  0  0  0  0  0  0  0  0\\n    0.1377   -0.1546    1.2276 H   0  0  0  0  0  0  0  0  0  0  0  0\\n    3.8408   -3.6661    0.2347 H   0  0  0  0  0  0  0  0  0  0  0  0\\n    6.2371   -2.0059   -0.9751 H   0  0  0  0  0  0  0  0  0  0  0  0\\n    6.4617   -1.1344    0.5929 H   0  0  0  0  0  0  0  0  0  0  0  0\\n    6.0856   -2.9153    0.5509 H   0  0  0  0  0  0  0  0  0  0  0  0\\n    5.8664    0.2341   -1.7673 H   0  0  0  0  0  0  0  0  0  0  0  0\\n    4.5223    1.4639   -1.8649 H   0  0  0  0  0  0  0  0  0  0  0  0\\n    6.7329    2.5677   -2.1377 H   0  0  0  0  0  0  0  0  0  0  0  0\\n    6.0161    3.0336   -0.5559 H   0  0  0  0  0  0  0  0  0  0  0  0\\n    7.3001    1.1445    0.5235 H   0  0  0  0  0  0  0  0  0  0  0  0\\n    8.3699    2.4224   -0.2362 H   0  0  0  0  0  0  0  0  0  0  0  0\\n    8.1140    0.8398   -1.0262 H   0  0  0  0  0  0  0  0  0  0  0  0\\n    1.3466    1.5782    0.7669 H   0  0  0  0  0  0  0  0  0  0  0  0\\n    2.1135    1.8177   -0.8848 H   0  0  0  0  0  0  0  0  0  0  0  0\\n    3.0623    2.0172    0.6156 H   0  0  0  0  0  0  0  0  0  0  0  0\\n   -5.1050    1.0269   -0.2119 H   0  0  0  0  0  0  0  0  0  0  0  0\\n  1  2  1  0\\n  2  3  1  0\\n  3  4  1  0\\n  4  5  2  0\\n  5  6  1  0\\n  6  7  2  0\\n  7  8  1  0\\n  8  9  1  0\\n  9 10  1  0\\n 10 11  1  6\\n 10 12  1  0\\n 12 13  1  0\\n 13 14  2  0\\n 14 15  1  0\\n 15 16  2  0\\n 16 17  1  0\\n 16 18  1  0\\n 18 19  1  0\\n 19 20  1  0\\n 20 21  1  0\\n 21 22  1  0\\n 18 23  2  0\\n 23 24  1  0\\n  9 25  2  0\\n 25 26  1  0\\n 26 27  2  0\\n 27  4  1  0\\n 26  7  1  0\\n 23 13  1  0\\n  1 28  1  0\\n  1 29  1  0\\n  1 30  1  0\\n  2 31  1  0\\n  2 32  1  0\\n  5 33  1  0\\n  6 34  1  0\\n  8 35  1  0\\n 12 36  1  0\\n 12 37  1  0\\n 15 38  1  0\\n 17 39  1  0\\n 17 40  1  0\\n 17 41  1  0\\n 20 42  1  0\\n 20 43  1  0\\n 21 44  1  0\\n 21 45  1  0\\n 22 46  1  0\\n 22 47  1  0\\n 22 48  1  0\\n 24 49  1  0\\n 24 50  1  0\\n 24 51  1  0\\n 27 52  1  0\\nM  CHG  2  10   1  11  -1\\nM  END\\n\",\"sdf\");\n",
       "\tviewer_149867873106.setStyle({},{\"stick\": {\"colorscheme\": \"default\"}});\n",
       "\n",
       "                viewer_149867873106.render();\n",
       "            });\n",
       "            </script>"
      ],
      "text/plain": [
       "<IPython.core.display.HTML object>"
      ]
     },
     "metadata": {},
     "output_type": "display_data"
    },
    {
     "data": {
      "text/html": [
       "<script>\n",
       "            $3Dmolpromise.done(function() { //wrap in promise for non-interactive functionality\n",
       "                \tviewer_149867873106.removeAllModels();\n",
       "\tviewer_149867873106.removeAllSurfaces();\n",
       "\tviewer_149867873106.removeAllLabels();\n",
       "\tviewer_149867873106.addModel(\"\\n     RDKit          3D\\n\\n 52 54  0  0  0  0  0  0  0  0999 V2000\\n   -8.5625    2.6961   -0.3537 C   0  0  0  0  0  0  0  0  0  0  0  0\\n   -7.3147    1.8643   -0.2162 C   0  0  0  0  0  0  0  0  0  0  0  0\\n   -7.6308    0.5684    0.3151 O   0  0  0  0  0  0  0  0  0  0  0  0\\n   -6.5647   -0.3111    0.4957 C   0  0  0  0  0  0  0  0  0  0  0  0\\n   -6.7697   -1.5792    1.0008 C   0  0  0  0  0  0  0  0  0  0  0  0\\n   -5.7249   -2.4661    1.1872 C   0  0  0  0  0  0  0  0  0  0  0  0\\n   -4.4287   -2.1149    0.8731 C   0  0  0  0  0  0  0  0  0  0  0  0\\n   -3.2437   -2.7189    0.9334 N   0  0  0  0  0  0  0  0  0  0  0  0\\n   -2.2771   -1.8811    0.4829 C   0  0  0  0  0  0  0  0  0  0  0  0\\n   -0.5671   -2.3305    0.4112 S   0  0  0  0  0  0  0  0  0  0  0  0\\n   -0.3911   -3.0178   -1.1543 O   0  0  0  0  0  0  0  0  0  0  0  0\\n    0.3058   -0.7690    0.3134 C   0  0  0  0  0  0  0  0  0  0  0  0\\n    1.7677   -1.0267    0.2479 C   0  0  0  0  0  0  0  0  0  0  0  0\\n    2.2049   -2.2786    0.2693 N   0  0  0  0  0  0  0  0  0  0  0  0\\n    3.5099   -2.6209    0.2151 C   0  0  0  0  0  0  0  0  0  0  0  0\\n    4.4542   -1.6188    0.1323 C   0  0  0  0  0  0  0  0  0  0  0  0\\n    5.9100   -1.9267    0.0690 C   0  0  0  0  0  0  0  0  0  0  0  0\\n    4.0158   -0.2925    0.1084 C   0  0  0  0  0  0  0  0  0  0  0  0\\n    4.9921    0.6919    0.0246 O   0  0  0  0  0  0  0  0  0  0  0  0\\n    5.3920    1.1144   -1.2589 C   0  0  0  0  0  0  0  0  0  0  0  0\\n    6.4490    2.1780   -1.1401 C   0  0  0  0  0  0  0  0  0  0  0  0\\n    7.6291    1.6147   -0.4078 C   0  0  0  0  0  0  0  0  0  0  0  0\\n    2.6738    0.0042    0.1661 C   0  0  0  0  0  0  0  0  0  0  0  0\\n    2.2557    1.4246    0.1377 C   0  0  0  0  0  0  0  0  0  0  0  0\\n   -2.8771   -0.7575    0.1451 N   0  0  0  0  0  0  0  0  0  0  0  0\\n   -4.2115   -0.8500    0.3675 C   0  0  0  0  0  0  0  0  0  0  0  0\\n   -5.2596    0.0300    0.1842 C   0  0  0  0  0  0  0  0  0  0  0  0\\n   -8.4262    3.6504    0.1801 H   0  0  0  0  0  0  0  0  0  0  0  0\\n   -8.6585    2.9654   -1.4360 H   0  0  0  0  0  0  0  0  0  0  0  0\\n   -9.4684    2.1525   -0.0138 H   0  0  0  0  0  0  0  0  0  0  0  0\\n   -6.7703    1.7618   -1.1827 H   0  0  0  0  0  0  0  0  0  0  0  0\\n   -6.6197    2.3880    0.4688 H   0  0  0  0  0  0  0  0  0  0  0  0\\n   -7.8021   -1.8533    1.2488 H   0  0  0  0  0  0  0  0  0  0  0  0\\n   -5.9448   -3.4631    1.5926 H   0  0  0  0  0  0  0  0  0  0  0  0\\n   -3.0999   -3.6831    1.2754 H   0  0  0  0  0  0  0  0  0  0  0  0\\n   -0.0490   -0.1552   -0.5340 H   0  0  0  0  0  0  0  0  0  0  0  0\\n    0.1377   -0.1546    1.2276 H   0  0  0  0  0  0  0  0  0  0  0  0\\n    3.8408   -3.6661    0.2347 H   0  0  0  0  0  0  0  0  0  0  0  0\\n    6.2371   -2.0059   -0.9751 H   0  0  0  0  0  0  0  0  0  0  0  0\\n    6.4617   -1.1344    0.5929 H   0  0  0  0  0  0  0  0  0  0  0  0\\n    6.0856   -2.9153    0.5509 H   0  0  0  0  0  0  0  0  0  0  0  0\\n    5.8664    0.2341   -1.7673 H   0  0  0  0  0  0  0  0  0  0  0  0\\n    4.5223    1.4639   -1.8649 H   0  0  0  0  0  0  0  0  0  0  0  0\\n    6.7329    2.5677   -2.1377 H   0  0  0  0  0  0  0  0  0  0  0  0\\n    6.0161    3.0336   -0.5559 H   0  0  0  0  0  0  0  0  0  0  0  0\\n    7.3001    1.1445    0.5235 H   0  0  0  0  0  0  0  0  0  0  0  0\\n    8.3699    2.4224   -0.2362 H   0  0  0  0  0  0  0  0  0  0  0  0\\n    8.1140    0.8398   -1.0262 H   0  0  0  0  0  0  0  0  0  0  0  0\\n    1.3466    1.5782    0.7669 H   0  0  0  0  0  0  0  0  0  0  0  0\\n    2.1135    1.8177   -0.8848 H   0  0  0  0  0  0  0  0  0  0  0  0\\n    3.0623    2.0172    0.6156 H   0  0  0  0  0  0  0  0  0  0  0  0\\n   -5.1050    1.0269   -0.2119 H   0  0  0  0  0  0  0  0  0  0  0  0\\n  1  2  1  0\\n  2  3  1  0\\n  3  4  1  0\\n  4  5  2  0\\n  5  6  1  0\\n  6  7  2  0\\n  7  8  1  0\\n  8  9  1  0\\n  9 10  1  0\\n 10 11  1  6\\n 10 12  1  0\\n 12 13  1  0\\n 13 14  2  0\\n 14 15  1  0\\n 15 16  2  0\\n 16 17  1  0\\n 16 18  1  0\\n 18 19  1  0\\n 19 20  1  0\\n 20 21  1  0\\n 21 22  1  0\\n 18 23  2  0\\n 23 24  1  0\\n  9 25  2  0\\n 25 26  1  0\\n 26 27  2  0\\n 27  4  1  0\\n 26  7  1  0\\n 23 13  1  0\\n  1 28  1  0\\n  1 29  1  0\\n  1 30  1  0\\n  2 31  1  0\\n  2 32  1  0\\n  5 33  1  0\\n  6 34  1  0\\n  8 35  1  0\\n 12 36  1  0\\n 12 37  1  0\\n 15 38  1  0\\n 17 39  1  0\\n 17 40  1  0\\n 17 41  1  0\\n 20 42  1  0\\n 20 43  1  0\\n 21 44  1  0\\n 21 45  1  0\\n 22 46  1  0\\n 22 47  1  0\\n 22 48  1  0\\n 24 49  1  0\\n 24 50  1  0\\n 24 51  1  0\\n 27 52  1  0\\nM  CHG  2  10   1  11  -1\\nM  END\\n\",\"sdf\");\n",
       "\tviewer_149867873106.setStyle({},{\"stick\": {\"colorscheme\": \"default\"}});\n",
       "\n",
       "                viewer_149867873106.render();\n",
       "            });\n",
       "            </script>"
      ],
      "text/plain": [
       "<IPython.core.display.HTML object>"
      ]
     },
     "metadata": {},
     "output_type": "display_data"
    },
    {
     "data": {
      "text/plain": [
       "<function __main__.addMolToViewForScrolling>"
      ]
     },
     "execution_count": 7,
     "metadata": {},
     "output_type": "execute_result"
    }
   ],
   "source": [
    "browseMolConformers(ms,view,confId=(0, 9),useDrawAs=True,drawAs='stick')"
   ]
  },
  {
   "cell_type": "code",
   "execution_count": 8,
   "metadata": {},
   "outputs": [
    {
     "data": {
      "text/html": [
       "<script>\n",
       "            $3Dmolpromise.done(function() { //wrap in promise for non-interactive functionality\n",
       "                \tviewer_149867222945.zoomTo();\n",
       "\n",
       "                viewer_149867222945.render();\n",
       "            });\n",
       "            </script>"
      ],
      "text/plain": [
       "<IPython.core.display.HTML object>"
      ]
     },
     "execution_count": 8,
     "metadata": {},
     "output_type": "execute_result"
    }
   ],
   "source": [
    "view.zoomTo()\n",
    "view.update()"
   ]
  },
  {
   "cell_type": "code",
   "execution_count": 9,
   "metadata": {},
   "outputs": [
    {
     "data": {
      "text/html": [
       "<script>\n",
       "            $3Dmolpromise.done(function() { //wrap in promise for non-interactive functionality\n",
       "                \tviewer_149867222945.setBackgroundColor(\"0xeeeeee\");\n",
       "\n",
       "                viewer_149867222945.render();\n",
       "            });\n",
       "            </script>"
      ],
      "text/plain": [
       "<IPython.core.display.HTML object>"
      ]
     },
     "execution_count": 9,
     "metadata": {},
     "output_type": "execute_result"
    }
   ],
   "source": [
    "# Changing background color is possible too\n",
    "view.setBackgroundColor('0xeeeeee')\n",
    "view.update()"
   ]
  },
  {
   "cell_type": "markdown",
   "metadata": {},
   "source": [
    "# For RDKit Mol object with existing properties"
   ]
  },
  {
   "cell_type": "code",
   "execution_count": 10,
   "metadata": {},
   "outputs": [
    {
     "data": {
      "text/html": [
       "<div id=\"3dmolviewer_149867224316\"  style=\"position: relative; width: 400px; height: 400px\">\n",
       "<script>\n",
       "if(typeof $3Dmolpromise === 'undefined') $3Dmolpromise = $.when($.getScript('https://3dmol.csb.pitt.edu/build/3Dmol.js'))\n",
       "var viewer_149867224316 = null;\n",
       "$3Dmolpromise.done(function() {\n",
       "viewer_149867224316 = $3Dmol.createViewer($(\"#3dmolviewer_149867224316\"),{backgroundColor:\"white\"});\n",
       "\tviewer_149867224316.setBackgroundColor(\"black\");\n",
       "viewer_149867224316.render();\n",
       "});\n",
       "</script>"
      ],
      "text/plain": [
       "<IPython.core.display.HTML object>"
      ]
     },
     "execution_count": 10,
     "metadata": {},
     "output_type": "execute_result"
    }
   ],
   "source": [
    "view2=startViewer(bgcolor='black')\n",
    "view2.show()"
   ]
  },
  {
   "cell_type": "code",
   "execution_count": 11,
   "metadata": {},
   "outputs": [
    {
     "data": {
      "application/vnd.jupyter.widget-view+json": {
       "model_id": "a2c04b9a48c445d58ddada1da5ffc55e"
      }
     },
     "metadata": {},
     "output_type": "display_data"
    },
    {
     "data": {
      "text/html": [
       "<script>\n",
       "            $3Dmolpromise.done(function() { //wrap in promise for non-interactive functionality\n",
       "                \tviewer_149867224316.removeAllModels();\n",
       "\tviewer_149867224316.removeAllSurfaces();\n",
       "\tviewer_149867224316.removeAllLabels();\n",
       "\tviewer_149867224316.addModel(\"ZINC04617745\\n     RDKit          3D\\n\\n 28 31  0  0  1  0  0  0  0  0999 V2000\\n    3.8454    2.9751   -1.3790 C   0  0  0  0  0  0  0  0  0  0  0  0\\n    2.9417    0.7278   -1.5177 C   0  0  0  0  0  0  0  0  0  0  0  0\\n    3.5376    0.2504   -0.2445 C   0  0  0  0  0  0  0  0  0  0  0  0\\n    2.5734    0.0749    0.9231 C   0  0  0  0  0  0  0  0  0  0  0  0\\n    1.8149    1.3991    1.0035 C   0  0  0  0  0  0  0  0  0  0  0  0\\n    1.9158    2.3566   -0.0862 C   0  0  0  0  0  0  0  0  0  0  0  0\\n    2.0832    1.9562    2.2523 O   0  0  0  0  0  0  0  0  0  0  0  0\\n    1.7113   -1.0728    0.6550 C   0  0  0  0  0  0  0  0  0  0  0  0\\n    2.3236   -2.3159    0.9208 C   0  0  0  0  0  0  0  0  0  0  0  0\\n    1.5940   -3.4556    0.7550 C   0  0  0  0  0  0  0  0  0  0  0  0\\n    0.2619   -3.4119    0.3297 C   0  0  0  0  0  0  0  0  0  0  0  0\\n   -0.3160   -2.1872    0.0803 C   0  0  0  0  0  0  0  0  0  0  0  0\\n    0.3983   -1.0190    0.2415 C   0  0  0  0  0  0  0  0  0  0  0  0\\n   -0.2240    0.1340    0.0072 O   0  0  0  0  0  0  0  0  0  0  0  0\\n   -1.4799    0.1584   -0.3655 C   0  0  0  0  0  0  0  0  0  0  0  0\\n   -2.2290   -1.0181   -0.5396 C   0  0  0  0  0  0  0  0  0  0  0  0\\n   -1.6311   -2.2152   -0.3059 C   0  0  0  0  0  0  0  0  0  0  0  0\\n   -2.2593   -3.3012   -0.4356 O   0  0  0  0  0  0  0  0  0  0  0  0\\n   -2.2545    1.3744   -0.6234 C   0  0  0  0  0  0  0  0  0  0  0  0\\n   -1.7484    2.6305   -0.4813 C   0  0  0  0  0  0  0  0  0  0  0  0\\n   -2.5065    3.7639   -0.6671 C   0  0  0  0  0  0  0  0  0  0  0  0\\n   -3.8333    3.6271   -1.0072 C   0  0  0  0  0  0  0  0  0  0  0  0\\n   -4.3918    2.3859   -1.1622 C   0  0  0  0  0  0  0  0  0  0  0  0\\n   -3.6034    1.2754   -0.9724 C   0  0  0  0  0  0  0  0  0  0  0  0\\n   -4.3412   -0.2954   -1.1944 Cl  0  0  0  0  0  0  0  0  0  0  0  0\\n   -0.4508   -4.5944    0.1752 O   0  0  0  0  0  0  0  0  0  0  0  0\\n    3.6510   -2.3586    1.3500 O   0  0  0  0  0  0  0  0  0  0  0  0\\n    2.6170    2.1556   -1.2879 N   0  0  0  0  0  0  0  0  0  0  0  0\\n  1 28  1  0\\n  2  3  1  0\\n  2 28  1  0\\n  3  4  1  0\\n  4  5  1  0\\n  4  8  1  0\\n  5  6  1  0\\n  5  7  1  0\\n  6 28  1  0\\n  8 13  1  0\\n  8  9  2  0\\n  9 10  1  0\\n  9 27  1  0\\n 10 11  2  0\\n 11 12  1  0\\n 11 26  1  0\\n 12 17  1  0\\n 12 13  2  0\\n 13 14  1  0\\n 14 15  1  0\\n 15 16  2  0\\n 15 19  1  0\\n 16 17  1  0\\n 17 18  2  0\\n 19 24  1  0\\n 19 20  2  0\\n 20 21  1  0\\n 21 22  2  0\\n 22 23  1  0\\n 23 24  2  0\\n 24 25  1  0\\nM  CHG  1  28   1\\nM  END\\n\",\"sdf\");\n",
       "\tviewer_149867224316.setStyle({},{\"stick\": {\"colorscheme\": \"default\"}});\n",
       "\n",
       "                viewer_149867224316.render();\n",
       "            });\n",
       "            </script>"
      ],
      "text/plain": [
       "<IPython.core.display.HTML object>"
      ]
     },
     "metadata": {},
     "output_type": "display_data"
    },
    {
     "data": {
      "text/html": [
       "<script>\n",
       "            $3Dmolpromise.done(function() { //wrap in promise for non-interactive functionality\n",
       "                \tviewer_149867224316.removeAllModels();\n",
       "\tviewer_149867224316.removeAllSurfaces();\n",
       "\tviewer_149867224316.removeAllLabels();\n",
       "\tviewer_149867224316.addModel(\"ZINC04617745\\n     RDKit          3D\\n\\n 28 31  0  0  1  0  0  0  0  0999 V2000\\n    3.8454    2.9751   -1.3790 C   0  0  0  0  0  0  0  0  0  0  0  0\\n    2.9417    0.7278   -1.5177 C   0  0  0  0  0  0  0  0  0  0  0  0\\n    3.5376    0.2504   -0.2445 C   0  0  0  0  0  0  0  0  0  0  0  0\\n    2.5734    0.0749    0.9231 C   0  0  0  0  0  0  0  0  0  0  0  0\\n    1.8149    1.3991    1.0035 C   0  0  0  0  0  0  0  0  0  0  0  0\\n    1.9158    2.3566   -0.0862 C   0  0  0  0  0  0  0  0  0  0  0  0\\n    2.0832    1.9562    2.2523 O   0  0  0  0  0  0  0  0  0  0  0  0\\n    1.7113   -1.0728    0.6550 C   0  0  0  0  0  0  0  0  0  0  0  0\\n    2.3236   -2.3159    0.9208 C   0  0  0  0  0  0  0  0  0  0  0  0\\n    1.5940   -3.4556    0.7550 C   0  0  0  0  0  0  0  0  0  0  0  0\\n    0.2619   -3.4119    0.3297 C   0  0  0  0  0  0  0  0  0  0  0  0\\n   -0.3160   -2.1872    0.0803 C   0  0  0  0  0  0  0  0  0  0  0  0\\n    0.3983   -1.0190    0.2415 C   0  0  0  0  0  0  0  0  0  0  0  0\\n   -0.2240    0.1340    0.0072 O   0  0  0  0  0  0  0  0  0  0  0  0\\n   -1.4799    0.1584   -0.3655 C   0  0  0  0  0  0  0  0  0  0  0  0\\n   -2.2290   -1.0181   -0.5396 C   0  0  0  0  0  0  0  0  0  0  0  0\\n   -1.6311   -2.2152   -0.3059 C   0  0  0  0  0  0  0  0  0  0  0  0\\n   -2.2593   -3.3012   -0.4356 O   0  0  0  0  0  0  0  0  0  0  0  0\\n   -2.2545    1.3744   -0.6234 C   0  0  0  0  0  0  0  0  0  0  0  0\\n   -1.7484    2.6305   -0.4813 C   0  0  0  0  0  0  0  0  0  0  0  0\\n   -2.5065    3.7639   -0.6671 C   0  0  0  0  0  0  0  0  0  0  0  0\\n   -3.8333    3.6271   -1.0072 C   0  0  0  0  0  0  0  0  0  0  0  0\\n   -4.3918    2.3859   -1.1622 C   0  0  0  0  0  0  0  0  0  0  0  0\\n   -3.6034    1.2754   -0.9724 C   0  0  0  0  0  0  0  0  0  0  0  0\\n   -4.3412   -0.2954   -1.1944 Cl  0  0  0  0  0  0  0  0  0  0  0  0\\n   -0.4508   -4.5944    0.1752 O   0  0  0  0  0  0  0  0  0  0  0  0\\n    3.6510   -2.3586    1.3500 O   0  0  0  0  0  0  0  0  0  0  0  0\\n    2.6170    2.1556   -1.2879 N   0  0  0  0  0  0  0  0  0  0  0  0\\n  1 28  1  0\\n  2  3  1  0\\n  2 28  1  0\\n  3  4  1  0\\n  4  5  1  0\\n  4  8  1  0\\n  5  6  1  0\\n  5  7  1  0\\n  6 28  1  0\\n  8 13  1  0\\n  8  9  2  0\\n  9 10  1  0\\n  9 27  1  0\\n 10 11  2  0\\n 11 12  1  0\\n 11 26  1  0\\n 12 17  1  0\\n 12 13  2  0\\n 13 14  1  0\\n 14 15  1  0\\n 15 16  2  0\\n 15 19  1  0\\n 16 17  1  0\\n 17 18  2  0\\n 19 24  1  0\\n 19 20  2  0\\n 20 21  1  0\\n 21 22  2  0\\n 22 23  1  0\\n 23 24  2  0\\n 24 25  1  0\\nM  CHG  1  28   1\\nM  END\\n\",\"sdf\");\n",
       "\tviewer_149867224316.setStyle({},{\"stick\": {\"colorscheme\": \"default\"}});\n",
       "\n",
       "                viewer_149867224316.render();\n",
       "            });\n",
       "            </script>"
      ],
      "text/plain": [
       "<IPython.core.display.HTML object>"
      ]
     },
     "metadata": {},
     "output_type": "display_data"
    },
    {
     "data": {
      "text/html": [
       "<script>\n",
       "            $3Dmolpromise.done(function() { //wrap in promise for non-interactive functionality\n",
       "                \tviewer_149867224316.removeAllModels();\n",
       "\tviewer_149867224316.removeAllSurfaces();\n",
       "\tviewer_149867224316.removeAllLabels();\n",
       "\tviewer_149867224316.addModel(\"ZINC04617745\\n     RDKit          3D\\n\\n 28 31  0  0  1  0  0  0  0  0999 V2000\\n    3.8454    2.9751   -1.3790 C   0  0  0  0  0  0  0  0  0  0  0  0\\n    2.9417    0.7278   -1.5177 C   0  0  0  0  0  0  0  0  0  0  0  0\\n    3.5376    0.2504   -0.2445 C   0  0  0  0  0  0  0  0  0  0  0  0\\n    2.5734    0.0749    0.9231 C   0  0  0  0  0  0  0  0  0  0  0  0\\n    1.8149    1.3991    1.0035 C   0  0  0  0  0  0  0  0  0  0  0  0\\n    1.9158    2.3566   -0.0862 C   0  0  0  0  0  0  0  0  0  0  0  0\\n    2.0832    1.9562    2.2523 O   0  0  0  0  0  0  0  0  0  0  0  0\\n    1.7113   -1.0728    0.6550 C   0  0  0  0  0  0  0  0  0  0  0  0\\n    2.3236   -2.3159    0.9208 C   0  0  0  0  0  0  0  0  0  0  0  0\\n    1.5940   -3.4556    0.7550 C   0  0  0  0  0  0  0  0  0  0  0  0\\n    0.2619   -3.4119    0.3297 C   0  0  0  0  0  0  0  0  0  0  0  0\\n   -0.3160   -2.1872    0.0803 C   0  0  0  0  0  0  0  0  0  0  0  0\\n    0.3983   -1.0190    0.2415 C   0  0  0  0  0  0  0  0  0  0  0  0\\n   -0.2240    0.1340    0.0072 O   0  0  0  0  0  0  0  0  0  0  0  0\\n   -1.4799    0.1584   -0.3655 C   0  0  0  0  0  0  0  0  0  0  0  0\\n   -2.2290   -1.0181   -0.5396 C   0  0  0  0  0  0  0  0  0  0  0  0\\n   -1.6311   -2.2152   -0.3059 C   0  0  0  0  0  0  0  0  0  0  0  0\\n   -2.2593   -3.3012   -0.4356 O   0  0  0  0  0  0  0  0  0  0  0  0\\n   -2.2545    1.3744   -0.6234 C   0  0  0  0  0  0  0  0  0  0  0  0\\n   -1.7484    2.6305   -0.4813 C   0  0  0  0  0  0  0  0  0  0  0  0\\n   -2.5065    3.7639   -0.6671 C   0  0  0  0  0  0  0  0  0  0  0  0\\n   -3.8333    3.6271   -1.0072 C   0  0  0  0  0  0  0  0  0  0  0  0\\n   -4.3918    2.3859   -1.1622 C   0  0  0  0  0  0  0  0  0  0  0  0\\n   -3.6034    1.2754   -0.9724 C   0  0  0  0  0  0  0  0  0  0  0  0\\n   -4.3412   -0.2954   -1.1944 Cl  0  0  0  0  0  0  0  0  0  0  0  0\\n   -0.4508   -4.5944    0.1752 O   0  0  0  0  0  0  0  0  0  0  0  0\\n    3.6510   -2.3586    1.3500 O   0  0  0  0  0  0  0  0  0  0  0  0\\n    2.6170    2.1556   -1.2879 N   0  0  0  0  0  0  0  0  0  0  0  0\\n  1 28  1  0\\n  2  3  1  0\\n  2 28  1  0\\n  3  4  1  0\\n  4  5  1  0\\n  4  8  1  0\\n  5  6  1  0\\n  5  7  1  0\\n  6 28  1  0\\n  8 13  1  0\\n  8  9  2  0\\n  9 10  1  0\\n  9 27  1  0\\n 10 11  2  0\\n 11 12  1  0\\n 11 26  1  0\\n 12 17  1  0\\n 12 13  2  0\\n 13 14  1  0\\n 14 15  1  0\\n 15 16  2  0\\n 15 19  1  0\\n 16 17  1  0\\n 17 18  2  0\\n 19 24  1  0\\n 19 20  2  0\\n 20 21  1  0\\n 21 22  2  0\\n 22 23  1  0\\n 23 24  2  0\\n 24 25  1  0\\nM  CHG  1  28   1\\nM  END\\n\",\"sdf\");\n",
       "\tviewer_149867224316.setStyle({},{\"stick\": {\"colorscheme\": \"default\"}});\n",
       "\n",
       "                viewer_149867224316.render();\n",
       "            });\n",
       "            </script>"
      ],
      "text/plain": [
       "<IPython.core.display.HTML object>"
      ]
     },
     "metadata": {},
     "output_type": "display_data"
    },
    {
     "data": {
      "text/plain": [
       "<function __main__.addMolToViewForScrolling>"
      ]
     },
     "execution_count": 11,
     "metadata": {},
     "output_type": "execute_result"
    },
    {
     "data": {
      "text/html": [
       "<script>\n",
       "            $3Dmolpromise.done(function() { //wrap in promise for non-interactive functionality\n",
       "                \tviewer_149867224316.removeAllModels();\n",
       "\tviewer_149867224316.removeAllSurfaces();\n",
       "\tviewer_149867224316.removeAllLabels();\n",
       "\tviewer_149867224316.addModel(\"ZINC04617745\\n     RDKit          3D\\n\\n 28 31  0  0  1  0  0  0  0  0999 V2000\\n    3.8454    2.9751   -1.3790 C   0  0  0  0  0  0  0  0  0  0  0  0\\n    2.9417    0.7278   -1.5177 C   0  0  0  0  0  0  0  0  0  0  0  0\\n    3.5376    0.2504   -0.2445 C   0  0  0  0  0  0  0  0  0  0  0  0\\n    2.5734    0.0749    0.9231 C   0  0  0  0  0  0  0  0  0  0  0  0\\n    1.8149    1.3991    1.0035 C   0  0  0  0  0  0  0  0  0  0  0  0\\n    1.9158    2.3566   -0.0862 C   0  0  0  0  0  0  0  0  0  0  0  0\\n    2.0832    1.9562    2.2523 O   0  0  0  0  0  0  0  0  0  0  0  0\\n    1.7113   -1.0728    0.6550 C   0  0  0  0  0  0  0  0  0  0  0  0\\n    2.3236   -2.3159    0.9208 C   0  0  0  0  0  0  0  0  0  0  0  0\\n    1.5940   -3.4556    0.7550 C   0  0  0  0  0  0  0  0  0  0  0  0\\n    0.2619   -3.4119    0.3297 C   0  0  0  0  0  0  0  0  0  0  0  0\\n   -0.3160   -2.1872    0.0803 C   0  0  0  0  0  0  0  0  0  0  0  0\\n    0.3983   -1.0190    0.2415 C   0  0  0  0  0  0  0  0  0  0  0  0\\n   -0.2240    0.1340    0.0072 O   0  0  0  0  0  0  0  0  0  0  0  0\\n   -1.4799    0.1584   -0.3655 C   0  0  0  0  0  0  0  0  0  0  0  0\\n   -2.2290   -1.0181   -0.5396 C   0  0  0  0  0  0  0  0  0  0  0  0\\n   -1.6311   -2.2152   -0.3059 C   0  0  0  0  0  0  0  0  0  0  0  0\\n   -2.2593   -3.3012   -0.4356 O   0  0  0  0  0  0  0  0  0  0  0  0\\n   -2.2545    1.3744   -0.6234 C   0  0  0  0  0  0  0  0  0  0  0  0\\n   -1.7484    2.6305   -0.4813 C   0  0  0  0  0  0  0  0  0  0  0  0\\n   -2.5065    3.7639   -0.6671 C   0  0  0  0  0  0  0  0  0  0  0  0\\n   -3.8333    3.6271   -1.0072 C   0  0  0  0  0  0  0  0  0  0  0  0\\n   -4.3918    2.3859   -1.1622 C   0  0  0  0  0  0  0  0  0  0  0  0\\n   -3.6034    1.2754   -0.9724 C   0  0  0  0  0  0  0  0  0  0  0  0\\n   -4.3412   -0.2954   -1.1944 Cl  0  0  0  0  0  0  0  0  0  0  0  0\\n   -0.4508   -4.5944    0.1752 O   0  0  0  0  0  0  0  0  0  0  0  0\\n    3.6510   -2.3586    1.3500 O   0  0  0  0  0  0  0  0  0  0  0  0\\n    2.6170    2.1556   -1.2879 N   0  0  0  0  0  0  0  0  0  0  0  0\\n  1 28  1  0\\n  2  3  1  0\\n  2 28  1  0\\n  3  4  1  0\\n  4  5  1  0\\n  4  8  1  0\\n  5  6  1  0\\n  5  7  1  0\\n  6 28  1  0\\n  8 13  1  0\\n  8  9  2  0\\n  9 10  1  0\\n  9 27  1  0\\n 10 11  2  0\\n 11 12  1  0\\n 11 26  1  0\\n 12 17  1  0\\n 12 13  2  0\\n 13 14  1  0\\n 14 15  1  0\\n 15 16  2  0\\n 15 19  1  0\\n 16 17  1  0\\n 17 18  2  0\\n 19 24  1  0\\n 19 20  2  0\\n 20 21  1  0\\n 21 22  2  0\\n 22 23  1  0\\n 23 24  2  0\\n 24 25  1  0\\nM  CHG  1  28   1\\nM  END\\n\",\"sdf\");\n",
       "\tviewer_149867224316.setStyle({},{\"stick\": {\"colorscheme\": \"default\"}});\n",
       "\n",
       "                viewer_149867224316.render();\n",
       "            });\n",
       "            </script>"
      ],
      "text/plain": [
       "<IPython.core.display.HTML object>"
      ]
     },
     "metadata": {},
     "output_type": "display_data"
    },
    {
     "data": {
      "text/html": [
       "<script>\n",
       "            $3Dmolpromise.done(function() { //wrap in promise for non-interactive functionality\n",
       "                \tviewer_149867224316.removeAllModels();\n",
       "\tviewer_149867224316.removeAllSurfaces();\n",
       "\tviewer_149867224316.removeAllLabels();\n",
       "\tviewer_149867224316.addModel(\"ZINC04617745\\n     RDKit          3D\\n\\n 28 31  0  0  1  0  0  0  0  0999 V2000\\n    3.8454    2.9751   -1.3790 C   0  0  0  0  0  0  0  0  0  0  0  0\\n    2.9417    0.7278   -1.5177 C   0  0  0  0  0  0  0  0  0  0  0  0\\n    3.5376    0.2504   -0.2445 C   0  0  0  0  0  0  0  0  0  0  0  0\\n    2.5734    0.0749    0.9231 C   0  0  0  0  0  0  0  0  0  0  0  0\\n    1.8149    1.3991    1.0035 C   0  0  0  0  0  0  0  0  0  0  0  0\\n    1.9158    2.3566   -0.0862 C   0  0  0  0  0  0  0  0  0  0  0  0\\n    2.0832    1.9562    2.2523 O   0  0  0  0  0  0  0  0  0  0  0  0\\n    1.7113   -1.0728    0.6550 C   0  0  0  0  0  0  0  0  0  0  0  0\\n    2.3236   -2.3159    0.9208 C   0  0  0  0  0  0  0  0  0  0  0  0\\n    1.5940   -3.4556    0.7550 C   0  0  0  0  0  0  0  0  0  0  0  0\\n    0.2619   -3.4119    0.3297 C   0  0  0  0  0  0  0  0  0  0  0  0\\n   -0.3160   -2.1872    0.0803 C   0  0  0  0  0  0  0  0  0  0  0  0\\n    0.3983   -1.0190    0.2415 C   0  0  0  0  0  0  0  0  0  0  0  0\\n   -0.2240    0.1340    0.0072 O   0  0  0  0  0  0  0  0  0  0  0  0\\n   -1.4799    0.1584   -0.3655 C   0  0  0  0  0  0  0  0  0  0  0  0\\n   -2.2290   -1.0181   -0.5396 C   0  0  0  0  0  0  0  0  0  0  0  0\\n   -1.6311   -2.2152   -0.3059 C   0  0  0  0  0  0  0  0  0  0  0  0\\n   -2.2593   -3.3012   -0.4356 O   0  0  0  0  0  0  0  0  0  0  0  0\\n   -2.2545    1.3744   -0.6234 C   0  0  0  0  0  0  0  0  0  0  0  0\\n   -1.7484    2.6305   -0.4813 C   0  0  0  0  0  0  0  0  0  0  0  0\\n   -2.5065    3.7639   -0.6671 C   0  0  0  0  0  0  0  0  0  0  0  0\\n   -3.8333    3.6271   -1.0072 C   0  0  0  0  0  0  0  0  0  0  0  0\\n   -4.3918    2.3859   -1.1622 C   0  0  0  0  0  0  0  0  0  0  0  0\\n   -3.6034    1.2754   -0.9724 C   0  0  0  0  0  0  0  0  0  0  0  0\\n   -4.3412   -0.2954   -1.1944 Cl  0  0  0  0  0  0  0  0  0  0  0  0\\n   -0.4508   -4.5944    0.1752 O   0  0  0  0  0  0  0  0  0  0  0  0\\n    3.6510   -2.3586    1.3500 O   0  0  0  0  0  0  0  0  0  0  0  0\\n    2.6170    2.1556   -1.2879 N   0  0  0  0  0  0  0  0  0  0  0  0\\n  1 28  1  0\\n  2  3  1  0\\n  2 28  1  0\\n  3  4  1  0\\n  4  5  1  0\\n  4  8  1  0\\n  5  6  1  0\\n  5  7  1  0\\n  6 28  1  0\\n  8 13  1  0\\n  8  9  2  0\\n  9 10  1  0\\n  9 27  1  0\\n 10 11  2  0\\n 11 12  1  0\\n 11 26  1  0\\n 12 17  1  0\\n 12 13  2  0\\n 13 14  1  0\\n 14 15  1  0\\n 15 16  2  0\\n 15 19  1  0\\n 16 17  1  0\\n 17 18  2  0\\n 19 24  1  0\\n 19 20  2  0\\n 20 21  1  0\\n 21 22  2  0\\n 22 23  1  0\\n 23 24  2  0\\n 24 25  1  0\\nM  CHG  1  28   1\\nM  END\\n\",\"sdf\");\n",
       "\tviewer_149867224316.setStyle({},{\"stick\": {\"colorscheme\": \"default\"}});\n",
       "\n",
       "                viewer_149867224316.render();\n",
       "            });\n",
       "            </script>"
      ],
      "text/plain": [
       "<IPython.core.display.HTML object>"
      ]
     },
     "metadata": {},
     "output_type": "display_data"
    },
    {
     "data": {
      "text/html": [
       "<script>\n",
       "            $3Dmolpromise.done(function() { //wrap in promise for non-interactive functionality\n",
       "                \tviewer_149867224316.removeAllModels();\n",
       "\tviewer_149867224316.removeAllSurfaces();\n",
       "\tviewer_149867224316.removeAllLabels();\n",
       "\tviewer_149867224316.addModel(\"ZINC04617745\\n     RDKit          3D\\n\\n 28 31  0  0  1  0  0  0  0  0999 V2000\\n    3.8454    2.9751   -1.3790 C   0  0  0  0  0  0  0  0  0  0  0  0\\n    2.9417    0.7278   -1.5177 C   0  0  0  0  0  0  0  0  0  0  0  0\\n    3.5376    0.2504   -0.2445 C   0  0  0  0  0  0  0  0  0  0  0  0\\n    2.5734    0.0749    0.9231 C   0  0  0  0  0  0  0  0  0  0  0  0\\n    1.8149    1.3991    1.0035 C   0  0  0  0  0  0  0  0  0  0  0  0\\n    1.9158    2.3566   -0.0862 C   0  0  0  0  0  0  0  0  0  0  0  0\\n    2.0832    1.9562    2.2523 O   0  0  0  0  0  0  0  0  0  0  0  0\\n    1.7113   -1.0728    0.6550 C   0  0  0  0  0  0  0  0  0  0  0  0\\n    2.3236   -2.3159    0.9208 C   0  0  0  0  0  0  0  0  0  0  0  0\\n    1.5940   -3.4556    0.7550 C   0  0  0  0  0  0  0  0  0  0  0  0\\n    0.2619   -3.4119    0.3297 C   0  0  0  0  0  0  0  0  0  0  0  0\\n   -0.3160   -2.1872    0.0803 C   0  0  0  0  0  0  0  0  0  0  0  0\\n    0.3983   -1.0190    0.2415 C   0  0  0  0  0  0  0  0  0  0  0  0\\n   -0.2240    0.1340    0.0072 O   0  0  0  0  0  0  0  0  0  0  0  0\\n   -1.4799    0.1584   -0.3655 C   0  0  0  0  0  0  0  0  0  0  0  0\\n   -2.2290   -1.0181   -0.5396 C   0  0  0  0  0  0  0  0  0  0  0  0\\n   -1.6311   -2.2152   -0.3059 C   0  0  0  0  0  0  0  0  0  0  0  0\\n   -2.2593   -3.3012   -0.4356 O   0  0  0  0  0  0  0  0  0  0  0  0\\n   -2.2545    1.3744   -0.6234 C   0  0  0  0  0  0  0  0  0  0  0  0\\n   -1.7484    2.6305   -0.4813 C   0  0  0  0  0  0  0  0  0  0  0  0\\n   -2.5065    3.7639   -0.6671 C   0  0  0  0  0  0  0  0  0  0  0  0\\n   -3.8333    3.6271   -1.0072 C   0  0  0  0  0  0  0  0  0  0  0  0\\n   -4.3918    2.3859   -1.1622 C   0  0  0  0  0  0  0  0  0  0  0  0\\n   -3.6034    1.2754   -0.9724 C   0  0  0  0  0  0  0  0  0  0  0  0\\n   -4.3412   -0.2954   -1.1944 Cl  0  0  0  0  0  0  0  0  0  0  0  0\\n   -0.4508   -4.5944    0.1752 O   0  0  0  0  0  0  0  0  0  0  0  0\\n    3.6510   -2.3586    1.3500 O   0  0  0  0  0  0  0  0  0  0  0  0\\n    2.6170    2.1556   -1.2879 N   0  0  0  0  0  0  0  0  0  0  0  0\\n  1 28  1  0\\n  2  3  1  0\\n  2 28  1  0\\n  3  4  1  0\\n  4  5  1  0\\n  4  8  1  0\\n  5  6  1  0\\n  5  7  1  0\\n  6 28  1  0\\n  8 13  1  0\\n  8  9  2  0\\n  9 10  1  0\\n  9 27  1  0\\n 10 11  2  0\\n 11 12  1  0\\n 11 26  1  0\\n 12 17  1  0\\n 12 13  2  0\\n 13 14  1  0\\n 14 15  1  0\\n 15 16  2  0\\n 15 19  1  0\\n 16 17  1  0\\n 17 18  2  0\\n 19 24  1  0\\n 19 20  2  0\\n 20 21  1  0\\n 21 22  2  0\\n 22 23  1  0\\n 23 24  2  0\\n 24 25  1  0\\nM  CHG  1  28   1\\nM  END\\n\",\"sdf\");\n",
       "\tviewer_149867224316.setStyle({},{\"stick\": {\"colorscheme\": \"default\"}});\n",
       "\n",
       "                viewer_149867224316.render();\n",
       "            });\n",
       "            </script>"
      ],
      "text/plain": [
       "<IPython.core.display.HTML object>"
      ]
     },
     "metadata": {},
     "output_type": "display_data"
    },
    {
     "data": {
      "text/html": [
       "<script>\n",
       "            $3Dmolpromise.done(function() { //wrap in promise for non-interactive functionality\n",
       "                \tviewer_149867224316.removeAllModels();\n",
       "\tviewer_149867224316.removeAllSurfaces();\n",
       "\tviewer_149867224316.removeAllLabels();\n",
       "\tviewer_149867224316.addModel(\"ZINC04617745\\n     RDKit          3D\\n\\n 28 31  0  0  1  0  0  0  0  0999 V2000\\n    3.8454    2.9751   -1.3790 C   0  0  0  0  0  0  0  0  0  0  0  0\\n    2.9417    0.7278   -1.5177 C   0  0  0  0  0  0  0  0  0  0  0  0\\n    3.5376    0.2504   -0.2445 C   0  0  0  0  0  0  0  0  0  0  0  0\\n    2.5734    0.0749    0.9231 C   0  0  0  0  0  0  0  0  0  0  0  0\\n    1.8149    1.3991    1.0035 C   0  0  0  0  0  0  0  0  0  0  0  0\\n    1.9158    2.3566   -0.0862 C   0  0  0  0  0  0  0  0  0  0  0  0\\n    2.0832    1.9562    2.2523 O   0  0  0  0  0  0  0  0  0  0  0  0\\n    1.7113   -1.0728    0.6550 C   0  0  0  0  0  0  0  0  0  0  0  0\\n    2.3236   -2.3159    0.9208 C   0  0  0  0  0  0  0  0  0  0  0  0\\n    1.5940   -3.4556    0.7550 C   0  0  0  0  0  0  0  0  0  0  0  0\\n    0.2619   -3.4119    0.3297 C   0  0  0  0  0  0  0  0  0  0  0  0\\n   -0.3160   -2.1872    0.0803 C   0  0  0  0  0  0  0  0  0  0  0  0\\n    0.3983   -1.0190    0.2415 C   0  0  0  0  0  0  0  0  0  0  0  0\\n   -0.2240    0.1340    0.0072 O   0  0  0  0  0  0  0  0  0  0  0  0\\n   -1.4799    0.1584   -0.3655 C   0  0  0  0  0  0  0  0  0  0  0  0\\n   -2.2290   -1.0181   -0.5396 C   0  0  0  0  0  0  0  0  0  0  0  0\\n   -1.6311   -2.2152   -0.3059 C   0  0  0  0  0  0  0  0  0  0  0  0\\n   -2.2593   -3.3012   -0.4356 O   0  0  0  0  0  0  0  0  0  0  0  0\\n   -2.2545    1.3744   -0.6234 C   0  0  0  0  0  0  0  0  0  0  0  0\\n   -1.7484    2.6305   -0.4813 C   0  0  0  0  0  0  0  0  0  0  0  0\\n   -2.5065    3.7639   -0.6671 C   0  0  0  0  0  0  0  0  0  0  0  0\\n   -3.8333    3.6271   -1.0072 C   0  0  0  0  0  0  0  0  0  0  0  0\\n   -4.3918    2.3859   -1.1622 C   0  0  0  0  0  0  0  0  0  0  0  0\\n   -3.6034    1.2754   -0.9724 C   0  0  0  0  0  0  0  0  0  0  0  0\\n   -4.3412   -0.2954   -1.1944 Cl  0  0  0  0  0  0  0  0  0  0  0  0\\n   -0.4508   -4.5944    0.1752 O   0  0  0  0  0  0  0  0  0  0  0  0\\n    3.6510   -2.3586    1.3500 O   0  0  0  0  0  0  0  0  0  0  0  0\\n    2.6170    2.1556   -1.2879 N   0  0  0  0  0  0  0  0  0  0  0  0\\n  1 28  1  0\\n  2  3  1  0\\n  2 28  1  0\\n  3  4  1  0\\n  4  5  1  0\\n  4  8  1  0\\n  5  6  1  0\\n  5  7  1  0\\n  6 28  1  0\\n  8 13  1  0\\n  8  9  2  0\\n  9 10  1  0\\n  9 27  1  0\\n 10 11  2  0\\n 11 12  1  0\\n 11 26  1  0\\n 12 17  1  0\\n 12 13  2  0\\n 13 14  1  0\\n 14 15  1  0\\n 15 16  2  0\\n 15 19  1  0\\n 16 17  1  0\\n 17 18  2  0\\n 19 24  1  0\\n 19 20  2  0\\n 20 21  1  0\\n 21 22  2  0\\n 22 23  1  0\\n 23 24  2  0\\n 24 25  1  0\\nM  CHG  1  28   1\\nM  END\\n\",\"sdf\");\n",
       "\tviewer_149867224316.setStyle({},{\"stick\": {\"colorscheme\": \"default\"}});\n",
       "\n",
       "                viewer_149867224316.render();\n",
       "            });\n",
       "            </script>"
      ],
      "text/plain": [
       "<IPython.core.display.HTML object>"
      ]
     },
     "metadata": {},
     "output_type": "display_data"
    },
    {
     "data": {
      "text/html": [
       "<script>\n",
       "            $3Dmolpromise.done(function() { //wrap in promise for non-interactive functionality\n",
       "                \tviewer_149867224316.removeAllModels();\n",
       "\tviewer_149867224316.removeAllSurfaces();\n",
       "\tviewer_149867224316.removeAllLabels();\n",
       "\tviewer_149867224316.addModel(\"ZINC04617745\\n     RDKit          3D\\n\\n 28 31  0  0  1  0  0  0  0  0999 V2000\\n    3.8454    2.9751   -1.3790 C   0  0  0  0  0  0  0  0  0  0  0  0\\n    2.9417    0.7278   -1.5177 C   0  0  0  0  0  0  0  0  0  0  0  0\\n    3.5376    0.2504   -0.2445 C   0  0  0  0  0  0  0  0  0  0  0  0\\n    2.5734    0.0749    0.9231 C   0  0  0  0  0  0  0  0  0  0  0  0\\n    1.8149    1.3991    1.0035 C   0  0  0  0  0  0  0  0  0  0  0  0\\n    1.9158    2.3566   -0.0862 C   0  0  0  0  0  0  0  0  0  0  0  0\\n    2.0832    1.9562    2.2523 O   0  0  0  0  0  0  0  0  0  0  0  0\\n    1.7113   -1.0728    0.6550 C   0  0  0  0  0  0  0  0  0  0  0  0\\n    2.3236   -2.3159    0.9208 C   0  0  0  0  0  0  0  0  0  0  0  0\\n    1.5940   -3.4556    0.7550 C   0  0  0  0  0  0  0  0  0  0  0  0\\n    0.2619   -3.4119    0.3297 C   0  0  0  0  0  0  0  0  0  0  0  0\\n   -0.3160   -2.1872    0.0803 C   0  0  0  0  0  0  0  0  0  0  0  0\\n    0.3983   -1.0190    0.2415 C   0  0  0  0  0  0  0  0  0  0  0  0\\n   -0.2240    0.1340    0.0072 O   0  0  0  0  0  0  0  0  0  0  0  0\\n   -1.4799    0.1584   -0.3655 C   0  0  0  0  0  0  0  0  0  0  0  0\\n   -2.2290   -1.0181   -0.5396 C   0  0  0  0  0  0  0  0  0  0  0  0\\n   -1.6311   -2.2152   -0.3059 C   0  0  0  0  0  0  0  0  0  0  0  0\\n   -2.2593   -3.3012   -0.4356 O   0  0  0  0  0  0  0  0  0  0  0  0\\n   -2.2545    1.3744   -0.6234 C   0  0  0  0  0  0  0  0  0  0  0  0\\n   -1.7484    2.6305   -0.4813 C   0  0  0  0  0  0  0  0  0  0  0  0\\n   -2.5065    3.7639   -0.6671 C   0  0  0  0  0  0  0  0  0  0  0  0\\n   -3.8333    3.6271   -1.0072 C   0  0  0  0  0  0  0  0  0  0  0  0\\n   -4.3918    2.3859   -1.1622 C   0  0  0  0  0  0  0  0  0  0  0  0\\n   -3.6034    1.2754   -0.9724 C   0  0  0  0  0  0  0  0  0  0  0  0\\n   -4.3412   -0.2954   -1.1944 Cl  0  0  0  0  0  0  0  0  0  0  0  0\\n   -0.4508   -4.5944    0.1752 O   0  0  0  0  0  0  0  0  0  0  0  0\\n    3.6510   -2.3586    1.3500 O   0  0  0  0  0  0  0  0  0  0  0  0\\n    2.6170    2.1556   -1.2879 N   0  0  0  0  0  0  0  0  0  0  0  0\\n  1 28  1  0\\n  2  3  1  0\\n  2 28  1  0\\n  3  4  1  0\\n  4  5  1  0\\n  4  8  1  0\\n  5  6  1  0\\n  5  7  1  0\\n  6 28  1  0\\n  8 13  1  0\\n  8  9  2  0\\n  9 10  1  0\\n  9 27  1  0\\n 10 11  2  0\\n 11 12  1  0\\n 11 26  1  0\\n 12 17  1  0\\n 12 13  2  0\\n 13 14  1  0\\n 14 15  1  0\\n 15 16  2  0\\n 15 19  1  0\\n 16 17  1  0\\n 17 18  2  0\\n 19 24  1  0\\n 19 20  2  0\\n 20 21  1  0\\n 21 22  2  0\\n 22 23  1  0\\n 23 24  2  0\\n 24 25  1  0\\nM  CHG  1  28   1\\nM  END\\n\",\"sdf\");\n",
       "\tviewer_149867224316.setStyle({},{\"stick\": {\"colorscheme\": \"default\"}});\n",
       "\n",
       "                viewer_149867224316.render();\n",
       "            });\n",
       "            </script>"
      ],
      "text/plain": [
       "<IPython.core.display.HTML object>"
      ]
     },
     "metadata": {},
     "output_type": "display_data"
    }
   ],
   "source": [
    "browseMolConformers(ms2,view2,confId=(0, 9),useDrawAs=True,drawAs='stick')"
   ]
  },
  {
   "cell_type": "code",
   "execution_count": 12,
   "metadata": {},
   "outputs": [
    {
     "data": {
      "text/html": [
       "<script>\n",
       "            $3Dmolpromise.done(function() { //wrap in promise for non-interactive functionality\n",
       "                \tviewer_149867224316.zoomTo();\n",
       "\n",
       "                viewer_149867224316.render();\n",
       "            });\n",
       "            </script>"
      ],
      "text/plain": [
       "<IPython.core.display.HTML object>"
      ]
     },
     "execution_count": 12,
     "metadata": {},
     "output_type": "execute_result"
    }
   ],
   "source": [
    "view2.zoomTo()\n",
    "view2.update()"
   ]
  },
  {
   "cell_type": "code",
   "execution_count": 13,
   "metadata": {},
   "outputs": [
    {
     "data": {
      "text/html": [
       "<script>\n",
       "            $3Dmolpromise.done(function() { //wrap in promise for non-interactive functionality\n",
       "                \tviewer_149867224316.setBackgroundColor(\"0xeeeeee\");\n",
       "\n",
       "                viewer_149867224316.render();\n",
       "            });\n",
       "            </script>"
      ],
      "text/plain": [
       "<IPython.core.display.HTML object>"
      ]
     },
     "execution_count": 13,
     "metadata": {},
     "output_type": "execute_result"
    }
   ],
   "source": [
    "# Changing background color is possible too\n",
    "view2.setBackgroundColor('0xeeeeee')\n",
    "view2.update()"
   ]
  },
  {
   "cell_type": "markdown",
   "metadata": {},
   "source": [
    "# Tutorial on accessing Mol object"
   ]
  },
  {
   "cell_type": "code",
   "execution_count": 14,
   "metadata": {
    "collapsed": true
   },
   "outputs": [],
   "source": [
    "### Mol obj with existing property\n",
    "#OwningMol=ms2[0].GetConformer(0).GetOwningMol()\n",
    "#OwningMol.GetProp('id')"
   ]
  },
  {
   "cell_type": "code",
   "execution_count": 15,
   "metadata": {
    "collapsed": true
   },
   "outputs": [],
   "source": [
    "### Mol obj with NO existing property\n",
    "#OwningMol=ms[0][1].GetConformer(0).GetOwningMol()\n",
    "#available_properties=list(OwningMol.GetPropNames())\n",
    "#print(available_properties)\n",
    "#print(len(available_properties))"
   ]
  },
  {
   "cell_type": "code",
   "execution_count": null,
   "metadata": {
    "collapsed": true
   },
   "outputs": [],
   "source": []
  },
  {
   "cell_type": "code",
   "execution_count": null,
   "metadata": {
    "collapsed": true
   },
   "outputs": [],
   "source": []
  }
 ],
 "metadata": {
  "kernelspec": {
   "display_name": "Python 2",
   "language": "python",
   "name": "python2"
  },
  "language_info": {
   "codemirror_mode": {
    "name": "ipython",
    "version": 2
   },
   "file_extension": ".py",
   "mimetype": "text/x-python",
   "name": "python",
   "nbconvert_exporter": "python",
   "pygments_lexer": "ipython2",
   "version": "2.7.13"
  }
 },
 "nbformat": 4,
 "nbformat_minor": 2
}
