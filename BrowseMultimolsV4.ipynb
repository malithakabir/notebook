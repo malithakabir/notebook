{
 "cells": [
  {
   "cell_type": "markdown",
   "metadata": {
    "deletable": true,
    "editable": true
   },
   "source": [
    "### Title: Browse multiple molecules\n",
    "# Description: browsing multiple molecules, each of which has multiple conformations\n",
    "Derived from Gerg's code by Malitha \n",
    "(Updated: 23th June 2017)"
   ]
  },
  {
   "cell_type": "code",
   "execution_count": 12,
   "metadata": {
    "collapsed": true,
    "deletable": true,
    "editable": true
   },
   "outputs": [],
   "source": [
    "import os\n",
    "import py3Dmol\n",
    "from rdkit import Chem\n",
    "from rdkit.Chem import AllChem\n",
    "from ipywidgets import interact, interactive, fixed\n",
    "import ipywidgets as widgets\n",
    "from IPython.display import display\n",
    "from time import time"
   ]
  },
  {
   "cell_type": "markdown",
   "metadata": {
    "deletable": true,
    "editable": true
   },
   "source": [
    "# Definition: Default Rendering Style"
   ]
  },
  {
   "cell_type": "code",
   "execution_count": 13,
   "metadata": {
    "collapsed": true,
    "deletable": true,
    "editable": true
   },
   "outputs": [],
   "source": [
    "global myGlobalStyle\n",
    "molSize_3d = (400, 400)\n",
    "myGlobalStyle = 'stick' # default drawing type for 3d structures # line cross stick cartoon sphere\n",
    "bgcolor_3d = '0xeeeeee'\n",
    "\n",
    " "
   ]
  },
  {
   "cell_type": "markdown",
   "metadata": {
    "deletable": true,
    "editable": true
   },
   "source": [
    "# Generate Conformers"
   ]
  },
  {
   "cell_type": "code",
   "execution_count": 14,
   "metadata": {
    "collapsed": false,
    "deletable": true,
    "editable": true
   },
   "outputs": [],
   "source": [
    "data = [('m1','COc1ccc2[nH]c([S@@+]([O-])Cc3ncc(C)c(OC)c3C)nc2c1'),\n",
    "       ('m2','COc1ccc2[nH]c([S@+]([O-])Cc3ncc(C)c(OC)c3C)nc2c1'),\n",
    "       ('m3','COc1ccc2[nH]c([S+]([O-])Cc3ncc(C)c(OC)c3C)nc2c1'),\n",
    "       ('m4','CCOc1ccc2[nH]c([S@@+]([O-])Cc3ncc(C)c(OCCC)c3C)nc2c1')]\n",
    "ms = [(x,Chem.AddHs(Chem.MolFromSmiles(y))) for x,y in data]\n",
    "params = AllChem.ETKDG()\n",
    "params.numThreads=3\n",
    "for nm,m in ms:\n",
    "    AllChem.EmbedMultipleConfs(m,numConfs=10,params=params)\n",
    "    # align to one of the ring systems:\n",
    "    AllChem.AlignMolConformers(m,m.GetSubstructMatch(Chem.MolFromSmarts('c1[nH]c2ccccc2n1')))\n"
   ]
  },
  {
   "cell_type": "markdown",
   "metadata": {
    "deletable": true,
    "editable": true
   },
   "source": [
    "# Required functions for scrolling capability"
   ]
  },
  {
   "cell_type": "code",
   "execution_count": 15,
   "metadata": {
    "collapsed": false,
    "deletable": true,
    "editable": true
   },
   "outputs": [],
   "source": [
    "\n",
    "def startViewer(size=None,bgcolor=None):\n",
    "    if size is None:\n",
    "        size=molSize_3d\n",
    "    if bgcolor is None:\n",
    "        bgcolor=bgcolor_3d\n",
    "    view = py3Dmol.view(width=size[0],height=size[1])\n",
    "    view.setBackgroundColor(bgcolor)\n",
    "    return view\n",
    "\n",
    "\n",
    "def processSuppliedMolFor3DViewer(ms):\n",
    "    \n",
    "    try:\n",
    "        # list of tuple (name + mol obj) # dict key possible\n",
    "        # ms = [('m1', <rdkit.Chem.rdchem.Mol at 0x7246d88>),\n",
    "        # ('m2', <rdkit.Chem.rdchem.Mol at 0x7246ea0>),\n",
    "        # ('m3', <rdkit.Chem.rdchem.Mol at 0x7246ed8>),\n",
    "        # ('m4', <rdkit.Chem.rdchem.Mol at 0x7246f10>)]\n",
    "        moldict = dict(ms)\n",
    "        \n",
    "    except TypeError:\n",
    "        \n",
    "        if type(ms) is tuple:\n",
    "            # Not list single tuple (name + mol obj) # dict key possible\n",
    "            # ms = ('m1', <rdkit.Chem.rdchem.Mol at 0x7246d88>)\n",
    "            moldict=list()\n",
    "            moldict.append(ms)\n",
    "            moldict = dict(moldict)\n",
    "        elif hasattr(ms, '__iter__') is False:\n",
    "            # rdkit.Chem.rdchem.Mol\n",
    "            # Not list... mol obj only ... no name... no dict key possible from such list...\n",
    "            # So, generate dict key\n",
    "            # ms = <rdkit.Chem.rdchem.Mol object at 0x07246D88>\n",
    "            moldict=list()\n",
    "            moldict.append(('m0', ms))\n",
    "            moldict = dict(moldict)\n",
    "        elif type(ms) is list:\n",
    "            # list of mol obj only ... no name... no dict key possible from such list...\n",
    "            # So, generate dict key\n",
    "            # ms = [<rdkit.Chem.rdchem.Mol at 0x7246d88>,\n",
    "            # <rdkit.Chem.rdchem.Mol at 0x7246ea0>,\n",
    "            # <rdkit.Chem.rdchem.Mol at 0x7246ed8>,\n",
    "            # <rdkit.Chem.rdchem.Mol at 0x7246f10>]\n",
    "            ms_name=['m'+str(x) for x in range(len(ms))]\n",
    "            ms2=[(ms_name[i],ms[i]) for i in range(len(ms))]\n",
    "            moldict = dict(ms2)\n",
    "    return moldict\n",
    "    \n",
    "def addMolToViewForScrolling(category,mols,view,confId,\n",
    "                             useDrawAs,drawAs, \n",
    "                             showConfLabel, \n",
    "                             showAtomLabel,\n",
    "                             molColorScheme):\n",
    "    \n",
    "    mol = mols[category]\n",
    "    conf_selected=mol.GetConformer(confId)\n",
    "    xyz=conf_selected.GetPositions()\n",
    "    \n",
    "    view.removeAllModels()\n",
    "    view.removeAllSurfaces()\n",
    "    view.removeAllLabels()\n",
    "    \n",
    "    if mol.GetNumAtoms()>=999 or drawAs == 'cartoon':\n",
    "        # py3DMol is happier with TER and MASTER records present\n",
    "        pdb = Chem.MolToPDBBlock(mol,flavor=0x20|0x10)\n",
    "        view.addModel(pdb,'pdb')\n",
    "    else:\n",
    "        # py3Dmol does not currently support v3k mol files, so\n",
    "        # we can only provide those with \"smaller\" molecules\n",
    "        mb = Chem.MolToMolBlock(mol,confId=confId)\n",
    "        view.addModel(mb,'sdf')\n",
    "        \n",
    "        \n",
    "    global myGlobalStyle    \n",
    "    if useDrawAs is False:\n",
    "        #use from globalStyle\n",
    "        view.setStyle({},{myGlobalStyle:{'colorscheme': molColorScheme}})\n",
    "    else:\n",
    "        #update global style and use that\n",
    "        myGlobalStyle = drawAs\n",
    "        view.setStyle({},{myGlobalStyle:{'colorscheme': molColorScheme}})\n",
    "    \n",
    "    # This is exception for surface\n",
    "    if drawAs is 'surface':\n",
    "        view.addSurface({}, '$3Dmol.SurfaceType.VDW');\n",
    "        \n",
    "    if drawAs is 'ballstick':\n",
    "        view.setStyle({},{'stick':{'radius':'0.2','colorscheme': molColorScheme},\n",
    "                          'sphere':{'radius':'0.4', 'colorscheme': molColorScheme}}\n",
    "                     );\n",
    "    \n",
    "    if showConfLabel is True:\n",
    "        label=category+':'+str(confId)\n",
    "        view.addLabel(label, {'backgroundColor':'gray', 'fontColor':'white',\n",
    "                              'showBackground':'true', 'alignment':'bottomCenter'})\n",
    "        #view.addLabel(label, {'alignment':'topCenter','backgroundColor':'red'})\n",
    "    \n",
    "    if showAtomLabel is True:\n",
    "        \n",
    "        OwningMol=conf_selected.GetOwningMol()\n",
    "        label_create=[OwningMol.GetAtomWithIdx(i).GetSymbol()+\n",
    "                      str(OwningMol.GetAtomWithIdx(i).GetIdx()+1) \n",
    "                      for i in range(conf_selected.GetNumAtoms())\n",
    "                     ]\n",
    "        \n",
    "        i = None\n",
    "        for i in range(conf_selected.GetNumAtoms()):\n",
    "            view.addLabel(label_create[i], {'inFront' : 'false', \n",
    "                                            'fontSize' : '12',\n",
    "                                            'fontColor':'gray',\n",
    "                                            'showBackground':'false',\n",
    "                                            'position' : {'x' : xyz[i][0],\n",
    "                                                          'y' : xyz[i][1],\n",
    "                                                          'z' : xyz[i][2]\n",
    "                                                       }\n",
    "                                           })\n",
    "    \n",
    "    #print(drawAs)\n",
    "    # zoomTo does not work well for surface and label... so, zoomTo should not be default settings\n",
    "    #view.zoomTo()\n",
    "    return view.update()\n",
    "\n",
    "\n",
    "def browseMolConformers(ms,view, confId=None, useDrawAs=False, drawAs=None, showConfLabel=None, showAtomLabel=None):\n",
    "    \n",
    "    drawing_type_3d=['line', 'cross', 'stick', 'cartoon', 'sphere', 'surface', 'ballstick']\n",
    "    color_scheme_3d=['default', 'greenCarbon', 'cyanCarbon', 'magentaCarbon', \n",
    "                     'yellowCarbon', 'whiteCarbon', 'orangeCarbon', 'purpleCarbon', \n",
    "                     'blueCarbon', 'ssPyMOL', 'ssJmol', 'Jmol', 'amino', \n",
    "                     'shapely', 'nucleic', 'chain', 'chainHetatm', 'prop']\n",
    "\n",
    "    global myGlobalStyle\n",
    "    \n",
    "    if useDrawAs is False:\n",
    "        # Then go with default settings\n",
    "        drawAs = myGlobalStyle\n",
    "        style_use_logical = widgets.Dropdown(options=[False, True],value=False)\n",
    "        \n",
    "        # To do: showing massage is argument mismatched\n",
    "        # Something like the following\n",
    "        #if drawAs is not None:\n",
    "            #print('drawAs set to stick as you choose useDrawAs=False')\n",
    "            \n",
    "        \n",
    "    else:\n",
    "        style_use_logical = widgets.Dropdown(options=[False, True],value=True)\n",
    "        # Use user supplied drawAS\n",
    "        if drawAs is None:\n",
    "            # User forgot to provide drawAs argument\n",
    "            drawAs = myGlobalStyle\n",
    "        else:\n",
    "            # User supplied drawAs argument while useDrawAs is True\n",
    "            myGlobalStyle = drawAs\n",
    "        \n",
    "    \n",
    "    # This is widget for model style\n",
    "    style_widget = widgets.Dropdown(options=drawing_type_3d,value=drawAs)\n",
    "    \n",
    "    # This is widget for conformer label\n",
    "    if showConfLabel is not True:\n",
    "        mol_labeling_widget = widgets.Checkbox(value=False)\n",
    "    else:\n",
    "        mol_labeling_widget = widgets.Checkbox(value=False)\n",
    "    \n",
    "    \n",
    "    # This is widget for atom label of each conformers\n",
    "    if showAtomLabel is not True:\n",
    "        atom_labeling_widget = widgets.Checkbox(value=False)\n",
    "    else:\n",
    "        atom_labeling_widget = widgets.Checkbox(value=False)\n",
    "    \n",
    "    \n",
    "    # processing supplied object that contains molecules\n",
    "    moldict = processSuppliedMolFor3DViewer(ms)\n",
    "    \n",
    "    \n",
    "    result=interact(addMolToViewForScrolling, \n",
    "                    category=list(moldict.keys()), \n",
    "                    mols=fixed(moldict),\n",
    "                    view=fixed(view),\n",
    "                    confId=confId, \n",
    "                    useDrawAs=style_use_logical,\n",
    "                    drawAs=style_widget,\n",
    "                    showConfLabel=mol_labeling_widget,\n",
    "                    showAtomLabel=atom_labeling_widget,\n",
    "                    molColorScheme=color_scheme_3d);\n",
    "    return result\n",
    "\n"
   ]
  },
  {
   "cell_type": "markdown",
   "metadata": {
    "deletable": true,
    "editable": true
   },
   "source": [
    "# Browse mols and confs"
   ]
  },
  {
   "cell_type": "code",
   "execution_count": 17,
   "metadata": {
    "collapsed": false,
    "deletable": true,
    "editable": true,
    "scrolled": false
   },
   "outputs": [
    {
     "data": {
      "text/html": [
       "<div id=\"3dmolviewer_149821720189\"  style=\"position: relative; width: 400px; height: 400px\">\n",
       "<script>\n",
       "if(typeof $3Dmolpromise === 'undefined') $3Dmolpromise = $.when($.getScript('https://3dmol.csb.pitt.edu/build/3Dmol.js'))\n",
       "var viewer_149821720189 = null;\n",
       "$3Dmolpromise.done(function() {\n",
       "viewer_149821720189 = $3Dmol.createViewer($(\"#3dmolviewer_149821720189\"),{backgroundColor:\"white\"});\n",
       "\tviewer_149821720189.setBackgroundColor(\"black\");\n",
       "viewer_149821720189.render();\n",
       "});\n",
       "</script>"
      ],
      "text/plain": [
       "<IPython.core.display.HTML object>"
      ]
     },
     "execution_count": 17,
     "metadata": {},
     "output_type": "execute_result"
    }
   ],
   "source": [
    "view=startViewer(bgcolor='black')\n",
    "#view=startViewer()\n",
    "view.show()"
   ]
  },
  {
   "cell_type": "code",
   "execution_count": 11,
   "metadata": {
    "collapsed": false,
    "deletable": true,
    "editable": true
   },
   "outputs": [
    {
     "data": {
      "text/html": [
       "<script>\n",
       "            $3Dmolpromise.done(function() { //wrap in promise for non-interactive functionality\n",
       "                \tviewer_14982170555.removeAllModels();\n",
       "\tviewer_14982170555.removeAllSurfaces();\n",
       "\tviewer_14982170555.removeAllLabels();\n",
       "\tviewer_14982170555.addModel(\"\\n     RDKit          3D\\n\\n 52 54  0  0  0  0  0  0  0  0999 V2000\\n    8.8797    0.3283    0.8837 C   0  0  0  0  0  0  0  0  0  0  0  0\\n    8.8543   -1.1332    0.5004 C   0  0  0  0  0  0  0  0  0  0  0  0\\n    8.0571   -1.3028   -0.6179 O   0  0  0  0  0  0  0  0  0  0  0  0\\n    6.7107   -1.0142   -0.7246 C   0  0  0  0  0  0  0  0  0  0  0  0\\n    6.1016   -1.2583   -1.9620 C   0  0  0  0  0  0  0  0  0  0  0  0\\n    4.7642   -0.9911   -2.1278 C   0  0  0  0  0  0  0  0  0  0  0  0\\n    4.0019   -0.4834   -1.0931 C   0  0  0  0  0  0  0  0  0  0  0  0\\n    2.6955   -0.1335   -0.9730 N   0  0  0  0  0  0  0  0  0  0  0  0\\n    2.4311    0.3157    0.2537 C   0  0  0  0  0  0  0  0  0  0  0  0\\n    0.8647    0.8673    0.8177 S   0  0  0  0  0  0  0  0  0  0  0  0\\n    0.0629   -0.5093    1.3924 O   0  0  0  0  0  0  0  0  0  0  0  0\\n   -0.0262    1.3363   -0.6541 C   0  0  0  0  0  0  0  0  0  0  0  0\\n   -1.3528    1.8095   -0.2469 C   0  0  0  0  0  0  0  0  0  0  0  0\\n   -1.6900    1.8268    1.0442 N   0  0  0  0  0  0  0  0  0  0  0  0\\n   -2.8929    2.2516    1.4632 C   0  0  0  0  0  0  0  0  0  0  0  0\\n   -3.8684    2.7004    0.5986 C   0  0  0  0  0  0  0  0  0  0  0  0\\n   -5.2006    3.1677    1.0994 C   0  0  0  0  0  0  0  0  0  0  0  0\\n   -3.5525    2.6958   -0.7439 C   0  0  0  0  0  0  0  0  0  0  0  0\\n   -4.5172    3.1418   -1.6226 O   0  0  0  0  0  0  0  0  0  0  0  0\\n   -5.4860    2.3249   -2.2231 C   0  0  0  0  0  0  0  0  0  0  0  0\\n   -6.4186    3.0540   -3.1389 C   0  0  0  0  0  0  0  0  0  0  0  0\\n   -7.2081    4.1353   -2.4915 C   0  0  0  0  0  0  0  0  0  0  0  0\\n   -2.3108    2.2545   -1.1433 C   0  0  0  0  0  0  0  0  0  0  0  0\\n   -1.9550    2.2424   -2.5769 C   0  0  0  0  0  0  0  0  0  0  0  0\\n    3.5965    0.2458    0.9159 N   0  0  0  0  0  0  0  0  0  0  0  0\\n    4.5773   -0.2341    0.1355 C   0  0  0  0  0  0  0  0  0  0  0  0\\n    5.9206   -0.5112    0.2746 C   0  0  0  0  0  0  0  0  0  0  0  0\\n    8.1938    0.9040    0.2592 H   0  0  0  0  0  0  0  0  0  0  0  0\\n    8.6853    0.4271    1.9797 H   0  0  0  0  0  0  0  0  0  0  0  0\\n    9.8964    0.7501    0.7270 H   0  0  0  0  0  0  0  0  0  0  0  0\\n    9.8940   -1.5143    0.2926 H   0  0  0  0  0  0  0  0  0  0  0  0\\n    8.5193   -1.7651    1.3757 H   0  0  0  0  0  0  0  0  0  0  0  0\\n    6.7155   -1.6596   -2.7711 H   0  0  0  0  0  0  0  0  0  0  0  0\\n    4.3239   -1.1921   -3.1003 H   0  0  0  0  0  0  0  0  0  0  0  0\\n    2.0192   -0.2189   -1.7575 H   0  0  0  0  0  0  0  0  0  0  0  0\\n   -0.0553    0.5099   -1.3894 H   0  0  0  0  0  0  0  0  0  0  0  0\\n    0.5098    2.1759   -1.1878 H   0  0  0  0  0  0  0  0  0  0  0  0\\n   -3.1241    2.2471    2.5369 H   0  0  0  0  0  0  0  0  0  0  0  0\\n   -5.1501    3.5218    2.1303 H   0  0  0  0  0  0  0  0  0  0  0  0\\n   -5.5975    4.0049    0.4832 H   0  0  0  0  0  0  0  0  0  0  0  0\\n   -5.9458    2.3509    1.0178 H   0  0  0  0  0  0  0  0  0  0  0  0\\n   -6.0912    1.8500   -1.4246 H   0  0  0  0  0  0  0  0  0  0  0  0\\n   -4.9500    1.5636   -2.8311 H   0  0  0  0  0  0  0  0  0  0  0  0\\n   -5.8511    3.5228   -3.9943 H   0  0  0  0  0  0  0  0  0  0  0  0\\n   -7.1191    2.3400   -3.6175 H   0  0  0  0  0  0  0  0  0  0  0  0\\n   -7.4208    3.8024   -1.4334 H   0  0  0  0  0  0  0  0  0  0  0  0\\n   -8.1820    4.2253   -2.9858 H   0  0  0  0  0  0  0  0  0  0  0  0\\n   -6.6670    5.0995   -2.4095 H   0  0  0  0  0  0  0  0  0  0  0  0\\n   -1.6833    1.2086   -2.8880 H   0  0  0  0  0  0  0  0  0  0  0  0\\n   -1.0267    2.8472   -2.6829 H   0  0  0  0  0  0  0  0  0  0  0  0\\n   -2.7629    2.5603   -3.2364 H   0  0  0  0  0  0  0  0  0  0  0  0\\n    6.3605   -0.3185    1.2396 H   0  0  0  0  0  0  0  0  0  0  0  0\\n  1  2  1  0\\n  2  3  1  0\\n  3  4  1  0\\n  4  5  2  0\\n  5  6  1  0\\n  6  7  2  0\\n  7  8  1  0\\n  8  9  1  0\\n  9 10  1  0\\n 10 11  1  1\\n 10 12  1  0\\n 12 13  1  0\\n 13 14  2  0\\n 14 15  1  0\\n 15 16  2  0\\n 16 17  1  0\\n 16 18  1  0\\n 18 19  1  0\\n 19 20  1  0\\n 20 21  1  0\\n 21 22  1  0\\n 18 23  2  0\\n 23 24  1  0\\n  9 25  2  0\\n 25 26  1  0\\n 26 27  2  0\\n 27  4  1  0\\n 26  7  1  0\\n 23 13  1  0\\n  1 28  1  0\\n  1 29  1  0\\n  1 30  1  0\\n  2 31  1  0\\n  2 32  1  0\\n  5 33  1  0\\n  6 34  1  0\\n  8 35  1  0\\n 12 36  1  0\\n 12 37  1  0\\n 15 38  1  0\\n 17 39  1  0\\n 17 40  1  0\\n 17 41  1  0\\n 20 42  1  0\\n 20 43  1  0\\n 21 44  1  0\\n 21 45  1  0\\n 22 46  1  0\\n 22 47  1  0\\n 22 48  1  0\\n 24 49  1  0\\n 24 50  1  0\\n 24 51  1  0\\n 27 52  1  0\\nM  CHG  2  10   1  11  -1\\nM  END\\n\",\"sdf\");\n",
       "\tviewer_14982170555.setStyle({},{\"stick\": {\"colorscheme\": \"default\"}});\n",
       "\n",
       "                viewer_14982170555.render();\n",
       "            });\n",
       "            </script>"
      ],
      "text/plain": [
       "<IPython.core.display.HTML object>"
      ]
     },
     "metadata": {},
     "output_type": "display_data"
    },
    {
     "data": {
      "text/plain": [
       "<function __main__.addMolToViewForScrolling>"
      ]
     },
     "execution_count": 11,
     "metadata": {},
     "output_type": "execute_result"
    }
   ],
   "source": [
    "#browseMolConformers(ms,view,confId=(0,m.GetNumConformers()-1),useDrawAs=True,drawAs='stick')\n",
    "browseMolConformers(ms,view,confId=(0, 9),useDrawAs=True,drawAs='stick')"
   ]
  },
  {
   "cell_type": "code",
   "execution_count": 7,
   "metadata": {
    "collapsed": false,
    "deletable": true,
    "editable": true
   },
   "outputs": [
    {
     "data": {
      "text/html": [
       "<script>\n",
       "            $3Dmolpromise.done(function() { //wrap in promise for non-interactive functionality\n",
       "                \tviewer_149821696632.zoomTo();\n",
       "\n",
       "                viewer_149821696632.render();\n",
       "            });\n",
       "            </script>"
      ],
      "text/plain": [
       "<IPython.core.display.HTML object>"
      ]
     },
     "execution_count": 7,
     "metadata": {},
     "output_type": "execute_result"
    }
   ],
   "source": [
    "view.zoomTo()\n",
    "view.update()"
   ]
  },
  {
   "cell_type": "code",
   "execution_count": 144,
   "metadata": {
    "collapsed": false,
    "deletable": true,
    "editable": true
   },
   "outputs": [
    {
     "data": {
      "text/html": [
       "<script>\n",
       "            $3Dmolpromise.done(function() { //wrap in promise for non-interactive functionality\n",
       "                \tviewer_149821626917.setBackgroundColor(\"0xeeeeee\");\n",
       "\n",
       "                viewer_149821626917.render();\n",
       "            });\n",
       "            </script>"
      ],
      "text/plain": [
       "<IPython.core.display.HTML object>"
      ]
     },
     "execution_count": 144,
     "metadata": {},
     "output_type": "execute_result"
    }
   ],
   "source": [
    "view.setBackgroundColor('0xeeeeee')\n",
    "view.update()"
   ]
  },
  {
   "cell_type": "code",
   "execution_count": 25,
   "metadata": {
    "collapsed": false,
    "deletable": true,
    "editable": true
   },
   "outputs": [],
   "source": []
  },
  {
   "cell_type": "code",
   "execution_count": 99,
   "metadata": {
    "collapsed": false,
    "deletable": true,
    "editable": true
   },
   "outputs": [],
   "source": []
  },
  {
   "cell_type": "code",
   "execution_count": 18,
   "metadata": {
    "collapsed": false,
    "deletable": true,
    "editable": true
   },
   "outputs": [],
   "source": [
    "# Lable creating system\n",
    "#mol1=ms[0][1].GetConformer(0)\n",
    "#OwningMol=mol1.GetOwningMol()\n",
    "#label_create=[OwningMol.GetAtomWithIdx(i).GetSymbol()+str(OwningMol.GetAtomWithIdx(i).GetIdx()+1) for i in range(mol1.GetNumAtoms())] \n",
    "#label_create"
   ]
  },
  {
   "cell_type": "code",
   "execution_count": 19,
   "metadata": {
    "collapsed": false,
    "deletable": true,
    "editable": true
   },
   "outputs": [
    {
     "data": {
      "text/plain": [
       "{'m1': <rdkit.Chem.rdchem.Mol at 0x716a308>,\n",
       " 'm2': <rdkit.Chem.rdchem.Mol at 0x716a340>,\n",
       " 'm3': <rdkit.Chem.rdchem.Mol at 0x716a378>,\n",
       " 'm4': <rdkit.Chem.rdchem.Mol at 0x716a3b0>}"
      ]
     },
     "execution_count": 19,
     "metadata": {},
     "output_type": "execute_result"
    }
   ],
   "source": [
    "dict(ms)"
   ]
  },
  {
   "cell_type": "code",
   "execution_count": 20,
   "metadata": {
    "collapsed": false,
    "deletable": true,
    "editable": true
   },
   "outputs": [],
   "source": [
    "ms2=[(y) for (x,y) in ms]"
   ]
  },
  {
   "cell_type": "code",
   "execution_count": 21,
   "metadata": {
    "collapsed": false,
    "deletable": true,
    "editable": true
   },
   "outputs": [
    {
     "data": {
      "text/plain": [
       "[<rdkit.Chem.rdchem.Mol at 0x716a308>,\n",
       " <rdkit.Chem.rdchem.Mol at 0x716a340>,\n",
       " <rdkit.Chem.rdchem.Mol at 0x716a378>,\n",
       " <rdkit.Chem.rdchem.Mol at 0x716a3b0>]"
      ]
     },
     "execution_count": 21,
     "metadata": {},
     "output_type": "execute_result"
    }
   ],
   "source": [
    "ms2"
   ]
  },
  {
   "cell_type": "code",
   "execution_count": 22,
   "metadata": {
    "collapsed": false,
    "deletable": true,
    "editable": true
   },
   "outputs": [
    {
     "data": {
      "text/plain": [
       "('m1', <rdkit.Chem.rdchem.Mol at 0x716a308>)"
      ]
     },
     "execution_count": 22,
     "metadata": {},
     "output_type": "execute_result"
    }
   ],
   "source": [
    "ms[0]"
   ]
  },
  {
   "cell_type": "code",
   "execution_count": 23,
   "metadata": {
    "collapsed": false,
    "deletable": true,
    "editable": true
   },
   "outputs": [
    {
     "data": {
      "text/plain": [
       "10"
      ]
     },
     "execution_count": 23,
     "metadata": {},
     "output_type": "execute_result"
    }
   ],
   "source": [
    "#dir(ms)\n",
    "m.GetNumConformers()"
   ]
  },
  {
   "cell_type": "code",
   "execution_count": 24,
   "metadata": {
    "collapsed": false,
    "deletable": true,
    "editable": true
   },
   "outputs": [
    {
     "data": {
      "text/plain": [
       "tuple"
      ]
     },
     "execution_count": 24,
     "metadata": {},
     "output_type": "execute_result"
    }
   ],
   "source": [
    "type(ms[0])"
   ]
  },
  {
   "cell_type": "code",
   "execution_count": 25,
   "metadata": {
    "collapsed": false,
    "deletable": true,
    "editable": true
   },
   "outputs": [
    {
     "name": "stdout",
     "output_type": "stream",
     "text": [
      "('m1', <rdkit.Chem.rdchem.Mol object at 0x0716A308>)\n",
      "m1\n",
      "<rdkit.Chem.rdchem.Mol object at 0x0716A308>\n"
     ]
    }
   ],
   "source": [
    "print(ms[0])\n",
    "print(ms[0][0])\n",
    "print(ms[0][1])"
   ]
  },
  {
   "cell_type": "code",
   "execution_count": 26,
   "metadata": {
    "collapsed": false,
    "deletable": true,
    "editable": true
   },
   "outputs": [
    {
     "data": {
      "text/plain": [
       "10"
      ]
     },
     "execution_count": 26,
     "metadata": {},
     "output_type": "execute_result"
    }
   ],
   "source": [
    "ms[0][1].GetNumConformers()"
   ]
  },
  {
   "cell_type": "code",
   "execution_count": 27,
   "metadata": {
    "collapsed": false,
    "deletable": true,
    "editable": true
   },
   "outputs": [],
   "source": [
    "#dir(ms[0][1].GetConformer(-1))"
   ]
  },
  {
   "cell_type": "code",
   "execution_count": 28,
   "metadata": {
    "collapsed": true,
    "deletable": true,
    "editable": true
   },
   "outputs": [],
   "source": [
    "#8.4849   -0.7612   -0.4130 C   0  0  0  0  0  0  0  0  0  0  0  0"
   ]
  },
  {
   "cell_type": "code",
   "execution_count": 29,
   "metadata": {
    "collapsed": false,
    "deletable": true,
    "editable": true
   },
   "outputs": [],
   "source": [
    "#print(Chem.MolToMolBlock(ms[0][1],confId=1))"
   ]
  },
  {
   "cell_type": "code",
   "execution_count": null,
   "metadata": {
    "collapsed": true,
    "deletable": true,
    "editable": true
   },
   "outputs": [],
   "source": []
  },
  {
   "cell_type": "code",
   "execution_count": null,
   "metadata": {
    "collapsed": true
   },
   "outputs": [],
   "source": []
  },
  {
   "cell_type": "code",
   "execution_count": null,
   "metadata": {
    "collapsed": true
   },
   "outputs": [],
   "source": []
  }
 ],
 "metadata": {
  "anaconda-cloud": {},
  "kernelspec": {
   "display_name": "Python [default]",
   "language": "python",
   "name": "python2"
  },
  "language_info": {
   "codemirror_mode": {
    "name": "ipython",
    "version": 2
   },
   "file_extension": ".py",
   "mimetype": "text/x-python",
   "name": "python",
   "nbconvert_exporter": "python",
   "pygments_lexer": "ipython2",
   "version": "2.7.12"
  },
  "widgets": {
   "state": {
    "078ce732c3554d31975366608a9862df": {
     "views": []
    },
    "0a5a69884ce44ebda6217e2fe52dd320": {
     "views": []
    },
    "2473149207dd4e8cb5f3d4af90d3bcff": {
     "views": []
    },
    "2e6bb19541ba42e2acf70fa88f5bcc30": {
     "views": []
    },
    "2e9549107f9940d5924acbaa7cbfcfff": {
     "views": []
    },
    "2f33831fb37547929d9d087062bb1e61": {
     "views": []
    },
    "6c777760bb544d1db61c88520caaae16": {
     "views": []
    },
    "75ef980e6e024d27b41335791139ba72": {
     "views": []
    },
    "7926f9a93b544d1085957e5823a70ce6": {
     "views": []
    },
    "8ae1124bf462488eb1b920f52d1c01d1": {
     "views": []
    },
    "97cd4fa8b8034ad7a1c03cbc4a7930f4": {
     "views": []
    },
    "98cd1f06b03b4275a90d78203efef10a": {
     "views": []
    },
    "c0923d6b81384563affcf633713a4bbc": {
     "views": []
    },
    "c92796c92757444a827727fe4bc03615": {
     "views": []
    },
    "d5d861175e0f430bbeb1cf83ca16f2e4": {
     "views": [
      {
       "cell_index": 9
      }
     ]
    },
    "d8220d7b2187404887a600dc540ca40f": {
     "views": []
    }
   },
   "version": "1.1.2"
  }
 },
 "nbformat": 4,
 "nbformat_minor": 2
}
