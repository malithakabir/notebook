{
 "cells": [
  {
   "cell_type": "code",
   "execution_count": 1,
   "metadata": {
    "collapsed": true
   },
   "outputs": [],
   "source": [
    "import py3Dmol\n",
    "from rdkit import Chem\n",
    "from rdkit.Chem import AllChem\n",
    "from ipywidgets import interact, interactive, fixed\n",
    "import ipywidgets as widgets\n",
    "from IPython.display import display"
   ]
  },
  {
   "cell_type": "code",
   "execution_count": 2,
   "metadata": {
    "collapsed": true
   },
   "outputs": [],
   "source": [
    "# obj ms will have no pre calculated propery\n",
    "data = [('m1','COc1ccc2[nH]c([S@@+]([O-])Cc3ncc(C)c(OC)c3C)nc2c1'),\n",
    "       ('m2','COc1ccc2[nH]c([S@+]([O-])Cc3ncc(C)c(OC)c3C)nc2c1'),\n",
    "       ('m3','COc1ccc2[nH]c([S+]([O-])Cc3ncc(C)c(OC)c3C)nc2c1'),\n",
    "       ('m4','CCOc1ccc2[nH]c([S@@+]([O-])Cc3ncc(C)c(OCCC)c3C)nc2c1')]\n",
    "ms = [(x,Chem.AddHs(Chem.MolFromSmiles(y))) for x,y in data]\n",
    "params = AllChem.ETKDG()\n",
    "params.numThreads=3\n",
    "for nm,m in ms:\n",
    "    AllChem.EmbedMultipleConfs(m,numConfs=10,params=params)\n",
    "    # align to one of the ring systems:\n",
    "    AllChem.AlignMolConformers(m,m.GetSubstructMatch(Chem.MolFromSmarts('c1[nH]c2ccccc2n1')))\n"
   ]
  },
  {
   "cell_type": "code",
   "execution_count": 3,
   "metadata": {
    "collapsed": true
   },
   "outputs": [],
   "source": [
    "def processSuppliedMolFor3DViewer(ms):\n",
    "    \n",
    "    try:\n",
    "        moldict = dict(ms)\n",
    "    except TypeError:\n",
    "        \n",
    "        if type(ms) is tuple:\n",
    "            moldict=list()\n",
    "            moldict.append(ms)\n",
    "            moldict = dict(moldict)\n",
    "        elif hasattr(ms, '__iter__') is False:\n",
    "            moldict=list()\n",
    "            moldict.append(('m0', ms))\n",
    "            moldict = dict(moldict)\n",
    "        elif type(ms) is list:\n",
    "            ms_name=['m'+str(x) for x in range(len(ms))]\n",
    "            ms2=[(ms_name[i],ms[i]) for i in range(len(ms))]\n",
    "            moldict = dict(ms2)\n",
    "    return moldict\n",
    "    \n",
    "def addMolToViewForScrolling(view, molTuple, molTupleId, confId):\n",
    "    \n",
    "    mol = molTuple[molTupleId]\n",
    "    \n",
    "    view.removeAllModels()\n",
    "    \n",
    "    mb = Chem.MolToMolBlock(mol,confId=confId)\n",
    "    view.addModel(mb,'sdf')\n",
    "    \n",
    "    view.setStyle({},{'stick':{}})\n",
    "    view.zoomTo()\n",
    "    \n",
    "    return view.update()\n",
    "\n",
    "def browseMolConformers(mol_obj_list,confId=None):\n",
    "    \n",
    "    size = (400, 400)\n",
    "    bgcolor = '0xeeeeee'\n",
    "    view = py3Dmol.view(width=size[0],height=size[1])\n",
    "    view.setBackgroundColor(bgcolor)\n",
    "    view.zoomTo()\n",
    "    display(view.show())\n",
    "    \n",
    "    # processing supplied object that contains molecules\n",
    "    moldict = processSuppliedMolFor3DViewer(mol_obj_list)\n",
    "    # Creating molecule listing widget # default value molecule id = 0 or m0\n",
    "    molTupleId=list(moldict.keys())\n",
    "    molTupleId_dropdown = widgets.Dropdown(options=molTupleId,value=molTupleId[0])\n",
    "    # Creating conformer listing widget # default value confId=0\n",
    "    confId_slider = widgets.IntSlider(min=0,max=9,step=1,value=0)\n",
    "    # Now start interacting\n",
    "    return interact(addMolToViewForScrolling,\n",
    "                    view=fixed(view),\n",
    "                    molTuple=fixed(moldict),\n",
    "                    molTupleId=molTupleId_dropdown,\n",
    "                    confId=confId_slider)"
   ]
  },
  {
   "cell_type": "code",
   "execution_count": 4,
   "metadata": {},
   "outputs": [
    {
     "data": {
      "text/html": [
       "<div id=\"3dmolviewer_149947127289\"  style=\"position: relative; width: 400px; height: 400px\">\n",
       "<script>\n",
       "if(typeof $3Dmolpromise === 'undefined') $3Dmolpromise = $.when($.getScript('https://3dmol.csb.pitt.edu/build/3Dmol.js'))\n",
       "var viewer_149947127289 = null;\n",
       "$3Dmolpromise.done(function() {\n",
       "viewer_149947127289 = $3Dmol.createViewer($(\"#3dmolviewer_149947127289\"),{backgroundColor:\"white\"});\n",
       "\tviewer_149947127289.setBackgroundColor(\"0xeeeeee\");\n",
       "\tviewer_149947127289.zoomTo();\n",
       "viewer_149947127289.render();\n",
       "});\n",
       "</script>"
      ],
      "text/plain": [
       "<IPython.core.display.HTML object>"
      ]
     },
     "metadata": {},
     "output_type": "display_data"
    },
    {
     "data": {
      "application/vnd.jupyter.widget-view+json": {
       "model_id": "109dc2b093034d15940f2b1c79899a13"
      }
     },
     "metadata": {},
     "output_type": "display_data"
    },
    {
     "data": {
      "text/plain": [
       "<function __main__.addMolToViewForScrolling>"
      ]
     },
     "execution_count": 4,
     "metadata": {},
     "output_type": "execute_result"
    }
   ],
   "source": [
    "browseMolConformers(ms,confId=(0, 9))"
   ]
  },
  {
   "cell_type": "code",
   "execution_count": null,
   "metadata": {},
   "outputs": [],
   "source": []
  },
  {
   "cell_type": "code",
   "execution_count": null,
   "metadata": {
    "collapsed": true
   },
   "outputs": [],
   "source": []
  }
 ],
 "metadata": {
  "kernelspec": {
   "display_name": "Python 2",
   "language": "python",
   "name": "python2"
  },
  "language_info": {
   "codemirror_mode": {
    "name": "ipython",
    "version": 2
   },
   "file_extension": ".py",
   "mimetype": "text/x-python",
   "name": "python",
   "nbconvert_exporter": "python",
   "pygments_lexer": "ipython2",
   "version": "2.7.13"
  }
 },
 "nbformat": 4,
 "nbformat_minor": 2
}
