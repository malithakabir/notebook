{
 "cells": [
  {
   "cell_type": "markdown",
   "metadata": {
    "deletable": true,
    "editable": true
   },
   "source": [
    "# Importing required library"
   ]
  },
  {
   "cell_type": "code",
   "execution_count": 1,
   "metadata": {
    "collapsed": true,
    "deletable": true,
    "editable": true
   },
   "outputs": [],
   "source": [
    "import py3Dmol\n",
    "from rdkit import Chem\n",
    "from rdkit.Chem import AllChem\n",
    "from ipywidgets import interact, interactive, fixed\n",
    "from rdkit.Chem import rdmolfiles"
   ]
  },
  {
   "cell_type": "markdown",
   "metadata": {
    "deletable": true,
    "editable": true
   },
   "source": [
    "# Generating multiple conformers"
   ]
  },
  {
   "cell_type": "code",
   "execution_count": 2,
   "metadata": {
    "collapsed": true,
    "deletable": true,
    "editable": true
   },
   "outputs": [],
   "source": [
    "mol_multi_conf = Chem.MolFromSmiles(r'COc1ccc2[nH]c([S@@+]([O-])Cc3ncc(C)c(OC)c3C)nc2c1') # esomeprazole\n",
    "mol_multi_conf = Chem.AddHs(mol_multi_conf)\n",
    "AllChem.EmbedMultipleConfs(mol_multi_conf,numConfs=10)\n",
    "# align to one of the ring systems:\n",
    "AllChem.AlignMolConformers(mol_multi_conf,mol_multi_conf.GetSubstructMatch(Chem.MolFromSmarts('c1[nH]c2ccccc2n1')))\n"
   ]
  },
  {
   "cell_type": "markdown",
   "metadata": {
    "deletable": true,
    "editable": true
   },
   "source": [
    "# Generating mol object of SINGLE conformer"
   ]
  },
  {
   "cell_type": "code",
   "execution_count": 3,
   "metadata": {
    "collapsed": true,
    "deletable": true,
    "editable": true
   },
   "outputs": [],
   "source": [
    "\n",
    "#The following block is in PDB format\n",
    "#Data souce is RCSB PDB accession code 4i22\n",
    "\n",
    "block='''\n",
    "HETATM 2402  CAO IRE A9001      14.914 -20.557   9.209  1.00 45.01           C\n",
    "HETATM 2403  CAL IRE A9001      15.698 -21.839   9.504  1.00 44.30           C\n",
    "HETATM 2404  OAU IRE A9001      17.004 -21.531  10.024  1.00 46.78           O\n",
    "HETATM 2405  CAM IRE A9001      16.959 -20.791  11.255  1.00 44.61           C\n",
    "HETATM 2406  CAP IRE A9001      16.260 -19.450  11.036  1.00 45.49           C\n",
    "HETATM 2407  NBE IRE A9001      14.864 -19.718  10.489  1.00 42.09           N\n",
    "HETATM 2408  CAN IRE A9001      14.084 -18.453  10.247  1.00 40.26           C\n",
    "HETATM 2409  CAJ IRE A9001      12.856 -18.579  11.120  1.00 35.34           C\n",
    "HETATM 2410  CAK IRE A9001      11.880 -17.427  11.059  1.00 30.52           C\n",
    "HETATM 2411  OAV IRE A9001      11.296 -17.330   9.750  1.00 26.40           O\n",
    "HETATM 2412  CBA IRE A9001      10.329 -16.349   9.561  1.00 25.02           C\n",
    "HETATM 2413  CAZ IRE A9001       9.750 -16.260   8.248  1.00 22.59           C\n",
    "HETATM 2414  CAH IRE A9001       8.737 -15.278   7.999  1.00 22.44           C\n",
    "HETATM 2415  OAT IRE A9001      10.237 -17.166   7.322  1.00 24.44           O\n",
    "HETATM 2416  CAA IRE A9001       9.721 -17.170   5.991  1.00 26.52           C\n",
    "HETATM 2417  CAI IRE A9001       9.878 -15.461  10.574  1.00 21.69           C\n",
    "HETATM 2418  C5  IRE A9001       8.872 -14.494  10.318  1.00 20.30           C\n",
    "HETATM 2419  C4  IRE A9001       8.293 -14.403   9.002  1.00 19.74           C\n",
    "HETATM 2420  N3  IRE A9001       7.329 -13.506   8.696  1.00 20.24           N\n",
    "HETATM 2421  C2  IRE A9001       6.922 -12.686   9.683  1.00 19.46           C\n",
    "HETATM 2422  N1  IRE A9001       7.386 -12.675  10.951  1.00 20.68           N\n",
    "HETATM 2423  C6  IRE A9001       8.369 -13.582  11.280  1.00 20.51           C\n",
    "HETATM 2424  NAS IRE A9001       8.879 -13.602  12.613  1.00 19.68           N\n",
    "HETATM 2425  CAY IRE A9001       8.197 -13.121  13.750  1.00 19.60           C\n",
    "HETATM 2426  CAG IRE A9001       6.772 -13.255  13.877  1.00 21.56           C\n",
    "HETATM 2427  CAX IRE A9001       6.099 -12.763  15.008  1.00 22.45           C\n",
    "HETATM 2428 CL   IRE A9001       4.395 -12.946  15.098  1.00 25.80          Cl\n",
    "HETATM 2429  CAW IRE A9001       6.835 -12.128  16.038  1.00 21.84           C\n",
    "HETATM 2430  FAB IRE A9001       6.217 -11.651  17.120  1.00 25.00           F\n",
    "HETATM 2431  CAD IRE A9001       8.242 -11.985  15.941  1.00 22.44           C\n",
    "HETATM 2432  CAE IRE A9001       8.921 -12.481  14.797  1.00 21.70           C\n",
    "CONECT 2421 2420 2422\n",
    "CONECT 2419 2414 2418 2420\n",
    "CONECT 2418 2417 2419 2423\n",
    "CONECT 2423 2418 2422 2424\n",
    "CONECT 2416 2415\n",
    "CONECT 2431 2429 2432\n",
    "CONECT 2432 2425 2431\n",
    "CONECT 2426 2425 2427\n",
    "CONECT 2414 2413 2419\n",
    "CONECT 2417 2412 2418\n",
    "CONECT 2409 2408 2410\n",
    "CONECT 2410 2409 2411\n",
    "CONECT 2403 2402 2404\n",
    "CONECT 2405 2404 2406\n",
    "CONECT 2408 2407 2409\n",
    "CONECT 2402 2403 2407\n",
    "CONECT 2406 2405 2407\n",
    "CONECT 2429 2427 2430 2431\n",
    "CONECT 2427 2426 2428 2429\n",
    "CONECT 2425 2424 2426 2432\n",
    "CONECT 2413 2412 2414 2415\n",
    "CONECT 2412 2411 2413 2417\n",
    "CONECT 2428 2427\n",
    "CONECT 2430 2429\n",
    "CONECT 2422 2421 2423\n",
    "CONECT 2420 2419 2421\n",
    "CONECT 2424 2423 2425\n",
    "CONECT 2407 2402 2406 2408\n",
    "CONECT 2415 2413 2416\n",
    "CONECT 2404 2403 2405\n",
    "CONECT 2411 2410 2412\n",
    "END\n",
    "'''\n",
    "mol_single_conf=rdmolfiles.MolFromPDBBlock(block)"
   ]
  },
  {
   "cell_type": "markdown",
   "metadata": {
    "deletable": true,
    "editable": true
   },
   "source": [
    "# Creating definition and default settings"
   ]
  },
  {
   "cell_type": "code",
   "execution_count": 4,
   "metadata": {
    "collapsed": false,
    "deletable": true,
    "editable": true
   },
   "outputs": [],
   "source": [
    "\n",
    "molSize_3d = (400, 400)\n",
    "drawing_type_3d = 'stick' # default drawing type for 3d structures\n",
    "bgcolor_3d = '0xeeeeee'\n",
    "\n",
    "def addMolToView(mol,view,confId=None,drawAs=None):\n",
    "    \n",
    "    view.removeAllModels()\n",
    "    if mol.GetNumAtoms()>=999 or drawAs == 'cartoon':\n",
    "        # py3DMol is happier with TER and MASTER records present\n",
    "        pdb = Chem.MolToPDBBlock(mol,flavor=0x20|0x10)\n",
    "        view.addModel(pdb,'pdb')\n",
    "    else:\n",
    "        # py3Dmol does not currently support v3k mol files, so\n",
    "        # we can only provide those with \"smaller\" molecules\n",
    "        mb = Chem.MolToMolBlock(mol,confId=confId)\n",
    "        view.addModel(mb,'sdf')\n",
    "    \n",
    "    view.setStyle({drawAs:{}})\n",
    "    view.zoomTo()\n",
    "    return view.show()\n",
    "\n",
    "def drawMol3D(mol,view=None,confId=None,drawAs=None,bgColor=None,size=None):\n",
    "    \n",
    "    if drawAs is None:\n",
    "        drawAs = drawing_type_3d\n",
    "    if size is None:\n",
    "        size=molSize_3d\n",
    "    if view is None:\n",
    "        view = py3Dmol.view(width=size[0],height=size[1])\n",
    "    \n",
    "    if bgColor is None:\n",
    "        bgColor = bgcolor_3d\n",
    "        \n",
    "    view.setBackgroundColor(bgColor)\n",
    "    \n",
    "    \n",
    "    \n",
    "    if confId is not None:\n",
    "        if type(confId) is not int:\n",
    "            # render selected models with scroll\n",
    "            print('Accessing Logic 1')\n",
    "            res=interact(addMolToView, mol=fixed(mol),view=fixed(view),confId=confId,drawAs=drawAs);\n",
    "        else:\n",
    "            #render one model\n",
    "            print('Accessing Logic 2')\n",
    "            res=addMolToView(mol,view,confId=confId,drawAs=drawAs)\n",
    "    else:\n",
    "        if mol.GetNumConformers()>1:\n",
    "            # render all models with scroll\n",
    "            print('Accessing Logic 3')\n",
    "            res=interact(addMolToView, mol=fixed(mol), view=fixed(view), confId=(0,mol.GetNumConformers()-1), drawAs=drawAs);\n",
    "        else:\n",
    "            # render one model\n",
    "            print('Accessing Logic 4')\n",
    "            res=addMolToView(mol,view,confId=(0),drawAs=drawAs)\n",
    "    #\n",
    "    \n",
    "    \n",
    "    return res"
   ]
  },
  {
   "cell_type": "markdown",
   "metadata": {
    "deletable": true,
    "editable": true
   },
   "source": [
    "# Testing the function (4 examples)"
   ]
  },
  {
   "cell_type": "code",
   "execution_count": 5,
   "metadata": {
    "collapsed": false,
    "deletable": true,
    "editable": true
   },
   "outputs": [
    {
     "name": "stdout",
     "output_type": "stream",
     "text": [
      "Accessing Logic 1\n"
     ]
    },
    {
     "data": {
      "application/vnd.jupyter.widget-view+json": {
       "model_id": "14acf9482592416b9a687c0be9f7ea4d"
      }
     },
     "metadata": {},
     "output_type": "display_data"
    },
    {
     "data": {
      "text/plain": [
       "<function __main__.addMolToView>"
      ]
     },
     "execution_count": 5,
     "metadata": {},
     "output_type": "execute_result"
    }
   ],
   "source": [
    "# mol_multi_conf contains multiple conformations\n",
    "# So, all the conformations rendered through parsing tuple for confId\n",
    "drawMol3D(mol_multi_conf,view=None,confId=(0,mol_multi_conf.GetNumConformers()-1),drawAs=None,bgColor=None,size=None)"
   ]
  },
  {
   "cell_type": "code",
   "execution_count": 6,
   "metadata": {
    "collapsed": false,
    "deletable": true,
    "editable": true
   },
   "outputs": [
    {
     "name": "stdout",
     "output_type": "stream",
     "text": [
      "Accessing Logic 2\n"
     ]
    },
    {
     "data": {
      "text/html": [
       "<div id=\"3dmolviewer_149652860777\"  style=\"position: relative; width: 400px; height: 400px\">\n",
       "<script>\n",
       "if(typeof $3Dmolpromise === 'undefined') $3Dmolpromise = $.when($.getScript('https://3dmol.csb.pitt.edu/build/3Dmol.js'))\n",
       "var viewer_149652860777 = null;\n",
       "$3Dmolpromise.done(function() {\n",
       "viewer_149652860777 = $3Dmol.createViewer($(\"#3dmolviewer_149652860777\"),{backgroundColor:\"white\"});\n",
       "\tviewer_149652860777.setBackgroundColor(\"0xeeeeee\");\n",
       "\tviewer_149652860777.removeAllModels();\n",
       "\tviewer_149652860777.addModel(\"\\n     RDKit          3D\\n\\n 43 45  0  0  0  0  0  0  0  0999 V2000\\n    6.9120    0.7055   -1.8006 C   0  0  0  0  0  0  0  0  0  0  0  0\\n    6.7947   -0.4182   -0.9398 O   0  0  0  0  0  0  0  0  0  0  0  0\\n    5.6902   -0.4586   -0.1121 C   0  0  0  0  0  0  0  0  0  0  0  0\\n    5.8539   -0.3667    1.2605 C   0  0  0  0  0  0  0  0  0  0  0  0\\n    4.8119   -0.8338    2.0414 C   0  0  0  0  0  0  0  0  0  0  0  0\\n    3.5073   -0.9170    1.5688 C   0  0  0  0  0  0  0  0  0  0  0  0\\n    2.3081   -0.7351    2.1748 N   0  0  0  0  0  0  0  0  0  0  0  0\\n    1.4069   -0.2376    1.3346 C   0  0  0  0  0  0  0  0  0  0  0  0\\n    0.0026    0.7960    1.6538 S   0  0  0  0  0  0  0  0  0  0  0  0\\n    0.0895    1.1109    3.3278 O   0  0  0  0  0  0  0  0  0  0  0  0\\n   -1.3937   -0.3391    1.5528 C   0  0  0  0  0  0  0  0  0  0  0  0\\n   -2.0154   -0.2876    0.1969 C   0  0  0  0  0  0  0  0  0  0  0  0\\n   -2.3409   -1.4581   -0.4046 N   0  0  0  0  0  0  0  0  0  0  0  0\\n   -3.4556   -1.5830   -1.1652 C   0  0  0  0  0  0  0  0  0  0  0  0\\n   -4.2088   -0.4777   -1.5383 C   0  0  0  0  0  0  0  0  0  0  0  0\\n   -5.1704   -0.5622   -2.6807 C   0  0  0  0  0  0  0  0  0  0  0  0\\n   -3.8255    0.7613   -1.0401 C   0  0  0  0  0  0  0  0  0  0  0  0\\n   -4.8255    1.7391   -1.0282 O   0  0  0  0  0  0  0  0  0  0  0  0\\n   -5.7838    1.6711    0.0232 C   0  0  0  0  0  0  0  0  0  0  0  0\\n   -2.8457    0.7984   -0.0546 C   0  0  0  0  0  0  0  0  0  0  0  0\\n   -2.2767    2.1335    0.2508 C   0  0  0  0  0  0  0  0  0  0  0  0\\n    1.9940   -0.2550    0.1170 N   0  0  0  0  0  0  0  0  0  0  0  0\\n    3.3010   -0.5875    0.2375 C   0  0  0  0  0  0  0  0  0  0  0  0\\n    4.3948   -0.4823   -0.6127 C   0  0  0  0  0  0  0  0  0  0  0  0\\n    6.0056    1.3358   -1.8066 H   0  0  0  0  0  0  0  0  0  0  0  0\\n    7.7772    1.3312   -1.4836 H   0  0  0  0  0  0  0  0  0  0  0  0\\n    7.0747    0.2984   -2.8276 H   0  0  0  0  0  0  0  0  0  0  0  0\\n    6.6899    0.2020    1.6677 H   0  0  0  0  0  0  0  0  0  0  0  0\\n    4.9844   -0.7846    3.1182 H   0  0  0  0  0  0  0  0  0  0  0  0\\n    2.1052   -0.8669    3.2003 H   0  0  0  0  0  0  0  0  0  0  0  0\\n   -2.1738   -0.0615    2.3068 H   0  0  0  0  0  0  0  0  0  0  0  0\\n   -1.0916   -1.3683    1.8060 H   0  0  0  0  0  0  0  0  0  0  0  0\\n   -3.7481   -2.5563   -1.5546 H   0  0  0  0  0  0  0  0  0  0  0  0\\n   -6.1117   -1.0614   -2.4001 H   0  0  0  0  0  0  0  0  0  0  0  0\\n   -5.3868    0.4758   -3.0351 H   0  0  0  0  0  0  0  0  0  0  0  0\\n   -4.7235   -1.1013   -3.5529 H   0  0  0  0  0  0  0  0  0  0  0  0\\n   -6.8194    1.7680   -0.3390 H   0  0  0  0  0  0  0  0  0  0  0  0\\n   -5.6065    2.4440    0.7964 H   0  0  0  0  0  0  0  0  0  0  0  0\\n   -5.7320    0.6853    0.5510 H   0  0  0  0  0  0  0  0  0  0  0  0\\n   -1.2937    2.2026   -0.2806 H   0  0  0  0  0  0  0  0  0  0  0  0\\n   -2.2039    2.3469    1.3262 H   0  0  0  0  0  0  0  0  0  0  0  0\\n   -2.8870    2.9655   -0.1842 H   0  0  0  0  0  0  0  0  0  0  0  0\\n    4.2158   -0.5299   -1.6712 H   0  0  0  0  0  0  0  0  0  0  0  0\\n  1  2  1  0\\n  2  3  1  0\\n  3  4  2  0\\n  4  5  1  0\\n  5  6  2  0\\n  6  7  1  0\\n  7  8  1  0\\n  9  8  1  6\\n  9 10  1  0\\n  9 11  1  0\\n 11 12  1  0\\n 12 13  2  0\\n 13 14  1  0\\n 14 15  2  0\\n 15 16  1  0\\n 15 17  1  0\\n 17 18  1  0\\n 18 19  1  0\\n 17 20  2  0\\n 20 21  1  0\\n  8 22  2  0\\n 22 23  1  0\\n 23 24  2  0\\n 24  3  1  0\\n 23  6  1  0\\n 20 12  1  0\\n  1 25  1  0\\n  1 26  1  0\\n  1 27  1  0\\n  4 28  1  0\\n  5 29  1  0\\n  7 30  1  0\\n 11 31  1  0\\n 11 32  1  0\\n 14 33  1  0\\n 16 34  1  0\\n 16 35  1  0\\n 16 36  1  0\\n 19 37  1  0\\n 19 38  1  0\\n 19 39  1  0\\n 21 40  1  0\\n 21 41  1  0\\n 21 42  1  0\\n 24 43  1  0\\nM  CHG  2   9   1  10  -1\\nM  END\\n\",\"sdf\");\n",
       "\tviewer_149652860777.setStyle({\"stick\": {}});\n",
       "\tviewer_149652860777.zoomTo();\n",
       "viewer_149652860777.render();\n",
       "});\n",
       "</script>"
      ],
      "text/plain": [
       "<IPython.core.display.HTML object>"
      ]
     },
     "execution_count": 6,
     "metadata": {},
     "output_type": "execute_result"
    }
   ],
   "source": [
    "# mol_multi_conf contains multiple conformations\n",
    "# Single conformations rendering is possible through parsing int value for confId\n",
    "drawMol3D(mol_multi_conf,view=None,confId=(0),drawAs=None,bgColor=None,size=None)"
   ]
  },
  {
   "cell_type": "code",
   "execution_count": 7,
   "metadata": {
    "collapsed": false,
    "deletable": true,
    "editable": true
   },
   "outputs": [
    {
     "name": "stdout",
     "output_type": "stream",
     "text": [
      "Accessing Logic 3\n"
     ]
    },
    {
     "data": {
      "application/vnd.jupyter.widget-view+json": {
       "model_id": "c8cd54febad14359a36f27e73f181643"
      }
     },
     "metadata": {},
     "output_type": "display_data"
    },
    {
     "data": {
      "text/plain": [
       "<function __main__.addMolToView>"
      ]
     },
     "execution_count": 7,
     "metadata": {},
     "output_type": "execute_result"
    }
   ],
   "source": [
    "# mol_multi_conf contains multiple conformations\n",
    "# if NO conformation parsed as confId then all the conformations rendered through...\n",
    "# automatic tuple generation for confId\n",
    "drawMol3D(mol_multi_conf,view=None,confId=None,drawAs=None,bgColor=None,size=None)"
   ]
  },
  {
   "cell_type": "code",
   "execution_count": 8,
   "metadata": {
    "collapsed": false,
    "deletable": true,
    "editable": true
   },
   "outputs": [
    {
     "name": "stdout",
     "output_type": "stream",
     "text": [
      "Accessing Logic 4\n"
     ]
    },
    {
     "data": {
      "text/html": [
       "<div id=\"3dmolviewer_14965286183\"  style=\"position: relative; width: 400px; height: 400px\">\n",
       "<script>\n",
       "if(typeof $3Dmolpromise === 'undefined') $3Dmolpromise = $.when($.getScript('https://3dmol.csb.pitt.edu/build/3Dmol.js'))\n",
       "var viewer_14965286183 = null;\n",
       "$3Dmolpromise.done(function() {\n",
       "viewer_14965286183 = $3Dmol.createViewer($(\"#3dmolviewer_14965286183\"),{backgroundColor:\"white\"});\n",
       "\tviewer_14965286183.setBackgroundColor(\"0xeeeeee\");\n",
       "\tviewer_14965286183.removeAllModels();\n",
       "\tviewer_14965286183.addModel(\"\\n     RDKit          3D\\n\\n 30 32  0  0  0  0  0  0  0  0999 V2000\\n   15.6980  -21.8390    9.5040 C   0  0  0  0  0  0  0  0  0  0  0  0\\n   17.0040  -21.5310   10.0240 O   0  0  0  0  0  0  0  0  0  0  0  0\\n   16.9590  -20.7910   11.2550 C   0  0  0  0  0  0  0  0  0  0  0  0\\n   16.2600  -19.4500   11.0360 C   0  0  0  0  0  0  0  0  0  0  0  0\\n   14.8640  -19.7180   10.4890 N   0  0  0  0  0  0  0  0  0  0  0  0\\n   14.0840  -18.4530   10.2470 C   0  0  0  0  0  0  0  0  0  0  0  0\\n   12.8560  -18.5790   11.1200 C   0  0  0  0  0  0  0  0  0  0  0  0\\n   11.8800  -17.4270   11.0590 C   0  0  0  0  0  0  0  0  0  0  0  0\\n   11.2960  -17.3300    9.7500 O   0  0  0  0  0  0  0  0  0  0  0  0\\n   10.3290  -16.3490    9.5610 C   0  0  0  0  0  0  0  0  0  0  0  0\\n    9.7500  -16.2600    8.2480 C   0  0  0  0  0  0  0  0  0  0  0  0\\n    8.7370  -15.2780    7.9990 C   0  0  0  0  0  0  0  0  0  0  0  0\\n   10.2370  -17.1660    7.3220 O   0  0  0  0  0  0  0  0  0  0  0  0\\n    9.7210  -17.1700    5.9910 C   0  0  0  0  0  0  0  0  0  0  0  0\\n    9.8780  -15.4610   10.5740 C   0  0  0  0  0  0  0  0  0  0  0  0\\n    8.8720  -14.4940   10.3180 C   0  0  0  0  0  0  0  0  0  0  0  0\\n    8.2930  -14.4030    9.0020 C   0  0  0  0  0  0  0  0  0  0  0  0\\n    7.3290  -13.5060    8.6960 N   0  0  0  0  0  0  0  0  0  0  0  0\\n    6.9220  -12.6860    9.6830 C   0  0  0  0  0  0  0  0  0  0  0  0\\n    7.3860  -12.6750   10.9510 N   0  0  0  0  0  0  0  0  0  0  0  0\\n    8.3690  -13.5820   11.2800 C   0  0  0  0  0  0  0  0  0  0  0  0\\n    8.8790  -13.6020   12.6130 N   0  0  0  0  0  0  0  0  0  0  0  0\\n    8.1970  -13.1210   13.7500 C   0  0  0  0  0  0  0  0  0  0  0  0\\n    6.7720  -13.2550   13.8770 C   0  0  0  0  0  0  0  0  0  0  0  0\\n    6.0990  -12.7630   15.0080 C   0  0  0  0  0  0  0  0  0  0  0  0\\n    4.3950  -12.9460   15.0980 Cl  0  0  0  0  0  0  0  0  0  0  0  0\\n    6.8350  -12.1280   16.0380 C   0  0  0  0  0  0  0  0  0  0  0  0\\n    6.2170  -11.6510   17.1200 F   0  0  0  0  0  0  0  0  0  0  0  0\\n    8.2420  -11.9850   15.9410 C   0  0  0  0  0  0  0  0  0  0  0  0\\n    8.9210  -12.4810   14.7970 C   0  0  0  0  0  0  0  0  0  0  0  0\\n 19 18  1  0\\n 19 20  1  0\\n 17 12  1  0\\n 17 16  1  0\\n 17 18  1  0\\n 16 15  1  0\\n 16 21  1  0\\n 21 20  1  0\\n 21 22  1  0\\n 14 13  1  0\\n 29 27  1  0\\n 29 30  1  0\\n 30 23  1  0\\n 24 23  1  0\\n 24 25  1  0\\n 12 11  1  0\\n 15 10  1  0\\n  7  6  1  0\\n  7  8  1  0\\n  8  9  1  0\\n  1  2  1  0\\n  3  2  1  0\\n  3  4  1  0\\n  6  5  1  0\\n  4  5  1  0\\n 27 25  1  0\\n 27 28  1  0\\n 25 26  1  0\\n 23 22  1  0\\n 11 10  1  0\\n 11 13  1  0\\n 10  9  1  0\\nM  END\\n\",\"sdf\");\n",
       "\tviewer_14965286183.setStyle({\"stick\": {}});\n",
       "\tviewer_14965286183.zoomTo();\n",
       "viewer_14965286183.render();\n",
       "});\n",
       "</script>"
      ],
      "text/plain": [
       "<IPython.core.display.HTML object>"
      ]
     },
     "execution_count": 8,
     "metadata": {},
     "output_type": "execute_result"
    }
   ],
   "source": [
    "# mol_single_conf contains SINGLE conformer\n",
    "# Single conformations rendering is possible through parsing int value for confId\n",
    "drawMol3D(mol_single_conf,view=None,confId=None,drawAs=None,bgColor=None,size=None)"
   ]
  },
  {
   "cell_type": "code",
   "execution_count": 9,
   "metadata": {
    "collapsed": false,
    "deletable": true,
    "editable": true
   },
   "outputs": [],
   "source": [
    "# tuple\n",
    "#confId=(1,9)\n",
    "#print( type(confId) )\n",
    "\n",
    "# int\n",
    "#confId=(0)\n",
    "#print( type(confId) )\n",
    "\n",
    "# int\n",
    "#confId=0\n",
    "#print( type(confId) )\n"
   ]
  },
  {
   "cell_type": "code",
   "execution_count": null,
   "metadata": {
    "collapsed": true,
    "deletable": true,
    "editable": true
   },
   "outputs": [],
   "source": []
  },
  {
   "cell_type": "code",
   "execution_count": null,
   "metadata": {
    "collapsed": true,
    "deletable": true,
    "editable": true
   },
   "outputs": [],
   "source": []
  }
 ],
 "metadata": {
  "kernelspec": {
   "display_name": "Python 2",
   "language": "python",
   "name": "python2"
  },
  "language_info": {
   "codemirror_mode": {
    "name": "ipython",
    "version": 2
   },
   "file_extension": ".py",
   "mimetype": "text/x-python",
   "name": "python",
   "nbconvert_exporter": "python",
   "pygments_lexer": "ipython2",
   "version": "2.7.12"
  }
 },
 "nbformat": 4,
 "nbformat_minor": 2
}
