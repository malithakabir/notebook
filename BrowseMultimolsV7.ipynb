{
 "cells": [
  {
   "cell_type": "markdown",
   "metadata": {},
   "source": [
    "# Widget: Conformer Browser\n",
    "## Derived from Gerg's code by Malitha\n",
    "### Date: 27th June 2017"
   ]
  },
  {
   "cell_type": "code",
   "execution_count": 1,
   "metadata": {},
   "outputs": [
    {
     "data": {
      "text/html": [
       "<style>.container { width:100% !important; }</style>"
      ],
      "text/plain": [
       "<IPython.core.display.HTML object>"
      ]
     },
     "metadata": {},
     "output_type": "display_data"
    }
   ],
   "source": [
    "from IPython.core.display import display, HTML\n",
    "display(HTML(\"<style>.container { width:100% !important; }</style>\"))"
   ]
  },
  {
   "cell_type": "code",
   "execution_count": 2,
   "metadata": {
    "collapsed": true
   },
   "outputs": [],
   "source": [
    "import py3Dmol\n",
    "from rdkit import Chem\n",
    "from rdkit.Chem import AllChem\n",
    "from rdkit.Chem import Descriptors\n",
    "from ipywidgets import interact, interactive, fixed\n",
    "import ipywidgets as widgets"
   ]
  },
  {
   "cell_type": "code",
   "execution_count": 3,
   "metadata": {
    "collapsed": true
   },
   "outputs": [],
   "source": [
    "molSize_3d = (400, 400)\n",
    "bgcolor_3d = '0xeeeeee'"
   ]
  },
  {
   "cell_type": "code",
   "execution_count": 4,
   "metadata": {
    "collapsed": true
   },
   "outputs": [],
   "source": [
    "# obj ms will have no pre calculated propery\n",
    "data = [('m1','COc1ccc2[nH]c([S@@+]([O-])Cc3ncc(C)c(OC)c3C)nc2c1'),\n",
    "       ('m2','COc1ccc2[nH]c([S@+]([O-])Cc3ncc(C)c(OC)c3C)nc2c1'),\n",
    "       ('m3','COc1ccc2[nH]c([S+]([O-])Cc3ncc(C)c(OC)c3C)nc2c1'),\n",
    "       ('m4','CCOc1ccc2[nH]c([S@@+]([O-])Cc3ncc(C)c(OCCC)c3C)nc2c1')]\n",
    "ms = [(x,Chem.AddHs(Chem.MolFromSmiles(y))) for x,y in data]\n",
    "params = AllChem.ETKDG()\n",
    "params.numThreads=3\n",
    "for nm,m in ms:\n",
    "    AllChem.EmbedMultipleConfs(m,numConfs=10,params=params)\n",
    "    # align to one of the ring systems:\n",
    "    AllChem.AlignMolConformers(m,m.GetSubstructMatch(Chem.MolFromSmarts('c1[nH]c2ccccc2n1')))\n"
   ]
  },
  {
   "cell_type": "code",
   "execution_count": null,
   "metadata": {
    "collapsed": true
   },
   "outputs": [],
   "source": []
  },
  {
   "cell_type": "code",
   "execution_count": 5,
   "metadata": {
    "collapsed": true
   },
   "outputs": [],
   "source": [
    "# obj ms2 will have some pre calculated properties\n",
    "from rdkit import Chem\n",
    "from rdkit.Chem import AllChem\n",
    "from six.moves import urllib\n",
    "url = 'https://github.com/rdkit/rdkit/raw/master/Docs/Book/data/cdk2.sdf'\n",
    "response = urllib.request.urlopen(url)\n",
    "data = response.read()\n",
    "suppl = Chem.SDMolSupplier()\n",
    "suppl.SetData(data)\n",
    "ms2=[mol for mol in suppl]\n",
    "params = AllChem.ETKDG()\n",
    "params.numThreads=3\n",
    "for m in ms2:\n",
    "    AllChem.EmbedMultipleConfs(m,numConfs=10,params=params)"
   ]
  },
  {
   "cell_type": "code",
   "execution_count": 6,
   "metadata": {
    "collapsed": true
   },
   "outputs": [],
   "source": [
    "\n",
    "def startViewer(size=None,bgcolor=None):\n",
    "    if size is None:\n",
    "        size=molSize_3d\n",
    "    if bgcolor is None:\n",
    "        bgcolor=bgcolor_3d\n",
    "    view = py3Dmol.view(width=size[0],height=size[1])\n",
    "    view.setBackgroundColor(bgcolor)\n",
    "    return view\n",
    "\n",
    "\n",
    "def processSuppliedMolFor3DViewer(ms):\n",
    "    \n",
    "    try:\n",
    "        # list of tuple (name + mol obj) # dict key possible\n",
    "        # ms = [('m1', <rdkit.Chem.rdchem.Mol at 0x7246d88>),\n",
    "        # ('m2', <rdkit.Chem.rdchem.Mol at 0x7246ea0>),\n",
    "        # ('m3', <rdkit.Chem.rdchem.Mol at 0x7246ed8>),\n",
    "        # ('m4', <rdkit.Chem.rdchem.Mol at 0x7246f10>)]\n",
    "        moldict = dict(ms)\n",
    "        \n",
    "    except TypeError:\n",
    "        \n",
    "        if type(ms) is tuple:\n",
    "            # Not list single tuple (name + mol obj) # dict key possible\n",
    "            # ms = ('m1', <rdkit.Chem.rdchem.Mol at 0x7246d88>)\n",
    "            moldict=list()\n",
    "            moldict.append(ms)\n",
    "            moldict = dict(moldict)\n",
    "        elif hasattr(ms, '__iter__') is False:\n",
    "            # rdkit.Chem.rdchem.Mol\n",
    "            # Not list... mol obj only ... no name... no dict key possible from such list...\n",
    "            # So, generate dict key\n",
    "            # ms = <rdkit.Chem.rdchem.Mol object at 0x07246D88>\n",
    "            moldict=list()\n",
    "            moldict.append(('m0', ms))\n",
    "            moldict = dict(moldict)\n",
    "        elif type(ms) is list:\n",
    "            # list of mol obj only ... no name... no dict key possible from such list...\n",
    "            # So, generate dict key\n",
    "            # ms = [<rdkit.Chem.rdchem.Mol at 0x7246d88>,\n",
    "            # <rdkit.Chem.rdchem.Mol at 0x7246ea0>,\n",
    "            # <rdkit.Chem.rdchem.Mol at 0x7246ed8>,\n",
    "            # <rdkit.Chem.rdchem.Mol at 0x7246f10>]\n",
    "            ms_name=['m'+str(x) for x in range(len(ms))]\n",
    "            ms2=[(ms_name[i],ms[i]) for i in range(len(ms))]\n",
    "            moldict = dict(ms2)\n",
    "    return moldict\n",
    "    \n",
    "def addMolToViewForScrolling(# fixed objects\n",
    "                             molecule_obj_list, \n",
    "                             view,\n",
    "                             widget_uniqueid,\n",
    "                             # property viewer\n",
    "                             property_view_existing,\n",
    "                             property_view_rdkit_offered,\n",
    "                             # molecule and conformer selector\n",
    "                             molecule_select,\n",
    "                             confId,\n",
    "                             # value from property select dropdown\n",
    "                             existing_descriptors,\n",
    "                             rdkit_offered_descriptors,\n",
    "                             # 3DMol.js viewer related stuffs Dropdowm\n",
    "                             useDrawAs,\n",
    "                             drawAs,\n",
    "                             molColorScheme,\n",
    "                             # value from labeling checkbox True/False\n",
    "                             showConfLabel,\n",
    "                             showAtomLabel\n",
    "                            ):\n",
    "    \n",
    "    #\n",
    "    # Two widgets got NO effect those are just to view \n",
    "    # property_view_existing, property_view_rdkit_offered\n",
    "    # \n",
    "    # existing_descriptors is for getting the selected value from dropdown\n",
    "    # existing_descriptors_dropdown is handled as global object\n",
    "    # \n",
    "    \n",
    "    \n",
    "    #### Molecule and conformer selection chunk\n",
    "    \n",
    "    # Get mol from supplied list object\n",
    "    mol = molecule_obj_list[molecule_select]\n",
    "    \n",
    "    if mol.GetNumConformers()>0:\n",
    "        # Update conformer select slider\n",
    "        globals()['confId_slider_'+widget_uniqueid].max=mol.GetNumConformers()-1\n",
    "        # For conformers\n",
    "        conf_selected=mol.GetConformer(confId)\n",
    "        xyz=conf_selected.GetPositions()\n",
    "        # For owning Mol\n",
    "        OwningMol=conf_selected.GetOwningMol()\n",
    "        \n",
    "    #### To Do: If the Mol object does not have any conformers????\n",
    "    \n",
    "    \n",
    "    #### removing descriptor widget description\n",
    "    globals()['existing_descriptors_viewer_'+widget_uniqueid].description=''\n",
    "    globals()['rdkit_offered_descriptors_viewer_'+widget_uniqueid].description=''\n",
    "    \n",
    "    #### Descriptor handling chunkGetting descriptors\n",
    "    \n",
    "    # Get available properties and update dropdown widget \n",
    "    available_properties=list(OwningMol.GetPropNames())\n",
    "    \n",
    "    if len(available_properties)>0:\n",
    "        # update dropdown with existing properties\n",
    "        globals()['existing_descriptors_dropdown_'+widget_uniqueid].options=available_properties\n",
    "        \n",
    "        # Get selected property name and associated value\n",
    "        des_name_existing=eval('existing_descriptors_dropdown_'+widget_uniqueid+'.value')\n",
    "        des_val_existing=OwningMol.GetProp(des_name_existing)\n",
    "        \n",
    "        # Update viewer for existing descriptor with selected property name and value\n",
    "        globals()['existing_descriptors_viewer_'+widget_uniqueid].value='Existing descriptor: '\\\n",
    "                                            + des_name_existing \\\n",
    "                                            + ': ' \\\n",
    "                                            + str(des_val_existing)\n",
    "        #\n",
    "        #\n",
    "    #\n",
    "    #\n",
    "    # Update viewer for rdkit offered descriptor with selected property name and value\n",
    "    # This is real time calculation\n",
    "    #\n",
    "    # Descriptor calculation schema eval(\"Descriptors.TPSA(OwningMol)\")\n",
    "    # In above line descriptor_list is TPSA\n",
    "    #\n",
    "    des_cmd=\"Descriptors.\"+rdkit_offered_descriptors+\"(OwningMol)\"\n",
    "    des_val=str(eval(des_cmd))\n",
    "    globals()['rdkit_offered_descriptors_viewer_'+widget_uniqueid].value=\\\n",
    "                                                        'RDKit offered descriptor: '\\\n",
    "                                                        +rdkit_offered_descriptors\\\n",
    "                                                        +': '\\\n",
    "                                                        +des_val\n",
    "    \n",
    "    \n",
    "    ##### 3Dmol.js viewer realated stuffs below\n",
    "    \n",
    "    #\n",
    "    # Clearing previous 3Dmol objects withoiut resetting view\n",
    "    #\n",
    "    view.removeAllModels()\n",
    "    view.removeAllSurfaces()\n",
    "    view.removeAllLabels()\n",
    "    \n",
    "    #\n",
    "    #### Adding model to viewer\n",
    "    #\n",
    "    if mol.GetNumAtoms()>=999 or drawAs == 'cartoon':\n",
    "        # py3DMol is happier with TER and MASTER records present\n",
    "        pdb = Chem.MolToPDBBlock(mol,flavor=0x20|0x10)\n",
    "        view.addModel(pdb,'pdb')\n",
    "    else:\n",
    "        # py3Dmol does not currently support v3k mol files, so\n",
    "        # we can only provide those with \"smaller\" molecules\n",
    "        mb = Chem.MolToMolBlock(mol,confId=confId)\n",
    "        view.addModel(mb,'sdf')\n",
    "        \n",
    "    #\n",
    "    #### Making decision about model rendering style and color\n",
    "    #\n",
    "    \n",
    "    if useDrawAs is False:\n",
    "        #use from globalStyle\n",
    "        view.setStyle({},{globals()['myGlobalStyle_'+widget_uniqueid]:{'colorscheme': molColorScheme}})\n",
    "    else:\n",
    "        #update global style and use that\n",
    "        globals()['myGlobalStyle_'+widget_uniqueid] = drawAs\n",
    "        view.setStyle({},{globals()['myGlobalStyle_'+widget_uniqueid]:{'colorscheme': molColorScheme}})\n",
    "    \n",
    "    #\n",
    "    # This is exception for surface\n",
    "    #\n",
    "    if drawAs is 'surface':\n",
    "        view.addSurface({}, '$3Dmol.SurfaceType.VDW');\n",
    "        \n",
    "    if drawAs is 'ballstick':\n",
    "        view.setStyle({},{'stick':{'radius':'0.2','colorscheme': molColorScheme},\n",
    "                          'sphere':{'radius':'0.4', 'colorscheme': molColorScheme}}\n",
    "                     );\n",
    "    \n",
    "    #\n",
    "    # Labeling conformer\n",
    "    #\n",
    "    if showConfLabel is True:\n",
    "        label=molecule_select+':'+str(confId)\n",
    "        view.addLabel(label, {'backgroundColor':'gray', 'fontColor':'white',\n",
    "                              'showBackground':'true', 'alignment':'bottomCenter'})\n",
    "    \n",
    "    #\n",
    "    # Labeling atom\n",
    "    #\n",
    "    if showAtomLabel is True:\n",
    "        \n",
    "        label_create=[OwningMol.GetAtomWithIdx(i).GetSymbol()+\n",
    "                      str(OwningMol.GetAtomWithIdx(i).GetIdx()+1) \n",
    "                      for i in range(conf_selected.GetNumAtoms())\n",
    "                     ]\n",
    "        \n",
    "        i = None\n",
    "        for i in range(conf_selected.GetNumAtoms()):\n",
    "            view.addLabel(label_create[i], {'inFront' : 'false', \n",
    "                                            'fontSize' : '12',\n",
    "                                            'fontColor':'gray',\n",
    "                                            'showBackground':'false',\n",
    "                                            'position' : {'x' : xyz[i][0],\n",
    "                                                          'y' : xyz[i][1],\n",
    "                                                          'z' : xyz[i][2]\n",
    "                                                       }\n",
    "                                           })\n",
    "    \n",
    "    #print(drawAs)\n",
    "    # zoomTo does not work well for surface and label... so, zoomTo should not be default settings\n",
    "    #view.zoomTo()\n",
    "    return view.update()\n",
    "\n",
    "\n",
    "def browseMolConformers(mol_obj_list,\n",
    "                        view, \n",
    "                        confId=None, \n",
    "                        useDrawAs=False, \n",
    "                        drawAs=None):\n",
    "    \n",
    "    \n",
    "    # Listing all widgets for tracking purpose\n",
    "    # \n",
    "    # molecule_list_dropdown\n",
    "    # confId_dropdown\n",
    "    # \n",
    "    # existing_descriptors_viewer\n",
    "    # existing_descriptors_dropdown\n",
    "    # rdkit_offered_descriptors_viewer\n",
    "    # rdkit_offered_descriptors_dropdown\n",
    "    # \n",
    "    # useDrawAs_dropdown\n",
    "    # drawAs_dropdown\n",
    "    # molColorScheme_dropdown\n",
    "    # \n",
    "    # confLabelCheckBok\n",
    "    # atomLabelCheckBox\n",
    "    # \n",
    "    \n",
    "    \n",
    "    # processing supplied object that contains molecules\n",
    "    moldict = processSuppliedMolFor3DViewer(mol_obj_list)\n",
    "    \n",
    "    # Creating molecule listing widget # default value molecule id = 0 or m0\n",
    "    molecule_list=list(moldict.keys())\n",
    "    molecule_list_dropdown = widgets.Dropdown(options=molecule_list,value=molecule_list[0])\n",
    "    \n",
    "    # Creating conformer listing widget # default value confId=0\n",
    "    globals()['confId_slider_'+view.uniqueid] = widgets.IntSlider(min=0,max=9,step=1,value=0)\n",
    "    #IntSlider(min=-10,max=30,step=1,value=10)\n",
    "    \n",
    "    \n",
    "    #### A set of widgets for descriptor handling\n",
    "    \n",
    "    globals()['existing_descriptors_viewer_'+view.uniqueid]=widgets.HTML(value='Trying to get existing property', disabled=False)\n",
    "    \n",
    "    globals()['existing_descriptors_dropdown_'+view.uniqueid]=widgets.Dropdown(options=['please select'],value='please select')\n",
    "    \n",
    "    globals()['rdkit_offered_descriptors_viewer_'+view.uniqueid]=widgets.HTML(value='Trying to get rdkit offered property', disabled=False)\n",
    "    \n",
    "    \n",
    "    \n",
    "    \n",
    "    descriptors_rdkit=['MolLogP', 'MolMR', 'MolWt', 'ExactMolWt', 'HeavyAtomCount', \n",
    "                       'HeavyAtomMolWt', 'NHOHCount', 'NOCount', 'NumHAcceptors', \n",
    "                       'NumHDonors', 'NumHeteroatoms', 'NumRotatableBonds', 'NumValenceElectrons']\n",
    "    rdkit_offered_descriptors_dropdown = widgets.Dropdown(options=descriptors_rdkit,value='MolLogP')\n",
    "    \n",
    "    \n",
    "    # default myGlobalStyle = 'stick'\n",
    "    # possible other options line cross stick cartoon sphere\n",
    "    globals()['myGlobalStyle_'+view.uniqueid] = 'stick'\n",
    "    \n",
    "    if useDrawAs is False:\n",
    "        # Then go with default settings\n",
    "        drawAs = globals()['myGlobalStyle_'+view.uniqueid]\n",
    "        useDrawAs_dropdown = widgets.Dropdown(options=[False, True],value=False)\n",
    "        \n",
    "    else:\n",
    "        useDrawAs_dropdown = widgets.Dropdown(options=[False, True],value=True)\n",
    "        # Use user supplied drawAS\n",
    "        if drawAs is None:\n",
    "            # User forgot to provide drawAs argument\n",
    "            drawAs = globals()['myGlobalStyle_'+view.uniqueid]\n",
    "        else:\n",
    "            # User supplied drawAs argument while useDrawAs is True\n",
    "            globals()['myGlobalStyle_'+view.uniqueid] = drawAs\n",
    "        \n",
    "    \n",
    "    all_drawing_types_3d=['line', 'cross', 'stick', 'cartoon', 'sphere', 'surface', 'ballstick']\n",
    "    # This is widget for model style\n",
    "    drawAs_dropdown = widgets.Dropdown(options=all_drawing_types_3d,value=drawAs)\n",
    "    \n",
    "    \n",
    "    all_color_scheme_3d=['default', 'greenCarbon', 'cyanCarbon', 'magentaCarbon', \n",
    "                     'yellowCarbon', 'whiteCarbon', 'orangeCarbon', 'purpleCarbon', \n",
    "                     'blueCarbon', 'ssPyMOL', 'ssJmol', 'Jmol', 'amino', \n",
    "                     'shapely', 'nucleic', 'chain', 'chainHetatm', 'prop']\n",
    "    \n",
    "    # This is widget for model style\n",
    "    \n",
    "    molColorScheme_dropdown = widgets.Dropdown(options=all_color_scheme_3d,value='default')\n",
    "    \n",
    "    \n",
    "    \n",
    "    # This is widget for conformer label\n",
    "    \n",
    "    confLabelCheckBok = widgets.Checkbox(description='confLabelCheckBok', value=False)\n",
    "    \n",
    "    # This is widget for atom label of each conformers\n",
    "    \n",
    "    atomLabelCheckBox = widgets.Checkbox(description='atomLabelCheckBox', value=False)\n",
    "    \n",
    "    \n",
    "    # Now start interacting\n",
    "    result=interact(addMolToViewForScrolling,\n",
    "                    \n",
    "                    ####\n",
    "                    molecule_obj_list=fixed(moldict),\n",
    "                    view=fixed(view),\n",
    "                    widget_uniqueid=fixed(view.uniqueid),\n",
    "                    ####\n",
    "                    \n",
    "                    \n",
    "                    property_view_existing=eval('existing_descriptors_viewer_'+view.uniqueid),\n",
    "                    property_view_rdkit_offered=eval('rdkit_offered_descriptors_viewer_'+view.uniqueid),\n",
    "                    \n",
    "                    molecule_select=molecule_list_dropdown,\n",
    "                    confId=eval('confId_slider_'+view.uniqueid),\n",
    "                    \n",
    "                    existing_descriptors=eval('existing_descriptors_dropdown_'+view.uniqueid),\n",
    "                    rdkit_offered_descriptors=rdkit_offered_descriptors_dropdown,\n",
    "                    \n",
    "                    useDrawAs=useDrawAs_dropdown,\n",
    "                    drawAs=drawAs_dropdown,\n",
    "                    molColorScheme=molColorScheme_dropdown,\n",
    "                    \n",
    "                    showConfLabel=confLabelCheckBok,\n",
    "                    showAtomLabel=atomLabelCheckBox\n",
    "                    ####\n",
    "                   );\n",
    "    return result\n",
    "\n"
   ]
  },
  {
   "cell_type": "markdown",
   "metadata": {},
   "source": [
    "# For RDKit Mol object with NO existing properties"
   ]
  },
  {
   "cell_type": "code",
   "execution_count": 7,
   "metadata": {},
   "outputs": [
    {
     "data": {
      "text/html": [
       "<div id=\"3dmolviewer_149874196189\"  style=\"position: relative; width: 400px; height: 400px\">\n",
       "<script>\n",
       "if(typeof $3Dmolpromise === 'undefined') $3Dmolpromise = $.when($.getScript('https://3dmol.csb.pitt.edu/build/3Dmol.js'))\n",
       "var viewer_149874196189 = null;\n",
       "$3Dmolpromise.done(function() {\n",
       "viewer_149874196189 = $3Dmol.createViewer($(\"#3dmolviewer_149874196189\"),{backgroundColor:\"white\"});\n",
       "\tviewer_149874196189.setBackgroundColor(\"black\");\n",
       "viewer_149874196189.render();\n",
       "});\n",
       "</script>"
      ],
      "text/plain": [
       "<IPython.core.display.HTML object>"
      ]
     },
     "execution_count": 7,
     "metadata": {},
     "output_type": "execute_result"
    }
   ],
   "source": [
    "view=startViewer(bgcolor='black')\n",
    "view.show()"
   ]
  },
  {
   "cell_type": "code",
   "execution_count": 8,
   "metadata": {},
   "outputs": [
    {
     "data": {
      "text/html": [
       "<script>\n",
       "            $3Dmolpromise.done(function() { //wrap in promise for non-interactive functionality\n",
       "                \tviewer_149874196189.removeAllModels();\n",
       "\tviewer_149874196189.removeAllSurfaces();\n",
       "\tviewer_149874196189.removeAllLabels();\n",
       "\tviewer_149874196189.addModel(\"\\n     RDKit          3D\\n\\n 52 54  0  0  0  0  0  0  0  0999 V2000\\n    8.5891    1.2939   -0.5233 C   0  0  0  0  0  0  0  0  0  0  0  0\\n    8.7777   -0.1827   -0.3678 C   0  0  0  0  0  0  0  0  0  0  0  0\\n    7.9975   -0.8062    0.5838 O   0  0  0  0  0  0  0  0  0  0  0  0\\n    6.6187   -0.8416    0.5364 C   0  0  0  0  0  0  0  0  0  0  0  0\\n    5.9058   -1.4899    1.5640 C   0  0  0  0  0  0  0  0  0  0  0  0\\n    4.5353   -1.5398    1.5387 C   0  0  0  0  0  0  0  0  0  0  0  0\\n    3.7922   -0.9721    0.5304 C   0  0  0  0  0  0  0  0  0  0  0  0\\n    2.4856   -0.8676    0.2524 N   0  0  0  0  0  0  0  0  0  0  0  0\\n    2.2930   -0.1850   -0.9045 C   0  0  0  0  0  0  0  0  0  0  0  0\\n    0.7585    0.2068   -1.6812 S   0  0  0  0  0  0  0  0  0  0  0  0\\n    0.4168   -1.1019   -2.6992 O   0  0  0  0  0  0  0  0  0  0  0  0\\n   -0.4572    0.0611   -0.3758 C   0  0  0  0  0  0  0  0  0  0  0  0\\n   -1.8015    0.3614   -0.8751 C   0  0  0  0  0  0  0  0  0  0  0  0\\n   -1.9694    0.6901   -2.1639 N   0  0  0  0  0  0  0  0  0  0  0  0\\n   -3.1675    0.9785   -2.6967 C   0  0  0  0  0  0  0  0  0  0  0  0\\n   -4.2523    0.9273   -1.8643 C   0  0  0  0  0  0  0  0  0  0  0  0\\n   -5.6174    1.2331   -2.3748 C   0  0  0  0  0  0  0  0  0  0  0  0\\n   -4.1072    0.5871   -0.5145 C   0  0  0  0  0  0  0  0  0  0  0  0\\n   -5.2275    0.5526    0.2692 O   0  0  0  0  0  0  0  0  0  0  0  0\\n   -6.0789   -0.5292    0.4916 C   0  0  0  0  0  0  0  0  0  0  0  0\\n   -7.1878   -0.0727    1.4298 C   0  0  0  0  0  0  0  0  0  0  0  0\\n   -6.5583    0.3851    2.7203 C   0  0  0  0  0  0  0  0  0  0  0  0\\n   -2.8691    0.2959    0.0080 C   0  0  0  0  0  0  0  0  0  0  0  0\\n   -2.6927   -0.0581    1.4265 C   0  0  0  0  0  0  0  0  0  0  0  0\\n    3.5324    0.1274   -1.3294 N   0  0  0  0  0  0  0  0  0  0  0  0\\n    4.4669   -0.3335   -0.4845 C   0  0  0  0  0  0  0  0  0  0  0  0\\n    5.8662   -0.2781   -0.4667 C   0  0  0  0  0  0  0  0  0  0  0  0\\n    7.7085    1.6648    0.0769 H   0  0  0  0  0  0  0  0  0  0  0  0\\n    8.3649    1.5297   -1.5799 H   0  0  0  0  0  0  0  0  0  0  0  0\\n    9.5008    1.8766   -0.2702 H   0  0  0  0  0  0  0  0  0  0  0  0\\n    9.8493   -0.3701   -0.1101 H   0  0  0  0  0  0  0  0  0  0  0  0\\n    8.5874   -0.6660   -1.3639 H   0  0  0  0  0  0  0  0  0  0  0  0\\n    6.5084   -1.9288    2.3458 H   0  0  0  0  0  0  0  0  0  0  0  0\\n    4.0422   -2.0543    2.3601 H   0  0  0  0  0  0  0  0  0  0  0  0\\n    1.7053   -1.2554    0.8395 H   0  0  0  0  0  0  0  0  0  0  0  0\\n   -0.1705    0.6871    0.4965 H   0  0  0  0  0  0  0  0  0  0  0  0\\n   -0.4616   -0.9926    0.0022 H   0  0  0  0  0  0  0  0  0  0  0  0\\n   -3.3133    1.2451   -3.7362 H   0  0  0  0  0  0  0  0  0  0  0  0\\n   -5.5984    1.9386   -3.2120 H   0  0  0  0  0  0  0  0  0  0  0  0\\n   -6.1571    1.7345   -1.5301 H   0  0  0  0  0  0  0  0  0  0  0  0\\n   -6.1267    0.2914   -2.6650 H   0  0  0  0  0  0  0  0  0  0  0  0\\n   -5.5738   -1.4256    0.8965 H   0  0  0  0  0  0  0  0  0  0  0  0\\n   -6.5036   -0.8232   -0.4937 H   0  0  0  0  0  0  0  0  0  0  0  0\\n   -7.7686    0.7560    0.9782 H   0  0  0  0  0  0  0  0  0  0  0  0\\n   -7.8868   -0.9125    1.6467 H   0  0  0  0  0  0  0  0  0  0  0  0\\n   -7.2943    0.9981    3.2599 H   0  0  0  0  0  0  0  0  0  0  0  0\\n   -6.2215   -0.4901    3.3222 H   0  0  0  0  0  0  0  0  0  0  0  0\\n   -5.6432    0.9871    2.5280 H   0  0  0  0  0  0  0  0  0  0  0  0\\n   -1.9432   -0.8568    1.5941 H   0  0  0  0  0  0  0  0  0  0  0  0\\n   -3.6551   -0.3971    1.8415 H   0  0  0  0  0  0  0  0  0  0  0  0\\n   -2.3661    0.8058    2.0436 H   0  0  0  0  0  0  0  0  0  0  0  0\\n    6.3682    0.2313   -1.2998 H   0  0  0  0  0  0  0  0  0  0  0  0\\n  1  2  1  0\\n  2  3  1  0\\n  3  4  1  0\\n  4  5  2  0\\n  5  6  1  0\\n  6  7  2  0\\n  7  8  1  0\\n  8  9  1  0\\n  9 10  1  0\\n 10 11  1  6\\n 10 12  1  0\\n 12 13  1  0\\n 13 14  2  0\\n 14 15  1  0\\n 15 16  2  0\\n 16 17  1  0\\n 16 18  1  0\\n 18 19  1  0\\n 19 20  1  0\\n 20 21  1  0\\n 21 22  1  0\\n 18 23  2  0\\n 23 24  1  0\\n  9 25  2  0\\n 25 26  1  0\\n 26 27  2  0\\n 27  4  1  0\\n 26  7  1  0\\n 23 13  1  0\\n  1 28  1  0\\n  1 29  1  0\\n  1 30  1  0\\n  2 31  1  0\\n  2 32  1  0\\n  5 33  1  0\\n  6 34  1  0\\n  8 35  1  0\\n 12 36  1  0\\n 12 37  1  0\\n 15 38  1  0\\n 17 39  1  0\\n 17 40  1  0\\n 17 41  1  0\\n 20 42  1  0\\n 20 43  1  0\\n 21 44  1  0\\n 21 45  1  0\\n 22 46  1  0\\n 22 47  1  0\\n 22 48  1  0\\n 24 49  1  0\\n 24 50  1  0\\n 24 51  1  0\\n 27 52  1  0\\nM  CHG  2  10   1  11  -1\\nM  END\\n\",\"sdf\");\n",
       "\tviewer_149874196189.setStyle({},{\"stick\": {\"colorscheme\": \"default\"}});\n",
       "\n",
       "                viewer_149874196189.render();\n",
       "            });\n",
       "            </script>"
      ],
      "text/plain": [
       "<IPython.core.display.HTML object>"
      ]
     },
     "metadata": {},
     "output_type": "display_data"
    },
    {
     "data": {
      "text/html": [
       "<script>\n",
       "            $3Dmolpromise.done(function() { //wrap in promise for non-interactive functionality\n",
       "                \tviewer_149874196189.removeAllModels();\n",
       "\tviewer_149874196189.removeAllSurfaces();\n",
       "\tviewer_149874196189.removeAllLabels();\n",
       "\tviewer_149874196189.addModel(\"\\n     RDKit          3D\\n\\n 52 54  0  0  0  0  0  0  0  0999 V2000\\n    8.5891    1.2939   -0.5233 C   0  0  0  0  0  0  0  0  0  0  0  0\\n    8.7777   -0.1827   -0.3678 C   0  0  0  0  0  0  0  0  0  0  0  0\\n    7.9975   -0.8062    0.5838 O   0  0  0  0  0  0  0  0  0  0  0  0\\n    6.6187   -0.8416    0.5364 C   0  0  0  0  0  0  0  0  0  0  0  0\\n    5.9058   -1.4899    1.5640 C   0  0  0  0  0  0  0  0  0  0  0  0\\n    4.5353   -1.5398    1.5387 C   0  0  0  0  0  0  0  0  0  0  0  0\\n    3.7922   -0.9721    0.5304 C   0  0  0  0  0  0  0  0  0  0  0  0\\n    2.4856   -0.8676    0.2524 N   0  0  0  0  0  0  0  0  0  0  0  0\\n    2.2930   -0.1850   -0.9045 C   0  0  0  0  0  0  0  0  0  0  0  0\\n    0.7585    0.2068   -1.6812 S   0  0  0  0  0  0  0  0  0  0  0  0\\n    0.4168   -1.1019   -2.6992 O   0  0  0  0  0  0  0  0  0  0  0  0\\n   -0.4572    0.0611   -0.3758 C   0  0  0  0  0  0  0  0  0  0  0  0\\n   -1.8015    0.3614   -0.8751 C   0  0  0  0  0  0  0  0  0  0  0  0\\n   -1.9694    0.6901   -2.1639 N   0  0  0  0  0  0  0  0  0  0  0  0\\n   -3.1675    0.9785   -2.6967 C   0  0  0  0  0  0  0  0  0  0  0  0\\n   -4.2523    0.9273   -1.8643 C   0  0  0  0  0  0  0  0  0  0  0  0\\n   -5.6174    1.2331   -2.3748 C   0  0  0  0  0  0  0  0  0  0  0  0\\n   -4.1072    0.5871   -0.5145 C   0  0  0  0  0  0  0  0  0  0  0  0\\n   -5.2275    0.5526    0.2692 O   0  0  0  0  0  0  0  0  0  0  0  0\\n   -6.0789   -0.5292    0.4916 C   0  0  0  0  0  0  0  0  0  0  0  0\\n   -7.1878   -0.0727    1.4298 C   0  0  0  0  0  0  0  0  0  0  0  0\\n   -6.5583    0.3851    2.7203 C   0  0  0  0  0  0  0  0  0  0  0  0\\n   -2.8691    0.2959    0.0080 C   0  0  0  0  0  0  0  0  0  0  0  0\\n   -2.6927   -0.0581    1.4265 C   0  0  0  0  0  0  0  0  0  0  0  0\\n    3.5324    0.1274   -1.3294 N   0  0  0  0  0  0  0  0  0  0  0  0\\n    4.4669   -0.3335   -0.4845 C   0  0  0  0  0  0  0  0  0  0  0  0\\n    5.8662   -0.2781   -0.4667 C   0  0  0  0  0  0  0  0  0  0  0  0\\n    7.7085    1.6648    0.0769 H   0  0  0  0  0  0  0  0  0  0  0  0\\n    8.3649    1.5297   -1.5799 H   0  0  0  0  0  0  0  0  0  0  0  0\\n    9.5008    1.8766   -0.2702 H   0  0  0  0  0  0  0  0  0  0  0  0\\n    9.8493   -0.3701   -0.1101 H   0  0  0  0  0  0  0  0  0  0  0  0\\n    8.5874   -0.6660   -1.3639 H   0  0  0  0  0  0  0  0  0  0  0  0\\n    6.5084   -1.9288    2.3458 H   0  0  0  0  0  0  0  0  0  0  0  0\\n    4.0422   -2.0543    2.3601 H   0  0  0  0  0  0  0  0  0  0  0  0\\n    1.7053   -1.2554    0.8395 H   0  0  0  0  0  0  0  0  0  0  0  0\\n   -0.1705    0.6871    0.4965 H   0  0  0  0  0  0  0  0  0  0  0  0\\n   -0.4616   -0.9926    0.0022 H   0  0  0  0  0  0  0  0  0  0  0  0\\n   -3.3133    1.2451   -3.7362 H   0  0  0  0  0  0  0  0  0  0  0  0\\n   -5.5984    1.9386   -3.2120 H   0  0  0  0  0  0  0  0  0  0  0  0\\n   -6.1571    1.7345   -1.5301 H   0  0  0  0  0  0  0  0  0  0  0  0\\n   -6.1267    0.2914   -2.6650 H   0  0  0  0  0  0  0  0  0  0  0  0\\n   -5.5738   -1.4256    0.8965 H   0  0  0  0  0  0  0  0  0  0  0  0\\n   -6.5036   -0.8232   -0.4937 H   0  0  0  0  0  0  0  0  0  0  0  0\\n   -7.7686    0.7560    0.9782 H   0  0  0  0  0  0  0  0  0  0  0  0\\n   -7.8868   -0.9125    1.6467 H   0  0  0  0  0  0  0  0  0  0  0  0\\n   -7.2943    0.9981    3.2599 H   0  0  0  0  0  0  0  0  0  0  0  0\\n   -6.2215   -0.4901    3.3222 H   0  0  0  0  0  0  0  0  0  0  0  0\\n   -5.6432    0.9871    2.5280 H   0  0  0  0  0  0  0  0  0  0  0  0\\n   -1.9432   -0.8568    1.5941 H   0  0  0  0  0  0  0  0  0  0  0  0\\n   -3.6551   -0.3971    1.8415 H   0  0  0  0  0  0  0  0  0  0  0  0\\n   -2.3661    0.8058    2.0436 H   0  0  0  0  0  0  0  0  0  0  0  0\\n    6.3682    0.2313   -1.2998 H   0  0  0  0  0  0  0  0  0  0  0  0\\n  1  2  1  0\\n  2  3  1  0\\n  3  4  1  0\\n  4  5  2  0\\n  5  6  1  0\\n  6  7  2  0\\n  7  8  1  0\\n  8  9  1  0\\n  9 10  1  0\\n 10 11  1  6\\n 10 12  1  0\\n 12 13  1  0\\n 13 14  2  0\\n 14 15  1  0\\n 15 16  2  0\\n 16 17  1  0\\n 16 18  1  0\\n 18 19  1  0\\n 19 20  1  0\\n 20 21  1  0\\n 21 22  1  0\\n 18 23  2  0\\n 23 24  1  0\\n  9 25  2  0\\n 25 26  1  0\\n 26 27  2  0\\n 27  4  1  0\\n 26  7  1  0\\n 23 13  1  0\\n  1 28  1  0\\n  1 29  1  0\\n  1 30  1  0\\n  2 31  1  0\\n  2 32  1  0\\n  5 33  1  0\\n  6 34  1  0\\n  8 35  1  0\\n 12 36  1  0\\n 12 37  1  0\\n 15 38  1  0\\n 17 39  1  0\\n 17 40  1  0\\n 17 41  1  0\\n 20 42  1  0\\n 20 43  1  0\\n 21 44  1  0\\n 21 45  1  0\\n 22 46  1  0\\n 22 47  1  0\\n 22 48  1  0\\n 24 49  1  0\\n 24 50  1  0\\n 24 51  1  0\\n 27 52  1  0\\nM  CHG  2  10   1  11  -1\\nM  END\\n\",\"sdf\");\n",
       "\tviewer_149874196189.setStyle({},{\"stick\": {\"colorscheme\": \"default\"}});\n",
       "\n",
       "                viewer_149874196189.render();\n",
       "            });\n",
       "            </script>"
      ],
      "text/plain": [
       "<IPython.core.display.HTML object>"
      ]
     },
     "metadata": {},
     "output_type": "display_data"
    },
    {
     "data": {
      "text/plain": [
       "<function __main__.addMolToViewForScrolling>"
      ]
     },
     "execution_count": 8,
     "metadata": {},
     "output_type": "execute_result"
    }
   ],
   "source": [
    "browseMolConformers(ms,view,confId=(0, 9),useDrawAs=True,drawAs='stick')"
   ]
  },
  {
   "cell_type": "code",
   "execution_count": 9,
   "metadata": {},
   "outputs": [
    {
     "data": {
      "text/html": [
       "<script>\n",
       "            $3Dmolpromise.done(function() { //wrap in promise for non-interactive functionality\n",
       "                \tviewer_149874196189.zoomTo();\n",
       "\n",
       "                viewer_149874196189.render();\n",
       "            });\n",
       "            </script>"
      ],
      "text/plain": [
       "<IPython.core.display.HTML object>"
      ]
     },
     "execution_count": 9,
     "metadata": {},
     "output_type": "execute_result"
    }
   ],
   "source": [
    "view.zoomTo()\n",
    "view.update()"
   ]
  },
  {
   "cell_type": "code",
   "execution_count": 10,
   "metadata": {},
   "outputs": [
    {
     "data": {
      "text/html": [
       "<script>\n",
       "            $3Dmolpromise.done(function() { //wrap in promise for non-interactive functionality\n",
       "                \tviewer_149874196189.setBackgroundColor(\"0xeeeeee\");\n",
       "\n",
       "                viewer_149874196189.render();\n",
       "            });\n",
       "            </script>"
      ],
      "text/plain": [
       "<IPython.core.display.HTML object>"
      ]
     },
     "execution_count": 10,
     "metadata": {},
     "output_type": "execute_result"
    }
   ],
   "source": [
    "# Changing background color is possible too\n",
    "view.setBackgroundColor('0xeeeeee')\n",
    "view.update()"
   ]
  },
  {
   "cell_type": "markdown",
   "metadata": {},
   "source": [
    "# For RDKit Mol object with existing properties"
   ]
  },
  {
   "cell_type": "code",
   "execution_count": 11,
   "metadata": {},
   "outputs": [
    {
     "data": {
      "text/html": [
       "<div id=\"3dmolviewer_149874197671\"  style=\"position: relative; width: 400px; height: 400px\">\n",
       "<script>\n",
       "if(typeof $3Dmolpromise === 'undefined') $3Dmolpromise = $.when($.getScript('https://3dmol.csb.pitt.edu/build/3Dmol.js'))\n",
       "var viewer_149874197671 = null;\n",
       "$3Dmolpromise.done(function() {\n",
       "viewer_149874197671 = $3Dmol.createViewer($(\"#3dmolviewer_149874197671\"),{backgroundColor:\"white\"});\n",
       "\tviewer_149874197671.setBackgroundColor(\"black\");\n",
       "viewer_149874197671.render();\n",
       "});\n",
       "</script>"
      ],
      "text/plain": [
       "<IPython.core.display.HTML object>"
      ]
     },
     "execution_count": 11,
     "metadata": {},
     "output_type": "execute_result"
    }
   ],
   "source": [
    "view2=startViewer(bgcolor='black')\n",
    "view2.show()"
   ]
  },
  {
   "cell_type": "code",
   "execution_count": 12,
   "metadata": {},
   "outputs": [
    {
     "data": {
      "application/vnd.jupyter.widget-view+json": {
       "model_id": "696fc9521c0a4200b7407eb99935cc0c"
      }
     },
     "metadata": {},
     "output_type": "display_data"
    },
    {
     "data": {
      "text/html": [
       "<script>\n",
       "            $3Dmolpromise.done(function() { //wrap in promise for non-interactive functionality\n",
       "                \tviewer_149874197671.removeAllModels();\n",
       "\tviewer_149874197671.removeAllSurfaces();\n",
       "\tviewer_149874197671.removeAllLabels();\n",
       "\tviewer_149874197671.addModel(\"ZINC04617745\\n     RDKit          3D\\n\\n 28 31  0  0  1  0  0  0  0  0999 V2000\\n   -3.7207    3.5865   -1.1331 C   0  0  0  0  0  0  0  0  0  0  0  0\\n   -1.9828    2.5459    0.0078 C   0  0  0  0  0  0  0  0  0  0  0  0\\n   -1.5522    1.4739    0.9855 C   0  0  0  0  0  0  0  0  0  0  0  0\\n   -2.2645    0.2445    0.7347 C   0  0  0  0  0  0  0  0  0  0  0  0\\n   -3.7278    0.3110    0.4914 C   0  0  0  0  0  0  0  0  0  0  0  0\\n   -3.9327    1.3135   -0.6515 C   0  0  0  0  0  0  0  0  0  0  0  0\\n   -4.3096    0.9382    1.6184 O   0  0  0  0  0  0  0  0  0  0  0  0\\n   -1.5816   -0.9560    0.3680 C   0  0  0  0  0  0  0  0  0  0  0  0\\n   -2.2970   -2.1399    0.2638 C   0  0  0  0  0  0  0  0  0  0  0  0\\n   -1.7135   -3.3366   -0.0827 C   0  0  0  0  0  0  0  0  0  0  0  0\\n   -0.3619   -3.4067   -0.3457 C   0  0  0  0  0  0  0  0  0  0  0  0\\n    0.3697   -2.2410   -0.2486 C   0  0  0  0  0  0  0  0  0  0  0  0\\n   -0.2303   -1.0310    0.1031 C   0  0  0  0  0  0  0  0  0  0  0  0\\n    0.5266    0.0523    0.1774 O   0  0  0  0  0  0  0  0  0  0  0  0\\n    1.8122   -0.0082   -0.0736 C   0  0  0  0  0  0  0  0  0  0  0  0\\n    2.4474   -1.1728   -0.4227 C   0  0  0  0  0  0  0  0  0  0  0  0\\n    1.7314   -2.3355   -0.5203 C   0  0  0  0  0  0  0  0  0  0  0  0\\n    2.2388   -3.4373   -0.8332 O   0  0  0  0  0  0  0  0  0  0  0  0\\n    2.6348    1.2168    0.0157 C   0  0  0  0  0  0  0  0  0  0  0  0\\n    2.1061    2.4405    0.3514 C   0  0  0  0  0  0  0  0  0  0  0  0\\n    2.9180    3.5457    0.4194 C   0  0  0  0  0  0  0  0  0  0  0  0\\n    4.2628    3.5024    0.1653 C   0  0  0  0  0  0  0  0  0  0  0  0\\n    4.7986    2.2794   -0.1717 C   0  0  0  0  0  0  0  0  0  0  0  0\\n    3.9841    1.1482   -0.2441 C   0  0  0  0  0  0  0  0  0  0  0  0\\n    4.6940   -0.4103   -0.6789 Cl  0  0  0  0  0  0  0  0  0  0  0  0\\n    0.2506   -4.6164   -0.6999 O   0  0  0  0  0  0  0  0  0  0  0  0\\n   -3.6670   -2.0971    0.5254 O   0  0  0  0  0  0  0  0  0  0  0  0\\n   -3.4334    2.5900   -0.1215 N   0  0  0  0  0  0  0  0  0  0  0  0\\n  1 28  1  0\\n  2  3  1  0\\n  2 28  1  0\\n  3  4  1  0\\n  4  5  1  0\\n  4  8  1  0\\n  5  6  1  0\\n  5  7  1  0\\n  6 28  1  0\\n  8 13  1  0\\n  8  9  2  0\\n  9 10  1  0\\n  9 27  1  0\\n 10 11  2  0\\n 11 12  1  0\\n 11 26  1  0\\n 12 17  1  0\\n 12 13  2  0\\n 13 14  1  0\\n 14 15  1  0\\n 15 16  2  0\\n 15 19  1  0\\n 16 17  1  0\\n 17 18  2  0\\n 19 24  1  0\\n 19 20  2  0\\n 20 21  1  0\\n 21 22  2  0\\n 22 23  1  0\\n 23 24  2  0\\n 24 25  1  0\\nM  CHG  1  28   1\\nM  END\\n\",\"sdf\");\n",
       "\tviewer_149874197671.setStyle({},{\"stick\": {\"colorscheme\": \"default\"}});\n",
       "\n",
       "                viewer_149874197671.render();\n",
       "            });\n",
       "            </script>"
      ],
      "text/plain": [
       "<IPython.core.display.HTML object>"
      ]
     },
     "metadata": {},
     "output_type": "display_data"
    },
    {
     "data": {
      "text/html": [
       "<script>\n",
       "            $3Dmolpromise.done(function() { //wrap in promise for non-interactive functionality\n",
       "                \tviewer_149874197671.removeAllModels();\n",
       "\tviewer_149874197671.removeAllSurfaces();\n",
       "\tviewer_149874197671.removeAllLabels();\n",
       "\tviewer_149874197671.addModel(\"ZINC04617745\\n     RDKit          3D\\n\\n 28 31  0  0  1  0  0  0  0  0999 V2000\\n   -3.7207    3.5865   -1.1331 C   0  0  0  0  0  0  0  0  0  0  0  0\\n   -1.9828    2.5459    0.0078 C   0  0  0  0  0  0  0  0  0  0  0  0\\n   -1.5522    1.4739    0.9855 C   0  0  0  0  0  0  0  0  0  0  0  0\\n   -2.2645    0.2445    0.7347 C   0  0  0  0  0  0  0  0  0  0  0  0\\n   -3.7278    0.3110    0.4914 C   0  0  0  0  0  0  0  0  0  0  0  0\\n   -3.9327    1.3135   -0.6515 C   0  0  0  0  0  0  0  0  0  0  0  0\\n   -4.3096    0.9382    1.6184 O   0  0  0  0  0  0  0  0  0  0  0  0\\n   -1.5816   -0.9560    0.3680 C   0  0  0  0  0  0  0  0  0  0  0  0\\n   -2.2970   -2.1399    0.2638 C   0  0  0  0  0  0  0  0  0  0  0  0\\n   -1.7135   -3.3366   -0.0827 C   0  0  0  0  0  0  0  0  0  0  0  0\\n   -0.3619   -3.4067   -0.3457 C   0  0  0  0  0  0  0  0  0  0  0  0\\n    0.3697   -2.2410   -0.2486 C   0  0  0  0  0  0  0  0  0  0  0  0\\n   -0.2303   -1.0310    0.1031 C   0  0  0  0  0  0  0  0  0  0  0  0\\n    0.5266    0.0523    0.1774 O   0  0  0  0  0  0  0  0  0  0  0  0\\n    1.8122   -0.0082   -0.0736 C   0  0  0  0  0  0  0  0  0  0  0  0\\n    2.4474   -1.1728   -0.4227 C   0  0  0  0  0  0  0  0  0  0  0  0\\n    1.7314   -2.3355   -0.5203 C   0  0  0  0  0  0  0  0  0  0  0  0\\n    2.2388   -3.4373   -0.8332 O   0  0  0  0  0  0  0  0  0  0  0  0\\n    2.6348    1.2168    0.0157 C   0  0  0  0  0  0  0  0  0  0  0  0\\n    2.1061    2.4405    0.3514 C   0  0  0  0  0  0  0  0  0  0  0  0\\n    2.9180    3.5457    0.4194 C   0  0  0  0  0  0  0  0  0  0  0  0\\n    4.2628    3.5024    0.1653 C   0  0  0  0  0  0  0  0  0  0  0  0\\n    4.7986    2.2794   -0.1717 C   0  0  0  0  0  0  0  0  0  0  0  0\\n    3.9841    1.1482   -0.2441 C   0  0  0  0  0  0  0  0  0  0  0  0\\n    4.6940   -0.4103   -0.6789 Cl  0  0  0  0  0  0  0  0  0  0  0  0\\n    0.2506   -4.6164   -0.6999 O   0  0  0  0  0  0  0  0  0  0  0  0\\n   -3.6670   -2.0971    0.5254 O   0  0  0  0  0  0  0  0  0  0  0  0\\n   -3.4334    2.5900   -0.1215 N   0  0  0  0  0  0  0  0  0  0  0  0\\n  1 28  1  0\\n  2  3  1  0\\n  2 28  1  0\\n  3  4  1  0\\n  4  5  1  0\\n  4  8  1  0\\n  5  6  1  0\\n  5  7  1  0\\n  6 28  1  0\\n  8 13  1  0\\n  8  9  2  0\\n  9 10  1  0\\n  9 27  1  0\\n 10 11  2  0\\n 11 12  1  0\\n 11 26  1  0\\n 12 17  1  0\\n 12 13  2  0\\n 13 14  1  0\\n 14 15  1  0\\n 15 16  2  0\\n 15 19  1  0\\n 16 17  1  0\\n 17 18  2  0\\n 19 24  1  0\\n 19 20  2  0\\n 20 21  1  0\\n 21 22  2  0\\n 22 23  1  0\\n 23 24  2  0\\n 24 25  1  0\\nM  CHG  1  28   1\\nM  END\\n\",\"sdf\");\n",
       "\tviewer_149874197671.setStyle({},{\"stick\": {\"colorscheme\": \"default\"}});\n",
       "\n",
       "                viewer_149874197671.render();\n",
       "            });\n",
       "            </script>"
      ],
      "text/plain": [
       "<IPython.core.display.HTML object>"
      ]
     },
     "metadata": {},
     "output_type": "display_data"
    },
    {
     "data": {
      "text/html": [
       "<script>\n",
       "            $3Dmolpromise.done(function() { //wrap in promise for non-interactive functionality\n",
       "                \tviewer_149874197671.removeAllModels();\n",
       "\tviewer_149874197671.removeAllSurfaces();\n",
       "\tviewer_149874197671.removeAllLabels();\n",
       "\tviewer_149874197671.addModel(\"ZINC04617745\\n     RDKit          3D\\n\\n 28 31  0  0  1  0  0  0  0  0999 V2000\\n   -3.7207    3.5865   -1.1331 C   0  0  0  0  0  0  0  0  0  0  0  0\\n   -1.9828    2.5459    0.0078 C   0  0  0  0  0  0  0  0  0  0  0  0\\n   -1.5522    1.4739    0.9855 C   0  0  0  0  0  0  0  0  0  0  0  0\\n   -2.2645    0.2445    0.7347 C   0  0  0  0  0  0  0  0  0  0  0  0\\n   -3.7278    0.3110    0.4914 C   0  0  0  0  0  0  0  0  0  0  0  0\\n   -3.9327    1.3135   -0.6515 C   0  0  0  0  0  0  0  0  0  0  0  0\\n   -4.3096    0.9382    1.6184 O   0  0  0  0  0  0  0  0  0  0  0  0\\n   -1.5816   -0.9560    0.3680 C   0  0  0  0  0  0  0  0  0  0  0  0\\n   -2.2970   -2.1399    0.2638 C   0  0  0  0  0  0  0  0  0  0  0  0\\n   -1.7135   -3.3366   -0.0827 C   0  0  0  0  0  0  0  0  0  0  0  0\\n   -0.3619   -3.4067   -0.3457 C   0  0  0  0  0  0  0  0  0  0  0  0\\n    0.3697   -2.2410   -0.2486 C   0  0  0  0  0  0  0  0  0  0  0  0\\n   -0.2303   -1.0310    0.1031 C   0  0  0  0  0  0  0  0  0  0  0  0\\n    0.5266    0.0523    0.1774 O   0  0  0  0  0  0  0  0  0  0  0  0\\n    1.8122   -0.0082   -0.0736 C   0  0  0  0  0  0  0  0  0  0  0  0\\n    2.4474   -1.1728   -0.4227 C   0  0  0  0  0  0  0  0  0  0  0  0\\n    1.7314   -2.3355   -0.5203 C   0  0  0  0  0  0  0  0  0  0  0  0\\n    2.2388   -3.4373   -0.8332 O   0  0  0  0  0  0  0  0  0  0  0  0\\n    2.6348    1.2168    0.0157 C   0  0  0  0  0  0  0  0  0  0  0  0\\n    2.1061    2.4405    0.3514 C   0  0  0  0  0  0  0  0  0  0  0  0\\n    2.9180    3.5457    0.4194 C   0  0  0  0  0  0  0  0  0  0  0  0\\n    4.2628    3.5024    0.1653 C   0  0  0  0  0  0  0  0  0  0  0  0\\n    4.7986    2.2794   -0.1717 C   0  0  0  0  0  0  0  0  0  0  0  0\\n    3.9841    1.1482   -0.2441 C   0  0  0  0  0  0  0  0  0  0  0  0\\n    4.6940   -0.4103   -0.6789 Cl  0  0  0  0  0  0  0  0  0  0  0  0\\n    0.2506   -4.6164   -0.6999 O   0  0  0  0  0  0  0  0  0  0  0  0\\n   -3.6670   -2.0971    0.5254 O   0  0  0  0  0  0  0  0  0  0  0  0\\n   -3.4334    2.5900   -0.1215 N   0  0  0  0  0  0  0  0  0  0  0  0\\n  1 28  1  0\\n  2  3  1  0\\n  2 28  1  0\\n  3  4  1  0\\n  4  5  1  0\\n  4  8  1  0\\n  5  6  1  0\\n  5  7  1  0\\n  6 28  1  0\\n  8 13  1  0\\n  8  9  2  0\\n  9 10  1  0\\n  9 27  1  0\\n 10 11  2  0\\n 11 12  1  0\\n 11 26  1  0\\n 12 17  1  0\\n 12 13  2  0\\n 13 14  1  0\\n 14 15  1  0\\n 15 16  2  0\\n 15 19  1  0\\n 16 17  1  0\\n 17 18  2  0\\n 19 24  1  0\\n 19 20  2  0\\n 20 21  1  0\\n 21 22  2  0\\n 22 23  1  0\\n 23 24  2  0\\n 24 25  1  0\\nM  CHG  1  28   1\\nM  END\\n\",\"sdf\");\n",
       "\tviewer_149874197671.setStyle({},{\"stick\": {\"colorscheme\": \"default\"}});\n",
       "\n",
       "                viewer_149874197671.render();\n",
       "            });\n",
       "            </script>"
      ],
      "text/plain": [
       "<IPython.core.display.HTML object>"
      ]
     },
     "metadata": {},
     "output_type": "display_data"
    },
    {
     "data": {
      "text/plain": [
       "<function __main__.addMolToViewForScrolling>"
      ]
     },
     "execution_count": 12,
     "metadata": {},
     "output_type": "execute_result"
    }
   ],
   "source": [
    "browseMolConformers(ms2,view2,confId=(0, 9),useDrawAs=True,drawAs='stick')"
   ]
  },
  {
   "cell_type": "code",
   "execution_count": 13,
   "metadata": {},
   "outputs": [
    {
     "data": {
      "text/html": [
       "<script>\n",
       "            $3Dmolpromise.done(function() { //wrap in promise for non-interactive functionality\n",
       "                \tviewer_149874197671.zoomTo();\n",
       "\n",
       "                viewer_149874197671.render();\n",
       "            });\n",
       "            </script>"
      ],
      "text/plain": [
       "<IPython.core.display.HTML object>"
      ]
     },
     "execution_count": 13,
     "metadata": {},
     "output_type": "execute_result"
    }
   ],
   "source": [
    "view2.zoomTo()\n",
    "view2.update()"
   ]
  },
  {
   "cell_type": "code",
   "execution_count": 14,
   "metadata": {},
   "outputs": [
    {
     "data": {
      "text/html": [
       "<script>\n",
       "            $3Dmolpromise.done(function() { //wrap in promise for non-interactive functionality\n",
       "                \tviewer_149874197671.setBackgroundColor(\"0xeeeeee\");\n",
       "\n",
       "                viewer_149874197671.render();\n",
       "            });\n",
       "            </script>"
      ],
      "text/plain": [
       "<IPython.core.display.HTML object>"
      ]
     },
     "execution_count": 14,
     "metadata": {},
     "output_type": "execute_result"
    }
   ],
   "source": [
    "# Changing background color is possible too\n",
    "view2.setBackgroundColor('0xeeeeee')\n",
    "view2.update()"
   ]
  },
  {
   "cell_type": "markdown",
   "metadata": {},
   "source": [
    "# Tutorial on accessing Mol object"
   ]
  },
  {
   "cell_type": "code",
   "execution_count": 15,
   "metadata": {
    "collapsed": true
   },
   "outputs": [],
   "source": [
    "### Mol obj with existing property\n",
    "#OwningMol=ms2[0].GetConformer(0).GetOwningMol()\n",
    "#OwningMol.GetProp('id')"
   ]
  },
  {
   "cell_type": "code",
   "execution_count": 16,
   "metadata": {
    "collapsed": true
   },
   "outputs": [],
   "source": [
    "### Mol obj with NO existing property\n",
    "#OwningMol=ms[0][1].GetConformer(0).GetOwningMol()\n",
    "#available_properties=list(OwningMol.GetPropNames())\n",
    "#print(available_properties)\n",
    "#print(len(available_properties))"
   ]
  },
  {
   "cell_type": "code",
   "execution_count": null,
   "metadata": {
    "collapsed": true
   },
   "outputs": [],
   "source": []
  }
 ],
 "metadata": {
  "kernelspec": {
   "display_name": "Python 2",
   "language": "python",
   "name": "python2"
  },
  "language_info": {
   "codemirror_mode": {
    "name": "ipython",
    "version": 2
   },
   "file_extension": ".py",
   "mimetype": "text/x-python",
   "name": "python",
   "nbconvert_exporter": "python",
   "pygments_lexer": "ipython2",
   "version": "2.7.13"
  }
 },
 "nbformat": 4,
 "nbformat_minor": 2
}
