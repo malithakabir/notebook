{
 "cells": [
  {
   "cell_type": "markdown",
   "metadata": {
    "deletable": true,
    "editable": true
   },
   "source": [
    "# Title: Progress on RDKit github issue #1356\n",
    "# Description: browseMolConformers() function written\n",
    "# Helpful links:\n",
    "https://github.com/rdkit/rdkit/issues/1356    \n",
    "http://rdkit.blogspot.ch/2016/07/using-ipywidgets-and-py3dmol-to-browse.html\n",
    "https://github.com/rdkit/rdkit/blob/master/rdkit/Chem/Draw/IPythonConsole.py#L66"
   ]
  },
  {
   "cell_type": "code",
   "execution_count": 1,
   "metadata": {
    "collapsed": true,
    "deletable": true,
    "editable": true
   },
   "outputs": [],
   "source": [
    "import os\n",
    "import py3Dmol\n",
    "from rdkit import Chem\n",
    "from rdkit.Chem import AllChem\n",
    "from ipywidgets import interact, interactive, fixed"
   ]
  },
  {
   "cell_type": "markdown",
   "metadata": {
    "deletable": true,
    "editable": true
   },
   "source": [
    "# Definition: Default Rendering Style"
   ]
  },
  {
   "cell_type": "code",
   "execution_count": 2,
   "metadata": {
    "collapsed": true,
    "deletable": true,
    "editable": true
   },
   "outputs": [],
   "source": [
    "molSize_3d = (400, 400)\n",
    "drawing_type_3d = 'stick' # default drawing type for 3d structures\n",
    "bgcolor_3d = '0xeeeeee'"
   ]
  },
  {
   "cell_type": "markdown",
   "metadata": {
    "deletable": true,
    "editable": true
   },
   "source": [
    "# Generate Conformers"
   ]
  },
  {
   "cell_type": "code",
   "execution_count": 3,
   "metadata": {
    "collapsed": true,
    "deletable": true,
    "editable": true
   },
   "outputs": [],
   "source": [
    "m = Chem.MolFromSmiles(r'COc1ccc2[nH]c([S@@+]([O-])Cc3ncc(C)c(OC)c3C)nc2c1') # esomeprazole\n",
    "m = Chem.AddHs(m)\n",
    "AllChem.EmbedMultipleConfs(m,numConfs=10)\n",
    "# align to one of the ring systems:\n",
    "AllChem.AlignMolConformers(m,m.GetSubstructMatch(Chem.MolFromSmarts('c1[nH]c2ccccc2n1')))\n"
   ]
  },
  {
   "cell_type": "markdown",
   "metadata": {
    "deletable": true,
    "editable": true
   },
   "source": [
    "# Required functions for scrolling capability"
   ]
  },
  {
   "cell_type": "code",
   "execution_count": 4,
   "metadata": {
    "collapsed": true,
    "deletable": true,
    "editable": true
   },
   "outputs": [],
   "source": [
    "def addMolToViewForScrolling(mol,view,confId,drawAs):\n",
    "    \n",
    "  view.removeAllModels()\n",
    "  \n",
    "  if mol.GetNumAtoms()>=999 or drawAs == 'cartoon':\n",
    "    # py3DMol is happier with TER and MASTER records present\n",
    "    pdb = Chem.MolToPDBBlock(mol,flavor=0x20|0x10)\n",
    "    view.addModel(pdb,'pdb')\n",
    "  else:\n",
    "    # py3Dmol does not currently support v3k mol files, so\n",
    "    # we can only provide those with \"smaller\" molecules\n",
    "    mb = Chem.MolToMolBlock(mol,confId=confId)\n",
    "    view.addModel(mb,'sdf')\n",
    "   \n",
    "  view.setStyle({drawAs:{}})\n",
    "  view.zoomTo()\n",
    "  return view.show()\n",
    "\n",
    "def browseMolConformers(m,view=None,confId=None,drawAs=None,bgColor=None,size=None):\n",
    "  \n",
    "  if drawAs is None:\n",
    "    drawAs = drawing_type_3d\n",
    "  if size is None:\n",
    "    size=molSize_3d\n",
    "  if view is None:\n",
    "    view = py3Dmol.view(width=size[0],height=size[1])\n",
    "  \n",
    "  if bgColor is None:\n",
    "    bgColor = bgcolor_3d\n",
    "  \n",
    "  view.setBackgroundColor(bgColor)\n",
    "  result=interact(addMolToViewForScrolling, mol=fixed(m),view=fixed(view),confId=confId,drawAs=drawAs);\n",
    "  \n",
    "  return result"
   ]
  },
  {
   "cell_type": "markdown",
   "metadata": {
    "deletable": true,
    "editable": true
   },
   "source": [
    "# Example 1: Showing default rendering (below)"
   ]
  },
  {
   "cell_type": "code",
   "execution_count": 5,
   "metadata": {
    "collapsed": false,
    "deletable": true,
    "editable": true
   },
   "outputs": [
    {
     "data": {
      "application/vnd.jupyter.widget-view+json": {
       "model_id": "8683272f3cb24408b1c7e7eaf9d5c404"
      }
     },
     "metadata": {},
     "output_type": "display_data"
    },
    {
     "data": {
      "text/plain": [
       "<function __main__.addMolToViewForScrolling>"
      ]
     },
     "execution_count": 5,
     "metadata": {},
     "output_type": "execute_result"
    }
   ],
   "source": [
    "browseMolConformers(m,view=None,confId=(0,m.GetNumConformers()-1),drawAs=None,bgColor=None,size=None)"
   ]
  },
  {
   "cell_type": "markdown",
   "metadata": {
    "deletable": true,
    "editable": true
   },
   "source": [
    "# Example 2: Showing custom rendering (below)"
   ]
  },
  {
   "cell_type": "code",
   "execution_count": 6,
   "metadata": {
    "collapsed": false,
    "deletable": true,
    "editable": true
   },
   "outputs": [
    {
     "data": {
      "application/vnd.jupyter.widget-view+json": {
       "model_id": "e10cefe57cf24659bb9b52c52a87218a"
      }
     },
     "metadata": {},
     "output_type": "display_data"
    },
    {
     "data": {
      "text/plain": [
       "<function __main__.addMolToViewForScrolling>"
      ]
     },
     "execution_count": 6,
     "metadata": {},
     "output_type": "execute_result"
    }
   ],
   "source": [
    "browseMolConformers(m,view=None,confId=(0,m.GetNumConformers()-1),drawAs=\"sphere\",bgColor=\"black\",size=(800, 400))"
   ]
  },
  {
   "cell_type": "markdown",
   "metadata": {
    "deletable": true,
    "editable": true
   },
   "source": [
    "Prepared by- Malitha Humayun Kabir for Paul Czodrowski on 21th April 2017"
   ]
  },
  {
   "cell_type": "code",
   "execution_count": null,
   "metadata": {
    "collapsed": true,
    "deletable": true,
    "editable": true
   },
   "outputs": [],
   "source": []
  }
 ],
 "metadata": {
  "kernelspec": {
   "display_name": "Python 2",
   "language": "python",
   "name": "python2"
  },
  "language_info": {
   "codemirror_mode": {
    "name": "ipython",
    "version": 2
   },
   "file_extension": ".py",
   "mimetype": "text/x-python",
   "name": "python",
   "nbconvert_exporter": "python",
   "pygments_lexer": "ipython2",
   "version": "2.7.12"
  }
 },
 "nbformat": 4,
 "nbformat_minor": 2
}
