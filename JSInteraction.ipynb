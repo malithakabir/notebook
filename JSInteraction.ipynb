{
 "cells": [
  {
   "cell_type": "markdown",
   "metadata": {},
   "source": [
    "# IPython Notebook: Javascript/Python Bi-directional Communication"
   ]
  },
  {
   "cell_type": "markdown",
   "metadata": {},
   "source": [
    "*This notebook originally appeared as a post on*\n",
    "[*Pythonic Perambulations*](http://jakevdp.github.io)\n",
    "*by Jake Vanderplas.*"
   ]
  },
  {
   "cell_type": "markdown",
   "metadata": {},
   "source": [
    "*Note: recent releases of IPython/Jupyter greatly streamline this kind of communication, and the approach in this post will no longer work as shown here.*"
   ]
  },
  {
   "cell_type": "markdown",
   "metadata": {},
   "source": [
    "<!-- PELICAN_BEGIN_SUMMARY -->\n",
    "\n",
    "I've been working with javascript and the IPython notebook recently, and found myself\n",
    "in need of a way to pass data back and forth between the Javascript runtime and the\n",
    "IPython kernel.  There's a bit of information about this floating around on various\n",
    "mailing lists and forums, but no real organized tutorial on the subject.\n",
    "Partly this is because the tools are relatively specialized,\n",
    "and partly it's because the functionality I'll outline here is planned to\n",
    "be [obsolete](https://github.com/ipython/ipython/wiki/Roadmap:-IPython)\n",
    "in the 2.0 release of IPython.\n",
    "\n",
    "Nevertheless, I thought folks might be interested to hear what I've learned.\n",
    "What follows are a few basic examples of moving data back and forth between\n",
    "the IPython kernel and the browser's javascript. \n",
    "Note that if you're viewing this statically (i.e. on the blog or on nbviewer) then\n",
    "the javascript calls below will not work: to see the code in action, you'll need\n",
    "to [download](http://jakevdp.github.io/downloads/notebooks/JSInteraction.ipynb)\n",
    "the notebook and open it in IPython.\n",
    "\n",
    "<!-- PELICAN_END_SUMMARY -->"
   ]
  },
  {
   "cell_type": "markdown",
   "metadata": {},
   "source": [
    "## Executing Python Statements From Javascript"
   ]
  },
  {
   "cell_type": "markdown",
   "metadata": {},
   "source": [
    "The key functionality needed for interaction between javascript and the\n",
    "IPython kernel is the ``kernel`` object\n",
    "in the IPython Javascript package.\n",
    "A python statement can be executed from javascript as follows:\n",
    "\n",
    "    var kernel = IPython.notebook.kernel;\n",
    "    kernel.execute(command);\n",
    "\n",
    "where ``command`` is a string containing python code.\n",
    "\n",
    "Here is a short example where we use HTML elements and javascript callbacks\n",
    "to execute a statement in the Python kernel from Javascript, using the\n",
    "``kernel.execute`` command:"
   ]
  },
  {
   "cell_type": "code",
   "execution_count": 1,
   "metadata": {
    "collapsed": false
   },
   "outputs": [
    {
     "data": {
      "text/html": [
       "\n",
       "<div style=\"background-color:gainsboro; border:solid black; width:300px; padding:20px;\">\n",
       "Variable Name: <input type=\"text\" id=\"var_name\" value=\"foo\"><br>\n",
       "Variable Value: <input type=\"text\" id=\"var_value\" value=\"bar\"><br>\n",
       "<button onclick=\"set_value()\">Set Value</button>\n",
       "</div>\n",
       "\n",
       "<script type=\"text/Javascript\">\n",
       "    function set_value(){\n",
       "        var var_name = document.getElementById('var_name').value;\n",
       "        var var_value = document.getElementById('var_value').value;\n",
       "        var command = var_name + \" = '\" + var_value + \"'\";\n",
       "        console.log(\"Executing Command: \" + command);\n",
       "        \n",
       "        var kernel = IPython.notebook.kernel;\n",
       "        kernel.execute(command);\n",
       "    }\n",
       "</script>\n"
      ],
      "text/plain": [
       "<IPython.core.display.HTML at 0x2d95b10>"
      ]
     },
     "execution_count": 1,
     "metadata": {},
     "output_type": "execute_result"
    }
   ],
   "source": [
    "from IPython.display import HTML\n",
    "\n",
    "input_form = \"\"\"\n",
    "<div style=\"background-color:gainsboro; border:solid black; width:300px; padding:20px;\">\n",
    "Variable Name: <input type=\"text\" id=\"var_name\" value=\"foo\"><br>\n",
    "Variable Value: <input type=\"text\" id=\"var_value\" value=\"bar\"><br>\n",
    "<button onclick=\"set_value()\">Set Value</button>\n",
    "</div>\n",
    "\"\"\"\n",
    "\n",
    "javascript = \"\"\"\n",
    "<script type=\"text/Javascript\">\n",
    "    function set_value(){\n",
    "        var var_name = document.getElementById('var_name').value;\n",
    "        var var_value = document.getElementById('var_value').value;\n",
    "        var command = var_name + \" = '\" + var_value + \"'\";\n",
    "        console.log(\"Executing Command: \" + command);\n",
    "        \n",
    "        var kernel = IPython.notebook.kernel;\n",
    "        kernel.execute(command);\n",
    "    }\n",
    "</script>\n",
    "\"\"\"\n",
    "\n",
    "HTML(input_form + javascript)"
   ]
  },
  {
   "cell_type": "markdown",
   "metadata": {},
   "source": [
    "After pressing <button>Set Value</button> above\n",
    "with the default arguments, the value of the variable\n",
    "``foo`` is set in the Python kernel, and can be\n",
    "accessed from Python:"
   ]
  },
  {
   "cell_type": "code",
   "execution_count": 2,
   "metadata": {
    "collapsed": false
   },
   "outputs": [
    {
     "name": "stdout",
     "output_type": "stream",
     "text": [
      "bar\n"
     ]
    }
   ],
   "source": [
    "print foo"
   ]
  },
  {
   "cell_type": "markdown",
   "metadata": {},
   "source": [
    "Examining the code, we see that\n",
    "when the button is clicked, the ``set_value()`` function is called, which\n",
    "constructs a simple Python statement\n",
    "assigning ``var_value`` to the variable given by ``var_name``.  As mentioned\n",
    "above, the key to interaction between Javascript and the notebook kernel is to use\n",
    "the ``IPython.notebook.kernel.execute()`` command, passing valid Python\n",
    "code in a string.  We also log the result to the javascript console, which\n",
    "can be helpful for Javascript debugging."
   ]
  },
  {
   "cell_type": "markdown",
   "metadata": {},
   "source": [
    "## Accessing Python Output In Javascript"
   ]
  },
  {
   "cell_type": "markdown",
   "metadata": {},
   "source": [
    "Executing Python statements from Javascript is one thing, but we'd\n",
    "really like to be able to do something with the output.\n",
    "\n",
    "In order to process the output of a Python statement executed in the kernel,\n",
    "we need to add a callback function to the ``execute`` statement.\n",
    "The full extent of callbacks is a bit involved, but the first step is\n",
    "to set a callback which does something with the ``output`` attribute.\n",
    "\n",
    "To set an output, we pass a Javascript callback object to the\n",
    "execute call, looking like this:\n",
    "\n",
    "    var kernel = IPython.notebook.kernel;\n",
    "    function callback(out_type, out_data){\n",
    "        // do_something\n",
    "    }\n",
    "    kernel.execute(command, {\"output\": callback});\n",
    "\n",
    "Using this, we can execute a Python command and do something with\n",
    "the result.  The python command can be as simple as a variable name:\n",
    "in this case, the value returned is simply the value of that variable.\n",
    "\n",
    "To demonstrate this, we'll first import ``pi`` and ``sin``\n",
    "from the ``math`` package in Python:"
   ]
  },
  {
   "cell_type": "code",
   "execution_count": 3,
   "metadata": {
    "collapsed": false
   },
   "outputs": [],
   "source": [
    "from math import pi, sin"
   ]
  },
  {
   "cell_type": "markdown",
   "metadata": {},
   "source": [
    "And then we'll manipulate this value via Javascript:"
   ]
  },
  {
   "cell_type": "code",
   "execution_count": 4,
   "metadata": {
    "collapsed": false
   },
   "outputs": [
    {
     "data": {
      "text/html": [
       "\n",
       "<div style=\"background-color:gainsboro; border:solid black; width:600px; padding:20px;\">\n",
       "Code: <input type=\"text\" id=\"code_input\" size=\"50\" height=\"2\" value=\"sin(pi / 2)\"><br>\n",
       "Result: <input type=\"text\" id=\"result_output\" size=\"50\" value=\"1.0\"><br>\n",
       "<button onclick=\"exec_code()\">Execute</button>\n",
       "</div>\n",
       "\n",
       "<script type=\"text/Javascript\">\n",
       "    function handle_output(out_type, out){\n",
       "        console.log(out_type);\n",
       "        console.log(out);\n",
       "        var res = null;\n",
       "         // if output is a print statement\n",
       "        if(out_type == \"stream\"){\n",
       "            res = out.data;\n",
       "        }\n",
       "        // if output is a python object\n",
       "        else if(out_type === \"pyout\"){\n",
       "            res = out.data[\"text/plain\"];\n",
       "        }\n",
       "        // if output is a python error\n",
       "        else if(out_type == \"pyerr\"){\n",
       "            res = out.ename + \": \" + out.evalue;\n",
       "        }\n",
       "        // if output is something we haven't thought of\n",
       "        else{\n",
       "            res = \"[out type not implemented]\";   \n",
       "        }\n",
       "        document.getElementById(\"result_output\").value = res;\n",
       "    }\n",
       "    \n",
       "    function exec_code(){\n",
       "        var code_input = document.getElementById('code_input').value;\n",
       "        var kernel = IPython.notebook.kernel;\n",
       "        var callbacks = {'output' : handle_output};\n",
       "        document.getElementById(\"result_output\").value = \"\";  // clear output box\n",
       "        var msg_id = kernel.execute(code_input, callbacks, {silent:false});\n",
       "        console.log(\"button pressed\");\n",
       "    }\n",
       "</script>\n"
      ],
      "text/plain": [
       "<IPython.core.display.HTML at 0x2d8f690>"
      ]
     },
     "execution_count": 4,
     "metadata": {},
     "output_type": "execute_result"
    }
   ],
   "source": [
    "# Add an input form similar to what we saw above\n",
    "input_form = \"\"\"\n",
    "<div style=\"background-color:gainsboro; border:solid black; width:600px; padding:20px;\">\n",
    "Code: <input type=\"text\" id=\"code_input\" size=\"50\" height=\"2\" value=\"sin(pi / 2)\"><br>\n",
    "Result: <input type=\"text\" id=\"result_output\" size=\"50\" value=\"1.0\"><br>\n",
    "<button onclick=\"exec_code()\">Execute</button>\n",
    "</div>\n",
    "\"\"\"\n",
    "\n",
    "# here the javascript has a function to execute the code\n",
    "# within the input box, and a callback to handle the output.\n",
    "javascript = \"\"\"\n",
    "<script type=\"text/Javascript\">\n",
    "    function handle_output(out_type, out){\n",
    "        console.log(out_type);\n",
    "        console.log(out);\n",
    "        var res = null;\n",
    "         // if output is a print statement\n",
    "        if(out_type == \"stream\"){\n",
    "            res = out.data;\n",
    "        }\n",
    "        // if output is a python object\n",
    "        else if(out_type === \"pyout\"){\n",
    "            res = out.data[\"text/plain\"];\n",
    "        }\n",
    "        // if output is a python error\n",
    "        else if(out_type == \"pyerr\"){\n",
    "            res = out.ename + \": \" + out.evalue;\n",
    "        }\n",
    "        // if output is something we haven't thought of\n",
    "        else{\n",
    "            res = \"[out type not implemented]\";   \n",
    "        }\n",
    "        document.getElementById(\"result_output\").value = res;\n",
    "    }\n",
    "    \n",
    "    function exec_code(){\n",
    "        var code_input = document.getElementById('code_input').value;\n",
    "        var kernel = IPython.notebook.kernel;\n",
    "        var callbacks = {'output' : handle_output};\n",
    "        document.getElementById(\"result_output\").value = \"\";  // clear output box\n",
    "        var msg_id = kernel.execute(code_input, callbacks, {silent:false});\n",
    "        console.log(\"button pressed\");\n",
    "    }\n",
    "</script>\n",
    "\"\"\"\n",
    "\n",
    "HTML(input_form + javascript)"
   ]
  },
  {
   "cell_type": "markdown",
   "metadata": {},
   "source": [
    "Pressing <button>Execute</button> above will call ``kernel.execute``\n",
    "with the contents of the **Code** box, passing a callback which\n",
    "displays the result in the result box.\n",
    "\n",
    "The reason the callback has so many conditionals is because there are several types\n",
    "of outputs we need to handle.  Note that the output handler is given as the ``output``\n",
    "attribute of a Javascript object, and passed to the ``kernel.execute`` function.\n",
    "Again, we use ``console.log`` to allow us to inspect the objects\n",
    "using the Javascript console."
   ]
  },
  {
   "cell_type": "markdown",
   "metadata": {},
   "source": [
    "## Application: An On-the-fly Matplotlib Animation"
   ]
  },
  {
   "cell_type": "markdown",
   "metadata": {},
   "source": [
    "In a [previous post](http://jakevdp.github.io/blog/2013/05/19/a-javascript-viewer-for-matplotlib-animations/)\n",
    "I introduced a javascript viewer for matplotlib animations. This viewer pre-computes all the matplotlib\n",
    "frames, embeds them in the notebook, and offers some tools to view them.\n",
    "\n",
    "Here we'll explore a different strategy: rather than precomputing all the frames before displaying them,\n",
    "we'll use the javascript/python kernel communication and *generate the frames as needed*.\n",
    "\n",
    "Note that if you're viewing this statically (e.g. in nbviewer or on my blog), it will be relatively\n",
    "unexciting: with no IPython kernel available, calls to the kernel will do nothing.\n",
    "To see this in action, please\n",
    "[download](http://jakevdp.github.io/downloads/notebooks/JSInteraction.ipynb) the notebook and open it with a running IPython notebook instance."
   ]
  },
  {
   "cell_type": "code",
   "execution_count": 6,
   "metadata": {
    "collapsed": false
   },
   "outputs": [
    {
     "name": "stdout",
     "output_type": "stream",
     "text": [
      "\n",
      "Welcome to pylab, a matplotlib-based Python environment [backend: module://IPython.kernel.zmq.pylab.backend_inline].\n",
      "For more information, type 'help(pylab)'.\n"
     ]
    }
   ],
   "source": [
    "%pylab inline"
   ]
  },
  {
   "cell_type": "code",
   "execution_count": 7,
   "metadata": {
    "collapsed": false
   },
   "outputs": [],
   "source": [
    "from IPython.display import HTML\n",
    "from cStringIO import StringIO\n",
    "\n",
    "# We'll use HTML to create a control panel with an\n",
    "# empty image and a number of navigation buttons.\n",
    "\n",
    "disp_html = \"\"\"\n",
    "<div class=\"animation\" align=\"center\">\n",
    "<img id=\"anim_frame\" src=\"\"><br>\n",
    "<button onclick=\"prevFrame()\">Prev Frame</button>\n",
    "<button onclick=\"reverse()\">Reverse</button>\n",
    "<button onclick=\"pause()\">Pause</button>\n",
    "<button onclick=\"play()\">Play</button>\n",
    "<button onclick=\"nextFrame()\">Next Frame</button>\n",
    "</div>\n",
    "\"\"\"\n",
    "\n",
    "# now the javascript to drive it.  The nextFrame() and prevFrame()\n",
    "# functions will call the kernel and pull-down the frame which\n",
    "# is generated.  The play() and reverse() functions use timeouts\n",
    "# to repeatedly call nextFrame() and prevFrame().\n",
    "\n",
    "javascript = \"\"\"\n",
    "<script type=\"text/Javascript\">\n",
    "var count = -1;  // keep track of frame number\n",
    "var animating = 0;  // keep track of animation direction\n",
    "var timer = null;\n",
    "var kernel = IPython.notebook.kernel;\n",
    "\n",
    "function output(out_type, out){\n",
    "    data = out.data[\"text/plain\"];\n",
    "    document.getElementById(\"anim_frame\").src = data.substring(1, data.length - 1);\n",
    "    \n",
    "    if(animating > 0){\n",
    "        timer = setTimeout(nextFrame, 0);\n",
    "    }\n",
    "    else if(animating < 0){\n",
    "        timer = setTimeout(prevFrame, 0);\n",
    "    }\n",
    "}\n",
    "\n",
    "var callbacks = {'output' : output};\n",
    "\n",
    "function pause(){\n",
    "    animating = 0;\n",
    "    if(timer){\n",
    "        clearInterval(timer);\n",
    "        timer = null;\n",
    "    }\n",
    "}\n",
    "\n",
    "function play(){\n",
    "    pause();\n",
    "    animating = +1;\n",
    "    nextFrame();\n",
    "}\n",
    "\n",
    "function reverse(){\n",
    "    pause();\n",
    "    animating = -1;\n",
    "    prevFrame();\n",
    "}\n",
    "\n",
    "function nextFrame(){\n",
    "    count += 1;\n",
    "    var msg_id = kernel.execute(\"disp._get_frame_data(\" + count + \")\", callbacks, {silent:false});\n",
    "}\n",
    "\n",
    "function prevFrame(){\n",
    "    count -= 1;\n",
    "    var msg_id = kernel.execute(\"disp._get_frame_data(\" + count + \")\", callbacks, {silent:false});\n",
    "}\n",
    "\n",
    "// display the first frame\n",
    "setTimeout(nextFrame, 0);\n",
    "\n",
    "</script>\n",
    "\"\"\"\n",
    "\n",
    "# Here we create a class whose HTML representation is the above\n",
    "# HTML and javascript.  Note that we've hard-coded the global\n",
    "# variable name `disp` in the Javascript, so you'll have to assign\n",
    "# the resulting object to this name in order to view it.\n",
    "\n",
    "class DisplayAnimation(object):\n",
    "    def __init__(self, anim):\n",
    "        self.anim = anim\n",
    "        self.fig = anim._fig\n",
    "        plt.close(self.fig)\n",
    "        \n",
    "    def _get_frame_data(self, i):\n",
    "        anim._draw_frame(i)\n",
    "        buffer = StringIO()\n",
    "        fig.savefig(buffer, format='png')\n",
    "        buffer.reset()\n",
    "        data = buffer.read().encode('base64')\n",
    "        return \"data:image/png;base64,{0}\".format(data.replace('\\n', ''))\n",
    "    \n",
    "    def _repr_html_(self):\n",
    "        return disp_html + javascript"
   ]
  },
  {
   "cell_type": "markdown",
   "metadata": {},
   "source": [
    "This code should be considered a proof-of-concept: in particular, it\n",
    "requires the display object to be named ``disp`` in the global namespace.\n",
    "But making it more robust would be a relatively simple process.\n",
    "\n",
    "Here we'll test the result by creating a simple animation and displaying it dynamically:"
   ]
  },
  {
   "cell_type": "code",
   "execution_count": 8,
   "metadata": {
    "collapsed": false
   },
   "outputs": [
    {
     "data": {
      "text/html": [
       "\n",
       "<div class=\"animation\" align=\"center\">\n",
       "<img id=\"anim_frame\" src=\"\"><br>\n",
       "<button onclick=\"prevFrame()\">Prev Frame</button>\n",
       "<button onclick=\"reverse()\">Reverse</button>\n",
       "<button onclick=\"pause()\">Pause</button>\n",
       "<button onclick=\"play()\">Play</button>\n",
       "<button onclick=\"nextFrame()\">Next Frame</button>\n",
       "</div>\n",
       "\n",
       "<script type=\"text/Javascript\">\n",
       "var count = -1;  // keep track of frame number\n",
       "var animating = 0;  // keep track of animation direction\n",
       "var timer = null;\n",
       "var kernel = IPython.notebook.kernel;\n",
       "\n",
       "function output(out_type, out){\n",
       "    data = out.data[\"text/plain\"];\n",
       "    document.getElementById(\"anim_frame\").src = data.substring(1, data.length - 1);\n",
       "    \n",
       "    if(animating > 0){\n",
       "        timer = setTimeout(nextFrame, 0);\n",
       "    }\n",
       "    else if(animating < 0){\n",
       "        timer = setTimeout(prevFrame, 0);\n",
       "    }\n",
       "}\n",
       "\n",
       "var callbacks = {'output' : output};\n",
       "\n",
       "function pause(){\n",
       "    animating = 0;\n",
       "    if(timer){\n",
       "        clearInterval(timer);\n",
       "        timer = null;\n",
       "    }\n",
       "}\n",
       "\n",
       "function play(){\n",
       "    pause();\n",
       "    animating = +1;\n",
       "    nextFrame();\n",
       "}\n",
       "\n",
       "function reverse(){\n",
       "    pause();\n",
       "    animating = -1;\n",
       "    prevFrame();\n",
       "}\n",
       "\n",
       "function nextFrame(){\n",
       "    count += 1;\n",
       "    var msg_id = kernel.execute(\"disp._get_frame_data(\" + count + \")\", callbacks, {silent:false});\n",
       "}\n",
       "\n",
       "function prevFrame(){\n",
       "    count -= 1;\n",
       "    var msg_id = kernel.execute(\"disp._get_frame_data(\" + count + \")\", callbacks, {silent:false});\n",
       "}\n",
       "\n",
       "// display the first frame\n",
       "setTimeout(nextFrame, 0);\n",
       "\n",
       "</script>\n"
      ],
      "text/plain": [
       "<__main__.DisplayAnimation at 0x3a267d0>"
      ]
     },
     "execution_count": 8,
     "metadata": {},
     "output_type": "execute_result"
    }
   ],
   "source": [
    "from matplotlib import animation\n",
    "\n",
    "fig = plt.figure()\n",
    "ax = plt.axes(xlim=(0, 10), ylim=(-2, 2))\n",
    "line, = ax.plot([], [], lw=2)\n",
    "\n",
    "def init():\n",
    "    line.set_data([], [])\n",
    "    return line,\n",
    "\n",
    "def animate(i):\n",
    "    x = np.linspace(0, 10, 1000)\n",
    "    y = np.cos(i * 0.02 * np.pi) * np.sin(x - i * 0.02 * np.pi)\n",
    "    line.set_data(x, y)\n",
    "    return line,\n",
    "\n",
    "anim = animation.FuncAnimation(fig, animate, init_func=init,\n",
    "                               frames=100, interval=30)\n",
    "\n",
    "# For now, we need to name this `disp` for it to work\n",
    "disp = DisplayAnimation(anim)\n",
    "disp"
   ]
  },
  {
   "cell_type": "markdown",
   "metadata": {},
   "source": [
    "Once again, if you're viewing this statically, you'll see nothing above\n",
    "the buttons.  The kernel needs to be running in order to see this: you can\n",
    "[download the notebook](http://jakevdp.github.io/downloads/notebooks/JSInteraction.ipynb) and run it to see the results (To see a\n",
    "statically-viewable version of the animation, refer to the\n",
    "[previous post](http://jakevdp.github.io/blog/2013/05/19/a-javascript-viewer-for-matplotlib-animations/)).\n",
    "But I assure you,\n",
    "it works!  We've created an animation viewer which uses bi-directional\n",
    "communication between javascript and matplotlib to generate the frames in\n",
    "real-time.\n",
    "\n",
    "Note that this is still rather limited, and should be considered a proof-of-concept\n",
    "more than a finished result.  In particular, on my four-year-old linux box, I\n",
    "can only achieve a frame-rate of about 10 frames/sec.\n",
    "Part of this is due to the reliance on png images saved within matplotlib,\n",
    "as we can see by profiling the function:"
   ]
  },
  {
   "cell_type": "code",
   "execution_count": 10,
   "metadata": {
    "collapsed": false
   },
   "outputs": [
    {
     "data": {
      "text/plain": [
       "[<matplotlib.lines.Line2D at 0x3a26f50>]"
      ]
     },
     "execution_count": 10,
     "metadata": {},
     "output_type": "execute_result"
    },
    {
     "data": {
      "image/png": "[encoded data removed]",
      "text/plain": [
       "<matplotlib.figure.Figure at 0x3a1ee90>"
      ]
     },
     "metadata": {},
     "output_type": "display_data"
    }
   ],
   "source": [
    "def save_to_mem(fig):\n",
    "    buffer = StringIO()\n",
    "    fig.savefig(buffer, format='png')\n",
    "    buffer.reset()\n",
    "    data = buffer.read().encode('base64')\n",
    "    return \"data:image/png;base64,{0}\".format(data.replace('\\n', ''))\n",
    "\n",
    "fig, ax = plt.subplots()\n",
    "ax.plot(rand(200))"
   ]
  },
  {
   "cell_type": "code",
   "execution_count": 11,
   "metadata": {
    "collapsed": false
   },
   "outputs": [
    {
     "name": "stdout",
     "output_type": "stream",
     "text": [
      "10 loops, best of 3: 54.2 ms per loop\n"
     ]
    }
   ],
   "source": [
    "%timeit save_to_mem(fig)"
   ]
  },
  {
   "cell_type": "markdown",
   "metadata": {},
   "source": [
    "That's a cap of about 20 frames per second on matplotlib's end, not including\n",
    "the time required to serialize and send the data,\n",
    "or to render each frame on the page.\n",
    "I'm certain there are much better ways to do this particular application,\n",
    "but they would take a bit more thought."
   ]
  },
  {
   "cell_type": "markdown",
   "metadata": {},
   "source": [
    "I hope this post was helpful to you, as unpolished as the results are, and\n",
    "please let me know if you have ideas about how to do this more effectively!\n",
    "Also, keep in mind that Javascript support should be improving immensely in\n",
    "IPython 2.0, which (according to the [roadmap](https://github.com/ipython/ipython/wiki/Roadmap:-IPython))\n",
    "should be released in December of 2013.  At that point I may have more to say\n",
    "on the subject!"
   ]
  },
  {
   "cell_type": "markdown",
   "metadata": {},
   "source": [
    "*This post was composed entirely in IPython notebook.*\n",
    "*The source notebook can be downloaded*\n",
    "[here](http://jakevdp.github.io/downloads/notebooks/JSInteraction.ipynb)"
   ]
  }
 ],
 "metadata": {
  "anaconda-cloud": {},
  "kernelspec": {
   "display_name": "Python [default]",
   "language": "python",
   "name": "python3"
  },
  "language_info": {
   "codemirror_mode": {
    "name": "ipython",
    "version": 3
   },
   "file_extension": ".py",
   "mimetype": "text/x-python",
   "name": "python",
   "nbconvert_exporter": "python",
   "pygments_lexer": "ipython3",
   "version": "3.5.1"
  }
 },
 "nbformat": 4,
 "nbformat_minor": 0
}
