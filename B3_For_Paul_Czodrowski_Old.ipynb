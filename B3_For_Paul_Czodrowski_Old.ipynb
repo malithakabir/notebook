{
 "cells": [
  {
   "cell_type": "markdown",
   "metadata": {
    "deletable": true,
    "editable": true
   },
   "source": [
    "# This is a simple example to visualize protein and ligand."
   ]
  },
  {
   "cell_type": "code",
   "execution_count": 1,
   "metadata": {
    "collapsed": false,
    "deletable": true,
    "editable": true
   },
   "outputs": [
    {
     "data": {
      "text/html": [
       "<div id=\"3dmolviewer_149095451692\"  style=\"position: relative; width: 640px; height: 480px\">\n",
       "<script>\n",
       "if(typeof $3Dmolpromise === 'undefined') $3Dmolpromise = $.when($.getScript('https://3dmol.csb.pitt.edu/build/3Dmol.js'))\n",
       "var viewer_149095451692 = null;\n",
       "$3Dmolpromise.done(function() {\n",
       "viewer_149095451692 = $3Dmol.createViewer($(\"#3dmolviewer_149095451692\"),{backgroundColor:\"white\"});\n",
       "$3Dmol.download(\"pdb:4i22\", viewer_149095451692, {}, function() {\n",
       "\tviewer_149095451692.setStyle({\"chain\": \"A\"},{\"cartoon\": {\"color\": \"spectrum\"}});\n",
       "\tviewer_149095451692.setStyle({\"resn\": \"IRE\"},{\"stick\": {}});\n",
       "viewer_149095451692.render();\n",
       "})\n",
       "});\n",
       "</script>"
      ],
      "text/plain": [
       "<IPython.core.display.HTML object>"
      ]
     },
     "execution_count": 1,
     "metadata": {},
     "output_type": "execute_result"
    }
   ],
   "source": [
    "import py3Dmol\n",
    "view = py3Dmol.view(query='pdb:4i22')\n",
    "chA = {'chain':'A'}\n",
    "ligand = {'resn':'IRE'}\n",
    "view.setStyle(chA,{'cartoon': {'color':'spectrum'}})\n",
    "view.setStyle(ligand,{'stick':{}})\n",
    "view.show()"
   ]
  },
  {
   "cell_type": "markdown",
   "metadata": {
    "deletable": true,
    "editable": true
   },
   "source": [
    "Figure: Gefitinib with it's receptor protein (EGFR). "
   ]
  },
  {
   "cell_type": "markdown",
   "metadata": {
    "deletable": true,
    "editable": true
   },
   "source": [
    "note 1: py3Dmol is a python wrapper of 3Dmol.js, therefore, the object named \"view\" contains all the required information. In order to perform energy minimization of ligand, we first isolate ligand from 'view' and send it to force field available in rdkit.\n",
    "\n",
    "note 2: I assume we have isolated ligand from complete pdb file. Now, we can generate conformers using rdkit conformer function. One of our goal, if I am not wrong, is to visualize conformers interactively through ipythondidget that shows models. In this case, protein will remain STATIC and the ligand will be shown inside the cavity.\n",
    "\n",
    "note 3: Our another goal is to optimize geometry using already available geometry optimization module of rdkit. We should be able to optimize geometry, after appropriate file conversion if required, of an isolated ligand."
   ]
  },
  {
   "cell_type": "code",
   "execution_count": null,
   "metadata": {
    "collapsed": true,
    "deletable": true,
    "editable": true
   },
   "outputs": [],
   "source": []
  }
 ],
 "metadata": {
  "celltoolbar": "Raw Cell Format",
  "kernelspec": {
   "display_name": "Python 2",
   "language": "python",
   "name": "python2"
  },
  "language_info": {
   "codemirror_mode": {
    "name": "ipython",
    "version": 2
   },
   "file_extension": ".py",
   "mimetype": "text/x-python",
   "name": "python",
   "nbconvert_exporter": "python",
   "pygments_lexer": "ipython2",
   "version": "2.7.12"
  }
 },
 "nbformat": 4,
 "nbformat_minor": 2
}
