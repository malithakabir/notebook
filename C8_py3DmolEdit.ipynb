{
 "cells": [
  {
   "cell_type": "code",
   "execution_count": 1,
   "metadata": {
    "collapsed": true,
    "deletable": true,
    "editable": true
   },
   "outputs": [],
   "source": [
    "import IPython.display\n",
    "import time, json\n",
    "\n",
    "#surface type constants\n",
    "VDW =1\n",
    "MS=2\n",
    "SAS=3\n",
    "SES=4\n",
    "\n",
    "class view(object):\n",
    "    '''A class for constructing embedded 3Dmol.js views in ipython notebooks.\n",
    "       The results are completely static which means there is no need for there\n",
    "       to be an active kernel but also that there is no communication between\n",
    "       the javascript viewer and ipython.\n",
    "       \n",
    "       The API for the created object is exactly that for $3Dmol.GLViewer, with\n",
    "       the exception that the functions all return None.\n",
    "       http://3dmol.csb.pitt.edu/doc/$3Dmol.GLViewer.html\n",
    "    '''\n",
    "    def __init__(self,width=320,height=260,query='',options=dict(),js='https://3dmol.csb.pitt.edu/build/3Dmol.js'):\n",
    "        '''Create a 3Dmol.js view.\n",
    "            width -- width in pixels of container\n",
    "            height -- height in pixels of container\n",
    "            query -- optional argument to provide to $3Dmol.download\n",
    "            options -- optional options to provide to $3Dmol.download\n",
    "            js -- url for 3Dmol.js'''\n",
    "        divid = \"3dmolviewer_UNIQUEID\" \n",
    "        self.uniqueid = None\n",
    "        self.startjs = '<div id=\"%s\"  style=\"position: relative; width: %dpx; height: %dpx\">\\n' % (divid,width,height)\n",
    "        self.startjs += '<script>\\n'\n",
    "        self.endjs = '</script>'\n",
    "        \n",
    "        self.updatejs = '' # code added since last show\n",
    "        #load 3dmol, but only once\n",
    "        self.startjs += \"if(typeof $3Dmolpromise === 'undefined') $3Dmolpromise = $.when($.getScript('%s'))\\n\" % js\n",
    "        self.startjs += \"var viewer_UNIQUEID = null;\\n\";\n",
    "        self.startjs += \"$3Dmolpromise.done(function() {\\n\";\n",
    "        self.endjs = \"});\\n\" + self.endjs\n",
    "\n",
    "        self.startjs += 'viewer_UNIQUEID = $3Dmol.createViewer($(\"#%s\"),{backgroundColor:\"black\"});\\n' % divid\n",
    "        if query:\n",
    "            self.startjs += '$3Dmol.download(\"%s\", viewer_UNIQUEID, %s, function() {\\n' % (query,json.dumps(options))\n",
    "            self.endjs = \"})\\n\" + self.endjs        \n",
    "        self.endjs = \"viewer_UNIQUEID.zoomTo();\\nviewer_UNIQUEID.render();\\n\" + self.endjs;\n",
    "        \n",
    "    def _repr_html_(self):\n",
    "        self.uniqueid = str(time.time()).replace('.','')\n",
    "        print ('div id: 3dmolviewer_'+self.uniqueid)\n",
    "        self.updatejs = ''\n",
    "        html = (self.startjs+self.endjs).replace('UNIQUEID',self.uniqueid)\n",
    "        return html\n",
    "    \n",
    "    def show(self):\n",
    "        '''Instantiate a new viewer window. Calling this will orphan any previously instantiated viewer windows.'''\n",
    "        self.updatejs = ''\n",
    "        return IPython.display.HTML(self._repr_html_())\n",
    "    \n",
    "    \n",
    "       \n",
    "    def insert(self, containerid):\n",
    "        '''Instead of inserting into notebook here, insert html\n",
    "        into existing container'''\n",
    "        html = self._repr_html_()\n",
    "        html += '''<script>$(\"#%s\").append($(\"#3dmolviewer_%s\")); </script>'''%(containerid,self.uniqueid)\n",
    "        \n",
    "        return IPython.display.HTML(html)\n",
    "    \n",
    "\n",
    "\n",
    "            \n",
    "    def update(self):\n",
    "        '''Apply commands to existing viewer (must be instantiated).'''\n",
    "        if self.uniqueid == None:\n",
    "            raise AssertionError('Must instantiate viewer before generating image.')\n",
    "        script = '''<script>\n",
    "            $3Dmolpromise.done(function() { //wrap in promise for non-interactive functionality\n",
    "                %s\n",
    "                viewer_%s.render();\n",
    "            });\n",
    "            </script>''' % (self.updatejs.replace('UNIQUEID',self.uniqueid),self.uniqueid)\n",
    "        self.updatejs = ''\n",
    "        return IPython.display.HTML(script)\n",
    "\n",
    "    \n",
    "    def __getattr__(self,name):\n",
    "        '''auto-instantiate javascript calls based on whatever the user provided'''\n",
    "        if name.startswith('_'): #object to ipython canary functions\n",
    "            raise AttributeError(\"%r object has no attribute %r\" %\n",
    "                         (self.__class__, attr))\n",
    "        def makejs(*args):            \n",
    "            cmd = '\\tviewer_UNIQUEID.%s(' % name;\n",
    "            for arg in args:\n",
    "                print('argument: '+ json.dumps(arg))\n",
    "                cmd += '%s,' % json.dumps(arg)\n",
    "            cmd = cmd.rstrip(',')\n",
    "            cmd += ');\\n';\n",
    "            self.startjs += cmd\n",
    "            self.updatejs += cmd\n",
    "            return self\n",
    "        \n",
    "        return makejs\n"
   ]
  },
  {
   "cell_type": "code",
   "execution_count": null,
   "metadata": {
    "collapsed": false,
    "deletable": true,
    "editable": true
   },
   "outputs": [],
   "source": []
  },
  {
   "cell_type": "code",
   "execution_count": 2,
   "metadata": {
    "collapsed": true,
    "deletable": true,
    "editable": true
   },
   "outputs": [],
   "source": [
    "protein = open('4i22_protein.pdb','r').read()\n",
    "ligand = open('4i22_ligand.pdb','r').read()"
   ]
  },
  {
   "cell_type": "code",
   "execution_count": 23,
   "metadata": {
    "collapsed": false,
    "deletable": true,
    "editable": true
   },
   "outputs": [],
   "source": []
  },
  {
   "cell_type": "code",
   "execution_count": null,
   "metadata": {
    "collapsed": false,
    "deletable": true,
    "editable": true
   },
   "outputs": [],
   "source": []
  },
  {
   "cell_type": "code",
   "execution_count": 7,
   "metadata": {
    "collapsed": false,
    "deletable": true,
    "editable": true
   },
   "outputs": [
    {
     "data": {
      "text/html": [
       "<div id=\"3dmolviewer_149609067619\"  style=\"position: relative; width: 640px; height: 480px\">\n",
       "<script>\n",
       "if(typeof $3Dmolpromise === 'undefined') $3Dmolpromise = $.when($.getScript('https://3dmol.csb.pitt.edu/build/3Dmol.js'))\n",
       "var viewer_149609067619 = null;\n",
       "$3Dmolpromise.done(function() {\n",
       "viewer_149609067619 = $3Dmol.createViewer($(\"#3dmolviewer_149609067619\"),{backgroundColor:\"white\"});\n",
       "\tviewer_149609067619.addModel(\"\\n     RDKit          3D\\n\\n  6  6  0  0  0  0  0  0  0  0999 V2000\\n   -0.9517    0.7811   -0.6622 C   0  0  0  0  0  0  0  0  0  0  0  0\\n    0.2847    1.3329   -0.3121 C   0  0  0  0  0  0  0  0  0  0  0  0\\n    1.2365    0.5518    0.3512 C   0  0  0  0  0  0  0  0  0  0  0  0\\n    0.9517   -0.7811    0.6644 C   0  0  0  0  0  0  0  0  0  0  0  0\\n   -0.2847   -1.3329    0.3144 C   0  0  0  0  0  0  0  0  0  0  0  0\\n   -1.2365   -0.5518   -0.3489 C   0  0  0  0  0  0  0  0  0  0  0  0\\n  1  2  2  0\\n  2  3  1  0\\n  3  4  2  0\\n  4  5  1  0\\n  5  6  2  0\\n  6  1  1  0\\nM  END\\n$$$$\",\"sdf\");\n",
       "\tviewer_149609067619.setStyle({\"stick\": {}});\n",
       "\tviewer_149609067619.zoomTo();\n",
       "viewer_149609067619.render();\n",
       "});\n",
       "</script>"
      ],
      "text/plain": [
       "<IPython.core.display.HTML object>"
      ]
     },
     "execution_count": 7,
     "metadata": {},
     "output_type": "execute_result"
    }
   ],
   "source": [
    "import py3Dmol\n",
    "\n",
    "benz='''\n",
    "     RDKit          3D\n",
    "\n",
    "  6  6  0  0  0  0  0  0  0  0999 V2000\n",
    "   -0.9517    0.7811   -0.6622 C   0  0  0  0  0  0  0  0  0  0  0  0\n",
    "    0.2847    1.3329   -0.3121 C   0  0  0  0  0  0  0  0  0  0  0  0\n",
    "    1.2365    0.5518    0.3512 C   0  0  0  0  0  0  0  0  0  0  0  0\n",
    "    0.9517   -0.7811    0.6644 C   0  0  0  0  0  0  0  0  0  0  0  0\n",
    "   -0.2847   -1.3329    0.3144 C   0  0  0  0  0  0  0  0  0  0  0  0\n",
    "   -1.2365   -0.5518   -0.3489 C   0  0  0  0  0  0  0  0  0  0  0  0\n",
    "  1  2  2  0\n",
    "  2  3  1  0\n",
    "  3  4  2  0\n",
    "  4  5  1  0\n",
    "  5  6  2  0\n",
    "  6  1  1  0\n",
    "M  END\n",
    "$$$$'''\n",
    "view = py3Dmol.view()\n",
    "view.addModel(benz,'sdf')\n",
    "view.setStyle({'stick':{}})\n",
    "view.zoomTo()\n",
    "view.show()"
   ]
  },
  {
   "cell_type": "code",
   "execution_count": 8,
   "metadata": {
    "collapsed": false,
    "deletable": true,
    "editable": true
   },
   "outputs": [
    {
     "data": {
      "text/html": [
       "<script>\n",
       "            $3Dmolpromise.done(function() { //wrap in promise for non-interactive functionality\n",
       "                \tviewer_149609067619.setStyle({\"stick\": {\"color\": \"blue\"}});\n",
       "\n",
       "                viewer_149609067619.render();\n",
       "            });\n",
       "            </script>"
      ],
      "text/plain": [
       "<IPython.core.display.HTML object>"
      ]
     },
     "execution_count": 8,
     "metadata": {},
     "output_type": "execute_result"
    }
   ],
   "source": [
    "view.setStyle({'stick':{'color':'blue'}})\n",
    "view.update()"
   ]
  },
  {
   "cell_type": "code",
   "execution_count": 9,
   "metadata": {
    "collapsed": false,
    "deletable": true,
    "editable": true
   },
   "outputs": [
    {
     "data": {
      "text/html": [
       "<script>\n",
       "            $3Dmolpromise.done(function() { //wrap in promise for non-interactive functionality\n",
       "                \tviewer_149609067619.addModel(\"4\\n* (null), Energy   -1000.0000000\\nN     0.000005    0.019779   -0.000003   -0.157114    0.000052   -0.012746\\nH     0.931955   -0.364989    0.000003    1.507100   -0.601158   -0.004108\\nH    -0.465975   -0.364992    0.807088    0.283368    0.257996   -0.583024\\nH    -0.465979   -0.364991   -0.807088    0.392764    0.342436    0.764260\\n\",\"xyz\",{\"vibrate\": {\"frames\": 10, \"amplitude\": 1}});\n",
       "\tviewer_149609067619.setStyle({\"model\": 1},{\"stick\": {}});\n",
       "\tviewer_149609067619.setBackgroundColor(\"0xeeeeee\");\n",
       "\tviewer_149609067619.animate({\"loop\": \"backAndForth\"});\n",
       "\tviewer_149609067619.zoomTo();\n",
       "\n",
       "                viewer_149609067619.render();\n",
       "            });\n",
       "            </script>"
      ],
      "text/plain": [
       "<IPython.core.display.HTML object>"
      ]
     },
     "execution_count": 9,
     "metadata": {},
     "output_type": "execute_result"
    }
   ],
   "source": [
    "xyz = '''4\n",
    "* (null), Energy   -1000.0000000\n",
    "N     0.000005    0.019779   -0.000003   -0.157114    0.000052   -0.012746\n",
    "H     0.931955   -0.364989    0.000003    1.507100   -0.601158   -0.004108\n",
    "H    -0.465975   -0.364992    0.807088    0.283368    0.257996   -0.583024\n",
    "H    -0.465979   -0.364991   -0.807088    0.392764    0.342436    0.764260\n",
    "'''\n",
    "view.addModel(xyz,'xyz',{'vibrate': {'frames':10,'amplitude':1}})\n",
    "view.setStyle({'model':1},{'stick':{}})\n",
    "view.setBackgroundColor('0xeeeeee')\n",
    "view.animate({'loop': 'backAndForth'})\n",
    "view.zoomTo()\n",
    "view.update()"
   ]
  },
  {
   "cell_type": "code",
   "execution_count": null,
   "metadata": {
    "collapsed": false,
    "deletable": true,
    "editable": true
   },
   "outputs": [],
   "source": []
  },
  {
   "cell_type": "code",
   "execution_count": null,
   "metadata": {
    "collapsed": false,
    "deletable": true,
    "editable": true
   },
   "outputs": [],
   "source": []
  },
  {
   "cell_type": "code",
   "execution_count": null,
   "metadata": {
    "collapsed": false,
    "deletable": true,
    "editable": true
   },
   "outputs": [],
   "source": []
  }
 ],
 "metadata": {
  "kernelspec": {
   "display_name": "Python 2",
   "language": "python",
   "name": "python2"
  },
  "language_info": {
   "codemirror_mode": {
    "name": "ipython",
    "version": 2
   },
   "file_extension": ".py",
   "mimetype": "text/x-python",
   "name": "python",
   "nbconvert_exporter": "python",
   "pygments_lexer": "ipython2",
   "version": "2.7.12"
  }
 },
 "nbformat": 4,
 "nbformat_minor": 2
}
