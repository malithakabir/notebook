{
 "cells": [
  {
   "cell_type": "markdown",
   "metadata": {},
   "source": [
    "### Title: Browse multiple molecules\n",
    "# Description: browsing multiple molecules, each of which has multiple conformations\n",
    "Derived from Gerg's code by Malitha \n",
    "(Updated: 26th June 2017)"
   ]
  },
  {
   "cell_type": "markdown",
   "metadata": {},
   "source": [
    "1) Conformer browse <br>\n",
    "2) A variety of representations for small organic molecules <br>\n",
    "3) View several commonly used descriptors of each molecule (calculated on real time)<br>\n",
    "*** These codes might require cleaning. All the lines might NOT necessary for us."
   ]
  },
  {
   "cell_type": "code",
   "execution_count": 1,
   "metadata": {
    "collapsed": true
   },
   "outputs": [],
   "source": [
    "import os\n",
    "import py3Dmol\n",
    "from rdkit import Chem\n",
    "from rdkit.Chem import AllChem\n",
    "from rdkit.Chem import Descriptors\n",
    "from ipywidgets import interact, interactive, fixed\n",
    "import ipywidgets as widgets\n",
    "from IPython.display import display\n",
    "from time import time"
   ]
  },
  {
   "cell_type": "markdown",
   "metadata": {},
   "source": [
    "# Definition: Default Rendering Style And Global Variables"
   ]
  },
  {
   "cell_type": "code",
   "execution_count": 2,
   "metadata": {
    "collapsed": true
   },
   "outputs": [],
   "source": [
    "global myGlobalStyle\n",
    "global descriptor_viewer_widget\n",
    "molSize_3d = (400, 400)\n",
    "myGlobalStyle = 'stick' # default drawing type for 3d structures # line cross stick cartoon sphere\n",
    "bgcolor_3d = '0xeeeeee'\n",
    "\n",
    " "
   ]
  },
  {
   "cell_type": "markdown",
   "metadata": {},
   "source": [
    "# Generate Conformers"
   ]
  },
  {
   "cell_type": "code",
   "execution_count": 3,
   "metadata": {
    "collapsed": true
   },
   "outputs": [],
   "source": [
    "data = [('m1','COc1ccc2[nH]c([S@@+]([O-])Cc3ncc(C)c(OC)c3C)nc2c1'),\n",
    "       ('m2','COc1ccc2[nH]c([S@+]([O-])Cc3ncc(C)c(OC)c3C)nc2c1'),\n",
    "       ('m3','COc1ccc2[nH]c([S+]([O-])Cc3ncc(C)c(OC)c3C)nc2c1'),\n",
    "       ('m4','CCOc1ccc2[nH]c([S@@+]([O-])Cc3ncc(C)c(OCCC)c3C)nc2c1')]\n",
    "ms = [(x,Chem.AddHs(Chem.MolFromSmiles(y))) for x,y in data]\n",
    "params = AllChem.ETKDG()\n",
    "params.numThreads=3\n",
    "for nm,m in ms:\n",
    "    AllChem.EmbedMultipleConfs(m,numConfs=10,params=params)\n",
    "    # align to one of the ring systems:\n",
    "    AllChem.AlignMolConformers(m,m.GetSubstructMatch(Chem.MolFromSmarts('c1[nH]c2ccccc2n1')))\n"
   ]
  },
  {
   "cell_type": "markdown",
   "metadata": {},
   "source": [
    "# Required functions for scrolling capability"
   ]
  },
  {
   "cell_type": "code",
   "execution_count": 4,
   "metadata": {
    "collapsed": true
   },
   "outputs": [],
   "source": [
    "\n",
    "def startViewer(size=None,bgcolor=None):\n",
    "    if size is None:\n",
    "        size=molSize_3d\n",
    "    if bgcolor is None:\n",
    "        bgcolor=bgcolor_3d\n",
    "    view = py3Dmol.view(width=size[0],height=size[1])\n",
    "    view.setBackgroundColor(bgcolor)\n",
    "    return view\n",
    "\n",
    "\n",
    "def processSuppliedMolFor3DViewer(ms):\n",
    "    \n",
    "    try:\n",
    "        # list of tuple (name + mol obj) # dict key possible\n",
    "        # ms = [('m1', <rdkit.Chem.rdchem.Mol at 0x7246d88>),\n",
    "        # ('m2', <rdkit.Chem.rdchem.Mol at 0x7246ea0>),\n",
    "        # ('m3', <rdkit.Chem.rdchem.Mol at 0x7246ed8>),\n",
    "        # ('m4', <rdkit.Chem.rdchem.Mol at 0x7246f10>)]\n",
    "        moldict = dict(ms)\n",
    "        \n",
    "    except TypeError:\n",
    "        \n",
    "        if type(ms) is tuple:\n",
    "            # Not list single tuple (name + mol obj) # dict key possible\n",
    "            # ms = ('m1', <rdkit.Chem.rdchem.Mol at 0x7246d88>)\n",
    "            moldict=list()\n",
    "            moldict.append(ms)\n",
    "            moldict = dict(moldict)\n",
    "        elif hasattr(ms, '__iter__') is False:\n",
    "            # rdkit.Chem.rdchem.Mol\n",
    "            # Not list... mol obj only ... no name... no dict key possible from such list...\n",
    "            # So, generate dict key\n",
    "            # ms = <rdkit.Chem.rdchem.Mol object at 0x07246D88>\n",
    "            moldict=list()\n",
    "            moldict.append(('m0', ms))\n",
    "            moldict = dict(moldict)\n",
    "        elif type(ms) is list:\n",
    "            # list of mol obj only ... no name... no dict key possible from such list...\n",
    "            # So, generate dict key\n",
    "            # ms = [<rdkit.Chem.rdchem.Mol at 0x7246d88>,\n",
    "            # <rdkit.Chem.rdchem.Mol at 0x7246ea0>,\n",
    "            # <rdkit.Chem.rdchem.Mol at 0x7246ed8>,\n",
    "            # <rdkit.Chem.rdchem.Mol at 0x7246f10>]\n",
    "            ms_name=['m'+str(x) for x in range(len(ms))]\n",
    "            ms2=[(ms_name[i],ms[i]) for i in range(len(ms))]\n",
    "            moldict = dict(ms2)\n",
    "    return moldict\n",
    "    \n",
    "def addMolToViewForScrolling(molecule,mols,view,confId,\n",
    "                             descriptor_list,\n",
    "                             useDrawAs,drawAs, \n",
    "                             showConfLabel, \n",
    "                             showAtomLabel,\n",
    "                             molColorScheme):\n",
    "    \n",
    "    # Get mol from supplied list object\n",
    "    mol = mols[molecule]\n",
    "    # For conformers\n",
    "    conf_selected=mol.GetConformer(confId)\n",
    "    xyz=conf_selected.GetPositions()\n",
    "    # For owning Mol\n",
    "    OwningMol=conf_selected.GetOwningMol()\n",
    "    \n",
    "    # Getting descriptors\n",
    "    # Descriptor calculation schema eval(\"Descriptors.TPSA(OwningMol)\")\n",
    "    # In above line descriptor_list is TPSA\n",
    "    des_cmd=\"Descriptors.\"+descriptor_list+\"(OwningMol)\"\n",
    "    #descriptor_view.value\n",
    "    #descriptor_list\n",
    "    global descriptor_viewer_widget\n",
    "    #descriptor_viewer_widget=widgets.HTML(value=\"Showing descriptor for\", disabled=False)\n",
    "    descriptor_viewer_widget.value=descriptor_list+' : '+str(eval(des_cmd))\n",
    "    \n",
    "    # Clearing previous 3Dmol objects withoiut resetting view\n",
    "    view.removeAllModels()\n",
    "    view.removeAllSurfaces()\n",
    "    view.removeAllLabels()\n",
    "    \n",
    "    if mol.GetNumAtoms()>=999 or drawAs == 'cartoon':\n",
    "        # py3DMol is happier with TER and MASTER records present\n",
    "        pdb = Chem.MolToPDBBlock(mol,flavor=0x20|0x10)\n",
    "        view.addModel(pdb,'pdb')\n",
    "    else:\n",
    "        # py3Dmol does not currently support v3k mol files, so\n",
    "        # we can only provide those with \"smaller\" molecules\n",
    "        mb = Chem.MolToMolBlock(mol,confId=confId)\n",
    "        view.addModel(mb,'sdf')\n",
    "        \n",
    "        \n",
    "    global myGlobalStyle    \n",
    "    if useDrawAs is False:\n",
    "        #use from globalStyle\n",
    "        view.setStyle({},{myGlobalStyle:{'colorscheme': molColorScheme}})\n",
    "    else:\n",
    "        #update global style and use that\n",
    "        myGlobalStyle = drawAs\n",
    "        view.setStyle({},{myGlobalStyle:{'colorscheme': molColorScheme}})\n",
    "    \n",
    "    # This is exception for surface\n",
    "    if drawAs is 'surface':\n",
    "        view.addSurface({}, '$3Dmol.SurfaceType.VDW');\n",
    "        \n",
    "    if drawAs is 'ballstick':\n",
    "        view.setStyle({},{'stick':{'radius':'0.2','colorscheme': molColorScheme},\n",
    "                          'sphere':{'radius':'0.4', 'colorscheme': molColorScheme}}\n",
    "                     );\n",
    "    \n",
    "    if showConfLabel is True:\n",
    "        label=molecule+':'+str(confId)\n",
    "        view.addLabel(label, {'backgroundColor':'gray', 'fontColor':'white',\n",
    "                              'showBackground':'true', 'alignment':'bottomCenter'})\n",
    "        #view.addLabel(label, {'alignment':'topCenter','backgroundColor':'red'})\n",
    "    \n",
    "    if showAtomLabel is True:\n",
    "        \n",
    "        label_create=[OwningMol.GetAtomWithIdx(i).GetSymbol()+\n",
    "                      str(OwningMol.GetAtomWithIdx(i).GetIdx()+1) \n",
    "                      for i in range(conf_selected.GetNumAtoms())\n",
    "                     ]\n",
    "        \n",
    "        i = None\n",
    "        for i in range(conf_selected.GetNumAtoms()):\n",
    "            view.addLabel(label_create[i], {'inFront' : 'false', \n",
    "                                            'fontSize' : '12',\n",
    "                                            'fontColor':'gray',\n",
    "                                            'showBackground':'false',\n",
    "                                            'position' : {'x' : xyz[i][0],\n",
    "                                                          'y' : xyz[i][1],\n",
    "                                                          'z' : xyz[i][2]\n",
    "                                                       }\n",
    "                                           })\n",
    "    \n",
    "    #print(drawAs)\n",
    "    # zoomTo does not work well for surface and label... so, zoomTo should not be default settings\n",
    "    #view.zoomTo()\n",
    "    return view.update()\n",
    "\n",
    "\n",
    "def browseMolConformers(ms,view, confId=None, useDrawAs=False, drawAs=None, showConfLabel=None, showAtomLabel=None):\n",
    "    \n",
    "    drawing_type_3d=['line', 'cross', 'stick', 'cartoon', 'sphere', 'surface', 'ballstick']\n",
    "    color_scheme_3d=['default', 'greenCarbon', 'cyanCarbon', 'magentaCarbon', \n",
    "                     'yellowCarbon', 'whiteCarbon', 'orangeCarbon', 'purpleCarbon', \n",
    "                     'blueCarbon', 'ssPyMOL', 'ssJmol', 'Jmol', 'amino', \n",
    "                     'shapely', 'nucleic', 'chain', 'chainHetatm', 'prop']\n",
    "    \n",
    "    descriptors_rdkit=['MolLogP', 'MolMR', 'MolWt', 'ExactMolWt', 'HeavyAtomCount', \n",
    "                       'HeavyAtomMolWt', 'NHOHCount', 'NOCount', 'NumHAcceptors', \n",
    "                       'NumHDonors', 'NumHeteroatoms', 'NumRotatableBonds', 'NumValenceElectrons']\n",
    "\n",
    "    \n",
    "    # This widget is for descriptor show\n",
    "    \n",
    "    global descriptor_viewer_widget\n",
    "    \n",
    "    descriptor_viewer_widget=widgets.HTML(value=\"Showing descriptor for\", disabled=False)\n",
    "    display(descriptor_viewer_widget)\n",
    "    \n",
    "    \n",
    "    descriptor_list_widget = widgets.Dropdown(options=descriptors_rdkit,value='MolLogP')\n",
    "    \n",
    "    global myGlobalStyle\n",
    "    \n",
    "    if useDrawAs is False:\n",
    "        # Then go with default settings\n",
    "        drawAs = myGlobalStyle\n",
    "        style_use_logical = widgets.Dropdown(options=[False, True],value=False)\n",
    "        \n",
    "        # To do: showing massage is argument mismatched\n",
    "        # Something like the following\n",
    "        #if drawAs is not None:\n",
    "            #print('drawAs set to stick as you choose useDrawAs=False')\n",
    "            \n",
    "        \n",
    "    else:\n",
    "        style_use_logical = widgets.Dropdown(options=[False, True],value=True)\n",
    "        # Use user supplied drawAS\n",
    "        if drawAs is None:\n",
    "            # User forgot to provide drawAs argument\n",
    "            drawAs = myGlobalStyle\n",
    "        else:\n",
    "            # User supplied drawAs argument while useDrawAs is True\n",
    "            myGlobalStyle = drawAs\n",
    "        \n",
    "    \n",
    "    # This is widget for model style\n",
    "    style_widget = widgets.Dropdown(options=drawing_type_3d,value=drawAs)\n",
    "    \n",
    "    # This is widget for conformer label\n",
    "    if showConfLabel is not True:\n",
    "        mol_labeling_widget = widgets.Checkbox(value=False)\n",
    "    else:\n",
    "        mol_labeling_widget = widgets.Checkbox(value=False)\n",
    "    \n",
    "    \n",
    "    # This is widget for atom label of each conformers\n",
    "    if showAtomLabel is not True:\n",
    "        atom_labeling_widget = widgets.Checkbox(value=False)\n",
    "    else:\n",
    "        atom_labeling_widget = widgets.Checkbox(value=False)\n",
    "    \n",
    "    \n",
    "    # processing supplied object that contains molecules\n",
    "    moldict = processSuppliedMolFor3DViewer(ms)\n",
    "    \n",
    "    \n",
    "    result=interact(addMolToViewForScrolling, \n",
    "                    molecule=list(moldict.keys()), \n",
    "                    mols=fixed(moldict),\n",
    "                    view=fixed(view),\n",
    "                    confId=confId, \n",
    "                    descriptor_list=descriptor_list_widget,\n",
    "                    useDrawAs=style_use_logical,\n",
    "                    drawAs=style_widget,\n",
    "                    showConfLabel=mol_labeling_widget,\n",
    "                    showAtomLabel=atom_labeling_widget,\n",
    "                    molColorScheme=color_scheme_3d);\n",
    "    return result\n",
    "\n"
   ]
  },
  {
   "cell_type": "markdown",
   "metadata": {},
   "source": [
    "# Browse mols and confs"
   ]
  },
  {
   "cell_type": "code",
   "execution_count": 5,
   "metadata": {
    "scrolled": false
   },
   "outputs": [
    {
     "data": {
      "text/html": [
       "<div id=\"3dmolviewer_149841627386\"  style=\"position: relative; width: 400px; height: 400px\">\n",
       "<script>\n",
       "if(typeof $3Dmolpromise === 'undefined') $3Dmolpromise = $.when($.getScript('https://3dmol.csb.pitt.edu/build/3Dmol.js'))\n",
       "var viewer_149841627386 = null;\n",
       "$3Dmolpromise.done(function() {\n",
       "viewer_149841627386 = $3Dmol.createViewer($(\"#3dmolviewer_149841627386\"),{backgroundColor:\"white\"});\n",
       "\tviewer_149841627386.setBackgroundColor(\"black\");\n",
       "viewer_149841627386.render();\n",
       "});\n",
       "</script>"
      ],
      "text/plain": [
       "<IPython.core.display.HTML object>"
      ]
     },
     "execution_count": 5,
     "metadata": {},
     "output_type": "execute_result"
    }
   ],
   "source": [
    "view=startViewer(bgcolor='black')\n",
    "#view=startViewer()\n",
    "view.show()"
   ]
  },
  {
   "cell_type": "code",
   "execution_count": 6,
   "metadata": {},
   "outputs": [
    {
     "data": {
      "application/vnd.jupyter.widget-view+json": {
       "model_id": "cd80b9353fc244b9854b019558937934"
      }
     },
     "metadata": {},
     "output_type": "display_data"
    },
    {
     "data": {
      "application/vnd.jupyter.widget-view+json": {
       "model_id": "a19c840e56cc4c35b759b116569e7fec"
      }
     },
     "metadata": {},
     "output_type": "display_data"
    },
    {
     "data": {
      "text/plain": [
       "<function __main__.addMolToViewForScrolling>"
      ]
     },
     "execution_count": 6,
     "metadata": {},
     "output_type": "execute_result"
    }
   ],
   "source": [
    "#browseMolConformers(ms,view,confId=(0,m.GetNumConformers()-1),useDrawAs=True,drawAs='stick')\n",
    "browseMolConformers(ms,view,confId=(0, 9),useDrawAs=True,drawAs='stick')"
   ]
  },
  {
   "cell_type": "code",
   "execution_count": 7,
   "metadata": {},
   "outputs": [
    {
     "data": {
      "text/html": [
       "<script>\n",
       "            $3Dmolpromise.done(function() { //wrap in promise for non-interactive functionality\n",
       "                \tviewer_149841627386.zoomTo();\n",
       "\n",
       "                viewer_149841627386.render();\n",
       "            });\n",
       "            </script>"
      ],
      "text/plain": [
       "<IPython.core.display.HTML object>"
      ]
     },
     "execution_count": 7,
     "metadata": {},
     "output_type": "execute_result"
    }
   ],
   "source": [
    "view.zoomTo()\n",
    "view.update()"
   ]
  },
  {
   "cell_type": "code",
   "execution_count": 8,
   "metadata": {},
   "outputs": [
    {
     "data": {
      "text/html": [
       "<script>\n",
       "            $3Dmolpromise.done(function() { //wrap in promise for non-interactive functionality\n",
       "                \tviewer_149841627386.setBackgroundColor(\"0xeeeeee\");\n",
       "\n",
       "                viewer_149841627386.render();\n",
       "            });\n",
       "            </script>"
      ],
      "text/plain": [
       "<IPython.core.display.HTML object>"
      ]
     },
     "execution_count": 8,
     "metadata": {},
     "output_type": "execute_result"
    }
   ],
   "source": [
    "view.setBackgroundColor('0xeeeeee')\n",
    "view.update()"
   ]
  },
  {
   "cell_type": "code",
   "execution_count": null,
   "metadata": {
    "collapsed": true
   },
   "outputs": [],
   "source": []
  },
  {
   "cell_type": "markdown",
   "metadata": {
    "collapsed": true
   },
   "source": [
    "# I following codes are not required. I kept those, so that, we can test our codes without writing too much. Thank you."
   ]
  },
  {
   "cell_type": "code",
   "execution_count": 9,
   "metadata": {
    "collapsed": true
   },
   "outputs": [],
   "source": [
    "# Lable creating system\n",
    "#mol1=ms[0][1].GetConformer(0)\n",
    "#OwningMol=mol1.GetOwningMol()\n",
    "#label_create=[OwningMol.GetAtomWithIdx(i).GetSymbol()+str(OwningMol.GetAtomWithIdx(i).GetIdx()+1) for i in range(mol1.GetNumAtoms())] \n",
    "#label_create"
   ]
  },
  {
   "cell_type": "code",
   "execution_count": 10,
   "metadata": {},
   "outputs": [
    {
     "data": {
      "text/plain": [
       "{'m1': <rdkit.Chem.rdchem.Mol at 0x37d6768>,\n",
       " 'm2': <rdkit.Chem.rdchem.Mol at 0x37d67a0>,\n",
       " 'm3': <rdkit.Chem.rdchem.Mol at 0x37d67d8>,\n",
       " 'm4': <rdkit.Chem.rdchem.Mol at 0x37d6810>}"
      ]
     },
     "execution_count": 10,
     "metadata": {},
     "output_type": "execute_result"
    }
   ],
   "source": [
    "dict(ms)"
   ]
  },
  {
   "cell_type": "code",
   "execution_count": 11,
   "metadata": {
    "collapsed": true
   },
   "outputs": [],
   "source": [
    "ms2=[(y) for (x,y) in ms]"
   ]
  },
  {
   "cell_type": "code",
   "execution_count": 12,
   "metadata": {},
   "outputs": [
    {
     "data": {
      "text/plain": [
       "[<rdkit.Chem.rdchem.Mol at 0x37d6768>,\n",
       " <rdkit.Chem.rdchem.Mol at 0x37d67a0>,\n",
       " <rdkit.Chem.rdchem.Mol at 0x37d67d8>,\n",
       " <rdkit.Chem.rdchem.Mol at 0x37d6810>]"
      ]
     },
     "execution_count": 12,
     "metadata": {},
     "output_type": "execute_result"
    }
   ],
   "source": [
    "ms2"
   ]
  },
  {
   "cell_type": "code",
   "execution_count": 13,
   "metadata": {},
   "outputs": [
    {
     "data": {
      "text/plain": [
       "('m1', <rdkit.Chem.rdchem.Mol at 0x37d6768>)"
      ]
     },
     "execution_count": 13,
     "metadata": {},
     "output_type": "execute_result"
    }
   ],
   "source": [
    "ms[0]"
   ]
  },
  {
   "cell_type": "code",
   "execution_count": 14,
   "metadata": {},
   "outputs": [
    {
     "data": {
      "text/plain": [
       "10"
      ]
     },
     "execution_count": 14,
     "metadata": {},
     "output_type": "execute_result"
    }
   ],
   "source": [
    "#dir(ms)\n",
    "m.GetNumConformers()"
   ]
  },
  {
   "cell_type": "code",
   "execution_count": 15,
   "metadata": {},
   "outputs": [
    {
     "data": {
      "text/plain": [
       "tuple"
      ]
     },
     "execution_count": 15,
     "metadata": {},
     "output_type": "execute_result"
    }
   ],
   "source": [
    "type(ms[0])"
   ]
  },
  {
   "cell_type": "code",
   "execution_count": 16,
   "metadata": {},
   "outputs": [
    {
     "name": "stdout",
     "output_type": "stream",
     "text": [
      "('m1', <rdkit.Chem.rdchem.Mol object at 0x037D6768>)\n",
      "m1\n",
      "<rdkit.Chem.rdchem.Mol object at 0x037D6768>\n"
     ]
    }
   ],
   "source": [
    "print(ms[0])\n",
    "print(ms[0][0])\n",
    "print(ms[0][1])"
   ]
  },
  {
   "cell_type": "code",
   "execution_count": 17,
   "metadata": {},
   "outputs": [
    {
     "data": {
      "text/plain": [
       "10"
      ]
     },
     "execution_count": 17,
     "metadata": {},
     "output_type": "execute_result"
    }
   ],
   "source": [
    "ms[0][1].GetNumConformers()"
   ]
  },
  {
   "cell_type": "code",
   "execution_count": 18,
   "metadata": {
    "collapsed": true
   },
   "outputs": [],
   "source": [
    "#dir(ms[0][1].GetConformer(-1))"
   ]
  },
  {
   "cell_type": "code",
   "execution_count": 19,
   "metadata": {
    "collapsed": true
   },
   "outputs": [],
   "source": [
    "#8.4849   -0.7612   -0.4130 C   0  0  0  0  0  0  0  0  0  0  0  0"
   ]
  },
  {
   "cell_type": "code",
   "execution_count": 20,
   "metadata": {
    "collapsed": true
   },
   "outputs": [],
   "source": [
    "#print(Chem.MolToMolBlock(ms[0][1],confId=1))"
   ]
  },
  {
   "cell_type": "code",
   "execution_count": 21,
   "metadata": {
    "collapsed": true
   },
   "outputs": [],
   "source": [
    "conf_selected=ms[0][1].GetConformer(0)\n",
    "OwningMol=conf_selected.GetOwningMol()"
   ]
  },
  {
   "cell_type": "code",
   "execution_count": 22,
   "metadata": {},
   "outputs": [
    {
     "data": {
      "text/plain": [
       "83.09"
      ]
     },
     "execution_count": 22,
     "metadata": {},
     "output_type": "execute_result"
    }
   ],
   "source": [
    "Descriptors.TPSA(OwningMol)\n",
    "#Descriptors.MolLogP(OwningMol)\n",
    "#dir(OwningMol)"
   ]
  },
  {
   "cell_type": "code",
   "execution_count": 23,
   "metadata": {},
   "outputs": [
    {
     "data": {
      "text/plain": [
       "93.02110000000005"
      ]
     },
     "execution_count": 23,
     "metadata": {},
     "output_type": "execute_result"
    }
   ],
   "source": [
    "Descriptors.MolMR(OwningMol)"
   ]
  },
  {
   "cell_type": "code",
   "execution_count": 24,
   "metadata": {},
   "outputs": [
    {
     "data": {
      "text/plain": [
       "83.09"
      ]
     },
     "execution_count": 24,
     "metadata": {},
     "output_type": "execute_result"
    }
   ],
   "source": [
    "eval(\"Descriptors.TPSA(OwningMol)\")"
   ]
  },
  {
   "cell_type": "code",
   "execution_count": null,
   "metadata": {
    "collapsed": true
   },
   "outputs": [],
   "source": []
  },
  {
   "cell_type": "code",
   "execution_count": null,
   "metadata": {
    "collapsed": true
   },
   "outputs": [],
   "source": []
  }
 ],
 "metadata": {
  "anaconda-cloud": {},
  "kernelspec": {
   "display_name": "Python 2",
   "language": "python",
   "name": "python2"
  },
  "language_info": {
   "codemirror_mode": {
    "name": "ipython",
    "version": 2
   },
   "file_extension": ".py",
   "mimetype": "text/x-python",
   "name": "python",
   "nbconvert_exporter": "python",
   "pygments_lexer": "ipython2",
   "version": "2.7.12"
  },
  "widgets": {
   "state": {
    "078ce732c3554d31975366608a9862df": {
     "views": []
    },
    "0a5a69884ce44ebda6217e2fe52dd320": {
     "views": []
    },
    "2473149207dd4e8cb5f3d4af90d3bcff": {
     "views": []
    },
    "2e6bb19541ba42e2acf70fa88f5bcc30": {
     "views": []
    },
    "2e9549107f9940d5924acbaa7cbfcfff": {
     "views": []
    },
    "2f33831fb37547929d9d087062bb1e61": {
     "views": []
    },
    "6c777760bb544d1db61c88520caaae16": {
     "views": []
    },
    "75ef980e6e024d27b41335791139ba72": {
     "views": []
    },
    "7926f9a93b544d1085957e5823a70ce6": {
     "views": []
    },
    "8ae1124bf462488eb1b920f52d1c01d1": {
     "views": []
    },
    "97cd4fa8b8034ad7a1c03cbc4a7930f4": {
     "views": []
    },
    "98cd1f06b03b4275a90d78203efef10a": {
     "views": []
    },
    "c0923d6b81384563affcf633713a4bbc": {
     "views": []
    },
    "c92796c92757444a827727fe4bc03615": {
     "views": []
    },
    "d5d861175e0f430bbeb1cf83ca16f2e4": {
     "views": [
      {
       "cell_index": 9
      }
     ]
    },
    "d8220d7b2187404887a600dc540ca40f": {
     "views": []
    }
   },
   "version": "1.1.2"
  }
 },
 "nbformat": 4,
 "nbformat_minor": 2
}
