{
 "cells": [
  {
   "cell_type": "markdown",
   "metadata": {
    "deletable": true,
    "editable": true
   },
   "source": [
    "# This file is intended for the submission at GSoC 2017\n",
    "# Project: RDKit - 3Dmol.js Integration\n",
    "# Student: Malitha Humayun Kabir\n",
    "# Mentor: Paul Czodrowski"
   ]
  },
  {
   "cell_type": "markdown",
   "metadata": {
    "deletable": true,
    "editable": true
   },
   "source": [
    "Here is my attempt for ligand extraction and visualization"
   ]
  },
  {
   "cell_type": "code",
   "execution_count": 1,
   "metadata": {
    "collapsed": true,
    "deletable": true,
    "editable": true
   },
   "outputs": [],
   "source": [
    "import pdb_processor\n",
    "# pdb_processor is written by Malitha Humayun Kabir\n",
    "\n",
    "import openbabel\n",
    "import pybel\n",
    "\n",
    "import py3Dmol\n",
    "# py3Dmol source code did not extablished secure connection. \n",
    "# So, sourced code changed from http to https"
   ]
  },
  {
   "cell_type": "code",
   "execution_count": 2,
   "metadata": {
    "collapsed": false,
    "deletable": true,
    "editable": true
   },
   "outputs": [
    {
     "name": "stdout",
     "output_type": "stream",
     "text": [
      "retrieving from https://files.rcsb.org/download/4i22.pdb\n"
     ]
    },
    {
     "data": {
      "text/plain": [
       "'4i22.pdb downloaded from RCSB PBD'"
      ]
     },
     "execution_count": 2,
     "metadata": {},
     "output_type": "execute_result"
    }
   ],
   "source": [
    "pdb_processor.retrievePDB('4i22.pdb')"
   ]
  },
  {
   "cell_type": "code",
   "execution_count": 3,
   "metadata": {
    "collapsed": false,
    "deletable": true,
    "editable": true
   },
   "outputs": [
    {
     "data": {
      "text/plain": [
       "[['IRE', 'SO4', 'SO4'], [297, 298, 299]]"
      ]
     },
     "execution_count": 3,
     "metadata": {},
     "output_type": "execute_result"
    }
   ],
   "source": [
    "import pdb_processor\n",
    "# pdb_processor is written by Malitha Humayun Kabir\n",
    "#It reads loacl file\n",
    "pdb_processor.getNonStandardResName('4i22.pdb')"
   ]
  },
  {
   "cell_type": "markdown",
   "metadata": {
    "deletable": true,
    "editable": true
   },
   "source": [
    "The following block is my attempt to extract ligand from pdb file automatically using pymol and openbabel. \n",
    "\n",
    "Unfortunately, for pymol, the bond information of exported file is wrong and for openbabel bond information was not there (exported coordinate only). So, I prefer openbabel for exporting ligand. Will include bond information later on."
   ]
  },
  {
   "cell_type": "code",
   "execution_count": 4,
   "metadata": {
    "collapsed": false,
    "deletable": true,
    "editable": true
   },
   "outputs": [],
   "source": [
    "import pdb_processor\n",
    "# pdb_processor is written by Malitha Humayun Kabir\n",
    "#It reads loacl file\n",
    "\n",
    "pdbID=\"4i22.pdb\"\n",
    "resNameSelected='IRE'\n",
    "resNameIndex=297\n"
   ]
  },
  {
   "cell_type": "code",
   "execution_count": 5,
   "metadata": {
    "collapsed": false,
    "deletable": true,
    "editable": true
   },
   "outputs": [
    {
     "data": {
      "text/plain": [
       "'Ligand extraction done using OpenBabel...filename: outputfile_obabel.sdf'"
      ]
     },
     "execution_count": 5,
     "metadata": {},
     "output_type": "execute_result"
    }
   ],
   "source": [
    "# OpenBabel\n",
    "pdb_processor.extractLigandOpenBabel(pdbID,resNameIndex)"
   ]
  },
  {
   "cell_type": "code",
   "execution_count": 6,
   "metadata": {
    "collapsed": false,
    "deletable": true,
    "editable": true
   },
   "outputs": [],
   "source": [
    "# Pymol it will take 10 seconds... please wait...I allowed system sleep for 8 secconds\n",
    "# pdb_processor.extractLigandPymol(pdbID,resNameSelected)"
   ]
  },
  {
   "cell_type": "markdown",
   "metadata": {
    "collapsed": false,
    "deletable": true,
    "editable": true
   },
   "source": [
    "The following chunk shows the output of openbabel generated sdf file"
   ]
  },
  {
   "cell_type": "code",
   "execution_count": 7,
   "metadata": {
    "collapsed": false,
    "deletable": true,
    "editable": true
   },
   "outputs": [],
   "source": [
    "from rdkit import Chem\n",
    "from rdkit.Chem import rdmolfiles\n",
    "\n",
    "suppl = rdmolfiles.SDMolSupplier('outputfile_obabel.sdf')\n",
    "\n",
    "mol=suppl[0]\n",
    "\n",
    "# No bond information... so following two lines will not work\n",
    "#m2=Chem.AddHs(mol)\n",
    "#AllChem.EmbedMolecule(m2,AllChem.ETKDG())\n"
   ]
  },
  {
   "cell_type": "code",
   "execution_count": 8,
   "metadata": {
    "collapsed": false,
    "deletable": true,
    "editable": true,
    "scrolled": true
   },
   "outputs": [
    {
     "name": "stdout",
     "output_type": "stream",
     "text": [
      "\n",
      "     RDKit          3D\n",
      "\n",
      " 31  0  0  0  0  0  0  0  0  0999 V2000\n",
      "   14.9140  -20.5570    9.2090 C   0  0  0  0  0  0  0  0  0  0  0  0\n",
      "   15.6980  -21.8390    9.5040 C   0  0  0  0  0  0  0  0  0  0  0  0\n",
      "   17.0040  -21.5310   10.0240 O   0  0  0  0  0  0  0  0  0  0  0  0\n",
      "   16.9590  -20.7910   11.2550 C   0  0  0  0  0  0  0  0  0  0  0  0\n",
      "   16.2600  -19.4500   11.0360 C   0  0  0  0  0  0  0  0  0  0  0  0\n",
      "   14.8640  -19.7180   10.4890 N   0  0  0  0  0  0  0  0  0  0  0  0\n",
      "   14.0840  -18.4530   10.2470 C   0  0  0  0  0  0  0  0  0  0  0  0\n",
      "   12.8560  -18.5790   11.1200 C   0  0  0  0  0  0  0  0  0  0  0  0\n",
      "   11.8800  -17.4270   11.0590 C   0  0  0  0  0  0  0  0  0  0  0  0\n",
      "   11.2960  -17.3300    9.7500 O   0  0  0  0  0  0  0  0  0  0  0  0\n",
      "   10.3290  -16.3490    9.5610 C   0  0  0  0  0  0  0  0  0  0  0  0\n",
      "    9.7500  -16.2600    8.2480 C   0  0  0  0  0  0  0  0  0  0  0  0\n",
      "    8.7370  -15.2780    7.9990 C   0  0  0  0  0  0  0  0  0  0  0  0\n",
      "   10.2370  -17.1660    7.3220 O   0  0  0  0  0  0  0  0  0  0  0  0\n",
      "    9.7210  -17.1700    5.9910 C   0  0  0  0  0  0  0  0  0  0  0  0\n",
      "    9.8780  -15.4610   10.5740 C   0  0  0  0  0  0  0  0  0  0  0  0\n",
      "    8.8720  -14.4940   10.3180 C   0  0  0  0  0  0  0  0  0  0  0  0\n",
      "    8.2930  -14.4030    9.0020 C   0  0  0  0  0  0  0  0  0  0  0  0\n",
      "    7.3290  -13.5060    8.6960 N   0  0  0  0  0  0  0  0  0  0  0  0\n",
      "    6.9220  -12.6860    9.6830 C   0  0  0  0  0  0  0  0  0  0  0  0\n",
      "    7.3860  -12.6750   10.9510 N   0  0  0  0  0  0  0  0  0  0  0  0\n",
      "    8.3690  -13.5820   11.2800 C   0  0  0  0  0  0  0  0  0  0  0  0\n",
      "    8.8790  -13.6020   12.6130 N   0  0  0  0  0  0  0  0  0  0  0  0\n",
      "    8.1970  -13.1210   13.7500 C   0  0  0  0  0  0  0  0  0  0  0  0\n",
      "    6.7720  -13.2550   13.8770 C   0  0  0  0  0  0  0  0  0  0  0  0\n",
      "    6.0990  -12.7630   15.0080 C   0  0  0  0  0  0  0  0  0  0  0  0\n",
      "    4.3950  -12.9460   15.0980 Cl  0  0  0  0  0  0  0  0  0  0  0  0\n",
      "    6.8350  -12.1280   16.0380 C   0  0  0  0  0  0  0  0  0  0  0  0\n",
      "    6.2170  -11.6510   17.1200 F   0  0  0  0  0  0  0  0  0  0  0  0\n",
      "    8.2420  -11.9850   15.9410 C   0  0  0  0  0  0  0  0  0  0  0  0\n",
      "    8.9210  -12.4810   14.7970 C   0  0  0  0  0  0  0  0  0  0  0  0\n",
      "M  END\n",
      "\n"
     ]
    }
   ],
   "source": [
    "print(Chem.MolToMolBlock(mol))"
   ]
  },
  {
   "cell_type": "markdown",
   "metadata": {
    "deletable": true,
    "editable": true
   },
   "source": [
    "Due to the lack of bond information, problems found rendering the exported ligand"
   ]
  },
  {
   "cell_type": "code",
   "execution_count": 9,
   "metadata": {
    "collapsed": false,
    "deletable": true,
    "editable": true,
    "scrolled": false
   },
   "outputs": [
    {
     "data": {
      "text/plain": [
       "<rdkit.rdBase._vecti at 0x7f82af3705d0>"
      ]
     },
     "execution_count": 9,
     "metadata": {},
     "output_type": "execute_result"
    }
   ],
   "source": [
    "\n",
    "def drawit(m,p,confId=-1):\n",
    "    mb = Chem.MolToMolBlock(m,confId=confId)\n",
    "    p.removeAllModels()\n",
    "    p.addModel(mb,'sdf')\n",
    "    p.setStyle({'stick':{}})\n",
    "    p.setBackgroundColor('0xeeeeee')\n",
    "    p.zoomTo()\n",
    "    return p.show()\n",
    "\n",
    "\n",
    "import py3Dmol\n",
    "from rdkit import Chem\n",
    "from rdkit.Chem import AllChem\n",
    "from ipywidgets import interact, interactive, fixed\n",
    "from rdkit.Chem import rdmolfiles\n",
    "\n",
    "#http://rdkit.blogspot.com/2016/07/using-ipywidgets-and-py3dmol-to-browse.html\n",
    "suppl = rdmolfiles.SDMolSupplier('outputfile_obabel.sdf')\n",
    "m=suppl[0]\n",
    "#m = Chem.MolFromSmiles(r'COc1ccc2[nH]c([S@@+]([O-])Cc3ncc(C)c(OC)c3C)nc2c1') # esomeprazole\n",
    "m = Chem.AddHs(m)\n",
    "AllChem.EmbedMultipleConfs(m,numConfs=10)\n",
    "#AllChem.AlignMolConformers(m,m.GetSubstructMatch(Chem.MolFromSmarts('c1[nH]c2ccccc2n1')))\n"
   ]
  },
  {
   "cell_type": "code",
   "execution_count": 10,
   "metadata": {
    "collapsed": false,
    "deletable": true,
    "editable": true
   },
   "outputs": [
    {
     "name": "stderr",
     "output_type": "stream",
     "text": [
      "Widget Javascript not detected.  It may not be installed or enabled properly.\n"
     ]
    },
    {
     "data": {
      "application/vnd.jupyter.widget-view+json": {
       "model_id": "fae1cd0e773941f69ec568b7db03a70f"
      }
     },
     "metadata": {},
     "output_type": "display_data"
    }
   ],
   "source": [
    "p = py3Dmol.view(width=400,height=400)\n",
    "interact(drawit, m=fixed(m),p=fixed(p),confId=(0,m.GetNumConformers()-1));\n"
   ]
  },
  {
   "cell_type": "markdown",
   "metadata": {
    "deletable": true,
    "editable": true
   },
   "source": [
    "But the following will work as I exported ligand in pdb file from chimera and then transform that to \n",
    "sdf using openbabel. Reading pdb in rdkit is also possible. But I what less struggle in file formating\n",
    "at the beging of project."
   ]
  },
  {
   "cell_type": "code",
   "execution_count": 11,
   "metadata": {
    "collapsed": true,
    "deletable": true,
    "editable": true
   },
   "outputs": [],
   "source": [
    "import openbabel\n",
    "import pybel\n",
    "\n",
    "mol1=pybel.readfile(\"pdb\", \"ligand_exported_from_chimera.pdb\").next()\n",
    "mol2=pybel.Molecule(mol1)\n",
    "mol2.write(\"sdf\", \"ligand_exported_from_chimera.sdf\", overwrite=True)\n"
   ]
  },
  {
   "cell_type": "code",
   "execution_count": 12,
   "metadata": {
    "collapsed": true,
    "deletable": true,
    "editable": true
   },
   "outputs": [],
   "source": [
    "def drawit(m,p,confId=-1):\n",
    "    mb = Chem.MolToMolBlock(m,confId=confId)\n",
    "    p.removeAllModels()\n",
    "    p.addModel(mb,'sdf')\n",
    "    p.setStyle({'stick':{}})\n",
    "    p.setBackgroundColor('0xeeeeee')\n",
    "    p.zoomTo()\n",
    "    return p.show()"
   ]
  },
  {
   "cell_type": "code",
   "execution_count": 13,
   "metadata": {
    "collapsed": false,
    "deletable": true,
    "editable": true
   },
   "outputs": [
    {
     "data": {
      "text/plain": [
       "<rdkit.rdBase._vecti at 0x7f82b0aa2bd0>"
      ]
     },
     "execution_count": 13,
     "metadata": {},
     "output_type": "execute_result"
    }
   ],
   "source": [
    "import py3Dmol\n",
    "from rdkit import Chem\n",
    "from rdkit.Chem import AllChem\n",
    "from ipywidgets import interact, interactive, fixed\n",
    "from rdkit.Chem import rdmolfiles\n",
    "\n",
    "#http://rdkit.blogspot.com/2016/07/using-ipywidgets-and-py3dmol-to-browse.html\n",
    "suppl = rdmolfiles.SDMolSupplier('ligand_exported_from_chimera.sdf')\n",
    "m=suppl[0]\n",
    "#m = Chem.MolFromSmiles(r'COc1ccc2[nH]c([S@@+]([O-])Cc3ncc(C)c(OC)c3C)nc2c1') # esomeprazole\n",
    "m = Chem.AddHs(m)\n",
    "AllChem.EmbedMultipleConfs(m,numConfs=10)\n",
    "#AllChem.AlignMolConformers(m,m.GetSubstructMatch(Chem.MolFromSmarts('c1[nH]c2ccccc2n1')))\n",
    "\n",
    "#print(Chem.MolToMolBlock(m))\n",
    "\n",
    "\n",
    "#drawit_stick(mol)"
   ]
  },
  {
   "cell_type": "code",
   "execution_count": 14,
   "metadata": {
    "collapsed": false,
    "deletable": true,
    "editable": true
   },
   "outputs": [
    {
     "name": "stderr",
     "output_type": "stream",
     "text": [
      "Widget Javascript not detected.  It may not be installed or enabled properly.\n"
     ]
    },
    {
     "data": {
      "application/vnd.jupyter.widget-view+json": {
       "model_id": "ebaf0e6b2645475fbbae96374917c5da"
      }
     },
     "metadata": {},
     "output_type": "display_data"
    }
   ],
   "source": [
    "p = py3Dmol.view(width=400,height=400)\n",
    "interact(drawit, m=fixed(m),p=fixed(p),confId=(0,m.GetNumConformers()-1));\n"
   ]
  },
  {
   "cell_type": "markdown",
   "metadata": {
    "deletable": true,
    "editable": true
   },
   "source": [
    "The folloing approach renders protein ligand complex...But it must work for locally stored file and/or\n",
    "from multiple files..."
   ]
  },
  {
   "cell_type": "code",
   "execution_count": 15,
   "metadata": {
    "collapsed": false,
    "deletable": true,
    "editable": true
   },
   "outputs": [
    {
     "data": {
      "text/html": [
       "<div id=\"3dmolviewer_149254600161\"  style=\"position: relative; width: 640px; height: 480px\">\n",
       "<script>\n",
       "if(typeof $3Dmolpromise === 'undefined') $3Dmolpromise = $.when($.getScript('https://3dmol.csb.pitt.edu/build/3Dmol.js'))\n",
       "var viewer_149254600161 = null;\n",
       "$3Dmolpromise.done(function() {\n",
       "viewer_149254600161 = $3Dmol.createViewer($(\"#3dmolviewer_149254600161\"),{backgroundColor:\"white\"});\n",
       "$3Dmol.download(\"pdb:4i22\", viewer_149254600161, {}, function() {\n",
       "\tviewer_149254600161.setStyle({\"chain\": \"A\"},{\"cartoon\": {\"color\": \"spectrum\"}});\n",
       "\tviewer_149254600161.setStyle({\"resn\": \"IRE\"},{\"stick\": {}});\n",
       "viewer_149254600161.render();\n",
       "})\n",
       "});\n",
       "</script>"
      ],
      "text/plain": [
       "<IPython.core.display.HTML object>"
      ]
     },
     "execution_count": 15,
     "metadata": {},
     "output_type": "execute_result"
    }
   ],
   "source": [
    "import py3Dmol\n",
    "view = py3Dmol.view(query='pdb:4i22')\n",
    "chA = {'chain':'A'}\n",
    "ligand = {'resn':'IRE'}\n",
    "view.setStyle(chA,{'cartoon': {'color':'spectrum'}})\n",
    "view.setStyle(ligand,{'stick':{}})\n",
    "view.show()"
   ]
  },
  {
   "cell_type": "markdown",
   "metadata": {
    "deletable": true,
    "editable": true
   },
   "source": [
    "The following approach is not working. Not sure why... Will spend time on it later on..."
   ]
  },
  {
   "cell_type": "code",
   "execution_count": 16,
   "metadata": {
    "collapsed": false,
    "deletable": true,
    "editable": true
   },
   "outputs": [],
   "source": [
    "import py3Dmol\n",
    "from rdkit import Chem\n",
    "from rdkit.Chem import AllChem\n",
    "from ipywidgets import interact, interactive, fixed\n",
    "from rdkit.Chem import rdmolfiles\n",
    "\n",
    "proteinFile=rdmolfiles.MolFromPDBFile('4i22_protein.pdb')\n",
    "#proteinBlock = Chem.MolToMolBlock(proteinFile)\n",
    "ligandFile=rdmolfiles.SDMolSupplier('ligand_exported_from_chimera.sdf')\n",
    "#ligandBlock = Chem.MolToMolBlock(ligandFile)\n"
   ]
  },
  {
   "cell_type": "code",
   "execution_count": 17,
   "metadata": {
    "collapsed": false,
    "deletable": true,
    "editable": true
   },
   "outputs": [
    {
     "name": "stderr",
     "output_type": "stream",
     "text": [
      "Widget Javascript not detected.  It may not be installed or enabled properly.\n"
     ]
    },
    {
     "data": {
      "application/vnd.jupyter.widget-view+json": {
       "model_id": "18569554bde643758160184e973adfc8"
      }
     },
     "metadata": {},
     "output_type": "display_data"
    }
   ],
   "source": [
    "\n",
    "def drawit_lig_pro(m, proteinFile,p,confId=-1):\n",
    "    ligandBlock = Chem.MolToMolBlock(m,confId=confId)\n",
    "    proteinBlock = Chem.MolToMolBlock(proteinFile, confId=confId)\n",
    "    p.removeAllModels()\n",
    "    p.addModel(ligandBlock,'sdf')\n",
    "    p.addModel(proteinBlock,'sdf')\n",
    "    p.setStyle({'stick':{}})\n",
    "    p.setBackgroundColor('0xeeeeee')\n",
    "    p.zoomTo()\n",
    "    return p.show()\n",
    "\n",
    "p = py3Dmol.view(width=400,height=400)\n",
    "m=ligandFile[0]\n",
    "#m = Chem.AddHs(m)\n",
    "#AllChem.EmbedMultipleConfs(m,numConfs=1)\n",
    "interact(drawit_lig_pro, m=fixed(m),proteinFile=fixed(proteinFile),p=fixed(p),confId=(0,m.GetNumConformers()-1));\n",
    "\n",
    "#p.removeAllModels()\n",
    "#p.addModel(proteinBlock,'sdf')\n",
    "#p.addModel(ligandBlock,'sdf')\n",
    "\n",
    "#protein = {'chain':'A'}\n",
    "#ligand = {'resn':'IRE'}\n",
    "\n",
    "#p.setStyle(protein,{'cartoon': {'color':'spectrum'}})\n",
    "#p.setStyle(ligand,{'stick':{}})\n",
    "\n",
    "#p.setBackgroundColor('0xeeeeee')\n",
    "#p.zoomTo()\n",
    "#p.show()"
   ]
  },
  {
   "cell_type": "markdown",
   "metadata": {
    "collapsed": false,
    "deletable": true,
    "editable": true
   },
   "source": [
    "Widget Javascript not detected.  It may not be installed or enabled properly.\n",
    "This error is due to slow loading of Javascript in browser since I used karnel restart and run all \n",
    "commmand for checking whether everything goes well."
   ]
  },
  {
   "cell_type": "markdown",
   "metadata": {
    "collapsed": true,
    "deletable": true,
    "editable": true
   },
   "source": [
    "Thanks much for spending time in it. Have a great day!\n",
    "Best Regards,\n",
    "-Malitha Humayun Kabir"
   ]
  },
  {
   "cell_type": "code",
   "execution_count": null,
   "metadata": {
    "collapsed": true,
    "deletable": true,
    "editable": true
   },
   "outputs": [],
   "source": []
  }
 ],
 "metadata": {
  "kernelspec": {
   "display_name": "Python 2",
   "language": "python",
   "name": "python2"
  },
  "language_info": {
   "codemirror_mode": {
    "name": "ipython",
    "version": 2
   },
   "file_extension": ".py",
   "mimetype": "text/x-python",
   "name": "python",
   "nbconvert_exporter": "python",
   "pygments_lexer": "ipython2",
   "version": "2.7.12"
  }
 },
 "nbformat": 4,
 "nbformat_minor": 2
}
