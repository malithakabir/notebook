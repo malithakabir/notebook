{
 "cells": [
  {
   "cell_type": "code",
   "execution_count": 1,
   "metadata": {},
   "outputs": [],
   "source": [
    "import IPythonConsoleIntegration6 as ipy"
   ]
  },
  {
   "cell_type": "code",
   "execution_count": 2,
   "metadata": {
    "collapsed": true
   },
   "outputs": [],
   "source": [
    "import py3Dmol\n",
    "from rdkit import Chem\n",
    "from rdkit.Chem import AllChem\n",
    "from rdkit.Chem import Descriptors\n",
    "import ipywidgets as widgets\n",
    "from IPython.display import display\n",
    "from ipywidgets import Layout, Button, Box, HBox, VBox\n",
    "import time\n",
    "from six.moves import urllib"
   ]
  },
  {
   "cell_type": "code",
   "execution_count": 3,
   "metadata": {
    "collapsed": true
   },
   "outputs": [],
   "source": [
    "# Codes from Greg Landrum\n",
    "# obj ms will have no pre calculated propery\n",
    "data = [('m1','COc1ccc2[nH]c([S@@+]([O-])Cc3ncc(C)c(OC)c3C)nc2c1'),\n",
    "       ('m2','COc1ccc2[nH]c([S@+]([O-])Cc3ncc(C)c(OC)c3C)nc2c1'),\n",
    "       ('m3','COc1ccc2[nH]c([S+]([O-])Cc3ncc(C)c(OC)c3C)nc2c1'),\n",
    "       ('m4','CCOc1ccc2[nH]c([S@@+]([O-])Cc3ncc(C)c(OCCC)c3C)nc2c1')]\n",
    "ms = [(x,Chem.AddHs(Chem.MolFromSmiles(y))) for x,y in data]\n",
    "params = AllChem.ETKDG()\n",
    "params.numThreads=3\n",
    "for nm,m in ms:\n",
    "    AllChem.EmbedMultipleConfs(m,numConfs=10,params=params)\n",
    "    # align to one of the ring systems:\n",
    "    AllChem.AlignMolConformers(m,m.GetSubstructMatch(Chem.MolFromSmarts('c1[nH]c2ccccc2n1')))"
   ]
  },
  {
   "cell_type": "code",
   "execution_count": 4,
   "metadata": {
    "collapsed": true
   },
   "outputs": [],
   "source": [
    "# Codes from Paolo Tosco (Slightly modified version)\n",
    "# obj ms2 will have some pre calculated properties\n",
    "url = 'https://github.com/rdkit/rdkit/raw/master/Docs/Book/data/cdk2.sdf'\n",
    "response = urllib.request.urlopen(url)\n",
    "data = response.read()\n",
    "suppl = Chem.SDMolSupplier()\n",
    "suppl.SetData(data)\n",
    "ms2=[mol for mol in suppl]\n",
    "params = AllChem.ETKDG()\n",
    "params.numThreads=3\n",
    "for m in ms2:\n",
    "    AllChem.EmbedMultipleConfs(m,numConfs=10,params=params)"
   ]
  },
  {
   "cell_type": "code",
   "execution_count": 5,
   "metadata": {},
   "outputs": [
    {
     "data": {
      "application/vnd.jupyter.widget-view+json": {
       "model_id": "5867ae6f19184d2b83a56f11064e2b6e"
      }
     },
     "metadata": {},
     "output_type": "display_data"
    },
    {
     "data": {
      "text/html": [
       "<div id=\"3dmolviewer_14999077155\"  style=\"position: relative; width: 435px; height: 430px\">\n",
       "<script>\n",
       "if(typeof $3Dmolpromise === 'undefined') $3Dmolpromise = $.when($.getScript('https://3dmol.csb.pitt.edu/build/3Dmol.js'))\n",
       "var viewer_14999077155 = null;\n",
       "$3Dmolpromise.done(function() {\n",
       "viewer_14999077155 = $3Dmol.createViewer($(\"#3dmolviewer_14999077155\"),{backgroundColor:\"white\"});\n",
       "\tviewer_14999077155.setBackgroundColor(\"0x000000\");\n",
       "\tviewer_14999077155.zoomTo();\n",
       "viewer_14999077155.render();\n",
       "});\n",
       "</script><script>$(\"#149990771516\").append($(\"#3dmolviewer_14999077155\")); </script>"
      ],
      "text/plain": [
       "<IPython.core.display.HTML object>"
      ]
     },
     "metadata": {},
     "output_type": "display_data"
    },
    {
     "data": {
      "text/html": [
       "<script>\n",
       "            $3Dmolpromise.done(function() { //wrap in promise for non-interactive functionality\n",
       "                \tviewer_14999077155.removeAllModels();\n",
       "\tviewer_14999077155.removeAllSurfaces();\n",
       "\tviewer_14999077155.removeAllLabels();\n",
       "\tviewer_14999077155.addModel(\"ZINC04617745\\n     RDKit          3D\\n\\n 28 31  0  0  1  0  0  0  0  0999 V2000\\n    1.9524   -3.8788   -2.0934 C   0  0  0  0  0  0  0  0  0  0  0  0\\n    2.9709   -2.3804   -0.4883 C   0  0  0  0  0  0  0  0  0  0  0  0\\n    2.1409   -1.1968   -0.1298 C   0  0  0  0  0  0  0  0  0  0  0  0\\n    2.1718   -0.1205   -1.1142 C   0  0  0  0  0  0  0  0  0  0  0  0\\n    2.0426   -0.5825   -2.5482 C   0  0  0  0  0  0  0  0  0  0  0  0\\n    2.8546   -1.8096   -2.8432 C   0  0  0  0  0  0  0  0  0  0  0  0\\n    0.7232   -0.7021   -2.9636 O   0  0  0  0  0  0  0  0  0  0  0  0\\n    1.3245    1.0492   -0.9341 C   0  0  0  0  0  0  0  0  0  0  0  0\\n    1.7606    2.2065   -1.6229 C   0  0  0  0  0  0  0  0  0  0  0  0\\n    1.1130    3.4028   -1.5238 C   0  0  0  0  0  0  0  0  0  0  0  0\\n   -0.0026    3.4825   -0.7251 C   0  0  0  0  0  0  0  0  0  0  0  0\\n   -0.4221    2.3497   -0.0607 C   0  0  0  0  0  0  0  0  0  0  0  0\\n    0.2182    1.1072   -0.1428 C   0  0  0  0  0  0  0  0  0  0  0  0\\n   -0.2612    0.0459    0.5312 O   0  0  0  0  0  0  0  0  0  0  0  0\\n   -1.3059    0.1088    1.2743 C   0  0  0  0  0  0  0  0  0  0  0  0\\n   -1.9832    1.3575    1.3910 C   0  0  0  0  0  0  0  0  0  0  0  0\\n   -1.5401    2.4665    0.7248 C   0  0  0  0  0  0  0  0  0  0  0  0\\n   -2.1319    3.5882    0.8152 O   0  0  0  0  0  0  0  0  0  0  0  0\\n   -1.9096   -0.9980    2.0332 C   0  0  0  0  0  0  0  0  0  0  0  0\\n   -2.7137   -0.6516    3.1434 C   0  0  0  0  0  0  0  0  0  0  0  0\\n   -3.3984   -1.5321    3.9207 C   0  0  0  0  0  0  0  0  0  0  0  0\\n   -3.2976   -2.8791    3.5943 C   0  0  0  0  0  0  0  0  0  0  0  0\\n   -2.5352   -3.2652    2.5319 C   0  0  0  0  0  0  0  0  0  0  0  0\\n   -1.8381   -2.3234    1.7444 C   0  0  0  0  0  0  0  0  0  0  0  0\\n   -0.9749   -2.8815    0.3405 Cl  0  0  0  0  0  0  0  0  0  0  0  0\\n   -0.7026    4.7026   -0.5894 O   0  0  0  0  0  0  0  0  0  0  0  0\\n    2.8848    2.1438   -2.4326 O   0  0  0  0  0  0  0  0  0  0  0  0\\n    2.8596   -2.8095   -1.8330 N   0  0  0  0  0  0  0  0  0  0  0  0\\n  1 28  1  0\\n  2  3  1  0\\n  2 28  1  0\\n  3  4  1  0\\n  4  5  1  0\\n  4  8  1  0\\n  5  6  1  0\\n  5  7  1  0\\n  6 28  1  0\\n  8 13  1  0\\n  8  9  2  0\\n  9 10  1  0\\n  9 27  1  0\\n 10 11  2  0\\n 11 12  1  0\\n 11 26  1  0\\n 12 17  1  0\\n 12 13  2  0\\n 13 14  1  0\\n 14 15  1  0\\n 15 16  2  0\\n 15 19  1  0\\n 16 17  1  0\\n 17 18  2  0\\n 19 24  1  0\\n 19 20  2  0\\n 20 21  1  0\\n 21 22  2  0\\n 22 23  1  0\\n 23 24  2  0\\n 24 25  1  0\\nM  CHG  1  28   1\\nM  END\\n\",\"sdf\");\n",
       "\tviewer_14999077155.setStyle({},{\"stick\": {\"colorscheme\": \"default\"}});\n",
       "\tviewer_14999077155.setBackgroundColor(\"0x000000\");\n",
       "\n",
       "                viewer_14999077155.render();\n",
       "            });\n",
       "            </script>"
      ],
      "text/plain": [
       "<IPython.core.display.HTML object>"
      ]
     },
     "metadata": {},
     "output_type": "display_data"
    },
    {
     "data": {
      "text/html": [
       "<script>\n",
       "            $3Dmolpromise.done(function() { //wrap in promise for non-interactive functionality\n",
       "                \tviewer_14999077155.removeAllModels();\n",
       "\tviewer_14999077155.removeAllSurfaces();\n",
       "\tviewer_14999077155.removeAllLabels();\n",
       "\tviewer_14999077155.addModel(\"ZINC04617745\\n     RDKit          3D\\n\\n 28 31  0  0  1  0  0  0  0  0999 V2000\\n    1.9524   -3.8788   -2.0934 C   0  0  0  0  0  0  0  0  0  0  0  0\\n    2.9709   -2.3804   -0.4883 C   0  0  0  0  0  0  0  0  0  0  0  0\\n    2.1409   -1.1968   -0.1298 C   0  0  0  0  0  0  0  0  0  0  0  0\\n    2.1718   -0.1205   -1.1142 C   0  0  0  0  0  0  0  0  0  0  0  0\\n    2.0426   -0.5825   -2.5482 C   0  0  0  0  0  0  0  0  0  0  0  0\\n    2.8546   -1.8096   -2.8432 C   0  0  0  0  0  0  0  0  0  0  0  0\\n    0.7232   -0.7021   -2.9636 O   0  0  0  0  0  0  0  0  0  0  0  0\\n    1.3245    1.0492   -0.9341 C   0  0  0  0  0  0  0  0  0  0  0  0\\n    1.7606    2.2065   -1.6229 C   0  0  0  0  0  0  0  0  0  0  0  0\\n    1.1130    3.4028   -1.5238 C   0  0  0  0  0  0  0  0  0  0  0  0\\n   -0.0026    3.4825   -0.7251 C   0  0  0  0  0  0  0  0  0  0  0  0\\n   -0.4221    2.3497   -0.0607 C   0  0  0  0  0  0  0  0  0  0  0  0\\n    0.2182    1.1072   -0.1428 C   0  0  0  0  0  0  0  0  0  0  0  0\\n   -0.2612    0.0459    0.5312 O   0  0  0  0  0  0  0  0  0  0  0  0\\n   -1.3059    0.1088    1.2743 C   0  0  0  0  0  0  0  0  0  0  0  0\\n   -1.9832    1.3575    1.3910 C   0  0  0  0  0  0  0  0  0  0  0  0\\n   -1.5401    2.4665    0.7248 C   0  0  0  0  0  0  0  0  0  0  0  0\\n   -2.1319    3.5882    0.8152 O   0  0  0  0  0  0  0  0  0  0  0  0\\n   -1.9096   -0.9980    2.0332 C   0  0  0  0  0  0  0  0  0  0  0  0\\n   -2.7137   -0.6516    3.1434 C   0  0  0  0  0  0  0  0  0  0  0  0\\n   -3.3984   -1.5321    3.9207 C   0  0  0  0  0  0  0  0  0  0  0  0\\n   -3.2976   -2.8791    3.5943 C   0  0  0  0  0  0  0  0  0  0  0  0\\n   -2.5352   -3.2652    2.5319 C   0  0  0  0  0  0  0  0  0  0  0  0\\n   -1.8381   -2.3234    1.7444 C   0  0  0  0  0  0  0  0  0  0  0  0\\n   -0.9749   -2.8815    0.3405 Cl  0  0  0  0  0  0  0  0  0  0  0  0\\n   -0.7026    4.7026   -0.5894 O   0  0  0  0  0  0  0  0  0  0  0  0\\n    2.8848    2.1438   -2.4326 O   0  0  0  0  0  0  0  0  0  0  0  0\\n    2.8596   -2.8095   -1.8330 N   0  0  0  0  0  0  0  0  0  0  0  0\\n  1 28  1  0\\n  2  3  1  0\\n  2 28  1  0\\n  3  4  1  0\\n  4  5  1  0\\n  4  8  1  0\\n  5  6  1  0\\n  5  7  1  0\\n  6 28  1  0\\n  8 13  1  0\\n  8  9  2  0\\n  9 10  1  0\\n  9 27  1  0\\n 10 11  2  0\\n 11 12  1  0\\n 11 26  1  0\\n 12 17  1  0\\n 12 13  2  0\\n 13 14  1  0\\n 14 15  1  0\\n 15 16  2  0\\n 15 19  1  0\\n 16 17  1  0\\n 17 18  2  0\\n 19 24  1  0\\n 19 20  2  0\\n 20 21  1  0\\n 21 22  2  0\\n 22 23  1  0\\n 23 24  2  0\\n 24 25  1  0\\nM  CHG  1  28   1\\nM  END\\n\",\"sdf\");\n",
       "\tviewer_14999077155.setStyle({},{\"stick\": {\"colorscheme\": \"default\"}});\n",
       "\tviewer_14999077155.setBackgroundColor(\"0x000000\");\n",
       "\n",
       "                viewer_14999077155.render();\n",
       "            });\n",
       "            </script>"
      ],
      "text/plain": [
       "<IPython.core.display.HTML object>"
      ]
     },
     "metadata": {},
     "output_type": "display_data"
    }
   ],
   "source": [
    "ipy.browseMolConformers2(ms2,confId=(0, 9))"
   ]
  },
  {
   "cell_type": "code",
   "execution_count": 6,
   "metadata": {},
   "outputs": [
    {
     "data": {
      "application/vnd.jupyter.widget-view+json": {
       "model_id": "3ace9165976549168113afd44562b1a9"
      }
     },
     "metadata": {},
     "output_type": "display_data"
    },
    {
     "data": {
      "text/html": [
       "<div id=\"3dmolviewer_149990771846\"  style=\"position: relative; width: 435px; height: 430px\">\n",
       "<script>\n",
       "if(typeof $3Dmolpromise === 'undefined') $3Dmolpromise = $.when($.getScript('https://3dmol.csb.pitt.edu/build/3Dmol.js'))\n",
       "var viewer_149990771846 = null;\n",
       "$3Dmolpromise.done(function() {\n",
       "viewer_149990771846 = $3Dmol.createViewer($(\"#3dmolviewer_149990771846\"),{backgroundColor:\"white\"});\n",
       "\tviewer_149990771846.setBackgroundColor(\"0x000000\");\n",
       "\tviewer_149990771846.zoomTo();\n",
       "viewer_149990771846.render();\n",
       "});\n",
       "</script><script>$(\"#149990771812\").append($(\"#3dmolviewer_149990771846\")); </script>"
      ],
      "text/plain": [
       "<IPython.core.display.HTML object>"
      ]
     },
     "metadata": {},
     "output_type": "display_data"
    }
   ],
   "source": [
    "ipy.browseMolConformers2(ms,confId=(0, 9))"
   ]
  },
  {
   "cell_type": "code",
   "execution_count": null,
   "metadata": {
    "collapsed": true
   },
   "outputs": [],
   "source": []
  }
 ],
 "metadata": {
  "kernelspec": {
   "display_name": "Python 2",
   "language": "python",
   "name": "python2"
  },
  "language_info": {
   "codemirror_mode": {
    "name": "ipython",
    "version": 2
   },
   "file_extension": ".py",
   "mimetype": "text/x-python",
   "name": "python",
   "nbconvert_exporter": "python",
   "pygments_lexer": "ipython2",
   "version": "2.7.13"
  }
 },
 "nbformat": 4,
 "nbformat_minor": 2
}
